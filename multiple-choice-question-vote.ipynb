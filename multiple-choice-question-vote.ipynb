{
 "cells": [
  {
   "cell_type": "code",
   "execution_count": 1,
   "id": "c44faa36",
   "metadata": {
    "_cell_guid": "b1076dfc-b9ad-4769-8c92-a6c4dae69d19",
    "_uuid": "8f2839f25d086af736a60e9eeb907d3b93b6e0e5",
    "execution": {
     "iopub.execute_input": "2025-03-29T17:48:36.505533Z",
     "iopub.status.busy": "2025-03-29T17:48:36.505001Z",
     "iopub.status.idle": "2025-03-29T17:48:37.553186Z",
     "shell.execute_reply": "2025-03-29T17:48:37.551949Z"
    },
    "papermill": {
     "duration": 1.054441,
     "end_time": "2025-03-29T17:48:37.555236",
     "exception": false,
     "start_time": "2025-03-29T17:48:36.500795",
     "status": "completed"
    },
    "tags": []
   },
   "outputs": [],
   "source": [
    "import pandas as pd \n",
    "from collections import Counter"
   ]
  },
  {
   "cell_type": "code",
   "execution_count": 2,
   "id": "cb274e46",
   "metadata": {
    "execution": {
     "iopub.execute_input": "2025-03-29T17:48:37.561753Z",
     "iopub.status.busy": "2025-03-29T17:48:37.561240Z",
     "iopub.status.idle": "2025-03-29T17:48:37.599026Z",
     "shell.execute_reply": "2025-03-29T17:48:37.598022Z"
    },
    "papermill": {
     "duration": 0.042861,
     "end_time": "2025-03-29T17:48:37.600946",
     "exception": false,
     "start_time": "2025-03-29T17:48:37.558085",
     "status": "completed"
    },
    "tags": []
   },
   "outputs": [],
   "source": [
    "df_gemini = pd.read_csv('/kaggle/input/multiple-choice-question-gemini/submission.csv')\n",
    "df_Llama = pd.read_csv('/kaggle/input/multiple-choice-question-llama/submission.csv')\n",
    "df_deepseek = pd.read_csv('/kaggle/input/multiple-choice-question-llama/submission.csv')\n",
    "df_GPT = pd.read_csv('/kaggle/input/multiple-choice-question-gpt/submission.csv')"
   ]
  },
  {
   "cell_type": "code",
   "execution_count": 3,
   "id": "6d943c6f",
   "metadata": {
    "execution": {
     "iopub.execute_input": "2025-03-29T17:48:37.607784Z",
     "iopub.status.busy": "2025-03-29T17:48:37.607303Z",
     "iopub.status.idle": "2025-03-29T17:48:37.634061Z",
     "shell.execute_reply": "2025-03-29T17:48:37.632951Z"
    },
    "papermill": {
     "duration": 0.032027,
     "end_time": "2025-03-29T17:48:37.635903",
     "exception": false,
     "start_time": "2025-03-29T17:48:37.603876",
     "status": "completed"
    },
    "tags": []
   },
   "outputs": [
    {
     "data": {
      "text/html": [
       "<div>\n",
       "<style scoped>\n",
       "    .dataframe tbody tr th:only-of-type {\n",
       "        vertical-align: middle;\n",
       "    }\n",
       "\n",
       "    .dataframe tbody tr th {\n",
       "        vertical-align: top;\n",
       "    }\n",
       "\n",
       "    .dataframe thead th {\n",
       "        text-align: right;\n",
       "    }\n",
       "</style>\n",
       "<table border=\"1\" class=\"dataframe\">\n",
       "  <thead>\n",
       "    <tr style=\"text-align: right;\">\n",
       "      <th></th>\n",
       "      <th>task_id</th>\n",
       "      <th>answer</th>\n",
       "    </tr>\n",
       "  </thead>\n",
       "  <tbody>\n",
       "    <tr>\n",
       "      <th>0</th>\n",
       "      <td>k10171</td>\n",
       "      <td>C</td>\n",
       "    </tr>\n",
       "    <tr>\n",
       "      <th>1</th>\n",
       "      <td>k10182</td>\n",
       "      <td>D</td>\n",
       "    </tr>\n",
       "    <tr>\n",
       "      <th>2</th>\n",
       "      <td>k10184</td>\n",
       "      <td>A</td>\n",
       "    </tr>\n",
       "    <tr>\n",
       "      <th>3</th>\n",
       "      <td>k10206</td>\n",
       "      <td>C</td>\n",
       "    </tr>\n",
       "    <tr>\n",
       "      <th>4</th>\n",
       "      <td>k10215</td>\n",
       "      <td>D</td>\n",
       "    </tr>\n",
       "  </tbody>\n",
       "</table>\n",
       "</div>"
      ],
      "text/plain": [
       "  task_id answer\n",
       "0  k10171      C\n",
       "1  k10182      D\n",
       "2  k10184      A\n",
       "3  k10206      C\n",
       "4  k10215      D"
      ]
     },
     "execution_count": 3,
     "metadata": {},
     "output_type": "execute_result"
    }
   ],
   "source": [
    "df_GPT.head(5)"
   ]
  },
  {
   "cell_type": "code",
   "execution_count": 4,
   "id": "b35102b0",
   "metadata": {
    "execution": {
     "iopub.execute_input": "2025-03-29T17:48:37.642256Z",
     "iopub.status.busy": "2025-03-29T17:48:37.641876Z",
     "iopub.status.idle": "2025-03-29T17:48:37.742909Z",
     "shell.execute_reply": "2025-03-29T17:48:37.741638Z"
    },
    "papermill": {
     "duration": 0.106537,
     "end_time": "2025-03-29T17:48:37.745068",
     "exception": false,
     "start_time": "2025-03-29T17:48:37.638531",
     "status": "completed"
    },
    "tags": []
   },
   "outputs": [
    {
     "name": "stdout",
     "output_type": "stream",
     "text": [
      "  task_id final_answer\n",
      "0  k00008            A\n",
      "1  k00013            D\n",
      "2  k00023            A\n",
      "3  k00026            B\n",
      "4  k00031            A\n"
     ]
    },
    {
     "name": "stderr",
     "output_type": "stream",
     "text": [
      "<ipython-input-4-8370ebe368a0>:9: DeprecationWarning: DataFrameGroupBy.apply operated on the grouping columns. This behavior is deprecated, and in a future version of pandas the grouping columns will be excluded from the operation. Either pass `include_groups=False` to exclude the groupings or explicitly select the grouping columns after groupby to silence this warning.\n",
      "  final_answers = df_all.groupby(\"task_id\").apply(get_most_common_answer).reset_index()\n"
     ]
    }
   ],
   "source": [
    "df_all = pd.concat([df_gemini, df_Llama, df_deepseek, df_GPT], keys=[\"Gemini\", \"Llama\", \"DeepSeek\", \"GPT\"])\n",
    "df_all.reset_index(level=0, inplace=True)\n",
    "df_all.rename(columns={\"level_0\": \"agent\"}, inplace=True)\n",
    "\n",
    "def get_most_common_answer(group):\n",
    "    counts = Counter(group[\"answer\"])\n",
    "    return counts.most_common(1)[0][0]\n",
    "\n",
    "final_answers = df_all.groupby(\"task_id\").apply(get_most_common_answer).reset_index()\n",
    "final_answers.columns = [\"task_id\", \"final_answer\"]\n",
    "\n",
    "final_answers.to_csv(\"submission.csv\", index=False)\n",
    "print(final_answers.head())"
   ]
  },
  {
   "cell_type": "code",
   "execution_count": 5,
   "id": "94309acd",
   "metadata": {
    "execution": {
     "iopub.execute_input": "2025-03-29T17:48:37.751875Z",
     "iopub.status.busy": "2025-03-29T17:48:37.751522Z",
     "iopub.status.idle": "2025-03-29T17:48:37.757172Z",
     "shell.execute_reply": "2025-03-29T17:48:37.756129Z"
    },
    "papermill": {
     "duration": 0.011362,
     "end_time": "2025-03-29T17:48:37.759243",
     "exception": false,
     "start_time": "2025-03-29T17:48:37.747881",
     "status": "completed"
    },
    "tags": []
   },
   "outputs": [
    {
     "data": {
      "text/plain": [
       "1253.0"
      ]
     },
     "execution_count": 5,
     "metadata": {},
     "output_type": "execute_result"
    }
   ],
   "source": [
    "5012/4"
   ]
  },
  {
   "cell_type": "code",
   "execution_count": null,
   "id": "7edd3ccb",
   "metadata": {
    "papermill": {
     "duration": 0.00241,
     "end_time": "2025-03-29T17:48:37.764592",
     "exception": false,
     "start_time": "2025-03-29T17:48:37.762182",
     "status": "completed"
    },
    "tags": []
   },
   "outputs": [],
   "source": []
  }
 ],
 "metadata": {
  "kaggle": {
   "accelerator": "none",
   "dataSources": [
    {
     "databundleVersionId": 11597044,
     "sourceId": 97436,
     "sourceType": "competition"
    },
    {
     "sourceId": 230311675,
     "sourceType": "kernelVersion"
    },
    {
     "sourceId": 230370501,
     "sourceType": "kernelVersion"
    },
    {
     "sourceId": 230395150,
     "sourceType": "kernelVersion"
    },
    {
     "sourceId": 230321704,
     "sourceType": "kernelVersion"
    }
   ],
   "dockerImageVersionId": 30918,
   "isGpuEnabled": false,
   "isInternetEnabled": true,
   "language": "python",
   "sourceType": "notebook"
  },
  "kernelspec": {
   "display_name": "Python 3",
   "language": "python",
   "name": "python3"
  },
  "language_info": {
   "codemirror_mode": {
    "name": "ipython",
    "version": 3
   },
   "file_extension": ".py",
   "mimetype": "text/x-python",
   "name": "python",
   "nbconvert_exporter": "python",
   "pygments_lexer": "ipython3",
   "version": "3.10.12"
  },
  "papermill": {
   "default_parameters": {},
   "duration": 4.950279,
   "end_time": "2025-03-29T17:48:38.388502",
   "environment_variables": {},
   "exception": null,
   "input_path": "__notebook__.ipynb",
   "output_path": "__notebook__.ipynb",
   "parameters": {},
   "start_time": "2025-03-29T17:48:33.438223",
   "version": "2.6.0"
  }
 },
 "nbformat": 4,
 "nbformat_minor": 5
}
