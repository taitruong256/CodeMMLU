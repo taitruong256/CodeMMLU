{
 "cells": [
  {
   "cell_type": "code",
   "execution_count": 1,
   "id": "c4943150",
   "metadata": {
    "execution": {
     "iopub.execute_input": "2025-03-30T05:53:16.678546Z",
     "iopub.status.busy": "2025-03-30T05:53:16.678136Z",
     "iopub.status.idle": "2025-03-30T05:53:19.774735Z",
     "shell.execute_reply": "2025-03-30T05:53:19.773298Z"
    },
    "papermill": {
     "duration": 3.105271,
     "end_time": "2025-03-30T05:53:19.777208",
     "exception": false,
     "start_time": "2025-03-30T05:53:16.671937",
     "status": "completed"
    },
    "tags": []
   },
   "outputs": [],
   "source": [
    "import ast \n",
    "import time \n",
    "import random \n",
    "import pandas as pd \n",
    "from tqdm import tqdm \n",
    "import matplotlib.pyplot as plt \n",
    "\n",
    "import openai\n",
    "import json "
   ]
  },
  {
   "cell_type": "code",
   "execution_count": 2,
   "id": "ee851c2e",
   "metadata": {
    "execution": {
     "iopub.execute_input": "2025-03-30T05:53:19.789709Z",
     "iopub.status.busy": "2025-03-30T05:53:19.789328Z",
     "iopub.status.idle": "2025-03-30T05:53:19.856674Z",
     "shell.execute_reply": "2025-03-30T05:53:19.855312Z"
    },
    "papermill": {
     "duration": 0.076118,
     "end_time": "2025-03-30T05:53:19.858943",
     "exception": false,
     "start_time": "2025-03-30T05:53:19.782825",
     "status": "completed"
    },
    "tags": []
   },
   "outputs": [
    {
     "data": {
      "text/html": [
       "<div>\n",
       "<style scoped>\n",
       "    .dataframe tbody tr th:only-of-type {\n",
       "        vertical-align: middle;\n",
       "    }\n",
       "\n",
       "    .dataframe tbody tr th {\n",
       "        vertical-align: top;\n",
       "    }\n",
       "\n",
       "    .dataframe thead th {\n",
       "        text-align: right;\n",
       "    }\n",
       "</style>\n",
       "<table border=\"1\" class=\"dataframe\">\n",
       "  <thead>\n",
       "    <tr style=\"text-align: right;\">\n",
       "      <th></th>\n",
       "      <th>task_id</th>\n",
       "      <th>question</th>\n",
       "      <th>choices</th>\n",
       "    </tr>\n",
       "  </thead>\n",
       "  <tbody>\n",
       "    <tr>\n",
       "      <th>0</th>\n",
       "      <td>k10171</td>\n",
       "      <td>Question: What will be output of the following...</td>\n",
       "      <td>['10', '9', '8', 'Error']</td>\n",
       "    </tr>\n",
       "    <tr>\n",
       "      <th>1</th>\n",
       "      <td>k10182</td>\n",
       "      <td>Question: Consider line 3. Identify the compil...</td>\n",
       "      <td>['No compilation error', 'Only a lexical error...</td>\n",
       "    </tr>\n",
       "    <tr>\n",
       "      <th>2</th>\n",
       "      <td>k10184</td>\n",
       "      <td>Question: Assume the conflicts part (a) of thi...</td>\n",
       "      <td>['Equal precedence and left associativity; exp...</td>\n",
       "    </tr>\n",
       "    <tr>\n",
       "      <th>3</th>\n",
       "      <td>k10206</td>\n",
       "      <td>Question: What will be output if you will exec...</td>\n",
       "      <td>['2.00000', '4.00000', '6.00000', 'Compilation...</td>\n",
       "    </tr>\n",
       "    <tr>\n",
       "      <th>4</th>\n",
       "      <td>k10215</td>\n",
       "      <td>Question: Select the output for code :\\nstatic...</td>\n",
       "      <td>['amish', 'ANKIT', 'harsh', 'Compile time error']</td>\n",
       "    </tr>\n",
       "  </tbody>\n",
       "</table>\n",
       "</div>"
      ],
      "text/plain": [
       "  task_id                                           question  \\\n",
       "0  k10171  Question: What will be output of the following...   \n",
       "1  k10182  Question: Consider line 3. Identify the compil...   \n",
       "2  k10184  Question: Assume the conflicts part (a) of thi...   \n",
       "3  k10206  Question: What will be output if you will exec...   \n",
       "4  k10215  Question: Select the output for code :\\nstatic...   \n",
       "\n",
       "                                             choices  \n",
       "0                          ['10', '9', '8', 'Error']  \n",
       "1  ['No compilation error', 'Only a lexical error...  \n",
       "2  ['Equal precedence and left associativity; exp...  \n",
       "3  ['2.00000', '4.00000', '6.00000', 'Compilation...  \n",
       "4  ['amish', 'ANKIT', 'harsh', 'Compile time error']  "
      ]
     },
     "execution_count": 2,
     "metadata": {},
     "output_type": "execute_result"
    }
   ],
   "source": [
    "test_df = pd.read_csv('/kaggle/input/fpt-ai-residency-batch-6-entry-test/b6_test_data.csv')\n",
    "test_df.head(5)"
   ]
  },
  {
   "cell_type": "code",
   "execution_count": 3,
   "id": "d10c6805",
   "metadata": {
    "execution": {
     "iopub.execute_input": "2025-03-30T05:53:19.870671Z",
     "iopub.status.busy": "2025-03-30T05:53:19.869974Z",
     "iopub.status.idle": "2025-03-30T05:53:19.920740Z",
     "shell.execute_reply": "2025-03-30T05:53:19.919436Z"
    },
    "papermill": {
     "duration": 0.058706,
     "end_time": "2025-03-30T05:53:19.922578",
     "exception": false,
     "start_time": "2025-03-30T05:53:19.863872",
     "status": "completed"
    },
    "tags": []
   },
   "outputs": [
    {
     "data": {
      "text/html": [
       "<div>\n",
       "<style scoped>\n",
       "    .dataframe tbody tr th:only-of-type {\n",
       "        vertical-align: middle;\n",
       "    }\n",
       "\n",
       "    .dataframe tbody tr th {\n",
       "        vertical-align: top;\n",
       "    }\n",
       "\n",
       "    .dataframe thead th {\n",
       "        text-align: right;\n",
       "    }\n",
       "</style>\n",
       "<table border=\"1\" class=\"dataframe\">\n",
       "  <thead>\n",
       "    <tr style=\"text-align: right;\">\n",
       "      <th></th>\n",
       "      <th>task_id</th>\n",
       "      <th>question</th>\n",
       "      <th>choices</th>\n",
       "      <th>full_question</th>\n",
       "    </tr>\n",
       "  </thead>\n",
       "  <tbody>\n",
       "    <tr>\n",
       "      <th>0</th>\n",
       "      <td>k10171</td>\n",
       "      <td>Question: What will be output of the following...</td>\n",
       "      <td>['10', '9', '8', 'Error']</td>\n",
       "      <td>Question: What will be output of the following...</td>\n",
       "    </tr>\n",
       "    <tr>\n",
       "      <th>1</th>\n",
       "      <td>k10182</td>\n",
       "      <td>Question: Consider line 3. Identify the compil...</td>\n",
       "      <td>['No compilation error', 'Only a lexical error...</td>\n",
       "      <td>Question: Consider line 3. Identify the compil...</td>\n",
       "    </tr>\n",
       "    <tr>\n",
       "      <th>2</th>\n",
       "      <td>k10184</td>\n",
       "      <td>Question: Assume the conflicts part (a) of thi...</td>\n",
       "      <td>['Equal precedence and left associativity; exp...</td>\n",
       "      <td>Question: Assume the conflicts part (a) of thi...</td>\n",
       "    </tr>\n",
       "    <tr>\n",
       "      <th>3</th>\n",
       "      <td>k10206</td>\n",
       "      <td>Question: What will be output if you will exec...</td>\n",
       "      <td>['2.00000', '4.00000', '6.00000', 'Compilation...</td>\n",
       "      <td>Question: What will be output if you will exec...</td>\n",
       "    </tr>\n",
       "    <tr>\n",
       "      <th>4</th>\n",
       "      <td>k10215</td>\n",
       "      <td>Question: Select the output for code :\\nstatic...</td>\n",
       "      <td>['amish', 'ANKIT', 'harsh', 'Compile time error']</td>\n",
       "      <td>Question: Select the output for code :\\nstatic...</td>\n",
       "    </tr>\n",
       "  </tbody>\n",
       "</table>\n",
       "</div>"
      ],
      "text/plain": [
       "  task_id                                           question  \\\n",
       "0  k10171  Question: What will be output of the following...   \n",
       "1  k10182  Question: Consider line 3. Identify the compil...   \n",
       "2  k10184  Question: Assume the conflicts part (a) of thi...   \n",
       "3  k10206  Question: What will be output if you will exec...   \n",
       "4  k10215  Question: Select the output for code :\\nstatic...   \n",
       "\n",
       "                                             choices  \\\n",
       "0                          ['10', '9', '8', 'Error']   \n",
       "1  ['No compilation error', 'Only a lexical error...   \n",
       "2  ['Equal precedence and left associativity; exp...   \n",
       "3  ['2.00000', '4.00000', '6.00000', 'Compilation...   \n",
       "4  ['amish', 'ANKIT', 'harsh', 'Compile time error']   \n",
       "\n",
       "                                       full_question  \n",
       "0  Question: What will be output of the following...  \n",
       "1  Question: Consider line 3. Identify the compil...  \n",
       "2  Question: Assume the conflicts part (a) of thi...  \n",
       "3  Question: What will be output if you will exec...  \n",
       "4  Question: Select the output for code :\\nstatic...  "
      ]
     },
     "execution_count": 3,
     "metadata": {},
     "output_type": "execute_result"
    }
   ],
   "source": [
    "def create_full_question(row):\n",
    "    question = row['question']\n",
    "    choices_str = row['choices']\n",
    "    choices = ast.literal_eval(choices_str)\n",
    "    \n",
    "    formatted_choices = '\\n'.join([f\"{chr(65+i)}. {choice}\" for i, choice in enumerate(choices)])\n",
    "    full_question = f\"{question}\\n{formatted_choices}\"\n",
    "    return full_question\n",
    "\n",
    "test_df['full_question'] = test_df.apply(create_full_question, axis=1)\n",
    "test_df.head(5)"
   ]
  },
  {
   "cell_type": "code",
   "execution_count": 4,
   "id": "fbeb4fed",
   "metadata": {
    "execution": {
     "iopub.execute_input": "2025-03-30T05:53:19.933827Z",
     "iopub.status.busy": "2025-03-30T05:53:19.933378Z",
     "iopub.status.idle": "2025-03-30T05:53:20.369418Z",
     "shell.execute_reply": "2025-03-30T05:53:20.367912Z"
    },
    "papermill": {
     "duration": 0.444022,
     "end_time": "2025-03-30T05:53:20.371440",
     "exception": false,
     "start_time": "2025-03-30T05:53:19.927418",
     "status": "completed"
    },
    "tags": []
   },
   "outputs": [
    {
     "data": {
      "image/png": "[encoded data removed]",
      "text/plain": [
       "<Figure size 1000x600 with 1 Axes>"
      ]
     },
     "metadata": {},
     "output_type": "display_data"
    }
   ],
   "source": [
    "test_df[\"question_length\"] = test_df[\"full_question\"].apply(len)\n",
    "\n",
    "plt.figure(figsize=(10, 6))\n",
    "plt.hist(test_df[\"question_length\"], bins=50, edgecolor=\"black\", alpha=0.7)\n",
    "plt.xlabel(\"Độ dài full_question\")\n",
    "plt.ylabel(\"Số lượng câu hỏi\")\n",
    "plt.title(\"Phân bố độ dài full_question\")\n",
    "plt.grid(axis=\"y\", linestyle=\"--\", alpha=0.7)\n",
    "plt.show()"
   ]
  },
  {
   "cell_type": "code",
   "execution_count": 5,
   "id": "074181c7",
   "metadata": {
    "execution": {
     "iopub.execute_input": "2025-03-30T05:53:20.384356Z",
     "iopub.status.busy": "2025-03-30T05:53:20.383902Z",
     "iopub.status.idle": "2025-03-30T05:53:20.390946Z",
     "shell.execute_reply": "2025-03-30T05:53:20.389409Z"
    },
    "papermill": {
     "duration": 0.01616,
     "end_time": "2025-03-30T05:53:20.393291",
     "exception": false,
     "start_time": "2025-03-30T05:53:20.377131",
     "status": "completed"
    },
    "tags": []
   },
   "outputs": [
    {
     "name": "stdout",
     "output_type": "stream",
     "text": [
      "1253\n"
     ]
    }
   ],
   "source": [
    "print(len(test_df))"
   ]
  },
  {
   "cell_type": "code",
   "execution_count": 6,
   "id": "48fdf10f",
   "metadata": {
    "execution": {
     "iopub.execute_input": "2025-03-30T05:53:20.407208Z",
     "iopub.status.busy": "2025-03-30T05:53:20.406755Z",
     "iopub.status.idle": "2025-03-30T05:53:20.413170Z",
     "shell.execute_reply": "2025-03-30T05:53:20.411580Z"
    },
    "papermill": {
     "duration": 0.016203,
     "end_time": "2025-03-30T05:53:20.415512",
     "exception": false,
     "start_time": "2025-03-30T05:53:20.399309",
     "status": "completed"
    },
    "tags": []
   },
   "outputs": [
    {
     "name": "stdout",
     "output_type": "stream",
     "text": [
      "Question: What will be output of the following c code?\n",
      "#include<stdio.h>\n",
      "int main()\n",
      "{\n",
      "    int a= sizeof(signed) +sizeof(unsigned);\n",
      "    int b=sizeof(const)+sizeof(volatile);\n",
      "    printf(\"%d\",a+++b);\n",
      "    return 0;\n",
      "}\n",
      "A. 10\n",
      "B. 9\n",
      "C. 8\n",
      "D. Error\n"
     ]
    }
   ],
   "source": [
    "print(test_df.iloc[0]['full_question'])"
   ]
  },
  {
   "cell_type": "code",
   "execution_count": 7,
   "id": "9e911de6",
   "metadata": {
    "execution": {
     "iopub.execute_input": "2025-03-30T05:53:20.429363Z",
     "iopub.status.busy": "2025-03-30T05:53:20.428915Z",
     "iopub.status.idle": "2025-03-30T05:53:20.435047Z",
     "shell.execute_reply": "2025-03-30T05:53:20.433472Z"
    },
    "papermill": {
     "duration": 0.015538,
     "end_time": "2025-03-30T05:53:20.437415",
     "exception": false,
     "start_time": "2025-03-30T05:53:20.421877",
     "status": "completed"
    },
    "tags": []
   },
   "outputs": [
    {
     "name": "stdout",
     "output_type": "stream",
     "text": [
      "Question: Consider line 3. Identify the compiler’s response about this line while creating the object-module\n",
      "Int main()\n",
      "{ int 1,N;\n",
      "Fro (I,1 N,1);\n",
      "}\n",
      "A. No compilation error\n",
      "B. Only a lexical error\n",
      "C. Only syntactic errors\n",
      "D. Both lexical and syntactic errors\n"
     ]
    }
   ],
   "source": [
    "print(test_df.iloc[1]['full_question'])"
   ]
  },
  {
   "cell_type": "code",
   "execution_count": 8,
   "id": "061996fb",
   "metadata": {
    "execution": {
     "iopub.execute_input": "2025-03-30T05:53:20.451191Z",
     "iopub.status.busy": "2025-03-30T05:53:20.450700Z",
     "iopub.status.idle": "2025-03-30T05:53:20.471503Z",
     "shell.execute_reply": "2025-03-30T05:53:20.470161Z"
    },
    "papermill": {
     "duration": 0.03025,
     "end_time": "2025-03-30T05:53:20.473881",
     "exception": false,
     "start_time": "2025-03-30T05:53:20.443631",
     "status": "completed"
    },
    "tags": []
   },
   "outputs": [],
   "source": [
    "def read_key(file_path):\n",
    "    with open(file_path, \"r\") as f:\n",
    "        return f.read().strip()\n",
    "\n",
    "GPT_KEY = read_key(\"/kaggle/input/api-key/key/gpt_key.txt\")"
   ]
  },
  {
   "cell_type": "code",
   "execution_count": 9,
   "id": "85f263a8",
   "metadata": {
    "execution": {
     "iopub.execute_input": "2025-03-30T05:53:20.487160Z",
     "iopub.status.busy": "2025-03-30T05:53:20.486688Z",
     "iopub.status.idle": "2025-03-30T05:53:20.495417Z",
     "shell.execute_reply": "2025-03-30T05:53:20.493641Z"
    },
    "papermill": {
     "duration": 0.018367,
     "end_time": "2025-03-30T05:53:20.498172",
     "exception": false,
     "start_time": "2025-03-30T05:53:20.479805",
     "status": "completed"
    },
    "tags": []
   },
   "outputs": [],
   "source": [
    "def ask_gpt(question):\n",
    "    client = openai.OpenAI(api_key=GPT_KEY)\n",
    "\n",
    "    prompt = (\n",
    "        \"You are an expert AI model trained to answer multiple-choice programming-related questions with the highest accuracy. \"\n",
    "        \"Your goal is to analyze the question carefully and select the correct answer based on programming knowledge and logical reasoning.\\n\\n\"\n",
    "        \"Guidelines:\\n\"\n",
    "        \"- Only respond with a single letter: A, B, C, or D.\\n\"\n",
    "        \"- Do not provide any explanation or additional text.\\n\"\n",
    "        \"- Ensure your response strictly follows the multiple-choice format.\\n\\n\"\n",
    "        f\"Question:\\n{question}\\n\\n\"\n",
    "        \"Provide your answer as a single letter (A, B, C, or D):\"\n",
    "    )\n",
    "\n",
    "    while True:\n",
    "        try:\n",
    "            response = client.chat.completions.create(\n",
    "                model=\"gpt-4o\",\n",
    "                messages=[{\"role\": \"user\", \"content\": prompt}],\n",
    "                temperature=0 \n",
    "            )\n",
    "\n",
    "            answer = response.choices[0].message.content.strip()\n",
    "            valid_choices = {\"A\", \"B\", \"C\", \"D\"}\n",
    "\n",
    "            return answer if answer in valid_choices else \"unknown\"\n",
    "\n",
    "        except openai.APIError as e:\n",
    "            print(f\"Error: {e}. Retrying in 60 seconds...\")\n",
    "            time.sleep(60)\n"
   ]
  },
  {
   "cell_type": "code",
   "execution_count": 10,
   "id": "32577499",
   "metadata": {
    "execution": {
     "iopub.execute_input": "2025-03-30T05:53:20.515623Z",
     "iopub.status.busy": "2025-03-30T05:53:20.515149Z",
     "iopub.status.idle": "2025-03-30T05:53:21.633423Z",
     "shell.execute_reply": "2025-03-30T05:53:21.631161Z"
    },
    "papermill": {
     "duration": 1.12806,
     "end_time": "2025-03-30T05:53:21.635875",
     "exception": false,
     "start_time": "2025-03-30T05:53:20.507815",
     "status": "completed"
    },
    "tags": []
   },
   "outputs": [
    {
     "name": "stdout",
     "output_type": "stream",
     "text": [
      "D\n"
     ]
    }
   ],
   "source": [
    "question = \"\"\"\n",
    "Question: Consider line 3. Identify the compiler’s response about this line while creating the object-module\n",
    "Int main()\n",
    "{ int 1,N;\n",
    "Fro (I,1 N,1);\n",
    "}\n",
    "A. No compilation error\n",
    "B. Only a lexical error\n",
    "C. Only syntactic errors\n",
    "D. Both lexical and syntactic errors\n",
    "\"\"\"\n",
    "\n",
    "result = ask_gpt(question)\n",
    "print(result)"
   ]
  },
  {
   "cell_type": "code",
   "execution_count": 11,
   "id": "67cd6b05",
   "metadata": {
    "execution": {
     "iopub.execute_input": "2025-03-30T05:53:21.658701Z",
     "iopub.status.busy": "2025-03-30T05:53:21.658223Z",
     "iopub.status.idle": "2025-03-30T05:53:21.666271Z",
     "shell.execute_reply": "2025-03-30T05:53:21.664818Z"
    },
    "papermill": {
     "duration": 0.024082,
     "end_time": "2025-03-30T05:53:21.668894",
     "exception": false,
     "start_time": "2025-03-30T05:53:21.644812",
     "status": "completed"
    },
    "tags": []
   },
   "outputs": [],
   "source": [
    "def generate_answers(df, is_test=False):\n",
    "    correct_count = 0\n",
    "    gpt_answers = []\n",
    "    \n",
    "    for idx, row in tqdm(df.iterrows(), total=len(df), desc=\"Processing Questions\"):\n",
    "        question = row[\"full_question\"]\n",
    "        gpt_answer = ask_gpt(question)\n",
    "        gpt_answers.append(gpt_answer)\n",
    "\n",
    "        if not is_test:\n",
    "            correct_count += (gpt_answer == row[\"answer\"])\n",
    "\n",
    "    if is_test:\n",
    "        return gpt_answers, None\n",
    "    else:\n",
    "        accuracy = correct_count / len(df) * 100\n",
    "        return gpt_answers, accuracy"
   ]
  },
  {
   "cell_type": "code",
   "execution_count": 12,
   "id": "e3b43bcd",
   "metadata": {
    "execution": {
     "iopub.execute_input": "2025-03-30T05:53:21.686341Z",
     "iopub.status.busy": "2025-03-30T05:53:21.685877Z",
     "iopub.status.idle": "2025-03-30T06:06:30.732682Z",
     "shell.execute_reply": "2025-03-30T06:06:30.731595Z"
    },
    "papermill": {
     "duration": 789.060047,
     "end_time": "2025-03-30T06:06:30.736573",
     "exception": false,
     "start_time": "2025-03-30T05:53:21.676526",
     "status": "completed"
    },
    "tags": []
   },
   "outputs": [
    {
     "name": "stderr",
     "output_type": "stream",
     "text": [
      "Processing Questions: 100%|██████████| 1253/1253 [13:09<00:00,  1.59it/s]\n"
     ]
    }
   ],
   "source": [
    "num_samples = len(test_df)\n",
    "test_df_subset = test_df.head(num_samples).copy()\n",
    "gpt_answers, accuracy = generate_answers(test_df_subset, is_test=True)\n",
    "test_df_subset[\"gpt_answers\"] = gpt_answers"
   ]
  },
  {
   "cell_type": "code",
   "execution_count": 13,
   "id": "dd8d05e2",
   "metadata": {
    "execution": {
     "iopub.execute_input": "2025-03-30T06:06:30.923795Z",
     "iopub.status.busy": "2025-03-30T06:06:30.923452Z",
     "iopub.status.idle": "2025-03-30T06:06:30.929530Z",
     "shell.execute_reply": "2025-03-30T06:06:30.928137Z"
    },
    "papermill": {
     "duration": 0.080266,
     "end_time": "2025-03-30T06:06:30.931468",
     "exception": false,
     "start_time": "2025-03-30T06:06:30.851202",
     "status": "completed"
    },
    "tags": []
   },
   "outputs": [
    {
     "name": "stdout",
     "output_type": "stream",
     "text": [
      "Accuracy: None%\n"
     ]
    }
   ],
   "source": [
    "print(f\"Accuracy: {accuracy}%\")"
   ]
  },
  {
   "cell_type": "code",
   "execution_count": 14,
   "id": "d8aa78cd",
   "metadata": {
    "execution": {
     "iopub.execute_input": "2025-03-30T06:06:31.082343Z",
     "iopub.status.busy": "2025-03-30T06:06:31.081933Z",
     "iopub.status.idle": "2025-03-30T06:06:31.120514Z",
     "shell.execute_reply": "2025-03-30T06:06:31.119354Z"
    },
    "papermill": {
     "duration": 0.115985,
     "end_time": "2025-03-30T06:06:31.123135",
     "exception": false,
     "start_time": "2025-03-30T06:06:31.007150",
     "status": "completed"
    },
    "tags": []
   },
   "outputs": [
    {
     "data": {
      "text/html": [
       "<div>\n",
       "<style scoped>\n",
       "    .dataframe tbody tr th:only-of-type {\n",
       "        vertical-align: middle;\n",
       "    }\n",
       "\n",
       "    .dataframe tbody tr th {\n",
       "        vertical-align: top;\n",
       "    }\n",
       "\n",
       "    .dataframe thead th {\n",
       "        text-align: right;\n",
       "    }\n",
       "</style>\n",
       "<table border=\"1\" class=\"dataframe\">\n",
       "  <thead>\n",
       "    <tr style=\"text-align: right;\">\n",
       "      <th></th>\n",
       "      <th>task_id</th>\n",
       "      <th>answer</th>\n",
       "    </tr>\n",
       "  </thead>\n",
       "  <tbody>\n",
       "    <tr>\n",
       "      <th>0</th>\n",
       "      <td>k10171</td>\n",
       "      <td>D</td>\n",
       "    </tr>\n",
       "    <tr>\n",
       "      <th>1</th>\n",
       "      <td>k10182</td>\n",
       "      <td>D</td>\n",
       "    </tr>\n",
       "    <tr>\n",
       "      <th>2</th>\n",
       "      <td>k10184</td>\n",
       "      <td>A</td>\n",
       "    </tr>\n",
       "    <tr>\n",
       "      <th>3</th>\n",
       "      <td>k10206</td>\n",
       "      <td>C</td>\n",
       "    </tr>\n",
       "    <tr>\n",
       "      <th>4</th>\n",
       "      <td>k10215</td>\n",
       "      <td>D</td>\n",
       "    </tr>\n",
       "  </tbody>\n",
       "</table>\n",
       "</div>"
      ],
      "text/plain": [
       "  task_id answer\n",
       "0  k10171      D\n",
       "1  k10182      D\n",
       "2  k10184      A\n",
       "3  k10206      C\n",
       "4  k10215      D"
      ]
     },
     "execution_count": 14,
     "metadata": {},
     "output_type": "execute_result"
    }
   ],
   "source": [
    "submission_df = test_df_subset[[\"task_id\", \"gpt_answers\"]].rename(columns={\"gpt_answers\": \"answer\"})\n",
    "unknown_count = (submission_df[\"answer\"] == \"unknown\").sum()\n",
    "submission_df[\"answer\"] = submission_df[\"answer\"].apply(lambda x: random.choice([\"A\", \"B\", \"C\", \"D\"]) if x == \"unknown\" else x)\n",
    "\n",
    "submission_df.to_csv(\"submission.csv\", index=False)\n",
    "submission_df.head(5)"
   ]
  },
  {
   "cell_type": "code",
   "execution_count": 15,
   "id": "9b65ec8a",
   "metadata": {
    "execution": {
     "iopub.execute_input": "2025-03-30T06:06:31.275561Z",
     "iopub.status.busy": "2025-03-30T06:06:31.275208Z",
     "iopub.status.idle": "2025-03-30T06:06:31.280548Z",
     "shell.execute_reply": "2025-03-30T06:06:31.279332Z"
    },
    "papermill": {
     "duration": 0.080655,
     "end_time": "2025-03-30T06:06:31.282504",
     "exception": false,
     "start_time": "2025-03-30T06:06:31.201849",
     "status": "completed"
    },
    "tags": []
   },
   "outputs": [
    {
     "name": "stdout",
     "output_type": "stream",
     "text": [
      "Number of 'unknown' answers: 1\n"
     ]
    }
   ],
   "source": [
    "print(f\"Number of 'unknown' answers: {unknown_count}\")"
   ]
  },
  {
   "cell_type": "code",
   "execution_count": 16,
   "id": "04536282",
   "metadata": {
    "execution": {
     "iopub.execute_input": "2025-03-30T06:06:31.434185Z",
     "iopub.status.busy": "2025-03-30T06:06:31.433820Z",
     "iopub.status.idle": "2025-03-30T06:06:31.445597Z",
     "shell.execute_reply": "2025-03-30T06:06:31.444162Z"
    },
    "papermill": {
     "duration": 0.086217,
     "end_time": "2025-03-30T06:06:31.447666",
     "exception": false,
     "start_time": "2025-03-30T06:06:31.361449",
     "status": "completed"
    },
    "tags": []
   },
   "outputs": [
    {
     "name": "stdout",
     "output_type": "stream",
     "text": [
      "answer\n",
      "B    352\n",
      "A    339\n",
      "C    308\n",
      "D    254\n",
      "Name: count, dtype: int64\n"
     ]
    }
   ],
   "source": [
    "print(submission_df[\"answer\"].value_counts())"
   ]
  },
  {
   "cell_type": "code",
   "execution_count": null,
   "id": "296442d2",
   "metadata": {
    "papermill": {
     "duration": 0.07126,
     "end_time": "2025-03-30T06:06:31.595204",
     "exception": false,
     "start_time": "2025-03-30T06:06:31.523944",
     "status": "completed"
    },
    "tags": []
   },
   "outputs": [],
   "source": []
  }
 ],
 "metadata": {
  "kaggle": {
   "accelerator": "none",
   "dataSources": [
    {
     "databundleVersionId": 11597044,
     "isSourceIdPinned": false,
     "sourceId": 97436,
     "sourceType": "competition"
    },
    {
     "datasetId": 6997825,
     "sourceId": 11207201,
     "sourceType": "datasetVersion"
    },
    {
     "sourceId": 230311675,
     "sourceType": "kernelVersion"
    },
    {
     "sourceId": 230321704,
     "sourceType": "kernelVersion"
    },
    {
     "sourceId": 230370501,
     "sourceType": "kernelVersion"
    },
    {
     "sourceId": 230395150,
     "sourceType": "kernelVersion"
    }
   ],
   "dockerImageVersionId": 30918,
   "isGpuEnabled": false,
   "isInternetEnabled": true,
   "language": "python",
   "sourceType": "notebook"
  },
  "kernelspec": {
   "display_name": "Python 3",
   "language": "python",
   "name": "python3"
  },
  "language_info": {
   "codemirror_mode": {
    "name": "ipython",
    "version": 3
   },
   "file_extension": ".py",
   "mimetype": "text/x-python",
   "name": "python",
   "nbconvert_exporter": "python",
   "pygments_lexer": "ipython3",
   "version": "3.10.12"
  },
  "papermill": {
   "default_parameters": {},
   "duration": 799.248485,
   "end_time": "2025-03-30T06:06:32.794040",
   "environment_variables": {},
   "exception": null,
   "input_path": "__notebook__.ipynb",
   "output_path": "__notebook__.ipynb",
   "parameters": {},
   "start_time": "2025-03-30T05:53:13.545555",
   "version": "2.6.0"
  }
 },
 "nbformat": 4,
 "nbformat_minor": 5
}
