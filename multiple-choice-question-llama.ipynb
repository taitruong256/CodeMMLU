{
 "cells": [
  {
   "cell_type": "code",
   "execution_count": 1,
   "id": "383a3860",
   "metadata": {
    "execution": {
     "iopub.execute_input": "2025-03-30T01:16:21.238686Z",
     "iopub.status.busy": "2025-03-30T01:16:21.238255Z",
     "iopub.status.idle": "2025-03-30T01:16:22.651053Z",
     "shell.execute_reply": "2025-03-30T01:16:22.650093Z"
    },
    "papermill": {
     "duration": 1.420822,
     "end_time": "2025-03-30T01:16:22.652958",
     "exception": false,
     "start_time": "2025-03-30T01:16:21.232136",
     "status": "completed"
    },
    "tags": []
   },
   "outputs": [],
   "source": [
    "import ast \n",
    "import time \n",
    "import random \n",
    "import pandas as pd \n",
    "from tqdm import tqdm \n",
    "import matplotlib.pyplot as plt \n",
    "\n",
    "import requests \n",
    "import json "
   ]
  },
  {
   "cell_type": "code",
   "execution_count": 2,
   "id": "28e61b12",
   "metadata": {
    "execution": {
     "iopub.execute_input": "2025-03-30T01:16:22.663286Z",
     "iopub.status.busy": "2025-03-30T01:16:22.662803Z",
     "iopub.status.idle": "2025-03-30T01:16:22.745599Z",
     "shell.execute_reply": "2025-03-30T01:16:22.744517Z"
    },
    "papermill": {
     "duration": 0.08962,
     "end_time": "2025-03-30T01:16:22.747238",
     "exception": false,
     "start_time": "2025-03-30T01:16:22.657618",
     "status": "completed"
    },
    "tags": []
   },
   "outputs": [
    {
     "data": {
      "text/html": [
       "<div>\n",
       "<style scoped>\n",
       "    .dataframe tbody tr th:only-of-type {\n",
       "        vertical-align: middle;\n",
       "    }\n",
       "\n",
       "    .dataframe tbody tr th {\n",
       "        vertical-align: top;\n",
       "    }\n",
       "\n",
       "    .dataframe thead th {\n",
       "        text-align: right;\n",
       "    }\n",
       "</style>\n",
       "<table border=\"1\" class=\"dataframe\">\n",
       "  <thead>\n",
       "    <tr style=\"text-align: right;\">\n",
       "      <th></th>\n",
       "      <th>task_id</th>\n",
       "      <th>question</th>\n",
       "      <th>choices</th>\n",
       "    </tr>\n",
       "  </thead>\n",
       "  <tbody>\n",
       "    <tr>\n",
       "      <th>0</th>\n",
       "      <td>k10171</td>\n",
       "      <td>Question: What will be output of the following...</td>\n",
       "      <td>['10', '9', '8', 'Error']</td>\n",
       "    </tr>\n",
       "    <tr>\n",
       "      <th>1</th>\n",
       "      <td>k10182</td>\n",
       "      <td>Question: Consider line 3. Identify the compil...</td>\n",
       "      <td>['No compilation error', 'Only a lexical error...</td>\n",
       "    </tr>\n",
       "    <tr>\n",
       "      <th>2</th>\n",
       "      <td>k10184</td>\n",
       "      <td>Question: Assume the conflicts part (a) of thi...</td>\n",
       "      <td>['Equal precedence and left associativity; exp...</td>\n",
       "    </tr>\n",
       "    <tr>\n",
       "      <th>3</th>\n",
       "      <td>k10206</td>\n",
       "      <td>Question: What will be output if you will exec...</td>\n",
       "      <td>['2.00000', '4.00000', '6.00000', 'Compilation...</td>\n",
       "    </tr>\n",
       "    <tr>\n",
       "      <th>4</th>\n",
       "      <td>k10215</td>\n",
       "      <td>Question: Select the output for code :\\nstatic...</td>\n",
       "      <td>['amish', 'ANKIT', 'harsh', 'Compile time error']</td>\n",
       "    </tr>\n",
       "  </tbody>\n",
       "</table>\n",
       "</div>"
      ],
      "text/plain": [
       "  task_id                                           question  \\\n",
       "0  k10171  Question: What will be output of the following...   \n",
       "1  k10182  Question: Consider line 3. Identify the compil...   \n",
       "2  k10184  Question: Assume the conflicts part (a) of thi...   \n",
       "3  k10206  Question: What will be output if you will exec...   \n",
       "4  k10215  Question: Select the output for code :\\nstatic...   \n",
       "\n",
       "                                             choices  \n",
       "0                          ['10', '9', '8', 'Error']  \n",
       "1  ['No compilation error', 'Only a lexical error...  \n",
       "2  ['Equal precedence and left associativity; exp...  \n",
       "3  ['2.00000', '4.00000', '6.00000', 'Compilation...  \n",
       "4  ['amish', 'ANKIT', 'harsh', 'Compile time error']  "
      ]
     },
     "execution_count": 2,
     "metadata": {},
     "output_type": "execute_result"
    }
   ],
   "source": [
    "test_df = pd.read_csv('/kaggle/input/fpt-ai-residency-batch-6-entry-test/b6_test_data.csv')\n",
    "test_df.head(5)"
   ]
  },
  {
   "cell_type": "code",
   "execution_count": 3,
   "id": "5139cc5c",
   "metadata": {
    "execution": {
     "iopub.execute_input": "2025-03-30T01:16:22.757580Z",
     "iopub.status.busy": "2025-03-30T01:16:22.757244Z",
     "iopub.status.idle": "2025-03-30T01:16:22.802985Z",
     "shell.execute_reply": "2025-03-30T01:16:22.801785Z"
    },
    "papermill": {
     "duration": 0.052744,
     "end_time": "2025-03-30T01:16:22.804709",
     "exception": false,
     "start_time": "2025-03-30T01:16:22.751965",
     "status": "completed"
    },
    "tags": []
   },
   "outputs": [
    {
     "data": {
      "text/html": [
       "<div>\n",
       "<style scoped>\n",
       "    .dataframe tbody tr th:only-of-type {\n",
       "        vertical-align: middle;\n",
       "    }\n",
       "\n",
       "    .dataframe tbody tr th {\n",
       "        vertical-align: top;\n",
       "    }\n",
       "\n",
       "    .dataframe thead th {\n",
       "        text-align: right;\n",
       "    }\n",
       "</style>\n",
       "<table border=\"1\" class=\"dataframe\">\n",
       "  <thead>\n",
       "    <tr style=\"text-align: right;\">\n",
       "      <th></th>\n",
       "      <th>task_id</th>\n",
       "      <th>question</th>\n",
       "      <th>choices</th>\n",
       "      <th>full_question</th>\n",
       "    </tr>\n",
       "  </thead>\n",
       "  <tbody>\n",
       "    <tr>\n",
       "      <th>0</th>\n",
       "      <td>k10171</td>\n",
       "      <td>Question: What will be output of the following...</td>\n",
       "      <td>['10', '9', '8', 'Error']</td>\n",
       "      <td>Question: What will be output of the following...</td>\n",
       "    </tr>\n",
       "    <tr>\n",
       "      <th>1</th>\n",
       "      <td>k10182</td>\n",
       "      <td>Question: Consider line 3. Identify the compil...</td>\n",
       "      <td>['No compilation error', 'Only a lexical error...</td>\n",
       "      <td>Question: Consider line 3. Identify the compil...</td>\n",
       "    </tr>\n",
       "    <tr>\n",
       "      <th>2</th>\n",
       "      <td>k10184</td>\n",
       "      <td>Question: Assume the conflicts part (a) of thi...</td>\n",
       "      <td>['Equal precedence and left associativity; exp...</td>\n",
       "      <td>Question: Assume the conflicts part (a) of thi...</td>\n",
       "    </tr>\n",
       "    <tr>\n",
       "      <th>3</th>\n",
       "      <td>k10206</td>\n",
       "      <td>Question: What will be output if you will exec...</td>\n",
       "      <td>['2.00000', '4.00000', '6.00000', 'Compilation...</td>\n",
       "      <td>Question: What will be output if you will exec...</td>\n",
       "    </tr>\n",
       "    <tr>\n",
       "      <th>4</th>\n",
       "      <td>k10215</td>\n",
       "      <td>Question: Select the output for code :\\nstatic...</td>\n",
       "      <td>['amish', 'ANKIT', 'harsh', 'Compile time error']</td>\n",
       "      <td>Question: Select the output for code :\\nstatic...</td>\n",
       "    </tr>\n",
       "  </tbody>\n",
       "</table>\n",
       "</div>"
      ],
      "text/plain": [
       "  task_id                                           question  \\\n",
       "0  k10171  Question: What will be output of the following...   \n",
       "1  k10182  Question: Consider line 3. Identify the compil...   \n",
       "2  k10184  Question: Assume the conflicts part (a) of thi...   \n",
       "3  k10206  Question: What will be output if you will exec...   \n",
       "4  k10215  Question: Select the output for code :\\nstatic...   \n",
       "\n",
       "                                             choices  \\\n",
       "0                          ['10', '9', '8', 'Error']   \n",
       "1  ['No compilation error', 'Only a lexical error...   \n",
       "2  ['Equal precedence and left associativity; exp...   \n",
       "3  ['2.00000', '4.00000', '6.00000', 'Compilation...   \n",
       "4  ['amish', 'ANKIT', 'harsh', 'Compile time error']   \n",
       "\n",
       "                                       full_question  \n",
       "0  Question: What will be output of the following...  \n",
       "1  Question: Consider line 3. Identify the compil...  \n",
       "2  Question: Assume the conflicts part (a) of thi...  \n",
       "3  Question: What will be output if you will exec...  \n",
       "4  Question: Select the output for code :\\nstatic...  "
      ]
     },
     "execution_count": 3,
     "metadata": {},
     "output_type": "execute_result"
    }
   ],
   "source": [
    "def create_full_question(row):\n",
    "    question = row['question']\n",
    "    choices_str = row['choices']\n",
    "    choices = ast.literal_eval(choices_str)\n",
    "    \n",
    "    formatted_choices = '\\n'.join([f\"{chr(65+i)}. {choice}\" for i, choice in enumerate(choices)])\n",
    "    full_question = f\"{question}\\n{formatted_choices}\"\n",
    "    return full_question\n",
    "\n",
    "test_df['full_question'] = test_df.apply(create_full_question, axis=1)\n",
    "test_df.head(5)"
   ]
  },
  {
   "cell_type": "code",
   "execution_count": 4,
   "id": "0cc48994",
   "metadata": {
    "execution": {
     "iopub.execute_input": "2025-03-30T01:16:22.815334Z",
     "iopub.status.busy": "2025-03-30T01:16:22.815006Z",
     "iopub.status.idle": "2025-03-30T01:16:23.242195Z",
     "shell.execute_reply": "2025-03-30T01:16:23.241128Z"
    },
    "papermill": {
     "duration": 0.434328,
     "end_time": "2025-03-30T01:16:23.243800",
     "exception": false,
     "start_time": "2025-03-30T01:16:22.809472",
     "status": "completed"
    },
    "tags": []
   },
   "outputs": [
    {
     "data": {
      "image/png": "[encoded data removed]",
      "text/plain": [
       "<Figure size 1000x600 with 1 Axes>"
      ]
     },
     "metadata": {},
     "output_type": "display_data"
    }
   ],
   "source": [
    "test_df[\"question_length\"] = test_df[\"full_question\"].apply(len)\n",
    "\n",
    "plt.figure(figsize=(10, 6))\n",
    "plt.hist(test_df[\"question_length\"], bins=50, edgecolor=\"black\", alpha=0.7)\n",
    "plt.xlabel(\"Độ dài full_question\")\n",
    "plt.ylabel(\"Số lượng câu hỏi\")\n",
    "plt.title(\"Phân bố độ dài full_question\")\n",
    "plt.grid(axis=\"y\", linestyle=\"--\", alpha=0.7)\n",
    "plt.show()"
   ]
  },
  {
   "cell_type": "code",
   "execution_count": 5,
   "id": "2bf79ec0",
   "metadata": {
    "execution": {
     "iopub.execute_input": "2025-03-30T01:16:23.255545Z",
     "iopub.status.busy": "2025-03-30T01:16:23.255222Z",
     "iopub.status.idle": "2025-03-30T01:16:23.260527Z",
     "shell.execute_reply": "2025-03-30T01:16:23.259426Z"
    },
    "jupyter": {
     "source_hidden": true
    },
    "papermill": {
     "duration": 0.013154,
     "end_time": "2025-03-30T01:16:23.262306",
     "exception": false,
     "start_time": "2025-03-30T01:16:23.249152",
     "status": "completed"
    },
    "tags": []
   },
   "outputs": [
    {
     "name": "stdout",
     "output_type": "stream",
     "text": [
      "1253\n"
     ]
    }
   ],
   "source": [
    "print(len(test_df))"
   ]
  },
  {
   "cell_type": "code",
   "execution_count": 6,
   "id": "3a9e442c",
   "metadata": {
    "execution": {
     "iopub.execute_input": "2025-03-30T01:16:23.274437Z",
     "iopub.status.busy": "2025-03-30T01:16:23.274103Z",
     "iopub.status.idle": "2025-03-30T01:16:23.279608Z",
     "shell.execute_reply": "2025-03-30T01:16:23.278443Z"
    },
    "jupyter": {
     "source_hidden": true
    },
    "papermill": {
     "duration": 0.013425,
     "end_time": "2025-03-30T01:16:23.281275",
     "exception": false,
     "start_time": "2025-03-30T01:16:23.267850",
     "status": "completed"
    },
    "tags": []
   },
   "outputs": [
    {
     "name": "stdout",
     "output_type": "stream",
     "text": [
      "Question: What will be output of the following c code?\n",
      "#include<stdio.h>\n",
      "int main()\n",
      "{\n",
      "    int a= sizeof(signed) +sizeof(unsigned);\n",
      "    int b=sizeof(const)+sizeof(volatile);\n",
      "    printf(\"%d\",a+++b);\n",
      "    return 0;\n",
      "}\n",
      "A. 10\n",
      "B. 9\n",
      "C. 8\n",
      "D. Error\n"
     ]
    }
   ],
   "source": [
    "print(test_df.iloc[0]['full_question'])"
   ]
  },
  {
   "cell_type": "code",
   "execution_count": 7,
   "id": "82e08598",
   "metadata": {
    "execution": {
     "iopub.execute_input": "2025-03-30T01:16:23.294128Z",
     "iopub.status.busy": "2025-03-30T01:16:23.293779Z",
     "iopub.status.idle": "2025-03-30T01:16:23.299851Z",
     "shell.execute_reply": "2025-03-30T01:16:23.298575Z"
    },
    "jupyter": {
     "source_hidden": true
    },
    "papermill": {
     "duration": 0.014586,
     "end_time": "2025-03-30T01:16:23.301500",
     "exception": false,
     "start_time": "2025-03-30T01:16:23.286914",
     "status": "completed"
    },
    "tags": []
   },
   "outputs": [
    {
     "name": "stdout",
     "output_type": "stream",
     "text": [
      "Question: Consider line 3. Identify the compiler’s response about this line while creating the object-module\n",
      "Int main()\n",
      "{ int 1,N;\n",
      "Fro (I,1 N,1);\n",
      "}\n",
      "A. No compilation error\n",
      "B. Only a lexical error\n",
      "C. Only syntactic errors\n",
      "D. Both lexical and syntactic errors\n"
     ]
    }
   ],
   "source": [
    "print(test_df.iloc[1]['full_question'])"
   ]
  },
  {
   "cell_type": "code",
   "execution_count": null,
   "id": "bd2ce47d",
   "metadata": {
    "execution": {
     "iopub.execute_input": "2025-03-30T01:16:23.314219Z",
     "iopub.status.busy": "2025-03-30T01:16:23.313883Z",
     "iopub.status.idle": "2025-03-30T01:16:23.326405Z",
     "shell.execute_reply": "2025-03-30T01:16:23.325321Z"
    },
    "papermill": {
     "duration": 0.021095,
     "end_time": "2025-03-30T01:16:23.328400",
     "exception": false,
     "start_time": "2025-03-30T01:16:23.307305",
     "status": "completed"
    },
    "tags": []
   },
   "outputs": [],
   "source": [
    "with open(\"/kaggle/input/apikey/api_key/llama.txt\", \"r\") as f:\n",
    "    LLAMA_API_KEY = ''"
   ]
  },
  {
   "cell_type": "code",
   "execution_count": 9,
   "id": "4fc77fc3",
   "metadata": {
    "execution": {
     "iopub.execute_input": "2025-03-30T01:16:23.340833Z",
     "iopub.status.busy": "2025-03-30T01:16:23.340436Z",
     "iopub.status.idle": "2025-03-30T01:16:23.344388Z",
     "shell.execute_reply": "2025-03-30T01:16:23.343548Z"
    },
    "papermill": {
     "duration": 0.011862,
     "end_time": "2025-03-30T01:16:23.345991",
     "exception": false,
     "start_time": "2025-03-30T01:16:23.334129",
     "status": "completed"
    },
    "tags": []
   },
   "outputs": [],
   "source": [
    "URL = \"https://api.together.xyz/v1/models\""
   ]
  },
  {
   "cell_type": "code",
   "execution_count": 10,
   "id": "8b8f1f6b",
   "metadata": {
    "collapsed": true,
    "execution": {
     "iopub.execute_input": "2025-03-30T01:16:23.358274Z",
     "iopub.status.busy": "2025-03-30T01:16:23.357958Z",
     "iopub.status.idle": "2025-03-30T01:16:23.738049Z",
     "shell.execute_reply": "2025-03-30T01:16:23.736968Z"
    },
    "jupyter": {
     "outputs_hidden": true
    },
    "papermill": {
     "duration": 0.392677,
     "end_time": "2025-03-30T01:16:23.744184",
     "exception": false,
     "start_time": "2025-03-30T01:16:23.351507",
     "status": "completed"
    },
    "tags": []
   },
   "outputs": [
    {
     "name": "stdout",
     "output_type": "stream",
     "text": [
      "[\n",
      "  {\n",
      "    \"id\": \"WhereIsAI/UAE-Large-V1\",\n",
      "    \"object\": \"model\",\n",
      "    \"created\": 1703216381,\n",
      "    \"type\": \"embedding\",\n",
      "    \"running\": false,\n",
      "    \"display_name\": \"UAE-Large-V1\",\n",
      "    \"organization\": \"WhereIsAI\",\n",
      "    \"link\": \"https://huggingface.co/bert-base-uncased\",\n",
      "    \"license\": \"apache-2.0\",\n",
      "    \"config\": {\n",
      "      \"chat_template\": null,\n",
      "      \"stop\": [],\n",
      "      \"bos_token\": null,\n",
      "      \"eos_token\": null\n",
      "    },\n",
      "    \"pricing\": {\n",
      "      \"hourly\": 0,\n",
      "      \"input\": 0.016,\n",
      "      \"output\": 0.016,\n",
      "      \"base\": 0,\n",
      "      \"finetune\": 0\n",
      "    }\n",
      "  },\n",
      "  {\n",
      "    \"id\": \"meta-llama/Meta-Llama-3-70B-Instruct-Turbo\",\n",
      "    \"object\": \"model\",\n",
      "    \"created\": 0,\n",
      "    \"type\": \"chat\",\n",
      "    \"running\": false,\n",
      "    \"display_name\": \"Meta Llama 3 70B Instruct Turbo\",\n",
      "    \"organization\": \"Meta\",\n",
      "    \"link\": \"https://huggingface.co/meta-llama/Meta-Llama-3-70B-Instruct\",\n",
      "    \"license\": \"Llama-3 (Other)\",\n",
      "    \"context_length\": 8192,\n",
      "    \"config\": {\n",
      "      \"chat_template\": \"{% set loop_messages = messages %}{% for message in loop_messages %}{% set content = '<|start_header_id|>' + message['role'] + '<|end_header_id|>\\n\\n'+ message['content'] | trim + '<|eot_id|>' %}{% if loop.index0 == 0 %}{% set content = bos_token + content %}{% endif %}{{ content }}{% endfor %}{{ '<|start_header_id|>assistant<|end_header_id|>\\n\\n' }}\",\n",
      "      \"stop\": [\n",
      "        \"<|eot_id|>\"\n",
      "      ],\n",
      "      \"bos_token\": \"<|begin_of_text|>\",\n",
      "      \"eos_token\": \"<|end_of_text|>\"\n",
      "    },\n",
      "    \"pricing\": {\n",
      "      \"hourly\": 0,\n",
      "      \"input\": 0.88,\n",
      "      \"output\": 0.88,\n",
      "      \"base\": 0,\n",
      "      \"finetune\": 0\n",
      "    }\n",
      "  },\n",
      "  {\n",
      "    \"id\": \"togethercomputer/m2-bert-80M-32k-retrieval\",\n",
      "    \"object\": \"model\",\n",
      "    \"created\": 1699120644,\n",
      "    \"type\": \"embedding\",\n",
      "    \"running\": false,\n",
      "    \"display_name\": \"M2-BERT-Retrieval-32k\",\n",
      "    \"organization\": \"Together\",\n",
      "    \"link\": \"https://huggingface.co/togethercomputer/m2-bert-80M-32k-retrieval\",\n",
      "    \"license\": \"apache-2.0\",\n",
      "    \"context_length\": 32768,\n",
      "    \"config\": {\n",
      "      \"chat_template\": null,\n",
      "      \"stop\": [],\n",
      "      \"bos_token\": null,\n",
      "      \"eos_token\": null\n",
      "    },\n",
      "    \"pricing\": {\n",
      "      \"hourly\": 0,\n",
      "      \"input\": 0.008,\n",
      "      \"output\": 0.008,\n",
      "      \"base\": 0,\n",
      "      \"finetune\": 0\n",
      "    }\n",
      "  },\n",
      "  {\n",
      "    \"id\": \"google/gemma-2-9b-it\",\n",
      "    \"object\": \"model\",\n",
      "    \"created\": 1708648606,\n",
      "    \"type\": \"chat\",\n",
      "    \"running\": false,\n",
      "    \"display_name\": \"Gemma-2 Instruct (9B)\",\n",
      "    \"organization\": \"google\",\n",
      "    \"link\": \"https://huggingface.co/google/gemma-2-9b-it\",\n",
      "    \"license\": \"gemma\",\n",
      "    \"context_length\": 8192,\n",
      "    \"config\": {\n",
      "      \"chat_template\": \"{{ bos_token }}{% for message in messages %}{% if (message['role'] == 'assistant') %}{% set role = 'model' %}{% else %}{% set role = message['role'] %}{% endif %}{{ '<start_of_turn>' + role + '\\n' + message['content'] | trim + '<end_of_turn>\\n' }}{% endfor %}{% if add_generation_prompt %}{{'<start_of_turn>model\\n'}}{% endif %}\",\n",
      "      \"stop\": [\n",
      "        \"<end_of_turn>\",\n",
      "        \"<eos>\"\n",
      "      ],\n",
      "      \"bos_token\": \"<bos>\",\n",
      "      \"eos_token\": null\n",
      "    },\n",
      "    \"pricing\": {\n",
      "      \"hourly\": 0,\n",
      "      \"input\": 0.3,\n",
      "      \"output\": 0.3,\n",
      "      \"base\": 0,\n",
      "      \"finetune\": 0\n",
      "    }\n",
      "  },\n",
      "  {\n",
      "    \"id\": \"cartesia/sonic\",\n",
      "    \"object\": \"model\",\n",
      "    \"created\": 0,\n",
      "    \"type\": \"audio\",\n",
      "    \"running\": false,\n",
      "    \"display_name\": \"Cartesia/Sonic\",\n",
      "    \"organization\": \"Together\",\n",
      "    \"link\": \"https://www.cartesia.ai\",\n",
      "    \"context_length\": 0,\n",
      "    \"config\": {\n",
      "      \"chat_template\": null,\n",
      "      \"stop\": [],\n",
      "      \"bos_token\": null,\n",
      "      \"eos_token\": null\n",
      "    },\n",
      "    \"pricing\": {\n",
      "      \"hourly\": 0,\n",
      "      \"input\": 65,\n",
      "      \"output\": 0,\n",
      "      \"base\": 0,\n",
      "      \"finetune\": 0\n",
      "    }\n",
      "  },\n",
      "  {\n",
      "    \"id\": \"BAAI/bge-large-en-v1.5\",\n",
      "    \"object\": \"model\",\n",
      "    \"created\": 1700837688,\n",
      "    \"type\": \"embedding\",\n",
      "    \"running\": false,\n",
      "    \"display_name\": \"BAAI-Bge-Large-1p5\",\n",
      "    \"organization\": \"BAAI\",\n",
      "    \"license\": \"MIT\",\n",
      "    \"config\": {\n",
      "      \"chat_template\": null,\n",
      "      \"stop\": [],\n",
      "      \"bos_token\": null,\n",
      "      \"eos_token\": null\n",
      "    },\n",
      "    \"pricing\": {\n",
      "      \"hourly\": 0,\n",
      "      \"input\": 0.016,\n",
      "      \"output\": 0.016,\n",
      "      \"base\": 0,\n",
      "      \"finetune\": 0\n",
      "    }\n",
      "  },\n",
      "  {\n",
      "    \"id\": \"Salesforce/Llama-Rank-V1\",\n",
      "    \"object\": \"model\",\n",
      "    \"created\": 1723745254,\n",
      "    \"type\": \"rerank\",\n",
      "    \"running\": false,\n",
      "    \"display_name\": \"Salesforce Llama Rank V1 (8B)\",\n",
      "    \"organization\": \"salesforce\",\n",
      "    \"license\": \"llama3\",\n",
      "    \"context_length\": 8192,\n",
      "    \"config\": {\n",
      "      \"chat_template\": \"{% set loop_messages = messages %}{% for message in loop_messages %}{% set content = '<|start_header_id|>' + message['role'] + '<|end_header_id|>\\n\\n'+ message['content'] | trim + '<|eot_id|>' %}{% if loop.index0 == 0 %}{% set content = bos_token + content %}{% endif %}{{ content }}{% endfor %}{% if add_generation_prompt %}{{ '<|start_header_id|>assistant<|end_header_id|>\\n\\nAfter carefully reading the query, document, and guidelines, I have determined that the relevance score is: ' }}{% endif %}\",\n",
      "      \"stop\": [\n",
      "        \"<|eot_id|>\"\n",
      "      ],\n",
      "      \"bos_token\": \"<|begin_of_text|>\",\n",
      "      \"eos_token\": \"<|eot_id|>\"\n",
      "    },\n",
      "    \"pricing\": {\n",
      "      \"hourly\": 0,\n",
      "      \"input\": 0.1,\n",
      "      \"output\": 0.1,\n",
      "      \"base\": 0,\n",
      "      \"finetune\": 0\n",
      "    }\n",
      "  },\n",
      "  {\n",
      "    \"id\": \"meta-llama/Llama-2-13b-chat-hf\",\n",
      "    \"object\": \"model\",\n",
      "    \"created\": 1689720415,\n",
      "    \"type\": \"chat\",\n",
      "    \"running\": false,\n",
      "    \"display_name\": \"LLaMA-2 Chat (13B)\",\n",
      "    \"organization\": \"Meta\",\n",
      "    \"link\": \"https://huggingface.co/meta-llama/Llama-2-13b-chat-hf\",\n",
      "    \"license\": \"LLaMA license Agreement (Meta)\",\n",
      "    \"context_length\": 4096,\n",
      "    \"config\": {\n",
      "      \"chat_template\": \"{% if messages[0]['role'] == 'system' %}{% set loop_messages = messages[1:] %}{% set system_message = messages[0]['content'] %}{% else %}{% set loop_messages = messages %}{% set system_message = false %}{% endif %}{% for message in loop_messages %}{% if loop.index0 == 0 and system_message != false %}{% set content = '<<SYS>>\\\\n' + system_message + '\\\\n<</SYS>>\\\\n\\\\n' + message['content'] %}{% else %}{% set content = message['content'] %}{% endif %}{% if message['role'] == 'user' or message['role'] == 'tool' %}{{ bos_token + '[INST] ' + content + ' [/INST]' }}{% elif message['role'] == 'system' %}{{ '<<SYS>>\\\\n' + content + '\\\\n<</SYS>>\\\\n\\\\n' }}{% elif message['role'] == 'assistant' %}{{ ' '  + content + ' ' + eos_token }}{% endif %}{% endfor %}\",\n",
      "      \"stop\": [\n",
      "        \"[/INST]\",\n",
      "        \"</s>\"\n",
      "      ],\n",
      "      \"bos_token\": \"<s>\",\n",
      "      \"eos_token\": \"</s>\"\n",
      "    },\n",
      "    \"pricing\": {\n",
      "      \"hourly\": 0,\n",
      "      \"input\": 0.22,\n",
      "      \"output\": 0.22,\n",
      "      \"base\": 0,\n",
      "      \"finetune\": 0\n",
      "    }\n",
      "  },\n",
      "  {\n",
      "    \"id\": \"black-forest-labs/FLUX.1-schnell-Free\",\n",
      "    \"object\": \"model\",\n",
      "    \"created\": 0,\n",
      "    \"type\": \"image\",\n",
      "    \"running\": false,\n",
      "    \"display_name\": \"FLUX.1 [schnell] Free\",\n",
      "    \"organization\": \"Black Forest Labs\",\n",
      "    \"link\": \"https://huggingface.co/black-forest-labs/FLUX.1-schnell\",\n",
      "    \"config\": {\n",
      "      \"chat_template\": null,\n",
      "      \"stop\": [],\n",
      "      \"bos_token\": null,\n",
      "      \"eos_token\": null\n",
      "    },\n",
      "    \"pricing\": {\n",
      "      \"hourly\": 0,\n",
      "      \"input\": 0,\n",
      "      \"output\": 0,\n",
      "      \"base\": 0,\n",
      "      \"finetune\": 0\n",
      "    }\n",
      "  },\n",
      "  {\n",
      "    \"id\": \"black-forest-labs/FLUX.1.1-pro\",\n",
      "    \"object\": \"model\",\n",
      "    \"created\": 0,\n",
      "    \"type\": \"image\",\n",
      "    \"running\": false,\n",
      "    \"display_name\": \"FLUX1.1 [pro]\",\n",
      "    \"organization\": \"Black Forest Labs\",\n",
      "    \"link\": \"https://huggingface.co/black-forest-labs/FLUX.1-schnell\",\n",
      "    \"config\": {\n",
      "      \"chat_template\": null,\n",
      "      \"stop\": [],\n",
      "      \"bos_token\": null,\n",
      "      \"eos_token\": null\n",
      "    },\n",
      "    \"pricing\": {\n",
      "      \"hourly\": 0,\n",
      "      \"input\": 0,\n",
      "      \"output\": 0,\n",
      "      \"base\": 0,\n",
      "      \"finetune\": 0\n",
      "    }\n",
      "  },\n",
      "  {\n",
      "    \"id\": \"black-forest-labs/FLUX.1-dev\",\n",
      "    \"object\": \"model\",\n",
      "    \"created\": 1732138026,\n",
      "    \"type\": \"image\",\n",
      "    \"running\": false,\n",
      "    \"display_name\": \"FLUX.1 [dev]\",\n",
      "    \"organization\": \"Black Forest Labs\",\n",
      "    \"link\": \"https://huggingface.co/black-forest-labs/FLUX.1-dev\",\n",
      "    \"config\": {\n",
      "      \"chat_template\": null,\n",
      "      \"stop\": [],\n",
      "      \"bos_token\": null,\n",
      "      \"eos_token\": null\n",
      "    },\n",
      "    \"pricing\": {\n",
      "      \"hourly\": 0,\n",
      "      \"input\": 0,\n",
      "      \"output\": 0,\n",
      "      \"base\": 0,\n",
      "      \"finetune\": 0\n",
      "    }\n",
      "  },\n",
      "  {\n",
      "    \"id\": \"meta-llama/Meta-Llama-3-8B-Instruct-Turbo\",\n",
      "    \"object\": \"model\",\n",
      "    \"created\": 0,\n",
      "    \"type\": \"chat\",\n",
      "    \"running\": false,\n",
      "    \"display_name\": \"Meta Llama 3 8B Instruct Turbo\",\n",
      "    \"organization\": \"Meta\",\n",
      "    \"link\": \"https://huggingface.co/meta-llama/Meta-Llama-3-8B-Instruct\",\n",
      "    \"license\": \"Llama-3 (Other)\",\n",
      "    \"context_length\": 8192,\n",
      "    \"config\": {\n",
      "      \"chat_template\": \"{% set loop_messages = messages %}{% for message in loop_messages %}{% set content = '<|start_header_id|>' + message['role'] + '<|end_header_id|>\\n\\n'+ message['content'] | trim + '<|eot_id|>' %}{% if loop.index0 == 0 %}{% set content = bos_token + content %}{% endif %}{{ content }}{% endfor %}{{ '<|start_header_id|>assistant<|end_header_id|>\\n\\n' }}\",\n",
      "      \"stop\": [\n",
      "        \"<|eot_id|>\"\n",
      "      ],\n",
      "      \"bos_token\": \"<|begin_of_text|>\",\n",
      "      \"eos_token\": \"<|end_of_text|>\"\n",
      "    },\n",
      "    \"pricing\": {\n",
      "      \"hourly\": 0,\n",
      "      \"input\": 0.18000000000000002,\n",
      "      \"output\": 0.18000000000000002,\n",
      "      \"base\": 0,\n",
      "      \"finetune\": 0\n",
      "    }\n",
      "  },\n",
      "  {\n",
      "    \"id\": \"meta-llama/Llama-Guard-3-11B-Vision-Turbo\",\n",
      "    \"object\": \"model\",\n",
      "    \"created\": 1727242489,\n",
      "    \"type\": \"moderation\",\n",
      "    \"running\": false,\n",
      "    \"display_name\": \"Meta Llama Guard 3 11B Vision Turbo\",\n",
      "    \"organization\": \"Meta\",\n",
      "    \"link\": \"https://huggingface.co/meta-llama/Llama-Guard-3-11B-Vision\",\n",
      "    \"license\": \"llama\",\n",
      "    \"context_length\": 131072,\n",
      "    \"config\": {\n",
      "      \"chat_template\": \"{%- if messages|length % 2 == 0 -%}\\n    {%- set role = 'Agent' -%}\\n{%-  else -%}\\n    {%-  set role = 'User' -%}\\n{%-  endif -%}\\n{%-  if categories is not defined -%}\\n    {%-  \\n        set categories = ({\\n            \\\"S1\\\": \\\"Violent Crimes.\\\",\\n            \\\"S2\\\": \\\"Non-Violent Crimes.\\\",\\n            \\\"S3\\\": \\\"Sex Crimes.\\\",\\n            \\\"S4\\\": \\\"Child Exploitation.\\\",\\n            \\\"S5\\\": \\\"Defamation.\\\",\\n            \\\"S6\\\": \\\"Specialized Advice.\\\",\\n            \\\"S7\\\": \\\"Privacy.\\\",\\n            \\\"S8\\\": \\\"Intellectual Property.\\\",\\n            \\\"S9\\\": \\\"Indiscriminate Weapons.\\\",\\n            \\\"S10\\\": \\\"Hate.\\\",\\n            \\\"S11\\\": \\\"Self-Harm.\\\",\\n            \\\"S12\\\": \\\"Sexual Content.\\\",\\n            \\\"S13\\\": \\\"Elections.\\\",\\n        })\\n    -%}\\n{%-  endif -%}\\n\\n{{- \\\"<|begin_of_text|><|start_header_id|>user<|end_header_id|>\\\\n\\\\n\\\" -}}\\n{%- set ns = namespace(contains_image=false) -%}\\n{%-  for message in messages -%}\\n    {%- for content in message['content'] | selectattr('type', 'equalto', 'image') -%}\\n        {%- set ns.contains_image = true -%}\\n    {%- endfor -%}\\n{%- endfor -%}\\n{%- if ns.contains_image -%}\\n{{- \\\"<|image|> \\\"-}}\\n{%- endif -%}\\n{{- \\\"Task: Check if there is unsafe content in '\\\" + role + \\\"' messages in conversations according our safety policy with the below categories.\\\\n\\\\n\\\" -}}\\n{{- \\\"<BEGIN UNSAFE CONTENT CATEGORIES>\\\\n\\\"-}}\\n\\n{%-  for key in categories -%}\\n    {%-  if key not in excluded_category_keys -%}\\n        {{-key + \\\": \\\" + categories[key] + \\\"\\\\n\\\" -}}\\n    {%-  endif -%}\\n{%-  endfor -%}\\n\\n{{- \\\"<END UNSAFE CONTENT CATEGORIES>\\\\n\\\\n\\\"-}}\\n{{- \\\"<BEGIN CONVERSATION>\\\\n\\\\n\\\"-}}\\n{%-  for message in messages -%}\\n    {%-  if (message['role'] == 'user') != (loop.index0 % 2 == 0) -%}\\n        {{ raise_exception('Conversation roles must alternate user/assistant/user/assistant/...')-}}\\n    {%-  endif -%}\\n    {%-  set content = message['content'] -%}\\n    {%-  if message['role'] == 'user' -%}\\n        {%-  set role = 'User' -%}\\n    {%-  elif message['role'] == 'assistant' -%}\\n        {%-  set role = 'Agent' -%}\\n    {%-  endif -%}\\n    {%-  for content in message['content'] | selectattr('type', 'equalto', 'text') -%}\\n{{- role + ': ' + content['text'] | trim + '\\\\n\\\\n'-}}\\n    {%-  endfor -%}\\n{%-  endfor -%}\\n{{- \\\"<END CONVERSATION>\\\\n\\\\n\\\"-}}\\n{{- \\\"Provide your safety assessment for ONLY THE LAST \\\" + role + \\\" message in the above conversation:\\\\n\\\"-}}\\n{{- \\\" - First line must read 'safe' or 'unsafe'.\\\\n\\\"-}}\\n{{- \\\" - If unsafe, a second line must include a comma-separated list of violated categories. <|eot_id|><|start_header_id|>assistant<|end_header_id|>\\\"-}}\",\n",
      "      \"stop\": [\n",
      "        \"<|eot_id|>\",\n",
      "        \"<|eom_id|>\"\n",
      "      ],\n",
      "      \"bos_token\": \"<|begin_of_text|>\",\n",
      "      \"eos_token\": \"<|eot_id|>\"\n",
      "    },\n",
      "    \"pricing\": {\n",
      "      \"hourly\": 0,\n",
      "      \"input\": 0.18000000000000002,\n",
      "      \"output\": 0.18000000000000002,\n",
      "      \"base\": 0,\n",
      "      \"finetune\": 0\n",
      "    }\n",
      "  },\n",
      "  {\n",
      "    \"id\": \"black-forest-labs/FLUX.1-schnell\",\n",
      "    \"object\": \"model\",\n",
      "    \"created\": 0,\n",
      "    \"type\": \"image\",\n",
      "    \"running\": false,\n",
      "    \"display_name\": \"FLUX.1 Schnell\",\n",
      "    \"organization\": \"Black Forest Labs\",\n",
      "    \"link\": \"https://huggingface.co/black-forest-labs/FLUX.1-schnell\",\n",
      "    \"config\": {\n",
      "      \"chat_template\": null,\n",
      "      \"stop\": [],\n",
      "      \"bos_token\": null,\n",
      "      \"eos_token\": null\n",
      "    },\n",
      "    \"pricing\": {\n",
      "      \"hourly\": 0,\n",
      "      \"input\": 0,\n",
      "      \"output\": 0,\n",
      "      \"base\": 0,\n",
      "      \"finetune\": 0\n",
      "    }\n",
      "  },\n",
      "  {\n",
      "    \"id\": \"meta-llama/Llama-3-70b-chat-hf\",\n",
      "    \"object\": \"model\",\n",
      "    \"created\": 1713429236,\n",
      "    \"type\": \"chat\",\n",
      "    \"running\": false,\n",
      "    \"display_name\": \"Meta Llama 3 70B Instruct Reference\",\n",
      "    \"organization\": \"Meta\",\n",
      "    \"link\": \"https://huggingface.co/meta-llama/Meta-Llama-3-70B-Instruct\",\n",
      "    \"license\": \"Llama-3 (Other)\",\n",
      "    \"context_length\": 8192,\n",
      "    \"config\": {\n",
      "      \"chat_template\": \"{% set loop_messages = messages %}{% for message in loop_messages %}{% set content = '<|start_header_id|>' + message['role'] + '<|end_header_id|>\\n\\n'+ message['content'] | trim + '<|eot_id|>' %}{% if loop.index0 == 0 %}{% set content = bos_token + content %}{% endif %}{{ content }}{% endfor %}{{ '<|start_header_id|>assistant<|end_header_id|>\\n\\n' }}\",\n",
      "      \"stop\": [\n",
      "        \"<|eot_id|>\"\n",
      "      ],\n",
      "      \"bos_token\": \"<|begin_of_text|>\",\n",
      "      \"eos_token\": \"<|end_of_text|>\"\n",
      "    },\n",
      "    \"pricing\": {\n",
      "      \"hourly\": 0,\n",
      "      \"input\": 0.88,\n",
      "      \"output\": 0.88,\n",
      "      \"base\": 0,\n",
      "      \"finetune\": 0\n",
      "    }\n",
      "  },\n",
      "  {\n",
      "    \"id\": \"mistralai/Mistral-7B-Instruct-v0.3\",\n",
      "    \"object\": \"model\",\n",
      "    \"created\": 1716406261,\n",
      "    \"type\": \"chat\",\n",
      "    \"running\": false,\n",
      "    \"display_name\": \"Mistral (7B) Instruct v0.3\",\n",
      "    \"organization\": \"mistralai\",\n",
      "    \"link\": \"https://huggingface.co/api/models/mistralai/Mistral-7B-Instruct-v0.3\",\n",
      "    \"license\": \"apache-2.0\",\n",
      "    \"context_length\": 32768,\n",
      "    \"config\": {\n",
      "      \"chat_template\": \"{% if messages[0]['role'] == 'system' %}{% set loop_messages = messages[1:] %}{% set system_message = messages[0]['content'] %}{% else %}{% set loop_messages = messages %}{% set system_message = false %}{% endif %}{% for message in loop_messages %}{% if loop.index0 == 0 and system_message != false %}{% set content = '<<SYS>>\\\\n' + system_message + '\\\\n<</SYS>>\\\\n\\\\n' + message['content'] %}{% else %}{% set content = message['content'] %}{% endif %}{% if message['role'] == 'user' or message['role'] == 'tool' %}{{ bos_token + '[INST] ' + content + ' [/INST]' }}{% elif message['role'] == 'system' %}{{ '<<SYS>>\\\\n' + content + '\\\\n<</SYS>>\\\\n\\\\n' }}{% elif message['role'] == 'assistant' %}{{ ' '  + content + ' ' + eos_token }}{% endif %}{% endfor %}\",\n",
      "      \"stop\": [\n",
      "        \"</s>\"\n",
      "      ],\n",
      "      \"bos_token\": \"<s>\",\n",
      "      \"eos_token\": \"</s>\"\n",
      "    },\n",
      "    \"pricing\": {\n",
      "      \"hourly\": 0,\n",
      "      \"input\": 0.2,\n",
      "      \"output\": 0.2,\n",
      "      \"base\": 0,\n",
      "      \"finetune\": 0\n",
      "    }\n",
      "  },\n",
      "  {\n",
      "    \"id\": \"meta-llama-llama-2-70b-hf\",\n",
      "    \"object\": \"model\",\n",
      "    \"created\": 1736983494,\n",
      "    \"type\": \"language\",\n",
      "    \"running\": false,\n",
      "    \"display_name\": \"LLaMA-2 (70B)\",\n",
      "    \"link\": \"https://huggingface.co/api/models/meta-llama/Llama-2-70b-hf\",\n",
      "    \"license\": \"llama2\",\n",
      "    \"context_length\": 4096,\n",
      "    \"config\": {\n",
      "      \"chat_template\": null,\n",
      "      \"stop\": [\n",
      "        \"</s>\"\n",
      "      ],\n",
      "      \"bos_token\": \"<s>\",\n",
      "      \"eos_token\": \"</s>\"\n",
      "    },\n",
      "    \"pricing\": {\n",
      "      \"hourly\": 0,\n",
      "      \"input\": 0.9,\n",
      "      \"output\": 0.9,\n",
      "      \"base\": 0,\n",
      "      \"finetune\": 0\n",
      "    }\n",
      "  },\n",
      "  {\n",
      "    \"id\": \"microsoft/WizardLM-2-8x22B\",\n",
      "    \"object\": \"model\",\n",
      "    \"created\": 1713206398,\n",
      "    \"type\": \"chat\",\n",
      "    \"running\": false,\n",
      "    \"display_name\": \"WizardLM-2 (8x22B)\",\n",
      "    \"organization\": \"microsoft\",\n",
      "    \"link\": \"https://huggingface.co/microsoft/WizardLM-2-8x22B\",\n",
      "    \"license\": \"apache-2.0\",\n",
      "    \"context_length\": 65536,\n",
      "    \"config\": {\n",
      "      \"chat_template\": \"{% for message in messages %}{{message['role'].toLocaleUpperCase() + ': ' + message['content'] + '\\n'}}{% endfor %}{{ 'ASSISTANT: ' }}\",\n",
      "      \"stop\": [\n",
      "        \"</s>\"\n",
      "      ],\n",
      "      \"bos_token\": \"<s>\",\n",
      "      \"eos_token\": \"</s>\"\n",
      "    },\n",
      "    \"pricing\": {\n",
      "      \"hourly\": 0,\n",
      "      \"input\": 1.2,\n",
      "      \"output\": 1.2,\n",
      "      \"base\": 0,\n",
      "      \"finetune\": 0\n",
      "    }\n",
      "  },\n",
      "  {\n",
      "    \"id\": \"BAAI/bge-base-en-v1.5\",\n",
      "    \"object\": \"model\",\n",
      "    \"created\": 1700837779,\n",
      "    \"type\": \"embedding\",\n",
      "    \"running\": false,\n",
      "    \"display_name\": \"BAAI-Bge-Base-1.5\",\n",
      "    \"organization\": \"BAAI\",\n",
      "    \"link\": \"https://huggingface.co/api/models/BAAI/bge-base-en-v1.5\",\n",
      "    \"license\": \"MIT\",\n",
      "    \"context_length\": 512,\n",
      "    \"config\": {\n",
      "      \"chat_template\": null,\n",
      "      \"stop\": [],\n",
      "      \"bos_token\": \"[PAD]\",\n",
      "      \"eos_token\": null\n",
      "    },\n",
      "    \"pricing\": {\n",
      "      \"hourly\": 0,\n",
      "      \"input\": 0.008,\n",
      "      \"output\": 0.008,\n",
      "      \"base\": 0,\n",
      "      \"finetune\": 0\n",
      "    }\n",
      "  },\n",
      "  {\n",
      "    \"id\": \"stabilityai/stable-diffusion-xl-base-1.0\",\n",
      "    \"object\": \"model\",\n",
      "    \"created\": 1690929420,\n",
      "    \"type\": \"image\",\n",
      "    \"running\": false,\n",
      "    \"display_name\": \"Stable Diffusion XL 1.0\",\n",
      "    \"organization\": \"Stability AI\",\n",
      "    \"link\": \"https://huggingface.co/stabilityai/stable-diffusion-xl-base-1.0\",\n",
      "    \"license\": \"openrail++\",\n",
      "    \"config\": {\n",
      "      \"chat_template\": null,\n",
      "      \"stop\": [],\n",
      "      \"bos_token\": null,\n",
      "      \"eos_token\": null\n",
      "    },\n",
      "    \"pricing\": {\n",
      "      \"hourly\": 0,\n",
      "      \"input\": 0,\n",
      "      \"output\": 0,\n",
      "      \"base\": 0,\n",
      "      \"finetune\": 0\n",
      "    }\n",
      "  },\n",
      "  {\n",
      "    \"id\": \"Gryphe/MythoMax-L2-13b\",\n",
      "    \"object\": \"model\",\n",
      "    \"created\": 1693943905,\n",
      "    \"type\": \"chat\",\n",
      "    \"running\": false,\n",
      "    \"display_name\": \"MythoMax-L2 (13B)\",\n",
      "    \"organization\": \"Gryphe\",\n",
      "    \"license\": \"other\",\n",
      "    \"context_length\": 4096,\n",
      "    \"config\": {\n",
      "      \"chat_template\": \"{% for message in messages %}{% if message['role'] == 'user' %}{{ '### Instruction:\\n' + message['content'] + '\\n' }}{% else %}{{ '### Response:\\n' + message['content'] + '\\n' }}{% endif %}{% endfor %}{{ '### Response:' }}\",\n",
      "      \"stop\": [\n",
      "        \"</s>\"\n",
      "      ],\n",
      "      \"bos_token\": null,\n",
      "      \"eos_token\": null\n",
      "    },\n",
      "    \"pricing\": {\n",
      "      \"hourly\": 0,\n",
      "      \"input\": 0.3,\n",
      "      \"output\": 0.3,\n",
      "      \"base\": 0,\n",
      "      \"finetune\": 0\n",
      "    }\n",
      "  },\n",
      "  {\n",
      "    \"id\": \"meta-llama/Meta-Llama-3.1-405B-Instruct-Turbo\",\n",
      "    \"object\": \"model\",\n",
      "    \"created\": 1721698359,\n",
      "    \"type\": \"chat\",\n",
      "    \"running\": false,\n",
      "    \"display_name\": \"Meta Llama 3.1 405B Instruct Turbo\",\n",
      "    \"organization\": \"Meta\",\n",
      "    \"link\": \"https://huggingface.co/meta-llama/Meta-Llama-3.1-405B-Instruct\",\n",
      "    \"license\": \"llama\",\n",
      "    \"context_length\": 130815,\n",
      "    \"config\": {\n",
      "      \"chat_template\": \"{{- bos_token }}\\n{%- if custom_tools is defined %}\\n    {%- set tools = custom_tools %}\\n{%- endif %}\\n{%- if not tools_in_user_message is defined %}\\n    {%- set tools_in_user_message = true %}\\n{%- endif %}\\n{%- if not date_string is defined %}\\n    {%- set date_string = \\\"26 Jul 2024\\\" %}\\n{%- endif %}\\n\\n{#- This block extracts the system message, so we can slot it into the right place. #}\\n{%- if messages[0]['role'] == 'system' %}\\n    {%- set system_message = messages[0]['content']|trim %}\\n    {%- set messages = messages[1:] %}\\n{%- else %}\\n    {%- set system_message = \\\"\\\" %}\\n{%- endif %}\\n\\n{#- System message + builtin tools #}\\n{{- \\\"<|start_header_id|>system<|end_header_id|>\\n\\n\\\" }}\\n{%- if builtin_tools is defined or tools %}\\n    {{- \\\"Environment: ipython\\n\\\" }}\\n{%- endif %}\\n{%- if builtin_tools is defined %}\\n    {{- \\\"Tools: \\\" + builtin_tools | reject('equalto', 'code_interpreter') | join(\\\", \\\") + \\\"\\n\\n\\\"}}\\n{%- endif %}\\n{{- \\\"Cutting Knowledge Date: December 2023\\n\\\" }}\\n{{- \\\"Today Date: \\\" + date_string + \\\"\\n\\n\\\" }}\\n{%- if tools %}\\n    {{- \\\"You have access to the following functions:\\n\\n\\\" }}{%- for t in tools %}\\n        {{- \\\"Use the function '\\\" + t.function.name + \\\"' to '\\\" + t.function.description + \\\"'\\n\\\" }}\\n        {{- t.function | dump(4) }}\\n        {{- \\\"\\n\\n\\\" }}\\n    {%- endfor %}\\n{% raw %}If a you choose to call a function ONLY reply in the following format:\\n<{start_tag}={function_name}>{parameters}{end_tag}\\nwhere\\n\\nstart_tag => `<function`\\nparameters => a JSON dict with the function argument name as key and function argument value as value.\\nend_tag => `</function>`\\n\\nHere is an example,\\n<function=example_function_name>{\\\"example_name\\\": \\\"example_value\\\"}</function>\\n\\nReminder:\\n- Function calls MUST follow the specified format\\n- Required parameters MUST be specified\\n- Only call one function at a time\\n- Put the entire function call reply on one line\\n- Always add your sources when using search results to answer the user query\\n\\n{% endraw %}{%- endif %}\\n{{- system_message }}\\n{{- \\\"<|eot_id|>\\\" }}\\n\\n{%- for message in messages %}\\n    {%- if not (message.role == 'ipython' or message.role == 'tool' or 'tool_calls' in message) %}\\n        {{- '<|start_header_id|>' + message['role'] + '<|end_header_id|>\\n\\n'+ message['content'] | trim + '<|eot_id|>' }}\\n    {%- elif 'tool_calls' in message and message.tool_calls %}\\n        {%- if not message.tool_calls|length == 1 %}\\n            {{- raise_exception(\\\"This model only supports single tool-calls at once!\\\") }}\\n        {%- endif %}\\n        {%- set tool_call = message.tool_calls[0].function %}\\n        {%- if builtin_tools is defined and tool_call.name in builtin_tools %}\\n            {{- '<|start_header_id|>assistant<|end_header_id|>\\n\\n' -}}\\n            {{- \\\"<|python_tag|>\\\" + tool_call.name + \\\".call(\\\" }}\\n            {%- for arg_name, arg_val in tool_call.arguments | items %}\\n                {{- arg_name + '=\\\"' + arg_val + '\\\"' }}\\n                {%- if not loop.last %}\\n                    {{- \\\", \\\" }}\\n                {%- endif %}\\n                {%- endfor %}\\n            {{- \\\")\\\" }}\\n        {%- else  %}\\n            {{- '<|start_header_id|>assistant<|end_header_id|>\\n\\n' -}}\\n            {{- '{\\\"name\\\": \\\"' + tool_call.name + '\\\", ' }}\\n            {{- '\\\"parameters\\\": ' }}\\n            {{- tool_call.arguments | dump }}\\n            {{- \\\"}\\\" }}\\n        {%- endif %}\\n        {%- if builtin_tools is defined %}\\n            {#- This means we're in ipython mode #}\\n            {{- \\\"<|eom_id|>\\\" }}\\n        {%- else %}\\n            {{- \\\"<|eot_id|>\\\" }}\\n        {%- endif %}\\n    {%- elif message.role == \\\"tool\\\" or message.role == \\\"ipython\\\" %}\\n        {{- \\\"<|start_header_id|>ipython<|end_header_id|>\\n\\n\\\" }}\\n        {%- if message.content is mapping or message.content is iterable %}\\n            {{- message.content | dump }}\\n        {%- else %}\\n            {{- message.content }}\\n        {%- endif %}\\n        {{- \\\"<|eot_id|>\\\" }}\\n    {%- endif %}\\n{%- endfor %}\\n{%- if add_generation_prompt %}\\n    {{- '<|start_header_id|>assistant<|end_header_id|>\\n\\n' }}{%- endif %}\",\n",
      "      \"stop\": [\n",
      "        \"<|eot_id|>\",\n",
      "        \"<|eom_id|>\"\n",
      "      ],\n",
      "      \"bos_token\": \"<|begin_of_text|>\",\n",
      "      \"eos_token\": \"<|eot_id|>\"\n",
      "    },\n",
      "    \"pricing\": {\n",
      "      \"hourly\": 0,\n",
      "      \"input\": 3.5,\n",
      "      \"output\": 3.5,\n",
      "      \"base\": 0,\n",
      "      \"finetune\": 0\n",
      "    }\n",
      "  },\n",
      "  {\n",
      "    \"id\": \"meta-llama/Meta-Llama-3.1-8B-Instruct-Turbo-classifier\",\n",
      "    \"object\": \"model\",\n",
      "    \"created\": 1740432204,\n",
      "    \"type\": \"chat\",\n",
      "    \"running\": false,\n",
      "    \"display_name\": \"Meta Llama 3.1 8B Instruct Turbo\",\n",
      "    \"organization\": \"Meta\",\n",
      "    \"link\": \"https://huggingface.co/meta-llama/Meta-Llama-3.1-8B-Instruct\",\n",
      "    \"license\": \"Llama-3.1 (Other)\",\n",
      "    \"context_length\": 131072,\n",
      "    \"config\": {\n",
      "      \"chat_template\": \"{{- bos_token }}\\n{%- if custom_tools is defined %}\\n    {%- set tools = custom_tools %}\\n{%- endif %}\\n{%- if not tools_in_user_message is defined %}\\n    {%- set tools_in_user_message = true %}\\n{%- endif %}\\n{%- if not date_string is defined %}\\n    {%- set date_string = \\\"26 Jul 2024\\\" %}\\n{%- endif %}\\n\\n{#- This block extracts the system message, so we can slot it into the right place. #}\\n{%- if messages[0]['role'] == 'system' %}\\n    {%- set system_message = messages[0]['content']|trim %}\\n    {%- set messages = messages[1:] %}\\n{%- else %}\\n    {%- set system_message = \\\"\\\" %}\\n{%- endif %}\\n\\n{#- System message + builtin tools #}\\n{{- \\\"<|start_header_id|>system<|end_header_id|>\\n\\n\\\" }}\\n{%- if builtin_tools is defined or tools %}\\n    {{- \\\"Environment: ipython\\n\\\" }}\\n{%- endif %}\\n{%- if builtin_tools is defined %}\\n    {{- \\\"Tools: \\\" + builtin_tools | reject('equalto', 'code_interpreter') | join(\\\", \\\") + \\\"\\n\\n\\\"}}\\n{%- endif %}\\n{{- \\\"Cutting Knowledge Date: December 2023\\n\\\" }}\\n{{- \\\"Today Date: \\\" + date_string + \\\"\\n\\n\\\" }}\\n{%- if tools %}\\n    {{- \\\"You have access to the following functions:\\n\\n\\\" }}{%- for t in tools %}\\n        {{- \\\"Use the function '\\\" + t.function.name + \\\"' to '\\\" + t.function.description + \\\"'\\n\\\" }}\\n        {{- t.function | dump(4) }}\\n        {{- \\\"\\n\\n\\\" }}\\n    {%- endfor %}\\n{% raw %}If a you choose to call a function ONLY reply in the following format:\\n<{start_tag}={function_name}>{parameters}{end_tag}\\nwhere\\n\\nstart_tag => `<function`\\nparameters => a JSON dict with the function argument name as key and function argument value as value.\\nend_tag => `</function>`\\n\\nHere is an example,\\n<function=example_function_name>{\\\"example_name\\\": \\\"example_value\\\"}</function>\\n\\nReminder:\\n- Function calls MUST follow the specified format\\n- Required parameters MUST be specified\\n- Only call one function at a time\\n- Put the entire function call reply on one line\\n- Always add your sources when using search results to answer the user query\\n\\n{% endraw %}{%- endif %}\\n{{- system_message }}\\n{{- \\\"<|eot_id|>\\\" }}\\n\\n{%- for message in messages %}\\n    {%- if not (message.role == 'ipython' or message.role == 'tool' or 'tool_calls' in message) %}\\n        {{- '<|start_header_id|>' + message['role'] + '<|end_header_id|>\\n\\n'+ message['content'] | trim + '<|eot_id|>' }}\\n    {%- elif 'tool_calls' in message %}\\n        {%- if not message.tool_calls|length == 1 %}\\n            {{- raise_exception(\\\"This model only supports single tool-calls at once!\\\") }}\\n        {%- endif %}\\n        {%- set tool_call = message.tool_calls[0].function %}\\n        {%- if builtin_tools is defined and tool_call.name in builtin_tools %}\\n            {{- '<|start_header_id|>assistant<|end_header_id|>\\n\\n' -}}\\n            {{- \\\"<|python_tag|>\\\" + tool_call.name + \\\".call(\\\" }}\\n            {%- for arg_name, arg_val in tool_call.arguments | items %}\\n                {{- arg_name + '=\\\"' + arg_val + '\\\"' }}\\n                {%- if not loop.last %}\\n                    {{- \\\", \\\" }}\\n                {%- endif %}\\n                {%- endfor %}\\n            {{- \\\")\\\" }}\\n        {%- else  %}\\n            {{- '<|start_header_id|>assistant<|end_header_id|>\\n\\n' -}}\\n            {{- '{\\\"name\\\": \\\"' + tool_call.name + '\\\", ' }}\\n            {{- '\\\"parameters\\\": ' }}\\n            {{- tool_call.arguments | dump }}\\n            {{- \\\"}\\\" }}\\n        {%- endif %}\\n        {%- if builtin_tools is defined %}\\n            {#- This means we're in ipython mode #}\\n            {{- \\\"<|eom_id|>\\\" }}\\n        {%- else %}\\n            {{- \\\"<|eot_id|>\\\" }}\\n        {%- endif %}\\n    {%- elif message.role == \\\"tool\\\" or message.role == \\\"ipython\\\" %}\\n        {{- \\\"<|start_header_id|>ipython<|end_header_id|>\\n\\n\\\" }}\\n        {%- if message.content is mapping or message.content is iterable %}\\n            {{- message.content | dump }}\\n        {%- else %}\\n            {{- message.content }}\\n        {%- endif %}\\n        {{- \\\"<|eot_id|>\\\" }}\\n    {%- endif %}\\n{%- endfor %}\\n{%- if add_generation_prompt %}\\n    {{- '<|start_header_id|>assistant<|end_header_id|>\\n\\n' }}{%- endif %}\",\n",
      "      \"stop\": [\n",
      "        \"<|eot_id|>\",\n",
      "        \"<|eom_id|>\"\n",
      "      ],\n",
      "      \"bos_token\": \"<|begin_of_text|>\",\n",
      "      \"eos_token\": \"<|eot_id|>\"\n",
      "    },\n",
      "    \"pricing\": {\n",
      "      \"hourly\": 0,\n",
      "      \"input\": 0.18000000000000002,\n",
      "      \"output\": 0.18000000000000002,\n",
      "      \"base\": 0,\n",
      "      \"finetune\": 0\n",
      "    }\n",
      "  },\n",
      "  {\n",
      "    \"id\": \"meta-llama/Llama-2-70b-hf\",\n",
      "    \"object\": \"model\",\n",
      "    \"created\": 1689720415,\n",
      "    \"type\": \"language\",\n",
      "    \"running\": false,\n",
      "    \"display_name\": \"LLaMA-2 (70B)\",\n",
      "    \"organization\": \"Meta\",\n",
      "    \"link\": \"https://huggingface.co/api/models/meta-llama/Llama-2-70b-hf\",\n",
      "    \"license\": \"llama2\",\n",
      "    \"context_length\": 4096,\n",
      "    \"config\": {\n",
      "      \"chat_template\": null,\n",
      "      \"stop\": [\n",
      "        \"</s>\"\n",
      "      ],\n",
      "      \"bos_token\": \"<s>\",\n",
      "      \"eos_token\": \"</s>\"\n",
      "    },\n",
      "    \"pricing\": {\n",
      "      \"hourly\": 0,\n",
      "      \"input\": 0.9,\n",
      "      \"output\": 0.9,\n",
      "      \"base\": 0,\n",
      "      \"finetune\": 0\n",
      "    }\n",
      "  },\n",
      "  {\n",
      "    \"id\": \"nvidia/Llama-3.1-Nemotron-70B-Instruct-HF\",\n",
      "    \"object\": \"model\",\n",
      "    \"created\": 1731110984,\n",
      "    \"type\": \"chat\",\n",
      "    \"running\": false,\n",
      "    \"display_name\": \"Llama 3.1 Nemotron 70B Instruct HF\",\n",
      "    \"organization\": \"nvidia\",\n",
      "    \"link\": \"https://huggingface.co/nvidia/Llama-3.1-Nemotron-70B-Instruct-HF\",\n",
      "    \"license\": \"llama3.1\",\n",
      "    \"context_length\": 32768,\n",
      "    \"config\": {\n",
      "      \"chat_template\": \"{{- bos_token }}\\n{%- if custom_tools is defined %}\\n    {%- set tools = custom_tools %}\\n{%- endif %}\\n{%- if not tools_in_user_message is defined %}\\n    {%- set tools_in_user_message = true %}\\n{%- endif %}\\n{%- if not date_string is defined %}\\n    {%- set date_string = \\\"26 Jul 2024\\\" %}\\n{%- endif %}\\n{%- if not tools is defined %}\\n    {%- set tools = none %}\\n{%- endif %}\\n\\n{#- This block extracts the system message, so we can slot it into the right place. #}\\n{%- if messages[0]['role'] == 'system' %}\\n    {%- set system_message = messages[0]['content']|trim %}\\n    {%- set messages = messages[1:] %}\\n{%- else %}\\n    {%- set system_message = \\\"\\\" %}\\n{%- endif %}\\n\\n{#- System message + builtin tools #}\\n{{- \\\"<|start_header_id|>system<|end_header_id|>\\\\n\\\\n\\\" }}\\n{%- if builtin_tools is defined or tools is not none %}\\n    {{- \\\"Environment: ipython\\\\n\\\" }}\\n{%- endif %}\\n{%- if builtin_tools is defined %}\\n    {{- \\\"Tools: \\\" + builtin_tools | reject('equalto', 'code_interpreter') | join(\\\", \\\") + \\\"\\\\n\\\\n\\\"}}\\n{%- endif %}\\n\\n{%- if tools is not none and not tools_in_user_message %}\\n    {{- \\\"You have access to the following functions. To call a function, please respond with JSON for a function call.\\\" }}\\n    {{- 'Respond in the format {\\\"name\\\": function name, \\\"parameters\\\": dictionary of argument name and its value}.' }}\\n    {{- \\\"Do not use variables.\\\\n\\\\n\\\" }}\\n    {%- for t in tools %}\\n        {{- t | tojson(indent=4) }}\\n        {{- \\\"\\\\n\\\\n\\\" }}\\n    {%- endfor %}\\n{%- endif %}\\n{{- system_message }}\\n{{- \\\"<|eot_id|>\\\" }}\\n\\n{#- Custom tools are passed in a user message with some extra guidance #}\\n{%- if tools_in_user_message and not tools is none %}\\n    {#- Extract the first user message so we can plug it in here #}\\n    {%- if messages | length != 0 %}\\n        {%- set first_user_message = messages[0]['content']|trim %}\\n        {%- set messages = messages[1:] %}\\n    {%- else %}\\n        {{- raise_exception(\\\"Cannot put tools in the first user message when there's no first user message!\\\") }}\\n{%- endif %}\\n    {{- '<|start_header_id|>user<|end_header_id|>\\\\n\\\\n' -}}\\n    {{- \\\"Given the following functions, please respond with a JSON for a function call \\\" }}\\n    {{- \\\"with its proper arguments that best answers the given prompt.\\\\n\\\\n\\\" }}\\n    {{- 'Respond in the format {\\\"name\\\": function name, \\\"parameters\\\": dictionary of argument name and its value}.' }}\\n    {{- \\\"Do not use variables.\\\\n\\\\n\\\" }}\\n    {%- for t in tools %}\\n        {{- t | tojson(indent=4) }}\\n        {{- \\\"\\\\n\\\\n\\\" }}\\n    {%- endfor %}\\n    {{- first_user_message + \\\"<|eot_id|>\\\"}}\\n{%- endif %}\\n\\n{%- for message in messages %}\\n    {%- if not (message.role == 'ipython' or message.role == 'tool' or 'tool_calls' in message) %}\\n        {{- '<|start_header_id|>' + message['role'] + '<|end_header_id|>\\\\n\\\\n'+ message['content'] | trim + '<|eot_id|>' }}\\n    {%- elif 'tool_calls' in message %}\\n        {%- if not message.tool_calls|length == 1 %}\\n            {{- raise_exception(\\\"This model only supports single tool-calls at once!\\\") }}\\n        {%- endif %}\\n        {%- set tool_call = message.tool_calls[0].function %}\\n        {%- if builtin_tools is defined and tool_call.name in builtin_tools %}\\n            {{- '<|start_header_id|>assistant<|end_header_id|>\\\\n\\\\n' -}}\\n            {{- \\\"<|python_tag|>\\\" + tool_call.name + \\\".call(\\\" }}\\n            {%- for arg_name, arg_val in tool_call.arguments | items %}\\n                {{- arg_name + '=\\\"' + arg_val + '\\\"' }}\\n                {%- if not loop.last %}\\n                    {{- \\\", \\\" }}\\n                {%- endif %}\\n                {%- endfor %}\\n            {{- \\\")\\\" }}\\n        {%- else  %}\\n            {{- '<|start_header_id|>assistant<|end_header_id|>\\\\n\\\\n' -}}\\n            {{- '{\\\"name\\\": \\\"' + tool_call.name + '\\\", ' }}\\n            {{- '\\\"parameters\\\": ' }}\\n            {{- tool_call.arguments | tojson }}\\n            {{- \\\"}\\\" }}\\n        {%- endif %}\\n        {%- if builtin_tools is defined %}\\n            {#- This means we're in ipython mode #}\\n            {{- \\\"<|eom_id|>\\\" }}\\n        {%- else %}\\n            {{- \\\"<|eot_id|>\\\" }}\\n        {%- endif %}\\n    {%- elif message.role == \\\"tool\\\" or message.role == \\\"ipython\\\" %}\\n        {{- \\\"<|start_header_id|>ipython<|end_header_id|>\\\\n\\\\n\\\" }}\\n        {%- if message.content is mapping or message.content is iterable %}\\n            {{- message.content | tojson }}\\n        {%- else %}\\n            {{- message.content }}\\n        {%- endif %}\\n        {{- \\\"<|eot_id|>\\\" }}\\n    {%- endif %}\\n{%- endfor %}\\n{%- if add_generation_prompt %}\\n    {{- '<|start_header_id|>assistant<|end_header_id|>\\\\n\\\\n' }}\\n{%- endif %}\\n\",\n",
      "      \"stop\": [\n",
      "        \"<|eot_id|>\",\n",
      "        \"<|eom_id|>\"\n",
      "      ],\n",
      "      \"bos_token\": \"<|begin_of_text|>\",\n",
      "      \"eos_token\": \"<|eot_id|>\"\n",
      "    },\n",
      "    \"pricing\": {\n",
      "      \"hourly\": 0,\n",
      "      \"input\": 0.88,\n",
      "      \"output\": 0.88,\n",
      "      \"base\": 0,\n",
      "      \"finetune\": 0\n",
      "    }\n",
      "  },\n",
      "  {\n",
      "    \"id\": \"meta-llama/Llama-Vision-Free\",\n",
      "    \"object\": \"model\",\n",
      "    \"created\": 1727236346,\n",
      "    \"type\": \"chat\",\n",
      "    \"running\": false,\n",
      "    \"display_name\": \"Meta Llama Vision Free\",\n",
      "    \"organization\": \"Meta\",\n",
      "    \"link\": \"https://huggingface.co/meta-llama/Llama-3.2-11B-Vision-Instruct\",\n",
      "    \"license\": \"llama\",\n",
      "    \"context_length\": 131072,\n",
      "    \"config\": {\n",
      "      \"chat_template\": \"{% for message in messages %}\\n{% if loop.index0 == 0 %}{{ bos_token }}{% endif %}\\n{{ '<|start_header_id|>' + message['role'] + '<|end_header_id|>\\\\n\\\\n' }}\\n{% if message['content'] is string %}\\n{{ message['content'] }}\\n{% else %}\\n{% for content in message['content'] | sort(attribute=\\\"type\\\") %}\\n{% if content['type'] == 'image' %}\\n{{ '<|image|>' }}\\n{% elif content['type'] == 'text' %}\\n{{ content['text'] }}\\n{% endif %}\\n{% endfor %}\\n{% endif %}\\n{{ '<|eot_id|>' }}\\n{% endfor %}\\n{% if add_generation_prompt %}\\n{{ '<|start_header_id|>assistant<|end_header_id|>\\\\n\\\\n' }}\\n{% endif %}\",\n",
      "      \"stop\": [\n",
      "        \"<|eot_id|>\",\n",
      "        \"<|eom_id|>\"\n",
      "      ],\n",
      "      \"bos_token\": \"<|begin_of_text|>\",\n",
      "      \"eos_token\": \"<|eot_id|>\"\n",
      "    },\n",
      "    \"pricing\": {\n",
      "      \"hourly\": 0,\n",
      "      \"input\": 0,\n",
      "      \"output\": 0,\n",
      "      \"base\": 0,\n",
      "      \"finetune\": 0\n",
      "    }\n",
      "  },\n",
      "  {\n",
      "    \"id\": \"meta-llama/Meta-Llama-3.1-8B-Instruct-Turbo\",\n",
      "    \"object\": \"model\",\n",
      "    \"created\": 1741298134,\n",
      "    \"type\": \"chat\",\n",
      "    \"running\": false,\n",
      "    \"display_name\": \"Meta Llama 3.1 8B Instruct Turbo\",\n",
      "    \"organization\": \"Meta\",\n",
      "    \"link\": \"https://huggingface.co/meta-llama/Meta-Llama-3.1-8B-Instruct\",\n",
      "    \"license\": \"Llama-3.1 (Other)\",\n",
      "    \"context_length\": 131072,\n",
      "    \"config\": {\n",
      "      \"chat_template\": \"{{- bos_token }}\\n{%- if custom_tools is defined %}\\n    {%- set tools = custom_tools %}\\n{%- endif %}\\n{%- if not tools_in_user_message is defined %}\\n    {%- set tools_in_user_message = true %}\\n{%- endif %}\\n{%- if not date_string is defined %}\\n    {%- set date_string = \\\"26 Jul 2024\\\" %}\\n{%- endif %}\\n\\n{#- This block extracts the system message, so we can slot it into the right place. #}\\n{%- if messages[0]['role'] == 'system' %}\\n    {%- set system_message = messages[0]['content']|trim %}\\n    {%- set messages = messages[1:] %}\\n{%- else %}\\n    {%- set system_message = \\\"\\\" %}\\n{%- endif %}\\n\\n{#- System message + builtin tools #}\\n{{- \\\"<|start_header_id|>system<|end_header_id|>\\n\\n\\\" }}\\n{%- if builtin_tools is defined or tools %}\\n    {{- \\\"Environment: ipython\\n\\\" }}\\n{%- endif %}\\n{%- if builtin_tools is defined %}\\n    {{- \\\"Tools: \\\" + builtin_tools | reject('equalto', 'code_interpreter') | join(\\\", \\\") + \\\"\\n\\n\\\"}}\\n{%- endif %}\\n{{- \\\"Cutting Knowledge Date: December 2023\\n\\\" }}\\n{{- \\\"Today Date: \\\" + date_string + \\\"\\n\\n\\\" }}\\n{%- if tools %}\\n    {{- \\\"You have access to the following functions:\\n\\n\\\" }}{%- for t in tools %}\\n        {{- \\\"Use the function '\\\" + t.function.name + \\\"' to '\\\" + t.function.description + \\\"'\\n\\\" }}\\n        {{- t.function | dump(4) }}\\n        {{- \\\"\\n\\n\\\" }}\\n    {%- endfor %}\\n{% raw %}If a you choose to call a function ONLY reply in the following format:\\n<{start_tag}={function_name}>{parameters}{end_tag}\\nwhere\\n\\nstart_tag => `<function`\\nparameters => a JSON dict with the function argument name as key and function argument value as value.\\nend_tag => `</function>`\\n\\nHere is an example,\\n<function=example_function_name>{\\\"example_name\\\": \\\"example_value\\\"}</function>\\n\\nReminder:\\n- Function calls MUST follow the specified format\\n- Required parameters MUST be specified\\n- Only call one function at a time\\n- Put the entire function call reply on one line\\n- Always add your sources when using search results to answer the user query\\n\\n{% endraw %}{%- endif %}\\n{{- system_message }}\\n{{- \\\"<|eot_id|>\\\" }}\\n\\n{%- for message in messages %}\\n    {%- if not (message.role == 'ipython' or message.role == 'tool' or 'tool_calls' in message) %}\\n        {{- '<|start_header_id|>' + message['role'] + '<|end_header_id|>\\n\\n'+ message['content'] | trim + '<|eot_id|>' }}\\n    {%- elif 'tool_calls' in message %}\\n        {%- if not message.tool_calls|length == 1 %}\\n            {{- raise_exception(\\\"This model only supports single tool-calls at once!\\\") }}\\n        {%- endif %}\\n        {%- set tool_call = message.tool_calls[0].function %}\\n        {%- if builtin_tools is defined and tool_call.name in builtin_tools %}\\n            {{- '<|start_header_id|>assistant<|end_header_id|>\\n\\n' -}}\\n            {{- \\\"<|python_tag|>\\\" + tool_call.name + \\\".call(\\\" }}\\n            {%- for arg_name, arg_val in tool_call.arguments | items %}\\n                {{- arg_name + '=\\\"' + arg_val + '\\\"' }}\\n                {%- if not loop.last %}\\n                    {{- \\\", \\\" }}\\n                {%- endif %}\\n                {%- endfor %}\\n            {{- \\\")\\\" }}\\n        {%- else  %}\\n            {{- '<|start_header_id|>assistant<|end_header_id|>\\n\\n' -}}\\n            {{- '{\\\"name\\\": \\\"' + tool_call.name + '\\\", ' }}\\n            {{- '\\\"parameters\\\": ' }}\\n            {{- tool_call.arguments | dump }}\\n            {{- \\\"}\\\" }}\\n        {%- endif %}\\n        {%- if builtin_tools is defined %}\\n            {#- This means we're in ipython mode #}\\n            {{- \\\"<|eom_id|>\\\" }}\\n        {%- else %}\\n            {{- \\\"<|eot_id|>\\\" }}\\n        {%- endif %}\\n    {%- elif message.role == \\\"tool\\\" or message.role == \\\"ipython\\\" %}\\n        {{- \\\"<|start_header_id|>ipython<|end_header_id|>\\n\\n\\\" }}\\n        {%- if message.content is mapping or message.content is iterable %}\\n            {{- message.content | dump }}\\n        {%- else %}\\n            {{- message.content }}\\n        {%- endif %}\\n        {{- \\\"<|eot_id|>\\\" }}\\n    {%- endif %}\\n{%- endfor %}\\n{%- if add_generation_prompt %}\\n    {{- '<|start_header_id|>assistant<|end_header_id|>\\n\\n' }}{%- endif %}\",\n",
      "      \"stop\": [\n",
      "        \"<|eot_id|>\",\n",
      "        \"<|eom_id|>\"\n",
      "      ],\n",
      "      \"bos_token\": \"<|begin_of_text|>\",\n",
      "      \"eos_token\": \"<|eot_id|>\"\n",
      "    },\n",
      "    \"pricing\": {\n",
      "      \"hourly\": 0,\n",
      "      \"input\": 0.18000000000000002,\n",
      "      \"output\": 0.18000000000000002,\n",
      "      \"base\": 0,\n",
      "      \"finetune\": 0\n",
      "    }\n",
      "  },\n",
      "  {\n",
      "    \"id\": \"mistralai/Mixtral-8x22B-Instruct-v0.1\",\n",
      "    \"object\": \"model\",\n",
      "    \"created\": 1713374615,\n",
      "    \"type\": \"chat\",\n",
      "    \"running\": false,\n",
      "    \"display_name\": \"Mixtral-8x22B Instruct v0.1\",\n",
      "    \"organization\": \"mistralai\",\n",
      "    \"link\": \"https://huggingface.co/mistralai/Mixtral-8x22B-Instruct-v0.1\",\n",
      "    \"license\": \"apache-2.0\",\n",
      "    \"context_length\": 65536,\n",
      "    \"config\": {\n",
      "      \"chat_template\": \"{{bos_token}}{% if messages[0]['role'] == 'system' %}{% set loop_messages = messages[1:] %}{% set system_message = messages[0]['content'] %}{% else %}{% set loop_messages = messages %}{% set system_message = false %}{% endif %}{% for message in loop_messages %}{% if loop.index0 == 0 and system_message != false %}{% set content = '<<SYS>>\\n' + system_message + '\\n<</SYS>>\\n\\n' + message['content'] %}{% else %}{% set content = message['content'] %}{% endif %}{% if message['role'] == 'user' %}{{ ' [INST] ' + content + ' [/INST]' }}{% elif message['role'] == 'system' %}{{ '<<SYS>>\\n' + content + '\\n<</SYS>>\\n\\n' }}{% elif message['role'] == 'assistant' %}{{ ' '  + content + ' ' + eos_token }}{% endif %}{% endfor %}\",\n",
      "      \"stop\": [\n",
      "        \"</s>\",\n",
      "        \"[/INST]\"\n",
      "      ],\n",
      "      \"bos_token\": \"<s>\",\n",
      "      \"eos_token\": \"</s>\"\n",
      "    },\n",
      "    \"pricing\": {\n",
      "      \"hourly\": 0,\n",
      "      \"input\": 1.2,\n",
      "      \"output\": 1.2,\n",
      "      \"base\": 0,\n",
      "      \"finetune\": 0\n",
      "    }\n",
      "  },\n",
      "  {\n",
      "    \"id\": \"NousResearch/Nous-Hermes-2-Mixtral-8x7B-DPO\",\n",
      "    \"object\": \"model\",\n",
      "    \"created\": 1705292440,\n",
      "    \"type\": \"chat\",\n",
      "    \"running\": false,\n",
      "    \"display_name\": \"Nous Hermes 2 - Mixtral 8x7B-DPO \",\n",
      "    \"organization\": \"NousResearch\",\n",
      "    \"link\": \"https://huggingface.co/NousResearch/Nous-Hermes-2-Mixtral-8x7B-DPO\",\n",
      "    \"license\": \"apache-2.0\",\n",
      "    \"context_length\": 32768,\n",
      "    \"config\": {\n",
      "      \"chat_template\": \"{% for message in messages %}{{'<|im_start|>' + message['role'] + '\\n' + message['content'] + '<|im_end|>' + '\\n'}}{% endfor %}{% if add_generation_prompt %}{{ '<|im_start|>assistant\\n' }}{% endif %}\",\n",
      "      \"stop\": [\n",
      "        \"<|im_end|>\",\n",
      "        \"<|im_start|>\"\n",
      "      ],\n",
      "      \"bos_token\": null,\n",
      "      \"eos_token\": null\n",
      "    },\n",
      "    \"pricing\": {\n",
      "      \"hourly\": 0,\n",
      "      \"input\": 0.6,\n",
      "      \"output\": 0.6,\n",
      "      \"base\": 0,\n",
      "      \"finetune\": 0\n",
      "    }\n",
      "  },\n",
      "  {\n",
      "    \"id\": \"meta-llama/LlamaGuard-2-8b\",\n",
      "    \"object\": \"model\",\n",
      "    \"created\": 1713429380,\n",
      "    \"type\": \"moderation\",\n",
      "    \"running\": false,\n",
      "    \"display_name\": \"Meta Llama Guard 2 8B\",\n",
      "    \"organization\": \"Meta\",\n",
      "    \"link\": null,\n",
      "    \"license\": \"Llama-3 (Other)\",\n",
      "    \"context_length\": 8192,\n",
      "    \"config\": {\n",
      "      \"chat_template\": \"{% if messages.length % 2 == 0 %}{% set final_role = 'Agent' %}{% else %}{% set final_role = 'User' %}{% endif %}[INST] Task: Check if there is unsafe content in '{{ final_role }}' messages in conversations according our safety policy with the below categories.\\n\\n<BEGIN UNSAFE CONTENT CATEGORIES>\\nS1: Violent Crimes.\\nS2: Non-Violent Crimes.\\nS3: Sex Crimes.\\nS4: Child Exploitation.\\nS5: Specialized Advice.\\nS6: Privacy.\\nS7: Intellectual Property.\\nS8: Indiscriminate Weapons.\\nS9: Hate.\\nS10: Self-Harm.\\nS11: Sexual Content.\\n<END UNSAFE CONTENT CATEGORIES>\\n\\n<BEGIN CONVERSATION>\\n\\n{% for message in messages %}{% if message['role'] == 'user' and loop.index0 % 2 == 0 %}User: {{ message['content'].trim() }}{% elif message['role'] == 'assistant' and loop.index0 % 2 != 0 %}Agent: {{ message['content'].trim() }}{% else %}{{ raise_exception('Conversation roles must alternate user/assistant/user/assistant/...') }}{% endif %}{% if loop.last %}{% set role = message['role'] %}{% endif %}{{ '\\n\\n' }}{% endfor %}<END CONVERSATION>\\n\\nProvide your safety assessment for ONLY THE LAST {{ role }} message in the above conversation:\\n - First line must read 'safe' or 'unsafe'.\\n - If unsafe, a second line must include a comma-separated list of violated categories. [/INST]\",\n",
      "      \"stop\": [],\n",
      "      \"bos_token\": null,\n",
      "      \"eos_token\": null\n",
      "    },\n",
      "    \"pricing\": {\n",
      "      \"hourly\": 0,\n",
      "      \"input\": 0.2,\n",
      "      \"output\": 0.2,\n",
      "      \"base\": 0,\n",
      "      \"finetune\": 0\n",
      "    }\n",
      "  },\n",
      "  {\n",
      "    \"id\": \"cartesia/sonic-2\",\n",
      "    \"object\": \"model\",\n",
      "    \"created\": 0,\n",
      "    \"type\": \"audio\",\n",
      "    \"running\": false,\n",
      "    \"display_name\": \"Cartesia/Sonic-2\",\n",
      "    \"organization\": \"Together\",\n",
      "    \"link\": \"https://www.cartesia.ai\",\n",
      "    \"context_length\": 0,\n",
      "    \"config\": {\n",
      "      \"chat_template\": null,\n",
      "      \"stop\": [],\n",
      "      \"bos_token\": null,\n",
      "      \"eos_token\": null\n",
      "    },\n",
      "    \"pricing\": {\n",
      "      \"hourly\": 0,\n",
      "      \"input\": 65,\n",
      "      \"output\": 0,\n",
      "      \"base\": 0,\n",
      "      \"finetune\": 0\n",
      "    }\n",
      "  },\n",
      "  {\n",
      "    \"id\": \"togethercomputer/m2-bert-80M-8k-retrieval\",\n",
      "    \"object\": \"model\",\n",
      "    \"created\": 1699120644,\n",
      "    \"type\": \"embedding\",\n",
      "    \"running\": false,\n",
      "    \"display_name\": \"M2-BERT-Retrieval-8k\",\n",
      "    \"organization\": \"Together\",\n",
      "    \"link\": \"https://huggingface.co/togethercomputer/m2-bert-80M-8k-retrieval\",\n",
      "    \"license\": \"apache-2.0\",\n",
      "    \"context_length\": 8192,\n",
      "    \"config\": {\n",
      "      \"chat_template\": null,\n",
      "      \"stop\": [],\n",
      "      \"bos_token\": null,\n",
      "      \"eos_token\": null\n",
      "    },\n",
      "    \"pricing\": {\n",
      "      \"hourly\": 0,\n",
      "      \"input\": 0.008,\n",
      "      \"output\": 0.008,\n",
      "      \"base\": 0,\n",
      "      \"finetune\": 0\n",
      "    }\n",
      "  },\n",
      "  {\n",
      "    \"id\": \"mistralai/Mixtral-8x7B-Instruct-v0.1\",\n",
      "    \"object\": \"model\",\n",
      "    \"created\": 1702342468,\n",
      "    \"type\": \"chat\",\n",
      "    \"running\": false,\n",
      "    \"display_name\": \"Mixtral-8x7B Instruct v0.1\",\n",
      "    \"organization\": \"mistralai\",\n",
      "    \"link\": \"https://huggingface.co/mistralai/Mixtral-8x7B-Instruct-v0.1\",\n",
      "    \"license\": \"apache-2.0\",\n",
      "    \"context_length\": 32768,\n",
      "    \"config\": {\n",
      "      \"chat_template\": \"{% if messages[0]['role'] == 'system' %}{% set loop_messages = messages[1:] %}{% set system_message = messages[0]['content'] %}{% else %}{% set loop_messages = messages %}{% set system_message = false %}{% endif %}{% for message in loop_messages %}{% if loop.index0 == 0 and system_message != false %}{% set content = '<<SYS>>\\\\n' + system_message + '\\\\n<</SYS>>\\\\n\\\\n' + message['content'] %}{% else %}{% set content = message['content'] %}{% endif %}{% if message['role'] == 'user' or message['role'] == 'tool' %}{{ bos_token + '[INST] ' + content + ' [/INST]' }}{% elif message['role'] == 'system' %}{{ '<<SYS>>\\\\n' + content + '\\\\n<</SYS>>\\\\n\\\\n' }}{% elif message['role'] == 'assistant' %}{{ ' '  + content + ' ' + eos_token }}{% endif %}{% endfor %}\",\n",
      "      \"stop\": [\n",
      "        \"[/INST]\",\n",
      "        \"</s>\"\n",
      "      ],\n",
      "      \"bos_token\": \"<s>\",\n",
      "      \"eos_token\": \"</s>\"\n",
      "    },\n",
      "    \"pricing\": {\n",
      "      \"hourly\": 0,\n",
      "      \"input\": 0.6,\n",
      "      \"output\": 0.6,\n",
      "      \"base\": 0,\n",
      "      \"finetune\": 0\n",
      "    }\n",
      "  },\n",
      "  {\n",
      "    \"id\": \"upstage/SOLAR-10.7B-Instruct-v1.0\",\n",
      "    \"object\": \"model\",\n",
      "    \"created\": 1702851922,\n",
      "    \"type\": \"chat\",\n",
      "    \"running\": false,\n",
      "    \"display_name\": \"Upstage SOLAR Instruct v1 (11B)\",\n",
      "    \"organization\": \"upstage\",\n",
      "    \"license\": \"cc-by-nc-4.0\",\n",
      "    \"context_length\": 4096,\n",
      "    \"config\": {\n",
      "      \"chat_template\": \"{% for message in messages %}{% if message['role'] == 'system' %}{% if message['content']%}{{'### System:\\n' + message['content']+'\\n\\n'}}{% endif %}{% elif message['role'] == 'user' %}{{'### User:\\n' + message['content']+'\\n\\n'}}{% elif message['role'] == 'assistant' %}{{'### Assistant:\\n'  + message['content']}}{% endif %}{% if loop.last and add_generation_prompt %}{{ '### Assistant:\\n' }}{% endif %}{% endfor %}\",\n",
      "      \"stop\": [\n",
      "        \"</s>\",\n",
      "        \"###\"\n",
      "      ],\n",
      "      \"bos_token\": null,\n",
      "      \"eos_token\": null\n",
      "    },\n",
      "    \"pricing\": {\n",
      "      \"hourly\": 0,\n",
      "      \"input\": 0.3,\n",
      "      \"output\": 0.3,\n",
      "      \"base\": 0,\n",
      "      \"finetune\": 0\n",
      "    }\n",
      "  },\n",
      "  {\n",
      "    \"id\": \"togethercomputer/MoA-1\",\n",
      "    \"object\": \"model\",\n",
      "    \"created\": 1733856970,\n",
      "    \"type\": \"chat\",\n",
      "    \"running\": false,\n",
      "    \"display_name\": \"Together AI MoA-1\",\n",
      "    \"organization\": \"Together AI\",\n",
      "    \"link\": \"https://github.com/togethercomputer/MoA\",\n",
      "    \"context_length\": 32768,\n",
      "    \"config\": {\n",
      "      \"chat_template\": null,\n",
      "      \"stop\": [],\n",
      "      \"bos_token\": null,\n",
      "      \"eos_token\": null\n",
      "    },\n",
      "    \"pricing\": {\n",
      "      \"hourly\": 0,\n",
      "      \"input\": 0,\n",
      "      \"output\": 0,\n",
      "      \"base\": 0,\n",
      "      \"finetune\": 0\n",
      "    }\n",
      "  },\n",
      "  {\n",
      "    \"id\": \"scb10x/scb10x-llama3-typhoon-v1-5x-4f316\",\n",
      "    \"object\": \"model\",\n",
      "    \"created\": 1729637626,\n",
      "    \"type\": \"chat\",\n",
      "    \"running\": false,\n",
      "    \"display_name\": \"Typhoon 1.5X 70B-awq\",\n",
      "    \"organization\": \"SCB10X\",\n",
      "    \"link\": \"https://huggingface.co/scb10x/llama-3-typhoon-v1.5x-70b-instruct-awq\",\n",
      "    \"license\": \"llama3\",\n",
      "    \"context_length\": 8192,\n",
      "    \"config\": {\n",
      "      \"chat_template\": \"{% set loop_messages = messages %}{% for message in loop_messages %}{% set content = '<|start_header_id|>' + message['role'] + '<|end_header_id|>\\n\\n'+ message['content'] | trim + '<|eot_id|>' %}{% if loop.index0 == 0 %}{% set content = bos_token + content %}{% endif %}{{ content }}{% endfor %}{% if add_generation_prompt %}{{ '<|start_header_id|>assistant<|end_header_id|>\\n\\n' }}{% endif %}\",\n",
      "      \"stop\": [\n",
      "        \"<|eot_id|>\"\n",
      "      ],\n",
      "      \"bos_token\": \"<|startoftext|>\",\n",
      "      \"eos_token\": \"<|end_of_text|>\"\n",
      "    },\n",
      "    \"pricing\": {\n",
      "      \"hourly\": 0,\n",
      "      \"input\": 0.88,\n",
      "      \"output\": 0.88,\n",
      "      \"base\": 0,\n",
      "      \"finetune\": 0\n",
      "    }\n",
      "  },\n",
      "  {\n",
      "    \"id\": \"mistralai/Mistral-7B-Instruct-v0.2\",\n",
      "    \"object\": \"model\",\n",
      "    \"created\": 1702325373,\n",
      "    \"type\": \"chat\",\n",
      "    \"running\": false,\n",
      "    \"display_name\": \"Mistral (7B) Instruct v0.2\",\n",
      "    \"organization\": \"mistralai\",\n",
      "    \"license\": \"apache-2.0\",\n",
      "    \"context_length\": 32768,\n",
      "    \"config\": {\n",
      "      \"chat_template\": \"{% if messages[0]['role'] == 'system' %}{% set loop_messages = messages[1:] %}{% set system_message = messages[0]['content'] %}{% else %}{% set loop_messages = messages %}{% set system_message = false %}{% endif %}{% for message in loop_messages %}{% if loop.index0 == 0 and system_message != false %}{% set content = '<<SYS>>\\\\n' + system_message + '\\\\n<</SYS>>\\\\n\\\\n' + message['content'] %}{% else %}{% set content = message['content'] %}{% endif %}{% if message['role'] == 'user' or message['role'] == 'tool' %}{{ bos_token + '[INST] ' + content + ' [/INST]' }}{% elif message['role'] == 'system' %}{{ '<<SYS>>\\\\n' + content + '\\\\n<</SYS>>\\\\n\\\\n' }}{% elif message['role'] == 'assistant' %}{{ ' '  + content + ' ' + eos_token }}{% endif %}{% endfor %}\",\n",
      "      \"stop\": [\n",
      "        \"[/INST]\",\n",
      "        \"</s>\"\n",
      "      ],\n",
      "      \"bos_token\": \"<s>\",\n",
      "      \"eos_token\": \"</s>\"\n",
      "    },\n",
      "    \"pricing\": {\n",
      "      \"hourly\": 0,\n",
      "      \"input\": 0.2,\n",
      "      \"output\": 0.2,\n",
      "      \"base\": 0,\n",
      "      \"finetune\": 0\n",
      "    }\n",
      "  },\n",
      "  {\n",
      "    \"id\": \"togethercomputer/m2-bert-80M-2k-retrieval\",\n",
      "    \"object\": \"model\",\n",
      "    \"created\": 1699985626,\n",
      "    \"type\": \"embedding\",\n",
      "    \"running\": false,\n",
      "    \"display_name\": \"M2-BERT-Retrieval-2K\",\n",
      "    \"organization\": \"Together\",\n",
      "    \"license\": \"Apache-2\",\n",
      "    \"config\": {\n",
      "      \"chat_template\": null,\n",
      "      \"stop\": [],\n",
      "      \"bos_token\": null,\n",
      "      \"eos_token\": null\n",
      "    },\n",
      "    \"pricing\": {\n",
      "      \"hourly\": 0,\n",
      "      \"input\": 0.008,\n",
      "      \"output\": 0.008,\n",
      "      \"base\": 0,\n",
      "      \"finetune\": 0\n",
      "    }\n",
      "  },\n",
      "  {\n",
      "    \"id\": \"google/gemma-2b-it\",\n",
      "    \"object\": \"model\",\n",
      "    \"created\": 1708648606,\n",
      "    \"type\": \"chat\",\n",
      "    \"running\": false,\n",
      "    \"display_name\": \"Gemma Instruct (2B)\",\n",
      "    \"organization\": \"Google\",\n",
      "    \"link\": \"https://huggingface.co/google/gemma-2b-it\",\n",
      "    \"license\": \"gemma-terms-of-use\",\n",
      "    \"context_length\": 8192,\n",
      "    \"config\": {\n",
      "      \"chat_template\": \"{{ bos_token }}{% if (message['role'] == 'assistant') %}{% set role = 'model' %}{% else %}{% set role = message['role'] %}{% endif %}{% for message in messages %}{{'<start_of_turn>' + role + '\\n' + message['content'] + '<end_of_turn>' + '\\n'}}{% endfor %}{% if add_generation_prompt %}{{ '<|im_start|>model\\n' }}{% endif %}\",\n",
      "      \"stop\": [\n",
      "        \"<eos>\",\n",
      "        \"<end_of_turn>\"\n",
      "      ],\n",
      "      \"bos_token\": \"<bos>\",\n",
      "      \"eos_token\": null\n",
      "    },\n",
      "    \"pricing\": {\n",
      "      \"hourly\": 0,\n",
      "      \"input\": 0.1,\n",
      "      \"output\": 0.1,\n",
      "      \"base\": 0,\n",
      "      \"finetune\": 0\n",
      "    }\n",
      "  },\n",
      "  {\n",
      "    \"id\": \"black-forest-labs/FLUX.1-pro\",\n",
      "    \"object\": \"model\",\n",
      "    \"created\": 0,\n",
      "    \"type\": \"image\",\n",
      "    \"running\": false,\n",
      "    \"display_name\": \"FLUX.1 [pro]\",\n",
      "    \"organization\": \"Black Forest Labs\",\n",
      "    \"link\": \"https://huggingface.co/black-forest-labs/FLUX.1-schnell\",\n",
      "    \"config\": {\n",
      "      \"chat_template\": null,\n",
      "      \"stop\": [],\n",
      "      \"bos_token\": null,\n",
      "      \"eos_token\": null\n",
      "    },\n",
      "    \"pricing\": {\n",
      "      \"hourly\": 0,\n",
      "      \"input\": 0,\n",
      "      \"output\": 0,\n",
      "      \"base\": 0,\n",
      "      \"finetune\": 0\n",
      "    }\n",
      "  },\n",
      "  {\n",
      "    \"id\": \"Qwen/Qwen2.5-VL-72B-Instruct\",\n",
      "    \"object\": \"model\",\n",
      "    \"created\": 1742408085,\n",
      "    \"type\": \"chat\",\n",
      "    \"running\": false,\n",
      "    \"display_name\": \"Qwen2.5-VL (72B) Instruct\",\n",
      "    \"organization\": \"Qwen\",\n",
      "    \"link\": \"https://huggingface.co/api/models/Qwen/Qwen2.5-VL-72B-Instruct\",\n",
      "    \"license\": \"tongyi-qianwen\",\n",
      "    \"context_length\": 32768,\n",
      "    \"config\": {\n",
      "      \"chat_template\": \"{% set image_count = namespace(value=0) %}{% set video_count = namespace(value=0) %}{% for message in messages %}{% if loop.first and message['role'] != 'system' %}<|im_start|>system\\nYou are a helpful assistant.<|im_end|>\\n{% endif %}<|im_start|>{{ message['role'] }}\\n{% if message['content'] is string %}{{ message['content'] }}<|im_end|>\\n{% else %}{% for content in message['content'] %}{% if content['type'] == 'image' or 'image' in content or 'image_url' in content %}{% set image_count.value = image_count.value + 1 %}{% if add_vision_id %}Picture {{ image_count.value }}: {% endif %}<|vision_start|><|image_pad|><|vision_end|>{% elif content['type'] == 'video' or 'video' in content %}{% set video_count.value = video_count.value + 1 %}{% if add_vision_id %}Video {{ video_count.value }}: {% endif %}<|vision_start|><|video_pad|><|vision_end|>{% elif 'text' in content %}{{ content['text'] }}{% endif %}{% endfor %}<|im_end|>\\n{% endif %}{% endfor %}{% if add_generation_prompt %}<|im_start|>assistant\\n{% endif %}\",\n",
      "      \"stop\": [\n",
      "        \"<|im_end|>\",\n",
      "        \"<|endoftext|>\"\n",
      "      ],\n",
      "      \"bos_token\": null,\n",
      "      \"eos_token\": \"<|im_end|>\"\n",
      "    },\n",
      "    \"pricing\": {\n",
      "      \"hourly\": 0,\n",
      "      \"input\": 1.95,\n",
      "      \"output\": 8,\n",
      "      \"base\": 0,\n",
      "      \"finetune\": 0\n",
      "    }\n",
      "  },\n",
      "  {\n",
      "    \"id\": \"meta-llama/Meta-Llama-3.1-70B-Instruct-Turbo\",\n",
      "    \"object\": \"model\",\n",
      "    \"created\": 1721603683,\n",
      "    \"type\": \"chat\",\n",
      "    \"running\": false,\n",
      "    \"display_name\": \"Meta Llama 3.1 70B Instruct Turbo\",\n",
      "    \"organization\": \"Meta\",\n",
      "    \"link\": \"https://huggingface.co/meta-llama/Meta-Llama-3.1-70B-Instruct\",\n",
      "    \"license\": \"Llama-3.1 (Other)\",\n",
      "    \"context_length\": 131072,\n",
      "    \"config\": {\n",
      "      \"chat_template\": \"{{- bos_token }}\\n{%- if custom_tools is defined %}\\n    {%- set tools = custom_tools %}\\n{%- endif %}\\n{%- if not tools_in_user_message is defined %}\\n    {%- set tools_in_user_message = true %}\\n{%- endif %}\\n{%- if not date_string is defined %}\\n    {%- set date_string = \\\"26 Jul 2024\\\" %}\\n{%- endif %}\\n\\n{#- This block extracts the system message, so we can slot it into the right place. #}\\n{%- if messages[0]['role'] == 'system' %}\\n    {%- set system_message = messages[0]['content']|trim %}\\n    {%- set messages = messages[1:] %}\\n{%- else %}\\n    {%- set system_message = \\\"\\\" %}\\n{%- endif %}\\n\\n{#- System message + builtin tools #}\\n{{- \\\"<|start_header_id|>system<|end_header_id|>\\n\\n\\\" }}\\n{%- if builtin_tools is defined or tools %}\\n    {{- \\\"Environment: ipython\\n\\\" }}\\n{%- endif %}\\n{%- if builtin_tools is defined %}\\n    {{- \\\"Tools: \\\" + builtin_tools | reject('equalto', 'code_interpreter') | join(\\\", \\\") + \\\"\\n\\n\\\"}}\\n{%- endif %}\\n{{- \\\"Cutting Knowledge Date: December 2023\\n\\\" }}\\n{{- \\\"Today Date: \\\" + date_string + \\\"\\n\\n\\\" }}\\n{%- if tools %}\\n    {{- \\\"You have access to the following functions:\\n\\n\\\" }}{%- for t in tools %}\\n        {{- \\\"Use the function '\\\" + t.function.name + \\\"' to '\\\" + t.function.description + \\\"'\\n\\\" }}\\n        {{- t.function | dump(4) }}\\n        {{- \\\"\\n\\n\\\" }}\\n    {%- endfor %}\\n{% raw %}If a you choose to call a function ONLY reply in the following format:\\n<{start_tag}={function_name}>{parameters}{end_tag}\\nwhere\\n\\nstart_tag => `<function`\\nparameters => a JSON dict with the function argument name as key and function argument value as value.\\nend_tag => `</function>`\\n\\nHere is an example,\\n<function=example_function_name>{\\\"example_name\\\": \\\"example_value\\\"}</function>\\n\\nReminder:\\n- Function calls MUST follow the specified format\\n- Required parameters MUST be specified\\n- Only call one function at a time\\n- Put the entire function call reply on one line\\n- Always add your sources when using search results to answer the user query\\n\\n{% endraw %}{%- endif %}\\n{{- system_message }}\\n{{- \\\"<|eot_id|>\\\" }}\\n\\n{%- for message in messages %}\\n    {%- if not (message.role == 'ipython' or message.role == 'tool' or 'tool_calls' in message) %}\\n        {{- '<|start_header_id|>' + message['role'] + '<|end_header_id|>\\n\\n'+ message['content'] | trim + '<|eot_id|>' }}\\n    {%- elif 'tool_calls' in message %}\\n        {%- if not message.tool_calls|length == 1 %}\\n            {{- raise_exception(\\\"This model only supports single tool-calls at once!\\\") }}\\n        {%- endif %}\\n        {%- set tool_call = message.tool_calls[0].function %}\\n        {%- if builtin_tools is defined and tool_call.name in builtin_tools %}\\n            {{- '<|start_header_id|>assistant<|end_header_id|>\\n\\n' -}}\\n            {{- \\\"<|python_tag|>\\\" + tool_call.name + \\\".call(\\\" }}\\n            {%- for arg_name, arg_val in tool_call.arguments | items %}\\n                {{- arg_name + '=\\\"' + arg_val + '\\\"' }}\\n                {%- if not loop.last %}\\n                    {{- \\\", \\\" }}\\n                {%- endif %}\\n                {%- endfor %}\\n            {{- \\\")\\\" }}\\n        {%- else  %}\\n            {{- '<|start_header_id|>assistant<|end_header_id|>\\n\\n' -}}\\n            {{- '{\\\"name\\\": \\\"' + tool_call.name + '\\\", ' }}\\n            {{- '\\\"parameters\\\": ' }}\\n            {{- tool_call.arguments | dump }}\\n            {{- \\\"}\\\" }}\\n        {%- endif %}\\n        {%- if builtin_tools is defined %}\\n            {#- This means we're in ipython mode #}\\n            {{- \\\"<|eom_id|>\\\" }}\\n        {%- else %}\\n            {{- \\\"<|eot_id|>\\\" }}\\n        {%- endif %}\\n    {%- elif message.role == \\\"tool\\\" or message.role == \\\"ipython\\\" %}\\n        {{- \\\"<|start_header_id|>ipython<|end_header_id|>\\n\\n\\\" }}\\n        {%- if message.content is mapping or message.content is iterable %}\\n            {{- message.content | dump }}\\n        {%- else %}\\n            {{- message.content }}\\n        {%- endif %}\\n        {{- \\\"<|eot_id|>\\\" }}\\n    {%- endif %}\\n{%- endfor %}\\n{%- if add_generation_prompt %}\\n    {{- '<|start_header_id|>assistant<|end_header_id|>\\n\\n' }}{%- endif %}\",\n",
      "      \"stop\": [\n",
      "        \"<|eot_id|>\",\n",
      "        \"<|eom_id|>\"\n",
      "      ],\n",
      "      \"bos_token\": \"<|begin_of_text|>\",\n",
      "      \"eos_token\": \"<|eot_id|>\"\n",
      "    },\n",
      "    \"pricing\": {\n",
      "      \"hourly\": 0,\n",
      "      \"input\": 0.88,\n",
      "      \"output\": 0.88,\n",
      "      \"base\": 0,\n",
      "      \"finetune\": 0\n",
      "    }\n",
      "  },\n",
      "  {\n",
      "    \"id\": \"Gryphe/MythoMax-L2-13b-Lite\",\n",
      "    \"object\": \"model\",\n",
      "    \"created\": 1693943905,\n",
      "    \"type\": \"chat\",\n",
      "    \"running\": false,\n",
      "    \"display_name\": \"Gryphe MythoMax L2 Lite (13B)\",\n",
      "    \"organization\": \"Gryphe\",\n",
      "    \"license\": \"other\",\n",
      "    \"context_length\": 4096,\n",
      "    \"config\": {\n",
      "      \"chat_template\": \"{% for message in messages %}{% if message['role'] == 'user' %}{{ '### Instruction:\\n' + message['content'] + '\\n' }}{% else %}{{ '### Response:\\n' + message['content'] + '\\n' }}{% endif %}{% endfor %}{{ '### Response:' }}\",\n",
      "      \"stop\": [\n",
      "        \"</s>\"\n",
      "      ],\n",
      "      \"bos_token\": null,\n",
      "      \"eos_token\": null\n",
      "    },\n",
      "    \"pricing\": {\n",
      "      \"hourly\": 0,\n",
      "      \"input\": 0.1,\n",
      "      \"output\": 0.1,\n",
      "      \"base\": 0,\n",
      "      \"finetune\": 0\n",
      "    }\n",
      "  },\n",
      "  {\n",
      "    \"id\": \"meta-llama/Meta-Llama-3-8B-Instruct-Lite\",\n",
      "    \"object\": \"model\",\n",
      "    \"created\": 0,\n",
      "    \"type\": \"chat\",\n",
      "    \"running\": false,\n",
      "    \"display_name\": \"Meta Llama 3 8B Instruct Lite\",\n",
      "    \"organization\": \"Meta\",\n",
      "    \"link\": \"https://huggingface.co/meta-llama/Meta-Llama-3-8B-Instruct\",\n",
      "    \"license\": \"Llama-3 (Other)\",\n",
      "    \"context_length\": 8192,\n",
      "    \"config\": {\n",
      "      \"chat_template\": \"{% set loop_messages = messages %}{% for message in loop_messages %}{% set content = '<|start_header_id|>' + message['role'] + '<|end_header_id|>\\n\\n'+ message['content'] | trim + '<|eot_id|>' %}{% if loop.index0 == 0 %}{% set content = bos_token + content %}{% endif %}{{ content }}{% endfor %}{{ '<|start_header_id|>assistant<|end_header_id|>\\n\\n' }}\",\n",
      "      \"stop\": [\n",
      "        \"<|eot_id|>\"\n",
      "      ],\n",
      "      \"bos_token\": \"<|begin_of_text|>\",\n",
      "      \"eos_token\": \"<|end_of_text|>\",\n",
      "      \"max_output_length\": 8192\n",
      "    },\n",
      "    \"pricing\": {\n",
      "      \"hourly\": 0,\n",
      "      \"input\": 0.1,\n",
      "      \"output\": 0.1,\n",
      "      \"base\": 0,\n",
      "      \"finetune\": 0\n",
      "    }\n",
      "  },\n",
      "  {\n",
      "    \"id\": \"deepseek-ai/DeepSeek-R1\",\n",
      "    \"object\": \"model\",\n",
      "    \"created\": 1737396322,\n",
      "    \"type\": \"chat\",\n",
      "    \"running\": false,\n",
      "    \"display_name\": \"DeepSeek R1\",\n",
      "    \"organization\": \"DeepSeek\",\n",
      "    \"link\": \"https://huggingface.co/deepseek-ai/DeepSeek-R1\",\n",
      "    \"context_length\": 163840,\n",
      "    \"config\": {\n",
      "      \"chat_template\": \"{% if not add_generation_prompt is defined %}{% set add_generation_prompt = false %}{% endif %}{% set system_prompt='' %}{% set is_tool = false %}{%- for message in messages %}{%- if message['role'] == 'system' %}{% set system_prompt = message['content'] %}{%- endif %}{%- endfor %}{{bos_token}}{{system_prompt}}{%- for message in messages %}{%- if message['role'] == 'user' %}{%- set is_tool = false -%}{{'<\\uff5cUser\\uff5c>' + message['content']}}{%- endif %}{%- if message['role'] == 'assistant' and message['content'] is none %}{%- set is_tool = false -%}{%- set is_output_first = true -%}{%- set is_first = false -%}{%- for tool in message['tool_calls']%}{%- if is_first %}{{'<\\uff5cAssistant\\uff5c><\\uff5ctool\\u2581calls\\u2581begin\\uff5c><\\uff5ctool\\u2581call\\u2581begin\\uff5c>' + tool['type'] + '<\\uff5ctool\\u2581sep\\uff5c>' + tool['function']['name'] + '\\\\n' + '```json' + '\\\\n' + tool['function']['arguments'] + '\\\\n' + '```' + '<\\uff5ctool\\u2581call\\u2581end\\uff5c>'}}{%- set is_first = true -%}{%- else %}{{'\\\\n' + '<\\uff5ctool\\u2581call\\u2581begin\\uff5c>' + tool['type'] + '<\\uff5ctool\\u2581sep\\uff5c>' + tool['function']['name'] + '\\\\n' + '```json' + '\\\\n' + tool['function']['arguments'] + '\\\\n' + '```' + '<\\uff5ctool\\u2581call\\u2581end\\uff5c>'}}{{'<\\uff5ctool\\u2581calls\\u2581end\\uff5c><\\uff5cend\\u2581of\\u2581sentence\\uff5c>'}}{%- endif %}{%- endfor %}{%- endif %}{%- if message['role'] == 'assistant' and message['content'] is not none %}{%- if is_tool %}{{'<\\uff5ctool\\u2581outputs\\u2581end\\uff5c>' + message['content'] + '<\\uff5cend\\u2581of\\u2581sentence\\uff5c>'}}{%- set is_tool = false -%}{%- else %}{% set content = message['content'] %}{% if '</think>' in content %}{% set parts = content | split('</think>') %}{% set content = parts[parts.length-1] %}{% endif %}{{'<\\uff5cAssistant\\uff5c>' + content + '<\\uff5cend\\u2581of\\u2581sentence\\uff5c>'}}{%- endif %}{%- endif %}{%- if message['role'] == 'tool' %}{%- set is_tool = true -%}{%- if is_output_first %}{{'<\\uff5ctool\\u2581outputs\\u2581begin\\uff5c><\\uff5ctool\\u2581output\\u2581begin\\uff5c>' + message['content'] + '<\\uff5ctool\\u2581output\\u2581end\\uff5c>'}}{%- set is_output_first = false %}{%- else %}{{'\\\\n<\\uff5ctool\\u2581output\\u2581begin\\uff5c>' + message['content'] + '<\\uff5ctool\\u2581output\\u2581end\\uff5c>'}}{%- endif %}{%- endif %}{%- endfor -%}{% if is_tool %}{{'<\\uff5ctool\\u2581outputs\\u2581end\\uff5c>'}}{% endif %}{% if add_generation_prompt and not is_tool %}{{'<\\uff5cAssistant\\uff5c>'}}{% endif %}\",\n",
      "      \"stop\": [\n",
      "        \"<\\uff5cend\\u2581of\\u2581sentence\\uff5c>\"\n",
      "      ],\n",
      "      \"bos_token\": \"<\\uff5cbegin\\u2581of\\u2581sentence\\uff5c>\",\n",
      "      \"eos_token\": \"<\\uff5cend\\u2581of\\u2581sentence\\uff5c>\",\n",
      "      \"max_output_length\": 32768\n",
      "    },\n",
      "    \"pricing\": {\n",
      "      \"hourly\": 0,\n",
      "      \"input\": 3,\n",
      "      \"output\": 7,\n",
      "      \"base\": 0,\n",
      "      \"finetune\": 0\n",
      "    }\n",
      "  },\n",
      "  {\n",
      "    \"id\": \"black-forest-labs/FLUX.1-redux\",\n",
      "    \"object\": \"model\",\n",
      "    \"created\": 1732148338,\n",
      "    \"type\": \"image\",\n",
      "    \"running\": false,\n",
      "    \"display_name\": \"FLUX.1 Redux [dev]\",\n",
      "    \"organization\": \"Black Forest Labs\",\n",
      "    \"link\": \"https://huggingface.co/black-forest-labs/FLUX.1-Redux-dev\",\n",
      "    \"config\": {\n",
      "      \"chat_template\": null,\n",
      "      \"stop\": [],\n",
      "      \"bos_token\": null,\n",
      "      \"eos_token\": null\n",
      "    },\n",
      "    \"pricing\": {\n",
      "      \"hourly\": 0,\n",
      "      \"input\": 0,\n",
      "      \"output\": 0,\n",
      "      \"base\": 0,\n",
      "      \"finetune\": 0\n",
      "    }\n",
      "  },\n",
      "  {\n",
      "    \"id\": \"mistralai/Mixtral-8x7B-v0.1\",\n",
      "    \"object\": \"model\",\n",
      "    \"created\": 1702346512,\n",
      "    \"type\": \"language\",\n",
      "    \"running\": false,\n",
      "    \"display_name\": \"Mixtral-8x7B v0.1\",\n",
      "    \"organization\": \"mistralai\",\n",
      "    \"link\": \"https://huggingface.co/mistralai/Mixtral-8x7B-v0.1\",\n",
      "    \"license\": \"apache-2.0\",\n",
      "    \"context_length\": 32768,\n",
      "    \"config\": {\n",
      "      \"chat_template\": null,\n",
      "      \"stop\": [],\n",
      "      \"bos_token\": null,\n",
      "      \"eos_token\": null\n",
      "    },\n",
      "    \"pricing\": {\n",
      "      \"hourly\": 0,\n",
      "      \"input\": 0.6,\n",
      "      \"output\": 0.6,\n",
      "      \"base\": 0,\n",
      "      \"finetune\": 0\n",
      "    }\n",
      "  },\n",
      "  {\n",
      "    \"id\": \"meta-llama/Meta-Llama-Guard-3-8B\",\n",
      "    \"object\": \"model\",\n",
      "    \"created\": 1713429380,\n",
      "    \"type\": \"moderation\",\n",
      "    \"running\": false,\n",
      "    \"display_name\": \"Meta Llama Guard 3 8B\",\n",
      "    \"organization\": \"Meta\",\n",
      "    \"link\": null,\n",
      "    \"license\": \"llama\",\n",
      "    \"context_length\": 8192,\n",
      "    \"config\": {\n",
      "      \"chat_template\": \"{% if messages.length % 2 == 0 %}{% set final_role = 'Agent' %}{% else %}{% set final_role = 'User' %}{% endif %}<|begin_of_text|><|start_header_id|>user<|end_header_id|>\\n\\nTask: Check if there is unsafe content in '{{ final_role }}' messages in conversations according our safety policy with the below categories.\\n\\n<BEGIN UNSAFE CONTENT CATEGORIES>\\nS1: Violent Crimes.\\nS2: Non-Violent Crimes.\\nS3: Sex Crimes.\\nS4: Child Exploitation.\\nS5: Defamation.\\nS6: Specialized Advice.\\nS7: Privacy.\\nS8: Intellectual Property.\\nS9: Indiscriminate Weapons.\\nS10: Hate.\\nS11: Self-Harm.\\nS12: Sexual Content.\\nS13: Elections.\\nS14: Code Interpreter Abuse.\\n<END UNSAFE CONTENT CATEGORIES>\\n\\n<BEGIN CONVERSATION>\\n\\n{% for message in messages %}{% if message['role'] == 'user' and loop.index0 % 2 == 0 %}User: {{ message['content'].trim() }}{% elif message['role'] == 'assistant' and loop.index0 % 2 != 0 %}Agent: {{ message['content'].trim() }}{% endif %}{% if loop.last %}{% set role = message['role'] %}{% endif %}{{ '\\n\\n' }}{% endfor %}<END CONVERSATION>\\n\\nProvide your safety assessment for {{ role }} in the above conversation:\\n - First line must read 'safe' or 'unsafe'.\\n - If unsafe, a second line must include a comma-separated list of violated categories.<|eot_id|><|start_header_id|>assistant<|end_header_id|>\\n\\n\",\n",
      "      \"stop\": [],\n",
      "      \"bos_token\": null,\n",
      "      \"eos_token\": null\n",
      "    },\n",
      "    \"pricing\": {\n",
      "      \"hourly\": 0,\n",
      "      \"input\": 0.2,\n",
      "      \"output\": 0.2,\n",
      "      \"base\": 0,\n",
      "      \"finetune\": 0\n",
      "    }\n",
      "  },\n",
      "  {\n",
      "    \"id\": \"scb10x/scb10x-llama3-typhoon-v1-5-8b-instruct\",\n",
      "    \"object\": \"model\",\n",
      "    \"created\": 1731461419,\n",
      "    \"type\": \"chat\",\n",
      "    \"running\": false,\n",
      "    \"display_name\": \"Typhoon 1.5 8B Instruct\",\n",
      "    \"organization\": \"SCB10X\",\n",
      "    \"link\": \"https://huggingface.co/scb10x/llama-3-typhoon-v1.5-8b-instruct\",\n",
      "    \"license\": \"llama3\",\n",
      "    \"context_length\": 8192,\n",
      "    \"config\": {\n",
      "      \"chat_template\": \"{% set loop_messages = messages %}{% for message in loop_messages %}{% set content = '<|start_header_id|>' + message['role'] + '<|end_header_id|>\\n\\n'+ message['content'] | trim + '<|eot_id|>' %}{% if loop.index0 == 0 %}{% set content = bos_token + content %}{% endif %}{{ content }}{% endfor %}{% if add_generation_prompt %}{{ '<|start_header_id|>assistant<|end_header_id|>\\n\\n' }}{% endif %}\",\n",
      "      \"stop\": [\n",
      "        \"<|eot_id|>\"\n",
      "      ],\n",
      "      \"bos_token\": \"<|startoftext|>\",\n",
      "      \"eos_token\": \"<|end_of_text|>\"\n",
      "    },\n",
      "    \"pricing\": {\n",
      "      \"hourly\": 0,\n",
      "      \"input\": 0.18000000000000002,\n",
      "      \"output\": 0.18000000000000002,\n",
      "      \"base\": 0,\n",
      "      \"finetune\": 0\n",
      "    }\n",
      "  },\n",
      "  {\n",
      "    \"id\": \"black-forest-labs/FLUX.1-depth\",\n",
      "    \"object\": \"model\",\n",
      "    \"created\": 1732141533,\n",
      "    \"type\": \"image\",\n",
      "    \"running\": false,\n",
      "    \"display_name\": \"FLUX.1 Depth [dev]\",\n",
      "    \"organization\": \"Black Forest Labs\",\n",
      "    \"link\": \"https://huggingface.co/black-forest-labs/FLUX.1-Depth-dev\",\n",
      "    \"config\": {\n",
      "      \"chat_template\": null,\n",
      "      \"stop\": [],\n",
      "      \"bos_token\": null,\n",
      "      \"eos_token\": null\n",
      "    },\n",
      "    \"pricing\": {\n",
      "      \"hourly\": 0,\n",
      "      \"input\": 0,\n",
      "      \"output\": 0,\n",
      "      \"base\": 0,\n",
      "      \"finetune\": 0\n",
      "    }\n",
      "  },\n",
      "  {\n",
      "    \"id\": \"black-forest-labs/FLUX.1-canny\",\n",
      "    \"object\": \"model\",\n",
      "    \"created\": 1732144835,\n",
      "    \"type\": \"image\",\n",
      "    \"running\": false,\n",
      "    \"display_name\": \"FLUX.1 Canny [dev]\",\n",
      "    \"organization\": \"Black Forest Labs\",\n",
      "    \"link\": \"https://huggingface.co/black-forest-labs/FLUX.1-Canny-dev\",\n",
      "    \"config\": {\n",
      "      \"chat_template\": null,\n",
      "      \"stop\": [],\n",
      "      \"bos_token\": null,\n",
      "      \"eos_token\": null\n",
      "    },\n",
      "    \"pricing\": {\n",
      "      \"hourly\": 0,\n",
      "      \"input\": 0,\n",
      "      \"output\": 0,\n",
      "      \"base\": 0,\n",
      "      \"finetune\": 0\n",
      "    }\n",
      "  },\n",
      "  {\n",
      "    \"id\": \"meta-llama/Llama-3.3-70B-Instruct-Turbo\",\n",
      "    \"object\": \"model\",\n",
      "    \"created\": 1733466629,\n",
      "    \"type\": \"chat\",\n",
      "    \"running\": false,\n",
      "    \"display_name\": \"Meta Llama 3.3 70B Instruct Turbo\",\n",
      "    \"organization\": \"Meta\",\n",
      "    \"link\": \"https://huggingface.co/meta-llama/Llama-3.3-70B-Instruct\",\n",
      "    \"license\": \"Llama-3.3 (Other)\",\n",
      "    \"context_length\": 131072,\n",
      "    \"config\": {\n",
      "      \"chat_template\": \"{{- bos_token }}\\n{%- if custom_tools is defined %}\\n    {%- set tools = custom_tools %}\\n{%- endif %}\\n{%- if not tools_in_user_message is defined %}\\n    {%- set tools_in_user_message = true %}\\n{%- endif %}\\n{%- if not date_string is defined %}\\n    {%- set date_string = \\\"26 Jul 2024\\\" %}\\n{%- endif %}\\n\\n{#- This block extracts the system message, so we can slot it into the right place. #}\\n{%- if messages[0]['role'] == 'system' %}\\n    {%- set system_message = messages[0]['content']|trim %}\\n    {%- set messages = messages[1:] %}\\n{%- else %}\\n    {%- set system_message = \\\"\\\" %}\\n{%- endif %}\\n\\n{#- System message + builtin tools #}\\n{{- \\\"<|start_header_id|>system<|end_header_id|>\\n\\n\\\" }}\\n{%- if builtin_tools is defined or tools %}\\n    {{- \\\"Environment: ipython\\n\\\" }}\\n{%- endif %}\\n{%- if builtin_tools is defined %}\\n    {{- \\\"Tools: \\\" + builtin_tools | reject('equalto', 'code_interpreter') | join(\\\", \\\") + \\\"\\n\\n\\\"}}\\n{%- endif %}\\n{{- \\\"Cutting Knowledge Date: December 2023\\n\\\" }}\\n{{- \\\"Today Date: \\\" + date_string + \\\"\\n\\n\\\" }}\\n{%- if tools %}\\n    {{- \\\"You have access to the following functions:\\n\\n\\\" }}{%- for t in tools %}\\n        {{- \\\"Use the function '\\\" + t.function.name + \\\"' to '\\\" + t.function.description + \\\"'\\n\\\" }}\\n        {{- t.function | dump(4) }}\\n        {{- \\\"\\n\\n\\\" }}\\n    {%- endfor %}\\n{% raw %}If a you choose to call a function ONLY reply in the following format:\\n<{start_tag}={function_name}>{parameters}{end_tag}\\nwhere\\n\\nstart_tag => `<function`\\nparameters => a JSON dict with the function argument name as key and function argument value as value.\\nend_tag => `</function>`\\n\\nHere is an example,\\n<function=example_function_name>{\\\"example_name\\\": \\\"example_value\\\"}</function>\\n\\nReminder:\\n- Function calls MUST follow the specified format\\n- Required parameters MUST be specified\\n- Only call one function at a time\\n- Put the entire function call reply on one line\\n- Always add your sources when using search results to answer the user query\\n\\n{% endraw %}{%- endif %}\\n{{- system_message }}\\n{{- \\\"<|eot_id|>\\\" }}\\n\\n{%- for message in messages %}\\n    {%- if not (message.role == 'ipython' or message.role == 'tool' or 'tool_calls' in message) %}\\n        {{- '<|start_header_id|>' + message['role'] + '<|end_header_id|>\\n\\n'+ message['content'] | trim + '<|eot_id|>' }}\\n    {%- elif 'tool_calls' in message %}\\n        {%- if not message.tool_calls|length == 1 %}\\n            {{- raise_exception(\\\"This model only supports single tool-calls at once!\\\") }}\\n        {%- endif %}\\n        {%- set tool_call = message.tool_calls[0].function %}\\n        {%- if builtin_tools is defined and tool_call.name in builtin_tools %}\\n            {{- '<|start_header_id|>assistant<|end_header_id|>\\n\\n' -}}\\n            {{- \\\"<|python_tag|>\\\" + tool_call.name + \\\".call(\\\" }}\\n            {%- for arg_name, arg_val in tool_call.arguments | items %}\\n                {{- arg_name + '=\\\"' + arg_val + '\\\"' }}\\n                {%- if not loop.last %}\\n                    {{- \\\", \\\" }}\\n                {%- endif %}\\n                {%- endfor %}\\n            {{- \\\")\\\" }}\\n        {%- else  %}\\n            {{- '<|start_header_id|>assistant<|end_header_id|>\\n\\n' -}}\\n            {{- '{\\\"name\\\": \\\"' + tool_call.name + '\\\", ' }}\\n            {{- '\\\"parameters\\\": ' }}\\n            {{- tool_call.arguments | dump }}\\n            {{- \\\"}\\\" }}\\n        {%- endif %}\\n        {%- if builtin_tools is defined %}\\n            {#- This means we're in ipython mode #}\\n            {{- \\\"<|eom_id|>\\\" }}\\n        {%- else %}\\n            {{- \\\"<|eot_id|>\\\" }}\\n        {%- endif %}\\n    {%- elif message.role == \\\"tool\\\" or message.role == \\\"ipython\\\" %}\\n        {{- \\\"<|start_header_id|>ipython<|end_header_id|>\\n\\n\\\" }}\\n        {%- if message.content is mapping or message.content is iterable %}\\n            {{- message.content | dump }}\\n        {%- else %}\\n            {{- message.content }}\\n        {%- endif %}\\n        {{- \\\"<|eot_id|>\\\" }}\\n    {%- endif %}\\n{%- endfor %}\\n{%- if add_generation_prompt %}\\n    {{- '<|start_header_id|>assistant<|end_header_id|>\\n\\n' }}{%- endif %}\",\n",
      "      \"stop\": [\n",
      "        \"<|eot_id|>\",\n",
      "        \"<|eom_id|>\"\n",
      "      ],\n",
      "      \"bos_token\": \"<|begin_of_text|>\",\n",
      "      \"eos_token\": \"<|eot_id|>\"\n",
      "    },\n",
      "    \"pricing\": {\n",
      "      \"hourly\": 0,\n",
      "      \"input\": 0.88,\n",
      "      \"output\": 0.88,\n",
      "      \"base\": 0,\n",
      "      \"finetune\": 0\n",
      "    }\n",
      "  },\n",
      "  {\n",
      "    \"id\": \"meta-llama/Llama-3-8b-chat-hf\",\n",
      "    \"object\": \"model\",\n",
      "    \"created\": 1713420479,\n",
      "    \"type\": \"chat\",\n",
      "    \"running\": false,\n",
      "    \"display_name\": \"Meta Llama 3 8B Instruct Reference\",\n",
      "    \"organization\": \"Meta\",\n",
      "    \"link\": \"https://huggingface.co/meta-llama/Meta-Llama-3-8B-Instruct\",\n",
      "    \"license\": \"Llama-3 (Other)\",\n",
      "    \"context_length\": 8192,\n",
      "    \"config\": {\n",
      "      \"chat_template\": \"{% set loop_messages = messages %}{% for message in loop_messages %}{% set content = '<|start_header_id|>' + message['role'] + '<|end_header_id|>\\n\\n'+ message['content'] | trim + '<|eot_id|>' %}{% if loop.index0 == 0 %}{% set content = bos_token + content %}{% endif %}{{ content }}{% endfor %}{{ '<|start_header_id|>assistant<|end_header_id|>\\n\\n' }}\",\n",
      "      \"stop\": [\n",
      "        \"<|eot_id|>\"\n",
      "      ],\n",
      "      \"bos_token\": \"<|begin_of_text|>\",\n",
      "      \"eos_token\": \"<|end_of_text|>\"\n",
      "    },\n",
      "    \"pricing\": {\n",
      "      \"hourly\": 0,\n",
      "      \"input\": 0.2,\n",
      "      \"output\": 0.2,\n",
      "      \"base\": 0,\n",
      "      \"finetune\": 0\n",
      "    }\n",
      "  },\n",
      "  {\n",
      "    \"id\": \"togethercomputer/MoA-1-Turbo\",\n",
      "    \"object\": \"model\",\n",
      "    \"created\": 0,\n",
      "    \"type\": \"chat\",\n",
      "    \"running\": false,\n",
      "    \"display_name\": \"Together AI MoA-1-Turbo\",\n",
      "    \"organization\": \"Together AI\",\n",
      "    \"link\": \"https://github.com/togethercomputer/MoA\",\n",
      "    \"license\": null,\n",
      "    \"context_length\": 32768,\n",
      "    \"config\": {\n",
      "      \"chat_template\": null,\n",
      "      \"stop\": [],\n",
      "      \"bos_token\": null,\n",
      "      \"eos_token\": null\n",
      "    },\n",
      "    \"pricing\": {\n",
      "      \"hourly\": 0,\n",
      "      \"input\": 0,\n",
      "      \"output\": 0,\n",
      "      \"base\": 0,\n",
      "      \"finetune\": 0\n",
      "    }\n",
      "  },\n",
      "  {\n",
      "    \"id\": \"mistralai/Mistral-7B-Instruct-v0.1\",\n",
      "    \"object\": \"model\",\n",
      "    \"created\": 1695860851,\n",
      "    \"type\": \"chat\",\n",
      "    \"running\": false,\n",
      "    \"display_name\": \"Mistral (7B) Instruct\",\n",
      "    \"organization\": \"mistralai\",\n",
      "    \"link\": \"https://huggingface.co/api/models/mistralai/Mistral-7B-Instruct-v0.1\",\n",
      "    \"license\": \"apache-2.0\",\n",
      "    \"context_length\": 32768,\n",
      "    \"config\": {\n",
      "      \"chat_template\": \"{% if messages[0]['role'] == 'system' %}{% set loop_messages = messages[1:] %}{% set system_message = messages[0]['content'] %}{% else %}{% set loop_messages = messages %}{% set system_message = false %}{% endif %}{% for message in loop_messages %}{% if loop.index0 == 0 and system_message != false %}{% set content = '<<SYS>>\\\\n' + system_message + '\\\\n<</SYS>>\\\\n\\\\n' + message['content'] %}{% else %}{% set content = message['content'] %}{% endif %}{% if message['role'] == 'user' or message['role'] == 'tool' %}{{ bos_token + '[INST] ' + content + ' [/INST]' }}{% elif message['role'] == 'system' %}{{ '<<SYS>>\\\\n' + content + '\\\\n<</SYS>>\\\\n\\\\n' }}{% elif message['role'] == 'assistant' %}{{ ' '  + content + ' ' + eos_token }}{% endif %}{% endfor %}\",\n",
      "      \"stop\": [\n",
      "        \"</s>\"\n",
      "      ],\n",
      "      \"bos_token\": \"<s>\",\n",
      "      \"eos_token\": \"</s>\"\n",
      "    },\n",
      "    \"pricing\": {\n",
      "      \"hourly\": 0,\n",
      "      \"input\": 0.2,\n",
      "      \"output\": 0.2,\n",
      "      \"base\": 0,\n",
      "      \"finetune\": 0\n",
      "    }\n",
      "  },\n",
      "  {\n",
      "    \"id\": \"deepseek-ai/DeepSeek-R1-Distill-Qwen-14B\",\n",
      "    \"object\": \"model\",\n",
      "    \"created\": 1738182549,\n",
      "    \"type\": \"chat\",\n",
      "    \"running\": false,\n",
      "    \"display_name\": \"DeepSeek R1 Distill Qwen 14B\",\n",
      "    \"organization\": \"DeepSeek\",\n",
      "    \"link\": \"https://huggingface.co/api/models/deepseek-ai/DeepSeek-R1-Distill-Qwen-14B\",\n",
      "    \"license\": \"mit\",\n",
      "    \"context_length\": 131072,\n",
      "    \"config\": {\n",
      "      \"chat_template\": \"{% if not add_generation_prompt %}{% set add_generation_prompt = false %}{% endif %}{# Initialize variables since Nunjucks doesn't support namespace #}{% set is_first = false %}{% set is_tool = false %}{% set is_output_first = true %}{% set system_prompt = '' %}{# Get system prompt #}{% for message in messages %}{% if message.role == 'system' %}{% set system_prompt = message.content %}{% endif %}{% endfor %}{{bos_token}}{{system_prompt}}{% for message in messages %}{% if message.role == 'user' %}{% set is_tool = false %}<\\uff5cUser\\uff5c>{{message.content}}{% endif %}{% if message.role == 'assistant' and not message.content %}{% set is_tool = false %}{% for tool in message.tool_calls %}{% if not is_first %}<\\uff5cAssistant\\uff5c><\\uff5ctool\\u2581calls\\u2581begin\\uff5c><\\uff5ctool\\u2581call\\u2581begin\\uff5c>{{tool.type}}<\\uff5ctool\\u2581sep\\uff5c>{{tool.function.name}}```json{{tool.function.arguments}}```<\\uff5ctool\\u2581call\\u2581end\\uff5c>{% set is_first = true %}{% else %}<\\uff5ctool\\u2581call\\u2581begin\\uff5c>{{tool.type}}<\\uff5ctool\\u2581sep\\uff5c>{{tool.function.name}}```json{{tool.function.arguments}}```<\\uff5ctool\\u2581call\\u2581end\\uff5c><\\uff5ctool\\u2581calls\\u2581end\\uff5c><\\uff5cend\\u2581of\\u2581sentence\\uff5c>{% endif %}{% endfor %}{% endif %}{% if message.role == 'assistant' and message.content %}{% if is_tool %}<\\uff5ctool\\u2581outputs\\u2581end\\uff5c>{{message.content}}<\\uff5cend\\u2581of\\u2581sentence\\uff5c>{% set is_tool = false %}{% else %}{% set content = message.content %}{% if '</think>' in content %}{% set parts = content | split('</think>') %}{% set content = parts[parts.length-1] %}{% endif %}<\\uff5cAssistant\\uff5c>{{content}}<\\uff5cend\\u2581of\\u2581sentence\\uff5c>{% endif %}{% endif %}{% if message.role == 'tool' %}{% set is_tool = true %}{% if is_output_first %}<\\uff5ctool\\u2581outputs\\u2581begin\\uff5c><\\uff5ctool\\u2581output\\u2581begin\\uff5c>{{message.content}}<\\uff5ctool\\u2581output\\u2581end\\uff5c>{% set is_output_first = false %}{% else %}<\\uff5ctool\\u2581output\\u2581begin\\uff5c>{{message.content}}<\\uff5ctool\\u2581output\\u2581end\\uff5c>{% endif %}{% endif %}{% endfor %}{% if is_tool %}<\\uff5ctool\\u2581outputs\\u2581end\\uff5c>{% endif %}{% if add_generation_prompt and not is_tool %}<\\uff5cAssistant\\uff5c>{% endif %}\",\n",
      "      \"stop\": [\n",
      "        \"<\\uff5cend\\u2581of\\u2581sentence\\uff5c>\"\n",
      "      ],\n",
      "      \"bos_token\": \"<\\uff5cbegin\\u2581of\\u2581sentence\\uff5c>\",\n",
      "      \"eos_token\": \"<\\uff5cend\\u2581of\\u2581sentence\\uff5c>\",\n",
      "      \"max_output_length\": 32768\n",
      "    },\n",
      "    \"pricing\": {\n",
      "      \"hourly\": 0,\n",
      "      \"input\": 1.6,\n",
      "      \"output\": 1.6,\n",
      "      \"base\": 0,\n",
      "      \"finetune\": 0\n",
      "    }\n",
      "  },\n",
      "  {\n",
      "    \"id\": \"mistralai/Mistral-Small-24B-Instruct-2501\",\n",
      "    \"object\": \"model\",\n",
      "    \"created\": 1738246136,\n",
      "    \"type\": \"chat\",\n",
      "    \"running\": false,\n",
      "    \"display_name\": \"Mistral Small (24B) Instruct 25.01\",\n",
      "    \"organization\": \"mistralai\",\n",
      "    \"link\": \"https://huggingface.co/mistralai/Mistral-Small-Instruct-2501\",\n",
      "    \"license\": \"apache-2.0\",\n",
      "    \"context_length\": 32768,\n",
      "    \"config\": {\n",
      "      \"chat_template\": \"{{ bos_token }}{% for message in messages %}{% if message['role'] == 'system' %}[SYSTEM_PROMPT]{{ message['content'] }}[/SYSTEM_PROMPT]{% elif message['role'] == 'user' %}[INST]{{ message['content'] }}[/INST]{% elif message['role'] == 'assistant' %}{{ message['content'] + '</s>' }}{% endif %}{% endfor %}\",\n",
      "      \"stop\": [\n",
      "        \"[/INST]\",\n",
      "        \"</s>\"\n",
      "      ],\n",
      "      \"bos_token\": null,\n",
      "      \"eos_token\": null\n",
      "    },\n",
      "    \"pricing\": {\n",
      "      \"hourly\": 0,\n",
      "      \"input\": 0.8,\n",
      "      \"output\": 0.8,\n",
      "      \"base\": 0,\n",
      "      \"finetune\": 0\n",
      "    }\n",
      "  },\n",
      "  {\n",
      "    \"id\": \"scb10x/scb10x-llama3-1-typhoon2-8b-instruct\",\n",
      "    \"object\": \"model\",\n",
      "    \"created\": 1743028923,\n",
      "    \"type\": \"chat\",\n",
      "    \"running\": false,\n",
      "    \"display_name\": \"Typhoon 2 8B Instruct\",\n",
      "    \"organization\": \"SCB10X\",\n",
      "    \"link\": \"https://huggingface.co/api/models/scb10x/llama3.1-typhoon2-8b-instruct\",\n",
      "    \"license\": \"llama3.1\",\n",
      "    \"context_length\": 8192,\n",
      "    \"config\": {\n",
      "      \"chat_template\": \"{{- bos_token }}\\n{%- if custom_tools is defined %}\\n    {%- set tools = custom_tools %}\\n{%- endif %}\\n{%- if not date_string is defined %}\\n    {%- set date_string = \\\"26 Jul 2024\\\" %}\\n{%- endif %}\\n{%- if not tools is defined %}\\n    {%- set tools = none %}\\n{%- endif %}\\n\\n{#- This block extracts the system message, so we can slot it into the right place. #}\\n{%- if messages[0]['role'] == 'system' %}\\n    {%- set system_message = messages[0]['content']|trim %}\\n    {%- set messages = messages[1:] %}\\n{%- else %}\\n    {%- set system_message = \\\"\\\" %}\\n{%- endif %}\\n\\n{#- System message + builtin tools #}\\n{{- \\\"<|start_header_id|>system<|end_header_id|>\\\\n\\\\n\\\" }}\\n{{- \\\"Cutting Knowledge Date: December 2023\\\\n\\\" }}\\n{{- \\\"Today Date: \\\" + date_string + \\\"\\\\n\\\\n\\\" }}\\n{{- system_message }}\\n{%- if tools is not none %}\\n    {{- \\\"\\\\n\\\" }}\\n    {{- \\\"You are given a question and a set of possible functions. Based on the question, you will need to make one or more function/tool calls to achieve the purpose.\\\" }}\\n    {{- \\\"If none of the function can be used, point it out. If the given question lacks the parameters required by the function, also point it out.\\\" }}\\n    {{- \\\"You should only return the function call in tools call sections.\\\" }}\\n    {{- \\\"If you decide to invoke any of the function(s), you MUST put it in the format of [Function(arguments1={{params_name1: params_value1,params_name2: params_value2, ...}},  name1=function_name1), Function(arguments2={{params}},  name2=function_name2) , ...]\\\"}}\\n    {{- \\\"You SHOULD NOT include any other text in the response.\\\\nHere is a list of functions in JSON format that you can invoke.\\\\n\\\" }}\\n    {%- for t in tools %}\\n        {{- t | tojson(indent=4) }}\\n        {{- \\\"\\\\n\\\\n\\\" }}\\n    {%- endfor %}\\n{%- endif %}\\n{{- \\\"<|eot_id|>\\\" }}\\n\\n\\n{%- for message in messages %}\\n    {%- if not (message.role == 'tool') %}\\n        {{- '<|start_header_id|>' + message['role'] + '<|end_header_id|>\\\\n\\\\n'+ message['content'] | trim + '<|eot_id|>' }}\\n    {%- elif message.role == \\\"tool\\\" %}\\n        {{- \\\"<|start_header_id|>tool<|end_header_id|>\\\\n\\\\n\\\" }}\\n        {%- if message.content is mapping or message.content is iterable %}\\n            {{- message.content | tojson }}\\n        {%- else %}\\n            {{- message.content }}\\n        {%- endif %}\\n        {{- \\\"<|eot_id|>\\\" }}\\n    {%- endif %}\\n{%- endfor %}\\n{%- if add_generation_prompt %}\\n    {{- '<|start_header_id|>assistant<|end_header_id|>\\\\n\\\\n' }}\\n{%- endif %}\",\n",
      "      \"stop\": [\n",
      "        \"<|eot_id|>\"\n",
      "      ],\n",
      "      \"bos_token\": \"<|begin_of_text|>\",\n",
      "      \"eos_token\": \"<|eot_id|>\"\n",
      "    },\n",
      "    \"pricing\": {\n",
      "      \"hourly\": 0,\n",
      "      \"input\": 0.18000000000000002,\n",
      "      \"output\": 0.18000000000000002,\n",
      "      \"base\": 0,\n",
      "      \"finetune\": 0\n",
      "    }\n",
      "  },\n",
      "  {\n",
      "    \"id\": \"Qwen/Qwen2-VL-72B-Instruct\",\n",
      "    \"object\": \"model\",\n",
      "    \"created\": 1736448718,\n",
      "    \"type\": \"chat\",\n",
      "    \"running\": false,\n",
      "    \"display_name\": \"Qwen2-VL (72B) Instruct\",\n",
      "    \"organization\": \"Qwen\",\n",
      "    \"link\": \"https://huggingface.co/Qwen/Qwen2-VL-72B-Instruct\",\n",
      "    \"license\": \"tongyi-qianwen\",\n",
      "    \"context_length\": 32768,\n",
      "    \"config\": {\n",
      "      \"chat_template\": \"{% set image_count = namespace(value=0) %}{% set video_count = namespace(value=0) %}{% for message in messages %}{% if loop.first and message['role'] != 'system' %}<|im_start|>system\\nYou are a helpful assistant.<|im_end|>\\n{% endif %}<|im_start|>{{ message['role'] }}\\n{% if message['content'] is string %}{{ message['content'] }}<|im_end|>\\n{% else %}{% for content in message['content'] %}{% if content['type'] == 'image' or 'image' in content or 'image_url' in content %}{% set image_count.value = image_count.value + 1 %}{% if add_vision_id %}Picture {{ image_count.value }}: {% endif %}<|vision_start|><|image_pad|><|vision_end|>{% elif content['type'] == 'video' or 'video' in content %}{% set video_count.value = video_count.value + 1 %}{% if add_vision_id %}Video {{ video_count.value }}: {% endif %}<|vision_start|><|video_pad|><|vision_end|>{% elif 'text' in content %}{{ content['text'] }}{% endif %}{% endfor %}<|im_end|>\\n{% endif %}{% endfor %}{% if add_generation_prompt %}<|im_start|>assistant\\n{% endif %}\",\n",
      "      \"stop\": [\n",
      "        \"<|im_end|>\",\n",
      "        \"<|endoftext|>\"\n",
      "      ],\n",
      "      \"bos_token\": null,\n",
      "      \"eos_token\": \"<|im_end|>\"\n",
      "    },\n",
      "    \"pricing\": {\n",
      "      \"hourly\": 0,\n",
      "      \"input\": 1.2,\n",
      "      \"output\": 1.2,\n",
      "      \"base\": 0,\n",
      "      \"finetune\": 0\n",
      "    }\n",
      "  },\n",
      "  {\n",
      "    \"id\": \"Qwen/Qwen2.5-72B-Instruct-Turbo\",\n",
      "    \"object\": \"model\",\n",
      "    \"created\": 1728633510,\n",
      "    \"type\": \"chat\",\n",
      "    \"running\": false,\n",
      "    \"display_name\": \"Qwen2.5 72B Instruct Turbo\",\n",
      "    \"organization\": \"Qwen\",\n",
      "    \"link\": \"https://huggingface.co/Qwen/Qwen2.5-72B-Instruct\",\n",
      "    \"license\": \"Qwen\",\n",
      "    \"context_length\": 131072,\n",
      "    \"config\": {\n",
      "      \"chat_template\": \"{%- if tools %}\\n    {{- '<|im_start|>system\\\\n' }}\\n    {%- if messages[0]['role'] == 'system' %}\\n        {{- messages[0]['content'] }}\\n    {%- else %}\\n        {{- 'You are Qwen, created by Alibaba Cloud. You are a helpful assistant.' }}\\n    {%- endif %}\\n    {{- \\\"\\\\n\\\\n# Tools\\\\n\\\\nYou may call one or more functions to assist with the user query.\\\\n\\\\nYou are provided with function signatures within <tools></tools> XML tags:\\\\n<tools>\\\" }}\\n    {%- for tool in tools %}\\n        {{- \\\"\\\\n\\\" }}\\n        {{- tool | tojson }}\\n    {%- endfor %}\\n    {{- \\\"\\\\n</tools>\\\\n\\\\nFor each function call, return a json object with function name and arguments within <tool_call></tool_call> XML tags:\\\\n<tool_call>\\\\n{\\\\\\\"name\\\\\\\": <function-name>, \\\\\\\"arguments\\\\\\\": <args-json-object>}\\\\n</tool_call><|im_end|>\\\\n\\\" }}\\n{%- else %}\\n    {%- if messages[0]['role'] == 'system' %}\\n        {{- '<|im_start|>system\\\\n' + messages[0]['content'] + '<|im_end|>\\\\n' }}\\n    {%- else %}\\n        {{- '<|im_start|>system\\\\nYou are Qwen, created by Alibaba Cloud. You are a helpful assistant.<|im_end|>\\\\n' }}\\n    {%- endif %}\\n{%- endif %}\\n{%- for message in messages %}\\n    {%- if (message.role == \\\"user\\\") or (message.role == \\\"system\\\" and not loop.first) or (message.role == \\\"assistant\\\" and not message.tool_calls) %}\\n        {{- '<|im_start|>' + message.role + '\\\\n' + message.content + '<|im_end|>' + '\\\\n' }}\\n    {%- elif message.role == \\\"assistant\\\" %}\\n        {{- '<|im_start|>' + message.role }}\\n        {%- if message.content %}\\n            {{- '\\\\n' + message.content }}\\n        {%- endif %}\\n        {%- for tool_call in message.tool_calls %}\\n            {%- if tool_call.function is defined %}\\n                {%- set tool_call = tool_call.function %}\\n            {%- endif %}\\n            {{- '\\\\n<tool_call>\\\\n{\\\"name\\\": \\\"' }}\\n            {{- tool_call.name }}\\n            {{- '\\\", \\\"arguments\\\": ' }}\\n            {{- tool_call.arguments | tojson }}\\n            {{- '}\\\\n</tool_call>' }}\\n        {%- endfor %}\\n        {{- '<|im_end|>\\\\n' }}\\n    {%- elif message.role == \\\"tool\\\" %}\\n        {%- if (loop.index0 == 0) or (messages[loop.index0 - 1].role != \\\"tool\\\") %}\\n            {{- '<|im_start|>user' }}\\n        {%- endif %}\\n        {{- '\\\\n<tool_response>\\\\n' }}\\n        {{- message.content }}\\n        {{- '\\\\n</tool_response>' }}\\n        {%- if loop.last or (messages[loop.index0 + 1].role != \\\"tool\\\") %}\\n            {{- '<|im_end|>\\\\n' }}\\n        {%- endif %}\\n    {%- endif %}\\n{%- endfor %}\\n{%- if add_generation_prompt %}\\n    {{- '<|im_start|>assistant\\\\n' }}\\n{%- endif %}\\n\",\n",
      "      \"stop\": [\n",
      "        \"<|im_end|>\"\n",
      "      ],\n",
      "      \"bos_token\": \"<|endoftext|>\",\n",
      "      \"eos_token\": \"<|im_end|>\"\n",
      "    },\n",
      "    \"pricing\": {\n",
      "      \"hourly\": 0,\n",
      "      \"input\": 1.2,\n",
      "      \"output\": 1.2,\n",
      "      \"base\": 0,\n",
      "      \"finetune\": 0\n",
      "    }\n",
      "  },\n",
      "  {\n",
      "    \"id\": \"Qwen/Qwen2-72B-Instruct\",\n",
      "    \"object\": \"model\",\n",
      "    \"created\": 1717792561,\n",
      "    \"type\": \"chat\",\n",
      "    \"running\": false,\n",
      "    \"display_name\": \"Qwen 2 Instruct (72B)\",\n",
      "    \"organization\": \"Qwen\",\n",
      "    \"link\": \"https://huggingface.co/Qwen/Qwen2-72B-Instruct\",\n",
      "    \"license\": \"tongyi-qianwen\",\n",
      "    \"context_length\": 32768,\n",
      "    \"config\": {\n",
      "      \"chat_template\": \"{% for message in messages %}{% if loop.first and messages[0]['role'] != 'system' %}{{ '<|im_start|>system\\nYou are a helpful assistant.<|im_end|>\\n' }}{% endif %}{{'<|im_start|>' + message['role'] + '\\n' + message['content'] + '<|im_end|>' + '\\n'}}{% endfor %}{% if add_generation_prompt %}{{ '<|im_start|>assistant\\n' }}{% endif %}\",\n",
      "      \"stop\": [\n",
      "        \"<|im_start|>\",\n",
      "        \"<|im_end|>\"\n",
      "      ],\n",
      "      \"bos_token\": null,\n",
      "      \"eos_token\": null\n",
      "    },\n",
      "    \"pricing\": {\n",
      "      \"hourly\": 0,\n",
      "      \"input\": 0.9,\n",
      "      \"output\": 0.9,\n",
      "      \"base\": 0,\n",
      "      \"finetune\": 0\n",
      "    }\n",
      "  },\n",
      "  {\n",
      "    \"id\": \"Qwen/Qwen2.5-Coder-32B-Instruct\",\n",
      "    \"object\": \"model\",\n",
      "    \"created\": 1731556615,\n",
      "    \"type\": \"chat\",\n",
      "    \"running\": false,\n",
      "    \"display_name\": \"Qwen 2.5 Coder 32B Instruct\",\n",
      "    \"organization\": \"Qwen\",\n",
      "    \"link\": \"https://huggingface.co/Qwen/Qwen2.5-Coder-32B-Instruct\",\n",
      "    \"license\": \"Qwen\",\n",
      "    \"context_length\": 16384,\n",
      "    \"config\": {\n",
      "      \"chat_template\": \"{%- if tools %}\\n    {{- '<|im_start|>system\\\\n' }}\\n    {%- if messages[0]['role'] == 'system' %}\\n        {{- messages[0]['content'] }}\\n    {%- else %}\\n        {{- 'You are Qwen, created by Alibaba Cloud. You are a helpful assistant.' }}\\n    {%- endif %}\\n    {{- \\\"\\\\n\\\\n# Tools\\\\n\\\\nYou may call one or more functions to assist with the user query.\\\\n\\\\nYou are provided with function signatures within <tools></tools> XML tags:\\\\n<tools>\\\" }}\\n    {%- for tool in tools %}\\n        {{- \\\"\\\\n\\\" }}\\n        {{- tool | tojson }}\\n    {%- endfor %}\\n    {{- \\\"\\\\n</tools>\\\\n\\\\nFor each function call, return a json object with function name and arguments within <tool_call></tool_call> XML tags:\\\\n<tool_call>\\\\n{\\\\\\\"name\\\\\\\": <function-name>, \\\\\\\"arguments\\\\\\\": <args-json-object>}\\\\n</tool_call><|im_end|>\\\\n\\\" }}\\n{%- else %}\\n    {%- if messages[0]['role'] == 'system' %}\\n        {{- '<|im_start|>system\\\\n' + messages[0]['content'] + '<|im_end|>\\\\n' }}\\n    {%- else %}\\n        {{- '<|im_start|>system\\\\nYou are Qwen, created by Alibaba Cloud. You are a helpful assistant.<|im_end|>\\\\n' }}\\n    {%- endif %}\\n{%- endif %}\\n{%- for message in messages %}\\n    {%- if (message.role == \\\"user\\\") or (message.role == \\\"system\\\" and not loop.first) or (message.role == \\\"assistant\\\" and not message.tool_calls) %}\\n        {{- '<|im_start|>' + message.role + '\\\\n' + message.content + '<|im_end|>' + '\\\\n' }}\\n    {%- elif message.role == \\\"assistant\\\" %}\\n        {{- '<|im_start|>' + message.role }}\\n        {%- if message.content %}\\n            {{- '\\\\n' + message.content }}\\n        {%- endif %}\\n        {%- for tool_call in message.tool_calls %}\\n            {%- if tool_call.function is defined %}\\n                {%- set tool_call = tool_call.function %}\\n            {%- endif %}\\n            {{- '\\\\n<tool_call>\\\\n{\\\"name\\\": \\\"' }}\\n            {{- tool_call.name }}\\n            {{- '\\\", \\\"arguments\\\": ' }}\\n            {{- tool_call.arguments | tojson }}\\n            {{- '}\\\\n</tool_call>' }}\\n        {%- endfor %}\\n        {{- '<|im_end|>\\\\n' }}\\n    {%- elif message.role == \\\"tool\\\" %}\\n        {%- if (loop.index0 == 0) or (messages[loop.index0 - 1].role != \\\"tool\\\") %}\\n            {{- '<|im_start|>user' }}\\n        {%- endif %}\\n        {{- '\\\\n<tool_response>\\\\n' }}\\n        {{- message.content }}\\n        {{- '\\\\n</tool_response>' }}\\n        {%- if loop.last or (messages[loop.index0 + 1].role != \\\"tool\\\") %}\\n            {{- '<|im_end|>\\\\n' }}\\n        {%- endif %}\\n    {%- endif %}\\n{%- endfor %}\\n{%- if add_generation_prompt %}\\n    {{- '<|im_start|>assistant\\\\n' }}\\n{%- endif %}\\n\",\n",
      "      \"stop\": [\n",
      "        \"<|im_end|>\"\n",
      "      ],\n",
      "      \"bos_token\": \"<|endoftext|>\",\n",
      "      \"eos_token\": \"<|im_end|>\"\n",
      "    },\n",
      "    \"pricing\": {\n",
      "      \"hourly\": 0,\n",
      "      \"input\": 0.8,\n",
      "      \"output\": 0.8,\n",
      "      \"base\": 0,\n",
      "      \"finetune\": 0\n",
      "    }\n",
      "  },\n",
      "  {\n",
      "    \"id\": \"Qwen/Qwen2.5-7B-Instruct-Turbo\",\n",
      "    \"object\": \"model\",\n",
      "    \"created\": 1728671048,\n",
      "    \"type\": \"chat\",\n",
      "    \"running\": false,\n",
      "    \"display_name\": \"Qwen2.5 7B Instruct Turbo\",\n",
      "    \"organization\": \"Qwen\",\n",
      "    \"link\": \"https://huggingface.co/Qwen/Qwen2.5-7B-Instruct\",\n",
      "    \"license\": \"Qwen\",\n",
      "    \"context_length\": 32768,\n",
      "    \"config\": {\n",
      "      \"chat_template\": \"{%- if tools %}\\n    {{- '<|im_start|>system\\\\n' }}\\n    {%- if messages[0]['role'] == 'system' %}\\n        {{- messages[0]['content'] }}\\n    {%- else %}\\n        {{- 'You are Qwen, created by Alibaba Cloud. You are a helpful assistant.' }}\\n    {%- endif %}\\n    {{- \\\"\\\\n\\\\n# Tools\\\\n\\\\nYou may call one or more functions to assist with the user query.\\\\n\\\\nYou are provided with function signatures within <tools></tools> XML tags:\\\\n<tools>\\\" }}\\n    {%- for tool in tools %}\\n        {{- \\\"\\\\n\\\" }}\\n        {{- tool | tojson }}\\n    {%- endfor %}\\n    {{- \\\"\\\\n</tools>\\\\n\\\\nFor each function call, return a json object with function name and arguments within <tool_call></tool_call> XML tags:\\\\n<tool_call>\\\\n{\\\\\\\"name\\\\\\\": <function-name>, \\\\\\\"arguments\\\\\\\": <args-json-object>}\\\\n</tool_call><|im_end|>\\\\n\\\" }}\\n{%- else %}\\n    {%- if messages[0]['role'] == 'system' %}\\n        {{- '<|im_start|>system\\\\n' + messages[0]['content'] + '<|im_end|>\\\\n' }}\\n    {%- else %}\\n        {{- '<|im_start|>system\\\\nYou are Qwen, created by Alibaba Cloud. You are a helpful assistant.<|im_end|>\\\\n' }}\\n    {%- endif %}\\n{%- endif %}\\n{%- for message in messages %}\\n    {%- if (message.role == \\\"user\\\") or (message.role == \\\"system\\\" and not loop.first) or (message.role == \\\"assistant\\\" and not message.tool_calls) %}\\n        {{- '<|im_start|>' + message.role + '\\\\n' + message.content + '<|im_end|>' + '\\\\n' }}\\n    {%- elif message.role == \\\"assistant\\\" %}\\n        {{- '<|im_start|>' + message.role }}\\n        {%- if message.content %}\\n            {{- '\\\\n' + message.content }}\\n        {%- endif %}\\n        {%- for tool_call in message.tool_calls %}\\n            {%- if tool_call.function is defined %}\\n                {%- set tool_call = tool_call.function %}\\n            {%- endif %}\\n            {{- '\\\\n<tool_call>\\\\n{\\\"name\\\": \\\"' }}\\n            {{- tool_call.name }}\\n            {{- '\\\", \\\"arguments\\\": ' }}\\n            {{- tool_call.arguments | tojson }}\\n            {{- '}\\\\n</tool_call>' }}\\n        {%- endfor %}\\n        {{- '<|im_end|>\\\\n' }}\\n    {%- elif message.role == \\\"tool\\\" %}\\n        {%- if (loop.index0 == 0) or (messages[loop.index0 - 1].role != \\\"tool\\\") %}\\n            {{- '<|im_start|>user' }}\\n        {%- endif %}\\n        {{- '\\\\n<tool_response>\\\\n' }}\\n        {{- message.content }}\\n        {{- '\\\\n</tool_response>' }}\\n        {%- if loop.last or (messages[loop.index0 + 1].role != \\\"tool\\\") %}\\n            {{- '<|im_end|>\\\\n' }}\\n        {%- endif %}\\n    {%- endif %}\\n{%- endfor %}\\n{%- if add_generation_prompt %}\\n    {{- '<|im_start|>assistant\\\\n' }}\\n{%- endif %}\\n\",\n",
      "      \"stop\": [\n",
      "        \"<|im_end|>\"\n",
      "      ],\n",
      "      \"bos_token\": \"<|endoftext|>\",\n",
      "      \"eos_token\": \"<|im_end|>\"\n",
      "    },\n",
      "    \"pricing\": {\n",
      "      \"hourly\": 0,\n",
      "      \"input\": 0.3,\n",
      "      \"output\": 0.3,\n",
      "      \"base\": 0,\n",
      "      \"finetune\": 0\n",
      "    }\n",
      "  },\n",
      "  {\n",
      "    \"id\": \"Qwen/QwQ-32B\",\n",
      "    \"object\": \"model\",\n",
      "    \"created\": 1741207789,\n",
      "    \"type\": \"chat\",\n",
      "    \"running\": false,\n",
      "    \"display_name\": \"Qwen QwQ-32B\",\n",
      "    \"organization\": \"Qwen\",\n",
      "    \"link\": \"https://huggingface.co/Qwen/QwQ-32B\",\n",
      "    \"license\": \"Qwen\",\n",
      "    \"context_length\": 131072,\n",
      "    \"config\": {\n",
      "      \"chat_template\": \"{%- if tools %}\\n    {{- '<|im_start|>system\\\\n' }}\\n    {%- if messages[0]['role'] == 'system' %}\\n        {{- messages[0]['content'] }}\\n    {%- else %}\\n        {{- 'You are a helpful and harmless assistant. You are Qwen developed by Alibaba. You should think step-by-step.' }}\\n    {%- endif %}\\n    {{- \\\"\\\\n\\\\n# Tools\\\\n\\\\nYou may call one or more functions to assist with the user query.\\\\n\\\\nYou are provided with function signatures within <tools></tools> XML tags:\\\\n<tools>\\\" }}\\n    {%- for tool in tools %}\\n        {{- \\\"\\\\n\\\" }}\\n        {{- tool | tojson }}\\n    {%- endfor %}\\n    {{- \\\"\\\\n</tools>\\\\n\\\\nFor each function call, return a json object with function name and arguments within <tool_call></tool_call> XML tags:\\\\n<tool_call>\\\\n{\\\\\\\"name\\\\\\\": <function-name>, \\\\\\\"arguments\\\\\\\": <args-json-object>}\\\\n</tool_call><|im_end|>\\\\n\\\" }}\\n{%- else %}\\n    {%- if messages[0]['role'] == 'system' %}\\n        {{- '<|im_start|>system\\\\n' + messages[0]['content'] + '<|im_end|>\\\\n' }}\\n    {%- else %}\\n        {{- '<|im_start|>system\\\\nYou are a helpful assistant.<|im_end|>\\\\n' }}\\n    {%- endif %}\\n{%- endif %}\\n{%- for message in messages %}\\n    {%- if (message.role == \\\"user\\\") or (message.role == \\\"system\\\" and not loop.first) or (message.role == \\\"assistant\\\" and not message.tool_calls) %}\\n        {{- '<|im_start|>' + message.role + '\\\\n' + message.content + '<|im_end|>' + '\\\\n' }}\\n    {%- elif message.role == \\\"assistant\\\" %}\\n        {{- '<|im_start|>' + message.role }}\\n        {%- if message.content %}\\n            {{- '\\\\n' + message.content }}\\n        {%- endif %}\\n        {%- for tool_call in message.tool_calls %}\\n            {%- if tool_call.function is defined %}\\n                {%- set tool_call = tool_call.function %}\\n            {%- endif %}\\n            {{- '\\\\n<tool_call>\\\\n{\\\"name\\\": \\\"' }}\\n            {{- tool_call.name }}\\n            {{- '\\\", \\\"arguments\\\": ' }}\\n            {{- tool_call.arguments | tojson }}\\n            {{- '}\\\\n</tool_call>' }}\\n        {%- endfor %}\\n        {{- '<|im_end|>\\\\n' }}\\n    {%- elif message.role == \\\"tool\\\" %}\\n        {%- if (loop.index0 == 0) or (messages[loop.index0 - 1].role != \\\"tool\\\") %}\\n            {{- '<|im_start|>user' }}\\n        {%- endif %}\\n        {{- '\\\\n<tool_response>\\\\n' }}\\n        {{- message.content }}\\n        {{- '\\\\n</tool_response>' }}\\n        {%- if loop.last or (messages[loop.index0 + 1].role != \\\"tool\\\") %}\\n            {{- '<|im_end|>\\\\n' }}\\n        {%- endif %}\\n    {%- endif %}\\n{%- endfor %}\\n{%- if add_generation_prompt %}\\n    {{- '<|im_start|>assistant\\\\n' }}\\n{%- endif %}\\n\",\n",
      "      \"stop\": [\n",
      "        \"<|im_end|>\",\n",
      "        \"<|endoftext|>\"\n",
      "      ],\n",
      "      \"bos_token\": null,\n",
      "      \"eos_token\": \"<|im_end|>\",\n",
      "      \"max_output_length\": 32768\n",
      "    },\n",
      "    \"pricing\": {\n",
      "      \"hourly\": 0,\n",
      "      \"input\": 1.2,\n",
      "      \"output\": 1.2,\n",
      "      \"base\": 0,\n",
      "      \"finetune\": 0\n",
      "    }\n",
      "  },\n",
      "  {\n",
      "    \"id\": \"black-forest-labs/FLUX.1-dev-lora\",\n",
      "    \"object\": \"model\",\n",
      "    \"created\": 1736906515,\n",
      "    \"type\": \"image\",\n",
      "    \"running\": false,\n",
      "    \"display_name\": \"FLUX.1 [dev] LoRA\",\n",
      "    \"organization\": \"Black Forest Labs\",\n",
      "    \"link\": \"https://huggingface.co/black-forest-labs/FLUX.1-dev\",\n",
      "    \"config\": {\n",
      "      \"chat_template\": null,\n",
      "      \"stop\": [],\n",
      "      \"bos_token\": null,\n",
      "      \"eos_token\": null\n",
      "    },\n",
      "    \"pricing\": {\n",
      "      \"hourly\": 0,\n",
      "      \"input\": 0,\n",
      "      \"output\": 0,\n",
      "      \"base\": 0,\n",
      "      \"finetune\": 0\n",
      "    }\n",
      "  },\n",
      "  {\n",
      "    \"id\": \"meta-llama/Llama-3.2-3B-Instruct-Turbo\",\n",
      "    \"object\": \"model\",\n",
      "    \"created\": 1727229064,\n",
      "    \"type\": \"chat\",\n",
      "    \"running\": false,\n",
      "    \"display_name\": \"Meta Llama 3.2 3B Instruct Turbo\",\n",
      "    \"organization\": \"Meta\",\n",
      "    \"link\": \"https://huggingface.co/meta-llama/Llama-3.2-3B-Instruct\",\n",
      "    \"license\": \"Llama-3.1 (Other)\",\n",
      "    \"context_length\": 131072,\n",
      "    \"config\": {\n",
      "      \"chat_template\": \"{{- bos_token }}\\n{%- if custom_tools is defined %}\\n    {%- set tools = custom_tools %}\\n{%- endif %}\\n{%- if not tools_in_user_message is defined %}\\n    {%- set tools_in_user_message = true %}\\n{%- endif %}\\n{%- if not date_string is defined %}\\n    {%- if strftime_now is defined %}\\n        {%- set date_string = strftime_now(\\\"%d %b %Y\\\") %}\\n    {%- else %}\\n        {%- set date_string = \\\"26 Jul 2024\\\" %}\\n    {%- endif %}\\n{%- endif %}\\n{%- if not tools is defined %}\\n    {%- set tools = none %}\\n{%- endif %}\\n\\n{#- This block extracts the system message, so we can slot it into the right place. #}\\n{%- if messages[0]['role'] == 'system' %}\\n    {%- set system_message = messages[0]['content']|trim %}\\n    {%- set messages = messages[1:] %}\\n{%- else %}\\n    {%- set system_message = \\\"\\\" %}\\n{%- endif %}\\n\\n{#- System message #}\\n{{- \\\"<|start_header_id|>system<|end_header_id|>\\\\n\\\\n\\\" }}\\n{%- if tools is not none %}\\n    {{- \\\"Environment: ipython\\\\n\\\" }}\\n{%- endif %}\\n{{- \\\"Cutting Knowledge Date: December 2023\\\\n\\\" }}\\n{{- \\\"Today Date: \\\" + date_string + \\\"\\\\n\\\\n\\\" }}\\n{%- if tools is not none and not tools_in_user_message %}\\n    {{- \\\"You have access to the following functions. To call a function, please respond with JSON for a function call.\\\" }}\\n    {{- 'Respond in the format {\\\"name\\\": function name, \\\"parameters\\\": dictionary of argument name and its value}.' }}\\n    {{- \\\"Do not use variables.\\\\n\\\\n\\\" }}\\n    {%- for t in tools %}\\n        {{- t | tojson(indent=4) }}\\n        {{- \\\"\\\\n\\\\n\\\" }}\\n    {%- endfor %}\\n{%- endif %}\\n{{- system_message }}\\n{{- \\\"<|eot_id|>\\\" }}\\n\\n{#- Custom tools are passed in a user message with some extra guidance #}\\n{%- if tools_in_user_message and not tools is none %}\\n    {#- Extract the first user message so we can plug it in here #}\\n    {%- if messages | length != 0 %}\\n        {%- set first_user_message = messages[0]['content']|trim %}\\n        {%- set messages = messages[1:] %}\\n    {%- else %}\\n        {{- raise_exception(\\\"Cannot put tools in the first user message when there's no first user message!\\\") }}\\n{%- endif %}\\n    {{- '<|start_header_id|>user<|end_header_id|>\\\\n\\\\n' -}}\\n    {{- \\\"Given the following functions, please respond with a JSON for a function call \\\" }}\\n    {{- \\\"with its proper arguments that best answers the given prompt.\\\\n\\\\n\\\" }}\\n    {{- 'Respond in the format {\\\"name\\\": function name, \\\"parameters\\\": dictionary of argument name and its value}.' }}\\n    {{- \\\"Do not use variables.\\\\n\\\\n\\\" }}\\n    {%- for t in tools %}\\n        {{- t | tojson(indent=4) }}\\n        {{- \\\"\\\\n\\\\n\\\" }}\\n    {%- endfor %}\\n    {{- first_user_message + \\\"<|eot_id|>\\\"}}\\n{%- endif %}\\n\\n{%- for message in messages %}\\n    {%- if not (message.role == 'ipython' or message.role == 'tool' or 'tool_calls' in message) %}\\n        {{- '<|start_header_id|>' + message['role'] + '<|end_header_id|>\\\\n\\\\n'+ message['content'] | trim + '<|eot_id|>' }}\\n    {%- elif 'tool_calls' in message %}\\n        {%- if not message.tool_calls|length == 1 %}\\n            {{- raise_exception(\\\"This model only supports single tool-calls at once!\\\") }}\\n        {%- endif %}\\n        {%- set tool_call = message.tool_calls[0].function %}\\n        {{- '<|start_header_id|>assistant<|end_header_id|>\\\\n\\\\n' -}}\\n        {{- '{\\\"name\\\": \\\"' + tool_call.name + '\\\", ' }}\\n        {{- '\\\"parameters\\\": ' }}\\n        {{- tool_call.arguments | tojson }}\\n        {{- \\\"}\\\" }}\\n        {{- \\\"<|eot_id|>\\\" }}\\n    {%- elif message.role == \\\"tool\\\" or message.role == \\\"ipython\\\" %}\\n        {{- \\\"<|start_header_id|>ipython<|end_header_id|>\\\\n\\\\n\\\" }}\\n        {%- if message.content is mapping or message.content is iterable %}\\n            {{- message.content | tojson }}\\n        {%- else %}\\n            {{- message.content }}\\n        {%- endif %}\\n        {{- \\\"<|eot_id|>\\\" }}\\n    {%- endif %}\\n{%- endfor %}\\n{%- if add_generation_prompt %}\\n    {{- '<|start_header_id|>assistant<|end_header_id|>\\\\n\\\\n' }}\\n{%- endif %}\\n\",\n",
      "      \"stop\": [\n",
      "        \"<|eot_id|>\",\n",
      "        \"<|eom_id|>\"\n",
      "      ],\n",
      "      \"bos_token\": \"<|begin_of_text|>\",\n",
      "      \"eos_token\": \"<|eot_id|>\"\n",
      "    },\n",
      "    \"pricing\": {\n",
      "      \"hourly\": 0,\n",
      "      \"input\": 0.060000000000000005,\n",
      "      \"output\": 0.060000000000000005,\n",
      "      \"base\": 0,\n",
      "      \"finetune\": 0\n",
      "    }\n",
      "  },\n",
      "  {\n",
      "    \"id\": \"meta-llama/Llama-3.2-11B-Vision-Instruct-Turbo\",\n",
      "    \"object\": \"model\",\n",
      "    \"created\": 1727218691,\n",
      "    \"type\": \"chat\",\n",
      "    \"running\": false,\n",
      "    \"display_name\": \"Meta Llama 3.2 11B Vision Instruct Turbo\",\n",
      "    \"organization\": \"Meta\",\n",
      "    \"link\": \"https://huggingface.co/meta-llama/Meta-Llama-3.1-405B-Instruct\",\n",
      "    \"license\": \"llama\",\n",
      "    \"context_length\": 131072,\n",
      "    \"config\": {\n",
      "      \"chat_template\": \"{% for message in messages %}\\n{% if loop.index0 == 0 %}{{ bos_token }}{% endif %}\\n{{ '<|start_header_id|>' + message['role'] + '<|end_header_id|>\\\\n\\\\n' }}\\n{% if message['content'] is string %}\\n{{ message['content'] }}\\n{% else %}\\n{% for content in message['content'] | sort(attribute=\\\"type\\\") %}\\n{% if content['type'] == 'image' %}\\n{{ '<|image|>' }}\\n{% elif content['type'] == 'text' %}\\n{{ content['text'] }}\\n{% endif %}\\n{% endfor %}\\n{% endif %}\\n{{ '<|eot_id|>' }}\\n{% endfor %}\\n{% if add_generation_prompt %}\\n{{ '<|start_header_id|>assistant<|end_header_id|>\\\\n\\\\n' }}\\n{% endif %}\",\n",
      "      \"stop\": [\n",
      "        \"<|eot_id|>\",\n",
      "        \"<|eom_id|>\"\n",
      "      ],\n",
      "      \"bos_token\": \"<|begin_of_text|>\",\n",
      "      \"eos_token\": \"<|eot_id|>\"\n",
      "    },\n",
      "    \"pricing\": {\n",
      "      \"hourly\": 0,\n",
      "      \"input\": 0.18000000000000002,\n",
      "      \"output\": 0.18000000000000002,\n",
      "      \"base\": 0,\n",
      "      \"finetune\": 0\n",
      "    }\n",
      "  },\n",
      "  {\n",
      "    \"id\": \"meta-llama/Llama-3.3-70B-Instruct-Turbo-Free\",\n",
      "    \"object\": \"model\",\n",
      "    \"created\": 1733967427,\n",
      "    \"type\": \"chat\",\n",
      "    \"running\": false,\n",
      "    \"display_name\": \"Meta Llama 3.3 70B Instruct Turbo Free\",\n",
      "    \"organization\": \"Meta\",\n",
      "    \"link\": \"https://huggingface.co/meta-llama/Llama-3.3-70B-Instruct\",\n",
      "    \"license\": \"Llama-3.3 (Other)\",\n",
      "    \"context_length\": 131072,\n",
      "    \"config\": {\n",
      "      \"chat_template\": \"{{- bos_token }}\\n{%- if custom_tools is defined %}\\n    {%- set tools = custom_tools %}\\n{%- endif %}\\n{%- if not tools_in_user_message is defined %}\\n    {%- set tools_in_user_message = true %}\\n{%- endif %}\\n{%- if not date_string is defined %}\\n    {%- set date_string = \\\"26 Jul 2024\\\" %}\\n{%- endif %}\\n\\n{#- This block extracts the system message, so we can slot it into the right place. #}\\n{%- if messages[0]['role'] == 'system' %}\\n    {%- set system_message = messages[0]['content']|trim %}\\n    {%- set messages = messages[1:] %}\\n{%- else %}\\n    {%- set system_message = \\\"\\\" %}\\n{%- endif %}\\n\\n{#- System message + builtin tools #}\\n{{- \\\"<|start_header_id|>system<|end_header_id|>\\n\\n\\\" }}\\n{%- if builtin_tools is defined or tools %}\\n    {{- \\\"Environment: ipython\\n\\\" }}\\n{%- endif %}\\n{%- if builtin_tools is defined %}\\n    {{- \\\"Tools: \\\" + builtin_tools | reject('equalto', 'code_interpreter') | join(\\\", \\\") + \\\"\\n\\n\\\"}}\\n{%- endif %}\\n{{- \\\"Cutting Knowledge Date: December 2023\\n\\\" }}\\n{{- \\\"Today Date: \\\" + date_string + \\\"\\n\\n\\\" }}\\n{%- if tools %}\\n    {{- \\\"You have access to the following functions:\\n\\n\\\" }}{%- for t in tools %}\\n        {{- \\\"Use the function '\\\" + t.function.name + \\\"' to '\\\" + t.function.description + \\\"'\\n\\\" }}\\n        {{- t.function | dump(4) }}\\n        {{- \\\"\\n\\n\\\" }}\\n    {%- endfor %}\\n{% raw %}If a you choose to call a function ONLY reply in the following format:\\n<{start_tag}={function_name}>{parameters}{end_tag}\\nwhere\\n\\nstart_tag => `<function`\\nparameters => a JSON dict with the function argument name as key and function argument value as value.\\nend_tag => `</function>`\\n\\nHere is an example,\\n<function=example_function_name>{\\\"example_name\\\": \\\"example_value\\\"}</function>\\n\\nReminder:\\n- Function calls MUST follow the specified format\\n- Required parameters MUST be specified\\n- Only call one function at a time\\n- Put the entire function call reply on one line\\n- Always add your sources when using search results to answer the user query\\n\\n{% endraw %}{%- endif %}\\n{{- system_message }}\\n{{- \\\"<|eot_id|>\\\" }}\\n\\n{%- for message in messages %}\\n    {%- if not (message.role == 'ipython' or message.role == 'tool' or 'tool_calls' in message) %}\\n        {{- '<|start_header_id|>' + message['role'] + '<|end_header_id|>\\n\\n'+ message['content'] | trim + '<|eot_id|>' }}\\n    {%- elif 'tool_calls' in message %}\\n        {%- if not message.tool_calls|length == 1 %}\\n            {{- raise_exception(\\\"This model only supports single tool-calls at once!\\\") }}\\n        {%- endif %}\\n        {%- set tool_call = message.tool_calls[0].function %}\\n        {%- if builtin_tools is defined and tool_call.name in builtin_tools %}\\n            {{- '<|start_header_id|>assistant<|end_header_id|>\\n\\n' -}}\\n            {{- \\\"<|python_tag|>\\\" + tool_call.name + \\\".call(\\\" }}\\n            {%- for arg_name, arg_val in tool_call.arguments | items %}\\n                {{- arg_name + '=\\\"' + arg_val + '\\\"' }}\\n                {%- if not loop.last %}\\n                    {{- \\\", \\\" }}\\n                {%- endif %}\\n                {%- endfor %}\\n            {{- \\\")\\\" }}\\n        {%- else  %}\\n            {{- '<|start_header_id|>assistant<|end_header_id|>\\n\\n' -}}\\n            {{- '{\\\"name\\\": \\\"' + tool_call.name + '\\\", ' }}\\n            {{- '\\\"parameters\\\": ' }}\\n            {{- tool_call.arguments | dump }}\\n            {{- \\\"}\\\" }}\\n        {%- endif %}\\n        {%- if builtin_tools is defined %}\\n            {#- This means we're in ipython mode #}\\n            {{- \\\"<|eom_id|>\\\" }}\\n        {%- else %}\\n            {{- \\\"<|eot_id|>\\\" }}\\n        {%- endif %}\\n    {%- elif message.role == \\\"tool\\\" or message.role == \\\"ipython\\\" %}\\n        {{- \\\"<|start_header_id|>ipython<|end_header_id|>\\n\\n\\\" }}\\n        {%- if message.content is mapping or message.content is iterable %}\\n            {{- message.content | dump }}\\n        {%- else %}\\n            {{- message.content }}\\n        {%- endif %}\\n        {{- \\\"<|eot_id|>\\\" }}\\n    {%- endif %}\\n{%- endfor %}\\n{%- if add_generation_prompt %}\\n    {{- '<|start_header_id|>assistant<|end_header_id|>\\n\\n' }}{%- endif %}\",\n",
      "      \"stop\": [\n",
      "        \"<|eot_id|>\",\n",
      "        \"<|eom_id|>\"\n",
      "      ],\n",
      "      \"bos_token\": \"<|begin_of_text|>\",\n",
      "      \"eos_token\": \"<|eot_id|>\"\n",
      "    },\n",
      "    \"pricing\": {\n",
      "      \"hourly\": 0,\n",
      "      \"input\": 0,\n",
      "      \"output\": 0,\n",
      "      \"base\": 0,\n",
      "      \"finetune\": 0\n",
      "    }\n",
      "  },\n",
      "  {\n",
      "    \"id\": \"scb10x/scb10x-llama3-1-typhoon2-70b-instruct\",\n",
      "    \"object\": \"model\",\n",
      "    \"created\": 1743036812,\n",
      "    \"type\": \"chat\",\n",
      "    \"running\": false,\n",
      "    \"display_name\": \"Typhoon 2 70B Instruct\",\n",
      "    \"link\": \"https://huggingface.co/api/models/scb10x/llama3.1-typhoon2-70b-instruct\",\n",
      "    \"license\": \"llama3.1\",\n",
      "    \"context_length\": 8192,\n",
      "    \"config\": {\n",
      "      \"chat_template\": \"{{- bos_token }}\\n{%- if custom_tools is defined %}\\n    {%- set tools = custom_tools %}\\n{%- endif %}\\n{%- if not date_string is defined %}\\n    {%- set date_string = \\\"26 Jul 2024\\\" %}\\n{%- endif %}\\n{%- if not tools is defined %}\\n    {%- set tools = none %}\\n{%- endif %}\\n\\n{#- This block extracts the system message, so we can slot it into the right place. #}\\n{%- if messages[0]['role'] == 'system' %}\\n    {%- set system_message = messages[0]['content']|trim %}\\n    {%- set messages = messages[1:] %}\\n{%- else %}\\n    {%- set system_message = \\\"\\\" %}\\n{%- endif %}\\n\\n{#- System message + builtin tools #}\\n{{- \\\"<|start_header_id|>system<|end_header_id|>\\\\n\\\\n\\\" }}\\n{{- \\\"Cutting Knowledge Date: December 2023\\\\n\\\" }}\\n{{- \\\"Today Date: \\\" + date_string + \\\"\\\\n\\\\n\\\" }}\\n{{- system_message }}\\n{%- if tools is not none %}\\n    {{- \\\"\\\\n\\\" }}\\n    {{- \\\"You are given a question and a set of possible functions. Based on the question, you will need to make one or more function/tool calls to achieve the purpose.\\\" }}\\n    {{- \\\"If none of the function can be used, point it out. If the given question lacks the parameters required by the function, also point it out.\\\" }}\\n    {{- \\\"You should only return the function call in tools call sections.\\\" }}\\n    {{- \\\"If you decide to invoke any of the function(s), you MUST put it in the format of [Function(arguments1={{params_name1: params_value1,params_name2: params_value2, ...}},  name1=function_name1), Function(arguments2={{params}},  name2=function_name2) , ...]\\\"}}\\n    {{- \\\"You SHOULD NOT include any other text in the response.\\\\nHere is a list of functions in JSON format that you can invoke.\\\\n\\\" }}\\n    {%- for t in tools %}\\n        {{- t | tojson(indent=4) }}\\n        {{- \\\"\\\\n\\\\n\\\" }}\\n    {%- endfor %}\\n{%- endif %}\\n{{- \\\"<|eot_id|>\\\" }}\\n\\n\\n{%- for message in messages %}\\n    {%- if not (message.role == 'tool') %}\\n        {{- '<|start_header_id|>' + message['role'] + '<|end_header_id|>\\\\n\\\\n'+ message['content'] | trim + '<|eot_id|>' }}\\n    {%- elif message.role == \\\"tool\\\" %}\\n        {{- \\\"<|start_header_id|>tool<|end_header_id|>\\\\n\\\\n\\\" }}\\n        {%- if message.content is mapping or message.content is iterable %}\\n            {{- message.content | tojson }}\\n        {%- else %}\\n            {{- message.content }}\\n        {%- endif %}\\n        {{- \\\"<|eot_id|>\\\" }}\\n    {%- endif %}\\n{%- endfor %}\\n{%- if add_generation_prompt %}\\n    {{- '<|start_header_id|>assistant<|end_header_id|>\\\\n\\\\n' }}\\n{%- endif %}\",\n",
      "      \"stop\": [\n",
      "        \"<|eot_id|>\"\n",
      "      ],\n",
      "      \"bos_token\": \"<|begin_of_text|>\",\n",
      "      \"eos_token\": \"<|eot_id|>\"\n",
      "    },\n",
      "    \"pricing\": {\n",
      "      \"hourly\": 0,\n",
      "      \"input\": 0.88,\n",
      "      \"output\": 0.88,\n",
      "      \"base\": 0,\n",
      "      \"finetune\": 0\n",
      "    }\n",
      "  },\n",
      "  {\n",
      "    \"id\": \"meta-llama/Llama-3.2-90B-Vision-Instruct-Turbo\",\n",
      "    \"object\": \"model\",\n",
      "    \"created\": 1727227657,\n",
      "    \"type\": \"chat\",\n",
      "    \"running\": false,\n",
      "    \"display_name\": \"Meta Llama 3.2 90B Vision Instruct Turbo\",\n",
      "    \"organization\": \"Meta\",\n",
      "    \"link\": \"https://huggingface.co/meta-llama/Llama-3.2-90B-Vision-Instruct\",\n",
      "    \"license\": \"llama\",\n",
      "    \"context_length\": 131072,\n",
      "    \"config\": {\n",
      "      \"chat_template\": \"{% for message in messages %}\\n{% if loop.index0 == 0 %}{{ bos_token }}{% endif %}\\n{{ '<|start_header_id|>' + message['role'] + '<|end_header_id|>\\\\n\\\\n' }}\\n{% if message['content'] is string %}\\n{{ message['content'] }}\\n{% else %}\\n{% for content in message['content'] | sort(attribute=\\\"type\\\") %}\\n{% if content['type'] == 'image' %}\\n{{ '<|image|>' }}\\n{% elif content['type'] == 'text' %}\\n{{ content['text'] }}\\n{% endif %}\\n{% endfor %}\\n{% endif %}\\n{{ '<|eot_id|>' }}\\n{% endfor %}\\n{% if add_generation_prompt %}\\n{{ '<|start_header_id|>assistant<|end_header_id|>\\\\n\\\\n' }}\\n{% endif %}\",\n",
      "      \"stop\": [\n",
      "        \"<|eot_id|>\",\n",
      "        \"<|eom_id|>\"\n",
      "      ],\n",
      "      \"bos_token\": \"<|begin_of_text|>\",\n",
      "      \"eos_token\": \"<|eot_id|>\"\n",
      "    },\n",
      "    \"pricing\": {\n",
      "      \"hourly\": 0,\n",
      "      \"input\": 1.2,\n",
      "      \"output\": 1.2,\n",
      "      \"base\": 0,\n",
      "      \"finetune\": 0\n",
      "    }\n",
      "  },\n",
      "  {\n",
      "    \"id\": \"deepseek-ai/DeepSeek-V3\",\n",
      "    \"object\": \"model\",\n",
      "    \"created\": 1735450433,\n",
      "    \"type\": \"chat\",\n",
      "    \"running\": false,\n",
      "    \"display_name\": \"DeepSeek V3\",\n",
      "    \"organization\": \"DeepSeek\",\n",
      "    \"link\": \"https://huggingface.co/deepseek-ai/DeepSeek-V3\",\n",
      "    \"context_length\": 131072,\n",
      "    \"config\": {\n",
      "      \"chat_template\": \"{% if not add_generation_prompt is defined %}{% set add_generation_prompt = false %}{% endif %}{% set ns = namespace(is_first=false, is_tool=false, is_output_first=true, system_prompt='', is_first_sp=true) %}{%- for message in messages %}{%- if message['role'] == 'system' %}{%- if ns.is_first_sp %}{% set ns.system_prompt = ns.system_prompt + message['content'] %}{% set ns.is_first_sp = false %}{%- else %}{% set ns.system_prompt = ns.system_prompt + '\\n\\n' + message['content'] %}{%- endif %}{%- endif %}{%- endfor %}{{bos_token}}{{ns.system_prompt}}{%- for message in messages %}{%- if message['role'] == 'user' %}{%- set ns.is_tool = false -%}{{'<\\uff5cUser\\uff5c>' + message['content']}}{%- endif %}{%- if message['role'] == 'assistant' and message['content'] is none %}{%- set ns.is_tool = false -%}{%- for tool in message['tool_calls']%}{%- if not ns.is_first %}{{'<\\uff5cAssistant\\uff5c><\\uff5ctool\\u2581calls\\u2581begin\\uff5c><\\uff5ctool\\u2581call\\u2581begin\\uff5c>' + tool['type'] + '<\\uff5ctool\\u2581sep\\uff5c>' + tool['function']['name'] + '\\n' + '```json' + '\\n' + tool['function']['arguments'] + '\\n' + '```' + '<\\uff5ctool\\u2581call\\u2581end\\uff5c>'}}{%- set ns.is_first = true -%}{%- else %}{{'\\n' + '<\\uff5ctool\\u2581call\\u2581begin\\uff5c>' + tool['type'] + '<\\uff5ctool\\u2581sep\\uff5c>' + tool['function']['name'] + '\\n' + '```json' + '\\n' + tool['function']['arguments'] + '\\n' + '```' + '<\\uff5ctool\\u2581call\\u2581end\\uff5c>'}}{{'<\\uff5ctool\\u2581calls\\u2581end\\uff5c><\\uff5cend\\u2581of\\u2581sentence\\uff5c>'}}{%- endif %}{%- endfor %}{%- endif %}{%- if message['role'] == 'assistant' and message['content'] is not none %}{%- if ns.is_tool %}{{'<\\uff5ctool\\u2581outputs\\u2581end\\uff5c>' + message['content'] + '<\\uff5cend\\u2581of\\u2581sentence\\uff5c>'}}{%- set ns.is_tool = false -%}{%- else %}{{'<\\uff5cAssistant\\uff5c>' + message['content'] + '<\\uff5cend\\u2581of\\u2581sentence\\uff5c>'}}{%- endif %}{%- endif %}{%- if message['role'] == 'tool' %}{%- set ns.is_tool = true -%}{%- if ns.is_output_first %}{{'<\\uff5ctool\\u2581outputs\\u2581begin\\uff5c><\\uff5ctool\\u2581output\\u2581begin\\uff5c>' + message['content'] + '<\\uff5ctool\\u2581output\\u2581end\\uff5c>'}}{%- set ns.is_output_first = false %}{%- else %}{{'\\n<\\uff5ctool\\u2581output\\u2581begin\\uff5c>' + message['content'] + '<\\uff5ctool\\u2581output\\u2581end\\uff5c>'}}{%- endif %}{%- endif %}{%- endfor -%}{% if ns.is_tool %}{{'<\\uff5ctool\\u2581outputs\\u2581end\\uff5c>'}}{% endif %}{% if add_generation_prompt and not ns.is_tool %}{{'<\\uff5cAssistant\\uff5c>'}}{% endif %}\",\n",
      "      \"stop\": [\n",
      "        \"<\\uff5cend\\u2581of\\u2581sentence\\uff5c>\"\n",
      "      ],\n",
      "      \"bos_token\": \"<\\uff5cbegin\\u2581of\\u2581sentence\\uff5c>\",\n",
      "      \"eos_token\": \"<\\uff5cend\\u2581of\\u2581sentence\\uff5c>\",\n",
      "      \"max_output_length\": 12288\n",
      "    },\n",
      "    \"pricing\": {\n",
      "      \"hourly\": 0,\n",
      "      \"input\": 1.25,\n",
      "      \"output\": 1.25,\n",
      "      \"base\": 0,\n",
      "      \"finetune\": 0\n",
      "    }\n",
      "  },\n",
      "  {\n",
      "    \"id\": \"deepseek-ai/DeepSeek-V3-p-dp\",\n",
      "    \"object\": \"model\",\n",
      "    \"created\": 1740979667,\n",
      "    \"type\": \"chat\",\n",
      "    \"running\": false,\n",
      "    \"display_name\": \"DeepSeek V3\",\n",
      "    \"organization\": \"DeepSeek\",\n",
      "    \"link\": \"https://huggingface.co/deepseek-ai/DeepSeek-V3\",\n",
      "    \"context_length\": 131072,\n",
      "    \"config\": {\n",
      "      \"chat_template\": \"{% if not add_generation_prompt is defined %}{% set add_generation_prompt = false %}{% endif %}{% set is_first = false %}{% set is_tool = false %}{% set is_output_first = true %}{% set system_prompt='' %}{% set is_first_sp = true %}{%- for message in messages %}{%- if message['role'] == 'system' %}{%- if is_first_sp %}{% set system_prompt = system_prompt + message['content'] %}{% set is_first_sp = false %}{%- else %}{% set system_prompt = system_prompt + '\\n\\n' + message['content'] %}{%- endif %}{%- endif %}{%- endfor %}{% if tools %}{% set system_prompt = system_prompt + '\\n\\nYou can access the following functions. Use them if required -\\n' + (tools | tojson) + '\\n' %}{% endif %}{{bos_token}}{{system_prompt}}{%- for message in messages %}{%- if message['role'] == 'user' %}{%- set is_tool = false -%}{{'<\\uff5cUser\\uff5c>' + message['content']}}{%- endif %}{%- if message['role'] == 'assistant' and message['content'] is none %}{%- set is_tool = false -%}{%- for tool in message['tool_calls']%}{%- if not is_first %}{{'<\\uff5cAssistant\\uff5c><\\uff5ctool\\u2581calls\\u2581begin\\uff5c><\\uff5ctool\\u2581call\\u2581begin\\uff5c>' + tool['type'] + '<\\uff5ctool\\u2581sep\\uff5c>' + tool['function']['name'] + '\\n' + '```json' + '\\n' + tool['function']['arguments'] + '\\n' + '```' + '<\\uff5ctool\\u2581call\\u2581end\\uff5c>'}}{%- set is_first = true -%}{%- else %}{{'\\n' + '<\\uff5ctool\\u2581call\\u2581begin\\uff5c>' + tool['type'] + '<\\uff5ctool\\u2581sep\\uff5c>' + tool['function']['name'] + '\\n' + '```json' + '\\n' + tool['function']['arguments'] + '\\n' + '```' + '<\\uff5ctool\\u2581call\\u2581end\\uff5c>'}}{{'<\\uff5ctool\\u2581calls\\u2581end\\uff5c><\\uff5cend\\u2581of\\u2581sentence\\uff5c>'}}{%- endif %}{%- endfor %}{%- endif %}{%- if message['role'] == 'assistant' and message['content'] is not none %}{%- if is_tool %}{{'<\\uff5ctool\\u2581outputs\\u2581end\\uff5c>' + message['content'] + '<\\uff5cend\\u2581of\\u2581sentence\\uff5c>'}}{%- set is_tool = false -%}{%- else %}{{'<\\uff5cAssistant\\uff5c>' + message['content'] + '<\\uff5cend\\u2581of\\u2581sentence\\uff5c>'}}{%- endif %}{%- endif %}{%- if message['role'] == 'tool' %}{%- set is_tool = true -%}{%- if is_output_first %}{{'<\\uff5ctool\\u2581outputs\\u2581begin\\uff5c><\\uff5ctool\\u2581output\\u2581begin\\uff5c>' + message['content'] + '<\\uff5ctool\\u2581output\\u2581end\\uff5c>'}}{%- set is_output_first = false %}{%- else %}{{'\\n<\\uff5ctool\\u2581output\\u2581begin\\uff5c>' + message['content'] + '<\\uff5ctool\\u2581output\\u2581end\\uff5c>'}}{%- endif %}{%- endif %}{%- endfor -%}{% if is_tool %}{{'<\\uff5ctool\\u2581outputs\\u2581end\\uff5c>'}}{% endif %}{% if add_generation_prompt and not is_tool %}{{'<\\uff5cAssistant\\uff5c>'}}{% endif %}\",\n",
      "      \"stop\": [\n",
      "        \"<\\uff5cend\\u2581of\\u2581sentence\\uff5c>\"\n",
      "      ],\n",
      "      \"bos_token\": \"<\\uff5cbegin\\u2581of\\u2581sentence\\uff5c>\",\n",
      "      \"eos_token\": \"<\\uff5cend\\u2581of\\u2581sentence\\uff5c>\",\n",
      "      \"max_output_length\": 32768\n",
      "    },\n",
      "    \"pricing\": {\n",
      "      \"hourly\": 0,\n",
      "      \"input\": 1.25,\n",
      "      \"output\": 1.25,\n",
      "      \"base\": 0,\n",
      "      \"finetune\": 0\n",
      "    }\n",
      "  },\n",
      "  {\n",
      "    \"id\": \"deepseek-ai/DeepSeek-R1-Distill-Llama-70B-free\",\n",
      "    \"object\": \"model\",\n",
      "    \"created\": 1738187359,\n",
      "    \"type\": \"chat\",\n",
      "    \"running\": false,\n",
      "    \"display_name\": \"DeepSeek R1 Distill Llama 70B Free\",\n",
      "    \"organization\": \"DeepSeek\",\n",
      "    \"link\": \"https://huggingface.co/deepseek-ai/DeepSeek-R1-Distill-Llama-70B\",\n",
      "    \"license\": \"mit\",\n",
      "    \"context_length\": 8192,\n",
      "    \"config\": {\n",
      "      \"chat_template\": \"{% if not add_generation_prompt is defined %}{% set add_generation_prompt = false %}{% endif %}{% set system_prompt='' %}{% set is_tool = false %}{%- for message in messages %}{%- if message['role'] == 'system' %}{% set system_prompt = message['content'] %}{%- endif %}{%- endfor %}{{bos_token}}{{system_prompt}}{%- for message in messages %}{%- if message['role'] == 'user' %}{%- set is_tool = false -%}{{'<\\uff5cUser\\uff5c>' + message['content']}}{%- endif %}{%- if message['role'] == 'assistant' and message['content'] is none %}{%- set is_tool = false -%}{%- set is_output_first = true -%}{%- set is_first = false -%}{%- for tool in message['tool_calls']%}{%- if is_first %}{{'<\\uff5cAssistant\\uff5c><\\uff5ctool\\u2581calls\\u2581begin\\uff5c><\\uff5ctool\\u2581call\\u2581begin\\uff5c>' + tool['type'] + '<\\uff5ctool\\u2581sep\\uff5c>' + tool['function']['name'] + '\\\\n' + '```json' + '\\\\n' + tool['function']['arguments'] + '\\\\n' + '```' + '<\\uff5ctool\\u2581call\\u2581end\\uff5c>'}}{%- set is_first = true -%}{%- else %}{{'\\\\n' + '<\\uff5ctool\\u2581call\\u2581begin\\uff5c>' + tool['type'] + '<\\uff5ctool\\u2581sep\\uff5c>' + tool['function']['name'] + '\\\\n' + '```json' + '\\\\n' + tool['function']['arguments'] + '\\\\n' + '```' + '<\\uff5ctool\\u2581call\\u2581end\\uff5c>'}}{{'<\\uff5ctool\\u2581calls\\u2581end\\uff5c><\\uff5cend\\u2581of\\u2581sentence\\uff5c>'}}{%- endif %}{%- endfor %}{%- endif %}{%- if message['role'] == 'assistant' and message['content'] is not none %}{%- if is_tool %}{{'<\\uff5ctool\\u2581outputs\\u2581end\\uff5c>' + message['content'] + '<\\uff5cend\\u2581of\\u2581sentence\\uff5c>'}}{%- set is_tool = false -%}{%- else %}{% set content = message['content'] %}{% if '</think>' in content %}{% set parts = content | split('</think>') %}{% set content = parts[parts.length-1] %}{% endif %}{{'<\\uff5cAssistant\\uff5c>' + content + '<\\uff5cend\\u2581of\\u2581sentence\\uff5c>'}}{%- endif %}{%- endif %}{%- if message['role'] == 'tool' %}{%- set is_tool = true -%}{%- if is_output_first %}{{'<\\uff5ctool\\u2581outputs\\u2581begin\\uff5c><\\uff5ctool\\u2581output\\u2581begin\\uff5c>' + message['content'] + '<\\uff5ctool\\u2581output\\u2581end\\uff5c>'}}{%- set is_output_first = false %}{%- else %}{{'\\\\n<\\uff5ctool\\u2581output\\u2581begin\\uff5c>' + message['content'] + '<\\uff5ctool\\u2581output\\u2581end\\uff5c>'}}{%- endif %}{%- endif %}{%- endfor -%}{% if is_tool %}{{'<\\uff5ctool\\u2581outputs\\u2581end\\uff5c>'}}{% endif %}{% if add_generation_prompt and not is_tool %}{{'<\\uff5cAssistant\\uff5c>'}}{% endif %}\",\n",
      "      \"stop\": [\n",
      "        \"<\\uff5cend\\u2581of\\u2581sentence\\uff5c>\"\n",
      "      ],\n",
      "      \"bos_token\": \"<\\uff5cbegin\\u2581of\\u2581sentence\\uff5c>\",\n",
      "      \"eos_token\": \"<\\uff5cend\\u2581of\\u2581sentence\\uff5c>\"\n",
      "    },\n",
      "    \"pricing\": {\n",
      "      \"hourly\": 0,\n",
      "      \"input\": 0,\n",
      "      \"output\": 0,\n",
      "      \"base\": 0,\n",
      "      \"finetune\": 0\n",
      "    }\n",
      "  },\n",
      "  {\n",
      "    \"id\": \"deepseek-ai/DeepSeek-R1-Distill-Llama-70B\",\n",
      "    \"object\": \"model\",\n",
      "    \"created\": 1738048961,\n",
      "    \"type\": \"chat\",\n",
      "    \"running\": false,\n",
      "    \"display_name\": \"DeepSeek R1 Distill Llama 70B\",\n",
      "    \"organization\": \"DeepSeek\",\n",
      "    \"link\": \"https://huggingface.co/deepseek-ai/DeepSeek-R1-Distill-Llama-70B\",\n",
      "    \"license\": \"mit\",\n",
      "    \"context_length\": 131072,\n",
      "    \"config\": {\n",
      "      \"chat_template\": \"{% if not add_generation_prompt is defined %}{% set add_generation_prompt = false %}{% endif %}{% set system_prompt='' %}{% set is_tool = false %}{%- for message in messages %}{%- if message['role'] == 'system' %}{% set system_prompt = message['content'] %}{%- endif %}{%- endfor %}{{bos_token}}{{system_prompt}}{%- for message in messages %}{%- if message['role'] == 'user' %}{%- set is_tool = false -%}{{'<\\uff5cUser\\uff5c>' + message['content']}}{%- endif %}{%- if message['role'] == 'assistant' and message['content'] is none %}{%- set is_tool = false -%}{%- set is_output_first = true -%}{%- set is_first = false -%}{%- for tool in message['tool_calls']%}{%- if is_first %}{{'<\\uff5cAssistant\\uff5c><\\uff5ctool\\u2581calls\\u2581begin\\uff5c><\\uff5ctool\\u2581call\\u2581begin\\uff5c>' + tool['type'] + '<\\uff5ctool\\u2581sep\\uff5c>' + tool['function']['name'] + '\\\\n' + '```json' + '\\\\n' + tool['function']['arguments'] + '\\\\n' + '```' + '<\\uff5ctool\\u2581call\\u2581end\\uff5c>'}}{%- set is_first = true -%}{%- else %}{{'\\\\n' + '<\\uff5ctool\\u2581call\\u2581begin\\uff5c>' + tool['type'] + '<\\uff5ctool\\u2581sep\\uff5c>' + tool['function']['name'] + '\\\\n' + '```json' + '\\\\n' + tool['function']['arguments'] + '\\\\n' + '```' + '<\\uff5ctool\\u2581call\\u2581end\\uff5c>'}}{{'<\\uff5ctool\\u2581calls\\u2581end\\uff5c><\\uff5cend\\u2581of\\u2581sentence\\uff5c>'}}{%- endif %}{%- endfor %}{%- endif %}{%- if message['role'] == 'assistant' and message['content'] is not none %}{%- if is_tool %}{{'<\\uff5ctool\\u2581outputs\\u2581end\\uff5c>' + message['content'] + '<\\uff5cend\\u2581of\\u2581sentence\\uff5c>'}}{%- set is_tool = false -%}{%- else %}{% set content = message['content'] %}{% if '</think>' in content %}{% set parts = content | split('</think>') %}{% set content = parts[parts.length-1] %}{% endif %}{{'<\\uff5cAssistant\\uff5c>' + content + '<\\uff5cend\\u2581of\\u2581sentence\\uff5c>'}}{%- endif %}{%- endif %}{%- if message['role'] == 'tool' %}{%- set is_tool = true -%}{%- if is_output_first %}{{'<\\uff5ctool\\u2581outputs\\u2581begin\\uff5c><\\uff5ctool\\u2581output\\u2581begin\\uff5c>' + message['content'] + '<\\uff5ctool\\u2581output\\u2581end\\uff5c>'}}{%- set is_output_first = false %}{%- else %}{{'\\\\n<\\uff5ctool\\u2581output\\u2581begin\\uff5c>' + message['content'] + '<\\uff5ctool\\u2581output\\u2581end\\uff5c>'}}{%- endif %}{%- endif %}{%- endfor -%}{% if is_tool %}{{'<\\uff5ctool\\u2581outputs\\u2581end\\uff5c>'}}{% endif %}{% if add_generation_prompt and not is_tool %}{{'<\\uff5cAssistant\\uff5c>'}}{% endif %}\",\n",
      "      \"stop\": [\n",
      "        \"<\\uff5cend\\u2581of\\u2581sentence\\uff5c>\"\n",
      "      ],\n",
      "      \"bos_token\": \"<\\uff5cbegin\\u2581of\\u2581sentence\\uff5c>\",\n",
      "      \"eos_token\": \"<\\uff5cend\\u2581of\\u2581sentence\\uff5c>\"\n",
      "    },\n",
      "    \"pricing\": {\n",
      "      \"hourly\": 0,\n",
      "      \"input\": 2,\n",
      "      \"output\": 2,\n",
      "      \"base\": 0,\n",
      "      \"finetune\": 0\n",
      "    }\n",
      "  },\n",
      "  {\n",
      "    \"id\": \"deepseek-ai/DeepSeek-R1-Distill-Qwen-1.5B\",\n",
      "    \"object\": \"model\",\n",
      "    \"created\": 1738185844,\n",
      "    \"type\": \"chat\",\n",
      "    \"running\": false,\n",
      "    \"display_name\": \"DeepSeek R1 Distill Qwen 1.5B\",\n",
      "    \"organization\": \"DeepSeek\",\n",
      "    \"link\": \"https://huggingface.co/deepseek-ai/DeepSeek-R1-Distill-Qwen-1.5B\",\n",
      "    \"license\": \"mit\",\n",
      "    \"context_length\": 131072,\n",
      "    \"config\": {\n",
      "      \"chat_template\": \"{% if not add_generation_prompt %}{% set add_generation_prompt = false %}{% endif %}{# Initialize variables since Nunjucks doesn't support namespace #}{% set is_first = false %}{% set is_tool = false %}{% set is_output_first = true %}{% set system_prompt = '' %}{# Get system prompt #}{% for message in messages %}{% if message.role == 'system' %}{% set system_prompt = message.content %}{% endif %}{% endfor %}{{bos_token}}{{system_prompt}}{% for message in messages %}{% if message.role == 'user' %}{% set is_tool = false %}<\\uff5cUser\\uff5c>{{message.content}}{% endif %}{% if message.role == 'assistant' and not message.content %}{% set is_tool = false %}{% for tool in message.tool_calls %}{% if not is_first %}<\\uff5cAssistant\\uff5c><\\uff5ctool\\u2581calls\\u2581begin\\uff5c><\\uff5ctool\\u2581call\\u2581begin\\uff5c>{{tool.type}}<\\uff5ctool\\u2581sep\\uff5c>{{tool.function.name}}```json{{tool.function.arguments}}```<\\uff5ctool\\u2581call\\u2581end\\uff5c>{% set is_first = true %}{% else %}<\\uff5ctool\\u2581call\\u2581begin\\uff5c>{{tool.type}}<\\uff5ctool\\u2581sep\\uff5c>{{tool.function.name}}```json{{tool.function.arguments}}```<\\uff5ctool\\u2581call\\u2581end\\uff5c><\\uff5ctool\\u2581calls\\u2581end\\uff5c><\\uff5cend\\u2581of\\u2581sentence\\uff5c>{% endif %}{% endfor %}{% endif %}{% if message.role == 'assistant' and message.content %}{% if is_tool %}<\\uff5ctool\\u2581outputs\\u2581end\\uff5c>{{message.content}}<\\uff5cend\\u2581of\\u2581sentence\\uff5c>{% set is_tool = false %}{% else %}{% set content = message.content %}{% if '</think>' in content %}{% set parts = content | split('</think>') %}{% set content = parts[parts.length-1] %}{% endif %}<\\uff5cAssistant\\uff5c>{{content}}<\\uff5cend\\u2581of\\u2581sentence\\uff5c>{% endif %}{% endif %}{% if message.role == 'tool' %}{% set is_tool = true %}{% if is_output_first %}<\\uff5ctool\\u2581outputs\\u2581begin\\uff5c><\\uff5ctool\\u2581output\\u2581begin\\uff5c>{{message.content}}<\\uff5ctool\\u2581output\\u2581end\\uff5c>{% set is_output_first = false %}{% else %}<\\uff5ctool\\u2581output\\u2581begin\\uff5c>{{message.content}}<\\uff5ctool\\u2581output\\u2581end\\uff5c>{% endif %}{% endif %}{% endfor %}{% if is_tool %}<\\uff5ctool\\u2581outputs\\u2581end\\uff5c>{% endif %}{% if add_generation_prompt and not is_tool %}<\\uff5cAssistant\\uff5c>{% endif %}\",\n",
      "      \"stop\": [\n",
      "        \"<\\uff5cend\\u2581of\\u2581sentence\\uff5c>\"\n",
      "      ],\n",
      "      \"bos_token\": \"<\\uff5cbegin\\u2581of\\u2581sentence\\uff5c>\",\n",
      "      \"eos_token\": \"<\\uff5cend\\u2581of\\u2581sentence\\uff5c>\"\n",
      "    },\n",
      "    \"pricing\": {\n",
      "      \"hourly\": 0,\n",
      "      \"input\": 0.18000000000000002,\n",
      "      \"output\": 0.18000000000000002,\n",
      "      \"base\": 0,\n",
      "      \"finetune\": 0\n",
      "    }\n",
      "  },\n",
      "  {\n",
      "    \"id\": \"google/gemma-2-27b-it\",\n",
      "    \"object\": \"model\",\n",
      "    \"created\": 1708648606,\n",
      "    \"type\": \"chat\",\n",
      "    \"running\": false,\n",
      "    \"display_name\": \"Gemma-2 Instruct (27B)\",\n",
      "    \"organization\": \"Google\",\n",
      "    \"link\": \"https://huggingface.co/google/gemma-2b-it\",\n",
      "    \"license\": \"gemma-terms-of-use\",\n",
      "    \"context_length\": 8192,\n",
      "    \"config\": {\n",
      "      \"chat_template\": \"{{ bos_token }}{% for message in messages %}{% if (message['role'] == 'assistant') %}{% set role = 'model' %}{% else %}{% set role = message['role'] %}{% endif %}{{ '<start_of_turn>' + role + '\\n' + message['content'] | trim + '<end_of_turn>\\n' }}{% endfor %}{% if add_generation_prompt %}{{'<start_of_turn>model\\n'}}{% endif %}\",\n",
      "      \"stop\": [\n",
      "        \"<eos>\",\n",
      "        \"<end_of_turn>\"\n",
      "      ],\n",
      "      \"bos_token\": \"<bos>\",\n",
      "      \"eos_token\": \"<end_of_turn>\"\n",
      "    },\n",
      "    \"pricing\": {\n",
      "      \"hourly\": 0,\n",
      "      \"input\": 0.8,\n",
      "      \"output\": 0.8,\n",
      "      \"base\": 0,\n",
      "      \"finetune\": 0\n",
      "    }\n",
      "  }\n",
      "]\n"
     ]
    }
   ],
   "source": [
    "headers = {\n",
    "    \"Authorization\": f\"Bearer {LLAMA_API_KEY}\",\n",
    "    \"Content-Type\": \"application/json\"\n",
    "}\n",
    "\n",
    "response = requests.get(URL, headers=headers)\n",
    "models = response.json()\n",
    "\n",
    "print(json.dumps(models, indent=2))"
   ]
  },
  {
   "cell_type": "code",
   "execution_count": 11,
   "id": "c2872a0c",
   "metadata": {
    "execution": {
     "iopub.execute_input": "2025-03-30T01:16:23.773429Z",
     "iopub.status.busy": "2025-03-30T01:16:23.773095Z",
     "iopub.status.idle": "2025-03-30T01:16:23.781184Z",
     "shell.execute_reply": "2025-03-30T01:16:23.780161Z"
    },
    "papermill": {
     "duration": 0.022476,
     "end_time": "2025-03-30T01:16:23.782931",
     "exception": false,
     "start_time": "2025-03-30T01:16:23.760455",
     "status": "completed"
    },
    "tags": []
   },
   "outputs": [],
   "source": [
    "def ask_together_ai(questions):\n",
    "    retry_delay = 60  \n",
    "\n",
    "    prompt = \"\\n\\n\".join([q for i, q in enumerate(questions)])\n",
    "    prompt += (\n",
    "        \"\\n\\nRespond with only the correct answer as a single letter: A, B, C, or D.\"\n",
    "        \" Do not provide any explanation, reasoning, or additional text.\"\n",
    "        \" Only return one letter per line corresponding to each question.\"\n",
    "    )\n",
    "\n",
    "    headers = {\n",
    "        \"Authorization\": f\"Bearer {LLAMA_API_KEY}\",\n",
    "        \"Content-Type\": \"application/json\"\n",
    "    }\n",
    "    data = {\n",
    "        \"model\": \"meta-llama/Llama-3-70b-chat-hf\",\n",
    "        \"messages\": [{\"role\": \"user\", \"content\": prompt}],\n",
    "        \"temperature\": 0.7\n",
    "    }\n",
    "\n",
    "    while True:\n",
    "        try:\n",
    "            response = requests.post(\"https://api.together.xyz/v1/chat/completions\", headers=headers, json=data)\n",
    "            \n",
    "            if response.status_code == 200:\n",
    "                answers = response.json()[\"choices\"][0][\"message\"][\"content\"].strip().split(\"\\n\")\n",
    "                valid_choices = [\"A\", \"B\", \"C\", \"D\"]\n",
    "                corrected_answers = [ans if ans in valid_choices else random.choice(valid_choices) for ans in answers]\n",
    "\n",
    "                while len(corrected_answers) < len(questions):\n",
    "                    corrected_answers.append(random.choice(valid_choices))\n",
    "\n",
    "                return corrected_answers\n",
    "\n",
    "            elif response.status_code == 429:  \n",
    "                print(f\"Quota exceeded. Retrying in {retry_delay} seconds...\")\n",
    "                time.sleep(retry_delay)\n",
    "            else:\n",
    "                return f\"Lỗi {response.status_code}: {response.text}\"\n",
    "\n",
    "        except requests.RequestException as e:\n",
    "            print(f\"Lỗi mạng: {e}. Đang thử lại sau {retry_delay} giây...\")\n",
    "            time.sleep(retry_delay)"
   ]
  },
  {
   "cell_type": "code",
   "execution_count": 12,
   "id": "c361f72a",
   "metadata": {
    "execution": {
     "iopub.execute_input": "2025-03-30T01:16:23.801879Z",
     "iopub.status.busy": "2025-03-30T01:16:23.801493Z",
     "iopub.status.idle": "2025-03-30T01:16:24.261497Z",
     "shell.execute_reply": "2025-03-30T01:16:24.260397Z"
    },
    "papermill": {
     "duration": 0.471307,
     "end_time": "2025-03-30T01:16:24.263235",
     "exception": false,
     "start_time": "2025-03-30T01:16:23.791928",
     "status": "completed"
    },
    "tags": []
   },
   "outputs": [
    {
     "name": "stdout",
     "output_type": "stream",
     "text": [
      "[\n",
      "  \"D\"\n",
      "]\n"
     ]
    }
   ],
   "source": [
    "question = \"\"\"\n",
    "Question: Consider line 3. Identify the compiler’s response about this line while creating the object-module\n",
    "Int main()\n",
    "{ int 1,N;\n",
    "Fro (I,1 N,1);\n",
    "}\n",
    "A. No compilation error\n",
    "B. Only a lexical error\n",
    "C. Only syntactic errors\n",
    "D. Both lexical and syntactic errors\n",
    "Please only provide the correct answer as one of the options: A, B, C, or D.\n",
    "\"\"\"\n",
    "result = ask_together_ai([question])\n",
    "print(json.dumps(result, indent=2))"
   ]
  },
  {
   "cell_type": "code",
   "execution_count": 13,
   "id": "449df5f0",
   "metadata": {
    "execution": {
     "iopub.execute_input": "2025-03-30T01:16:24.283096Z",
     "iopub.status.busy": "2025-03-30T01:16:24.282581Z",
     "iopub.status.idle": "2025-03-30T01:16:24.289048Z",
     "shell.execute_reply": "2025-03-30T01:16:24.288126Z"
    },
    "papermill": {
     "duration": 0.017962,
     "end_time": "2025-03-30T01:16:24.290657",
     "exception": false,
     "start_time": "2025-03-30T01:16:24.272695",
     "status": "completed"
    },
    "tags": []
   },
   "outputs": [],
   "source": [
    "def generate_answers(df, num_samples, batch_size, is_test=False):\n",
    "    correct_count = 0\n",
    "    llama_answers = []\n",
    "    \n",
    "    for i in tqdm(range(0, num_samples, batch_size), desc=\"Processing Batches\"):\n",
    "        batch_df = df.iloc[i:i+batch_size]\n",
    "        batch_questions = batch_df[\"full_question\"].tolist()\n",
    "        batch_answers = ask_together_ai(batch_questions)\n",
    "        \n",
    "        if len(batch_answers) != len(batch_df):\n",
    "            batch_answers = batch_answers[:len(batch_df)]  \n",
    "        \n",
    "        llama_answers.extend(batch_answers)\n",
    "\n",
    "        if not is_test:\n",
    "            correct_count += sum(1 for pred, true in zip(batch_answers, batch_df[\"answer\"]) if pred == true)\n",
    "\n",
    "    if is_test:\n",
    "        return llama_answers, None\n",
    "    else:\n",
    "        accuracy = correct_count / num_samples * 100\n",
    "        return llama_answers, accuracy"
   ]
  },
  {
   "cell_type": "code",
   "execution_count": 14,
   "id": "e996c84a",
   "metadata": {
    "execution": {
     "iopub.execute_input": "2025-03-30T01:16:24.309278Z",
     "iopub.status.busy": "2025-03-30T01:16:24.308955Z",
     "iopub.status.idle": "2025-03-30T11:45:51.815192Z",
     "shell.execute_reply": "2025-03-30T11:45:51.814130Z"
    },
    "papermill": {
     "duration": 37767.625635,
     "end_time": "2025-03-30T11:45:51.925161",
     "exception": false,
     "start_time": "2025-03-30T01:16:24.299526",
     "status": "completed"
    },
    "tags": []
   },
   "outputs": [
    {
     "name": "stderr",
     "output_type": "stream",
     "text": [
      "Processing Batches:   0%|          | 1/1253 [00:00<11:42,  1.78it/s]"
     ]
    },
    {
     "name": "stdout",
     "output_type": "stream",
     "text": [
      "Quota exceeded. Retrying in 60 seconds...\n"
     ]
    },
    {
     "name": "stderr",
     "output_type": "stream",
     "text": [
      "Processing Batches:   0%|          | 3/1253 [01:02<6:54:06, 19.88s/it] "
     ]
    },
    {
     "name": "stdout",
     "output_type": "stream",
     "text": [
      "Quota exceeded. Retrying in 60 seconds...\n"
     ]
    },
    {
     "name": "stderr",
     "output_type": "stream",
     "text": [
      "Processing Batches:   0%|          | 5/1253 [02:03<8:03:29, 23.24s/it] "
     ]
    },
    {
     "name": "stdout",
     "output_type": "stream",
     "text": [
      "Quota exceeded. Retrying in 60 seconds...\n"
     ]
    },
    {
     "name": "stderr",
     "output_type": "stream",
     "text": [
      "Processing Batches:   1%|          | 7/1253 [03:04<8:27:53, 24.46s/it] "
     ]
    },
    {
     "name": "stdout",
     "output_type": "stream",
     "text": [
      "Quota exceeded. Retrying in 60 seconds...\n"
     ]
    },
    {
     "name": "stderr",
     "output_type": "stream",
     "text": [
      "Processing Batches:   1%|          | 9/1253 [04:06<8:37:12, 24.95s/it] "
     ]
    },
    {
     "name": "stdout",
     "output_type": "stream",
     "text": [
      "Quota exceeded. Retrying in 60 seconds...\n"
     ]
    },
    {
     "name": "stderr",
     "output_type": "stream",
     "text": [
      "Processing Batches:   1%|          | 11/1253 [05:07<8:40:47, 25.16s/it] "
     ]
    },
    {
     "name": "stdout",
     "output_type": "stream",
     "text": [
      "Quota exceeded. Retrying in 60 seconds...\n"
     ]
    },
    {
     "name": "stderr",
     "output_type": "stream",
     "text": [
      "Processing Batches:   1%|          | 13/1253 [06:09<8:43:40, 25.34s/it] "
     ]
    },
    {
     "name": "stdout",
     "output_type": "stream",
     "text": [
      "Quota exceeded. Retrying in 60 seconds...\n"
     ]
    },
    {
     "name": "stderr",
     "output_type": "stream",
     "text": [
      "Processing Batches:   1%|          | 15/1253 [07:11<8:45:47, 25.48s/it] "
     ]
    },
    {
     "name": "stdout",
     "output_type": "stream",
     "text": [
      "Quota exceeded. Retrying in 60 seconds...\n"
     ]
    },
    {
     "name": "stderr",
     "output_type": "stream",
     "text": [
      "Processing Batches:   1%|▏         | 17/1253 [08:12<8:42:49, 25.38s/it] "
     ]
    },
    {
     "name": "stdout",
     "output_type": "stream",
     "text": [
      "Quota exceeded. Retrying in 60 seconds...\n"
     ]
    },
    {
     "name": "stderr",
     "output_type": "stream",
     "text": [
      "Processing Batches:   2%|▏         | 19/1253 [09:13<8:42:26, 25.40s/it] "
     ]
    },
    {
     "name": "stdout",
     "output_type": "stream",
     "text": [
      "Quota exceeded. Retrying in 60 seconds...\n"
     ]
    },
    {
     "name": "stderr",
     "output_type": "stream",
     "text": [
      "Processing Batches:   2%|▏         | 21/1253 [10:15<8:40:27, 25.35s/it] "
     ]
    },
    {
     "name": "stdout",
     "output_type": "stream",
     "text": [
      "Quota exceeded. Retrying in 60 seconds...\n"
     ]
    },
    {
     "name": "stderr",
     "output_type": "stream",
     "text": [
      "Processing Batches:   2%|▏         | 23/1253 [11:16<8:38:40, 25.30s/it] "
     ]
    },
    {
     "name": "stdout",
     "output_type": "stream",
     "text": [
      "Quota exceeded. Retrying in 60 seconds...\n"
     ]
    },
    {
     "name": "stderr",
     "output_type": "stream",
     "text": [
      "Processing Batches:   2%|▏         | 25/1253 [12:17<8:39:16, 25.37s/it] "
     ]
    },
    {
     "name": "stdout",
     "output_type": "stream",
     "text": [
      "Quota exceeded. Retrying in 60 seconds...\n"
     ]
    },
    {
     "name": "stderr",
     "output_type": "stream",
     "text": [
      "Processing Batches:   2%|▏         | 27/1253 [13:19<8:38:07, 25.36s/it] "
     ]
    },
    {
     "name": "stdout",
     "output_type": "stream",
     "text": [
      "Quota exceeded. Retrying in 60 seconds...\n"
     ]
    },
    {
     "name": "stderr",
     "output_type": "stream",
     "text": [
      "Processing Batches:   2%|▏         | 29/1253 [14:20<8:36:38, 25.33s/it] "
     ]
    },
    {
     "name": "stdout",
     "output_type": "stream",
     "text": [
      "Quota exceeded. Retrying in 60 seconds...\n"
     ]
    },
    {
     "name": "stderr",
     "output_type": "stream",
     "text": [
      "Processing Batches:   2%|▏         | 31/1253 [15:22<8:38:39, 25.47s/it] "
     ]
    },
    {
     "name": "stdout",
     "output_type": "stream",
     "text": [
      "Quota exceeded. Retrying in 60 seconds...\n"
     ]
    },
    {
     "name": "stderr",
     "output_type": "stream",
     "text": [
      "Processing Batches:   3%|▎         | 33/1253 [16:23<8:36:30, 25.40s/it] "
     ]
    },
    {
     "name": "stdout",
     "output_type": "stream",
     "text": [
      "Quota exceeded. Retrying in 60 seconds...\n"
     ]
    },
    {
     "name": "stderr",
     "output_type": "stream",
     "text": [
      "Processing Batches:   3%|▎         | 35/1253 [17:24<8:33:52, 25.31s/it] "
     ]
    },
    {
     "name": "stdout",
     "output_type": "stream",
     "text": [
      "Quota exceeded. Retrying in 60 seconds...\n"
     ]
    },
    {
     "name": "stderr",
     "output_type": "stream",
     "text": [
      "Processing Batches:   3%|▎         | 37/1253 [18:26<8:33:23, 25.33s/it] "
     ]
    },
    {
     "name": "stdout",
     "output_type": "stream",
     "text": [
      "Quota exceeded. Retrying in 60 seconds...\n"
     ]
    },
    {
     "name": "stderr",
     "output_type": "stream",
     "text": [
      "Processing Batches:   3%|▎         | 39/1253 [19:27<8:31:39, 25.29s/it] "
     ]
    },
    {
     "name": "stdout",
     "output_type": "stream",
     "text": [
      "Quota exceeded. Retrying in 60 seconds...\n"
     ]
    },
    {
     "name": "stderr",
     "output_type": "stream",
     "text": [
      "Processing Batches:   3%|▎         | 41/1253 [20:29<8:34:49, 25.49s/it] "
     ]
    },
    {
     "name": "stdout",
     "output_type": "stream",
     "text": [
      "Quota exceeded. Retrying in 60 seconds...\n"
     ]
    },
    {
     "name": "stderr",
     "output_type": "stream",
     "text": [
      "Processing Batches:   3%|▎         | 43/1253 [21:30<8:31:07, 25.35s/it] "
     ]
    },
    {
     "name": "stdout",
     "output_type": "stream",
     "text": [
      "Quota exceeded. Retrying in 60 seconds...\n"
     ]
    },
    {
     "name": "stderr",
     "output_type": "stream",
     "text": [
      "Processing Batches:   4%|▎         | 45/1253 [22:31<8:30:56, 25.38s/it] "
     ]
    },
    {
     "name": "stdout",
     "output_type": "stream",
     "text": [
      "Quota exceeded. Retrying in 60 seconds...\n"
     ]
    },
    {
     "name": "stderr",
     "output_type": "stream",
     "text": [
      "Processing Batches:   4%|▍         | 47/1253 [23:32<8:28:25, 25.29s/it] "
     ]
    },
    {
     "name": "stdout",
     "output_type": "stream",
     "text": [
      "Quota exceeded. Retrying in 60 seconds...\n"
     ]
    },
    {
     "name": "stderr",
     "output_type": "stream",
     "text": [
      "Processing Batches:   4%|▍         | 49/1253 [24:33<8:27:25, 25.29s/it] "
     ]
    },
    {
     "name": "stdout",
     "output_type": "stream",
     "text": [
      "Quota exceeded. Retrying in 60 seconds...\n"
     ]
    },
    {
     "name": "stderr",
     "output_type": "stream",
     "text": [
      "Processing Batches:   4%|▍         | 51/1253 [25:35<8:28:32, 25.39s/it] "
     ]
    },
    {
     "name": "stdout",
     "output_type": "stream",
     "text": [
      "Quota exceeded. Retrying in 60 seconds...\n"
     ]
    },
    {
     "name": "stderr",
     "output_type": "stream",
     "text": [
      "Processing Batches:   4%|▍         | 53/1253 [26:36<8:26:29, 25.32s/it] "
     ]
    },
    {
     "name": "stdout",
     "output_type": "stream",
     "text": [
      "Quota exceeded. Retrying in 60 seconds...\n"
     ]
    },
    {
     "name": "stderr",
     "output_type": "stream",
     "text": [
      "Processing Batches:   4%|▍         | 55/1253 [27:37<8:26:22, 25.36s/it] "
     ]
    },
    {
     "name": "stdout",
     "output_type": "stream",
     "text": [
      "Quota exceeded. Retrying in 60 seconds...\n"
     ]
    },
    {
     "name": "stderr",
     "output_type": "stream",
     "text": [
      "Processing Batches:   5%|▍         | 57/1253 [28:39<8:27:37, 25.47s/it] "
     ]
    },
    {
     "name": "stdout",
     "output_type": "stream",
     "text": [
      "Quota exceeded. Retrying in 60 seconds...\n"
     ]
    },
    {
     "name": "stderr",
     "output_type": "stream",
     "text": [
      "Processing Batches:   5%|▍         | 59/1253 [29:40<8:23:53, 25.32s/it] "
     ]
    },
    {
     "name": "stdout",
     "output_type": "stream",
     "text": [
      "Quota exceeded. Retrying in 60 seconds...\n"
     ]
    },
    {
     "name": "stderr",
     "output_type": "stream",
     "text": [
      "Processing Batches:   5%|▍         | 61/1253 [30:41<8:22:24, 25.29s/it] "
     ]
    },
    {
     "name": "stdout",
     "output_type": "stream",
     "text": [
      "Quota exceeded. Retrying in 60 seconds...\n"
     ]
    },
    {
     "name": "stderr",
     "output_type": "stream",
     "text": [
      "Processing Batches:   5%|▌         | 63/1253 [31:43<8:22:01, 25.31s/it] "
     ]
    },
    {
     "name": "stdout",
     "output_type": "stream",
     "text": [
      "Quota exceeded. Retrying in 60 seconds...\n"
     ]
    },
    {
     "name": "stderr",
     "output_type": "stream",
     "text": [
      "Processing Batches:   5%|▌         | 65/1253 [32:44<8:20:46, 25.29s/it] "
     ]
    },
    {
     "name": "stdout",
     "output_type": "stream",
     "text": [
      "Quota exceeded. Retrying in 60 seconds...\n"
     ]
    },
    {
     "name": "stderr",
     "output_type": "stream",
     "text": [
      "Processing Batches:   5%|▌         | 67/1253 [33:45<8:19:58, 25.29s/it] "
     ]
    },
    {
     "name": "stdout",
     "output_type": "stream",
     "text": [
      "Quota exceeded. Retrying in 60 seconds...\n"
     ]
    },
    {
     "name": "stderr",
     "output_type": "stream",
     "text": [
      "Processing Batches:   6%|▌         | 69/1253 [34:47<8:19:41, 25.32s/it] "
     ]
    },
    {
     "name": "stdout",
     "output_type": "stream",
     "text": [
      "Quota exceeded. Retrying in 60 seconds...\n"
     ]
    },
    {
     "name": "stderr",
     "output_type": "stream",
     "text": [
      "Processing Batches:   6%|▌         | 71/1253 [35:48<8:19:02, 25.33s/it] "
     ]
    },
    {
     "name": "stdout",
     "output_type": "stream",
     "text": [
      "Quota exceeded. Retrying in 60 seconds...\n"
     ]
    },
    {
     "name": "stderr",
     "output_type": "stream",
     "text": [
      "Processing Batches:   6%|▌         | 73/1253 [36:49<8:18:30, 25.35s/it] "
     ]
    },
    {
     "name": "stdout",
     "output_type": "stream",
     "text": [
      "Quota exceeded. Retrying in 60 seconds...\n"
     ]
    },
    {
     "name": "stderr",
     "output_type": "stream",
     "text": [
      "Processing Batches:   6%|▌         | 75/1253 [37:50<8:17:03, 25.32s/it] "
     ]
    },
    {
     "name": "stdout",
     "output_type": "stream",
     "text": [
      "Quota exceeded. Retrying in 60 seconds...\n"
     ]
    },
    {
     "name": "stderr",
     "output_type": "stream",
     "text": [
      "Processing Batches:   6%|▌         | 77/1253 [38:52<8:18:25, 25.43s/it] "
     ]
    },
    {
     "name": "stdout",
     "output_type": "stream",
     "text": [
      "Quota exceeded. Retrying in 60 seconds...\n"
     ]
    },
    {
     "name": "stderr",
     "output_type": "stream",
     "text": [
      "Processing Batches:   6%|▋         | 79/1253 [39:54<8:18:10, 25.46s/it] "
     ]
    },
    {
     "name": "stdout",
     "output_type": "stream",
     "text": [
      "Quota exceeded. Retrying in 60 seconds...\n"
     ]
    },
    {
     "name": "stderr",
     "output_type": "stream",
     "text": [
      "Processing Batches:   6%|▋         | 81/1253 [40:56<8:19:09, 25.55s/it] "
     ]
    },
    {
     "name": "stdout",
     "output_type": "stream",
     "text": [
      "Quota exceeded. Retrying in 60 seconds...\n"
     ]
    },
    {
     "name": "stderr",
     "output_type": "stream",
     "text": [
      "Processing Batches:   7%|▋         | 83/1253 [41:57<8:15:24, 25.41s/it] "
     ]
    },
    {
     "name": "stdout",
     "output_type": "stream",
     "text": [
      "Quota exceeded. Retrying in 60 seconds...\n"
     ]
    },
    {
     "name": "stderr",
     "output_type": "stream",
     "text": [
      "Processing Batches:   7%|▋         | 85/1253 [42:58<8:12:56, 25.32s/it] "
     ]
    },
    {
     "name": "stdout",
     "output_type": "stream",
     "text": [
      "Quota exceeded. Retrying in 60 seconds...\n"
     ]
    },
    {
     "name": "stderr",
     "output_type": "stream",
     "text": [
      "Processing Batches:   7%|▋         | 87/1253 [43:59<8:12:07, 25.32s/it] "
     ]
    },
    {
     "name": "stdout",
     "output_type": "stream",
     "text": [
      "Quota exceeded. Retrying in 60 seconds...\n"
     ]
    },
    {
     "name": "stderr",
     "output_type": "stream",
     "text": [
      "Processing Batches:   7%|▋         | 89/1253 [45:00<8:10:49, 25.30s/it] "
     ]
    },
    {
     "name": "stdout",
     "output_type": "stream",
     "text": [
      "Quota exceeded. Retrying in 60 seconds...\n"
     ]
    },
    {
     "name": "stderr",
     "output_type": "stream",
     "text": [
      "Processing Batches:   7%|▋         | 91/1253 [46:02<8:09:45, 25.29s/it] "
     ]
    },
    {
     "name": "stdout",
     "output_type": "stream",
     "text": [
      "Quota exceeded. Retrying in 60 seconds...\n"
     ]
    },
    {
     "name": "stderr",
     "output_type": "stream",
     "text": [
      "Processing Batches:   7%|▋         | 93/1253 [47:03<8:09:36, 25.32s/it] "
     ]
    },
    {
     "name": "stdout",
     "output_type": "stream",
     "text": [
      "Quota exceeded. Retrying in 60 seconds...\n"
     ]
    },
    {
     "name": "stderr",
     "output_type": "stream",
     "text": [
      "Processing Batches:   8%|▊         | 95/1253 [48:04<8:07:15, 25.25s/it] "
     ]
    },
    {
     "name": "stdout",
     "output_type": "stream",
     "text": [
      "Quota exceeded. Retrying in 60 seconds...\n"
     ]
    },
    {
     "name": "stderr",
     "output_type": "stream",
     "text": [
      "Processing Batches:   8%|▊         | 97/1253 [49:06<8:10:59, 25.48s/it] "
     ]
    },
    {
     "name": "stdout",
     "output_type": "stream",
     "text": [
      "Quota exceeded. Retrying in 60 seconds...\n"
     ]
    },
    {
     "name": "stderr",
     "output_type": "stream",
     "text": [
      "Processing Batches:   8%|▊         | 99/1253 [50:07<8:09:08, 25.43s/it] "
     ]
    },
    {
     "name": "stdout",
     "output_type": "stream",
     "text": [
      "Quota exceeded. Retrying in 60 seconds...\n"
     ]
    },
    {
     "name": "stderr",
     "output_type": "stream",
     "text": [
      "Processing Batches:   8%|▊         | 101/1253 [51:08<8:06:36, 25.34s/it] "
     ]
    },
    {
     "name": "stdout",
     "output_type": "stream",
     "text": [
      "Quota exceeded. Retrying in 60 seconds...\n"
     ]
    },
    {
     "name": "stderr",
     "output_type": "stream",
     "text": [
      "Processing Batches:   8%|▊         | 103/1253 [52:10<8:06:37, 25.39s/it] "
     ]
    },
    {
     "name": "stdout",
     "output_type": "stream",
     "text": [
      "Quota exceeded. Retrying in 60 seconds...\n"
     ]
    },
    {
     "name": "stderr",
     "output_type": "stream",
     "text": [
      "Processing Batches:   8%|▊         | 105/1253 [53:11<8:04:50, 25.34s/it] "
     ]
    },
    {
     "name": "stdout",
     "output_type": "stream",
     "text": [
      "Quota exceeded. Retrying in 60 seconds...\n"
     ]
    },
    {
     "name": "stderr",
     "output_type": "stream",
     "text": [
      "Processing Batches:   9%|▊         | 107/1253 [54:12<8:03:47, 25.33s/it] "
     ]
    },
    {
     "name": "stdout",
     "output_type": "stream",
     "text": [
      "Quota exceeded. Retrying in 60 seconds...\n"
     ]
    },
    {
     "name": "stderr",
     "output_type": "stream",
     "text": [
      "Processing Batches:   9%|▊         | 109/1253 [55:13<8:01:12, 25.24s/it] "
     ]
    },
    {
     "name": "stdout",
     "output_type": "stream",
     "text": [
      "Quota exceeded. Retrying in 60 seconds...\n"
     ]
    },
    {
     "name": "stderr",
     "output_type": "stream",
     "text": [
      "Processing Batches:   9%|▉         | 111/1253 [56:14<8:00:32, 25.25s/it] "
     ]
    },
    {
     "name": "stdout",
     "output_type": "stream",
     "text": [
      "Quota exceeded. Retrying in 60 seconds...\n"
     ]
    },
    {
     "name": "stderr",
     "output_type": "stream",
     "text": [
      "Processing Batches:   9%|▉         | 113/1253 [57:16<8:01:44, 25.36s/it] "
     ]
    },
    {
     "name": "stdout",
     "output_type": "stream",
     "text": [
      "Quota exceeded. Retrying in 60 seconds...\n"
     ]
    },
    {
     "name": "stderr",
     "output_type": "stream",
     "text": [
      "Processing Batches:   9%|▉         | 115/1253 [58:17<7:59:57, 25.31s/it] "
     ]
    },
    {
     "name": "stdout",
     "output_type": "stream",
     "text": [
      "Quota exceeded. Retrying in 60 seconds...\n"
     ]
    },
    {
     "name": "stderr",
     "output_type": "stream",
     "text": [
      "Processing Batches:   9%|▉         | 117/1253 [59:19<8:00:57, 25.40s/it] "
     ]
    },
    {
     "name": "stdout",
     "output_type": "stream",
     "text": [
      "Quota exceeded. Retrying in 60 seconds...\n"
     ]
    },
    {
     "name": "stderr",
     "output_type": "stream",
     "text": [
      "Processing Batches:   9%|▉         | 119/1253 [1:00:20<7:59:19, 25.36s/it] "
     ]
    },
    {
     "name": "stdout",
     "output_type": "stream",
     "text": [
      "Quota exceeded. Retrying in 60 seconds...\n"
     ]
    },
    {
     "name": "stderr",
     "output_type": "stream",
     "text": [
      "Processing Batches:  10%|▉         | 121/1253 [1:01:22<7:59:35, 25.42s/it] "
     ]
    },
    {
     "name": "stdout",
     "output_type": "stream",
     "text": [
      "Quota exceeded. Retrying in 60 seconds...\n"
     ]
    },
    {
     "name": "stderr",
     "output_type": "stream",
     "text": [
      "Processing Batches:  10%|▉         | 123/1253 [1:02:23<7:56:48, 25.32s/it] "
     ]
    },
    {
     "name": "stdout",
     "output_type": "stream",
     "text": [
      "Quota exceeded. Retrying in 60 seconds...\n"
     ]
    },
    {
     "name": "stderr",
     "output_type": "stream",
     "text": [
      "Processing Batches:  10%|▉         | 125/1253 [1:03:24<7:58:06, 25.43s/it] "
     ]
    },
    {
     "name": "stdout",
     "output_type": "stream",
     "text": [
      "Quota exceeded. Retrying in 60 seconds...\n"
     ]
    },
    {
     "name": "stderr",
     "output_type": "stream",
     "text": [
      "Processing Batches:  10%|█         | 127/1253 [1:04:25<7:55:13, 25.32s/it] "
     ]
    },
    {
     "name": "stdout",
     "output_type": "stream",
     "text": [
      "Quota exceeded. Retrying in 60 seconds...\n"
     ]
    },
    {
     "name": "stderr",
     "output_type": "stream",
     "text": [
      "Processing Batches:  10%|█         | 129/1253 [1:05:27<7:57:09, 25.47s/it] "
     ]
    },
    {
     "name": "stdout",
     "output_type": "stream",
     "text": [
      "Quota exceeded. Retrying in 60 seconds...\n"
     ]
    },
    {
     "name": "stderr",
     "output_type": "stream",
     "text": [
      "Processing Batches:  10%|█         | 131/1253 [1:06:29<7:54:54, 25.40s/it] "
     ]
    },
    {
     "name": "stdout",
     "output_type": "stream",
     "text": [
      "Quota exceeded. Retrying in 60 seconds...\n"
     ]
    },
    {
     "name": "stderr",
     "output_type": "stream",
     "text": [
      "Processing Batches:  11%|█         | 133/1253 [1:07:30<7:54:17, 25.41s/it] "
     ]
    },
    {
     "name": "stdout",
     "output_type": "stream",
     "text": [
      "Quota exceeded. Retrying in 60 seconds...\n"
     ]
    },
    {
     "name": "stderr",
     "output_type": "stream",
     "text": [
      "Processing Batches:  11%|█         | 135/1253 [1:08:32<7:53:16, 25.40s/it] "
     ]
    },
    {
     "name": "stdout",
     "output_type": "stream",
     "text": [
      "Quota exceeded. Retrying in 60 seconds...\n"
     ]
    },
    {
     "name": "stderr",
     "output_type": "stream",
     "text": [
      "Processing Batches:  11%|█         | 137/1253 [1:09:33<7:51:29, 25.35s/it] "
     ]
    },
    {
     "name": "stdout",
     "output_type": "stream",
     "text": [
      "Quota exceeded. Retrying in 60 seconds...\n"
     ]
    },
    {
     "name": "stderr",
     "output_type": "stream",
     "text": [
      "Processing Batches:  11%|█         | 139/1253 [1:10:34<7:50:06, 25.32s/it] "
     ]
    },
    {
     "name": "stdout",
     "output_type": "stream",
     "text": [
      "Quota exceeded. Retrying in 60 seconds...\n"
     ]
    },
    {
     "name": "stderr",
     "output_type": "stream",
     "text": [
      "Processing Batches:  11%|█▏        | 141/1253 [1:11:35<7:49:35, 25.34s/it] "
     ]
    },
    {
     "name": "stdout",
     "output_type": "stream",
     "text": [
      "Quota exceeded. Retrying in 60 seconds...\n"
     ]
    },
    {
     "name": "stderr",
     "output_type": "stream",
     "text": [
      "Processing Batches:  11%|█▏        | 143/1253 [1:12:37<7:48:14, 25.31s/it] "
     ]
    },
    {
     "name": "stdout",
     "output_type": "stream",
     "text": [
      "Quota exceeded. Retrying in 60 seconds...\n"
     ]
    },
    {
     "name": "stderr",
     "output_type": "stream",
     "text": [
      "Processing Batches:  12%|█▏        | 145/1253 [1:13:38<7:47:25, 25.31s/it] "
     ]
    },
    {
     "name": "stdout",
     "output_type": "stream",
     "text": [
      "Quota exceeded. Retrying in 60 seconds...\n"
     ]
    },
    {
     "name": "stderr",
     "output_type": "stream",
     "text": [
      "Processing Batches:  12%|█▏        | 147/1253 [1:14:39<7:46:46, 25.32s/it] "
     ]
    },
    {
     "name": "stdout",
     "output_type": "stream",
     "text": [
      "Quota exceeded. Retrying in 60 seconds...\n"
     ]
    },
    {
     "name": "stderr",
     "output_type": "stream",
     "text": [
      "Processing Batches:  12%|█▏        | 149/1253 [1:15:40<7:45:44, 25.31s/it] "
     ]
    },
    {
     "name": "stdout",
     "output_type": "stream",
     "text": [
      "Quota exceeded. Retrying in 60 seconds...\n"
     ]
    },
    {
     "name": "stderr",
     "output_type": "stream",
     "text": [
      "Processing Batches:  12%|█▏        | 151/1253 [1:16:41<7:44:18, 25.28s/it] "
     ]
    },
    {
     "name": "stdout",
     "output_type": "stream",
     "text": [
      "Quota exceeded. Retrying in 60 seconds...\n"
     ]
    },
    {
     "name": "stderr",
     "output_type": "stream",
     "text": [
      "Processing Batches:  12%|█▏        | 153/1253 [1:17:43<7:45:13, 25.38s/it] "
     ]
    },
    {
     "name": "stdout",
     "output_type": "stream",
     "text": [
      "Quota exceeded. Retrying in 60 seconds...\n"
     ]
    },
    {
     "name": "stderr",
     "output_type": "stream",
     "text": [
      "Processing Batches:  12%|█▏        | 155/1253 [1:18:45<7:45:39, 25.45s/it] "
     ]
    },
    {
     "name": "stdout",
     "output_type": "stream",
     "text": [
      "Quota exceeded. Retrying in 60 seconds...\n"
     ]
    },
    {
     "name": "stderr",
     "output_type": "stream",
     "text": [
      "Processing Batches:  13%|█▎        | 157/1253 [1:19:46<7:43:57, 25.40s/it] "
     ]
    },
    {
     "name": "stdout",
     "output_type": "stream",
     "text": [
      "Quota exceeded. Retrying in 60 seconds...\n"
     ]
    },
    {
     "name": "stderr",
     "output_type": "stream",
     "text": [
      "Processing Batches:  13%|█▎        | 159/1253 [1:20:48<7:44:17, 25.46s/it] "
     ]
    },
    {
     "name": "stdout",
     "output_type": "stream",
     "text": [
      "Quota exceeded. Retrying in 60 seconds...\n"
     ]
    },
    {
     "name": "stderr",
     "output_type": "stream",
     "text": [
      "Processing Batches:  13%|█▎        | 161/1253 [1:21:49<7:41:29, 25.36s/it] "
     ]
    },
    {
     "name": "stdout",
     "output_type": "stream",
     "text": [
      "Quota exceeded. Retrying in 60 seconds...\n"
     ]
    },
    {
     "name": "stderr",
     "output_type": "stream",
     "text": [
      "Processing Batches:  13%|█▎        | 163/1253 [1:22:50<7:41:13, 25.39s/it] "
     ]
    },
    {
     "name": "stdout",
     "output_type": "stream",
     "text": [
      "Quota exceeded. Retrying in 60 seconds...\n"
     ]
    },
    {
     "name": "stderr",
     "output_type": "stream",
     "text": [
      "Processing Batches:  13%|█▎        | 165/1253 [1:23:53<7:43:32, 25.56s/it] "
     ]
    },
    {
     "name": "stdout",
     "output_type": "stream",
     "text": [
      "Quota exceeded. Retrying in 60 seconds...\n"
     ]
    },
    {
     "name": "stderr",
     "output_type": "stream",
     "text": [
      "Processing Batches:  13%|█▎        | 167/1253 [1:24:54<7:39:29, 25.39s/it] "
     ]
    },
    {
     "name": "stdout",
     "output_type": "stream",
     "text": [
      "Quota exceeded. Retrying in 60 seconds...\n"
     ]
    },
    {
     "name": "stderr",
     "output_type": "stream",
     "text": [
      "Processing Batches:  13%|█▎        | 169/1253 [1:25:56<7:39:59, 25.46s/it] "
     ]
    },
    {
     "name": "stdout",
     "output_type": "stream",
     "text": [
      "Quota exceeded. Retrying in 60 seconds...\n"
     ]
    },
    {
     "name": "stderr",
     "output_type": "stream",
     "text": [
      "Processing Batches:  14%|█▎        | 171/1253 [1:26:57<7:38:11, 25.41s/it] "
     ]
    },
    {
     "name": "stdout",
     "output_type": "stream",
     "text": [
      "Quota exceeded. Retrying in 60 seconds...\n"
     ]
    },
    {
     "name": "stderr",
     "output_type": "stream",
     "text": [
      "Processing Batches:  14%|█▍        | 175/1253 [1:28:00<3:50:00, 12.80s/it]"
     ]
    },
    {
     "name": "stdout",
     "output_type": "stream",
     "text": [
      "Quota exceeded. Retrying in 60 seconds...\n"
     ]
    },
    {
     "name": "stderr",
     "output_type": "stream",
     "text": [
      "Processing Batches:  14%|█▍        | 177/1253 [1:29:02<5:44:37, 19.22s/it]"
     ]
    },
    {
     "name": "stdout",
     "output_type": "stream",
     "text": [
      "Quota exceeded. Retrying in 60 seconds...\n"
     ]
    },
    {
     "name": "stderr",
     "output_type": "stream",
     "text": [
      "Processing Batches:  14%|█▍        | 179/1253 [1:30:03<6:38:37, 22.27s/it]"
     ]
    },
    {
     "name": "stdout",
     "output_type": "stream",
     "text": [
      "Quota exceeded. Retrying in 60 seconds...\n"
     ]
    },
    {
     "name": "stderr",
     "output_type": "stream",
     "text": [
      "Processing Batches:  14%|█▍        | 181/1253 [1:31:05<7:08:11, 23.97s/it] "
     ]
    },
    {
     "name": "stdout",
     "output_type": "stream",
     "text": [
      "Quota exceeded. Retrying in 60 seconds...\n"
     ]
    },
    {
     "name": "stderr",
     "output_type": "stream",
     "text": [
      "Processing Batches:  15%|█▍        | 183/1253 [1:32:06<7:19:20, 24.64s/it] "
     ]
    },
    {
     "name": "stdout",
     "output_type": "stream",
     "text": [
      "Quota exceeded. Retrying in 60 seconds...\n"
     ]
    },
    {
     "name": "stderr",
     "output_type": "stream",
     "text": [
      "Processing Batches:  15%|█▍        | 185/1253 [1:33:07<7:25:26, 25.02s/it] "
     ]
    },
    {
     "name": "stdout",
     "output_type": "stream",
     "text": [
      "Quota exceeded. Retrying in 60 seconds...\n"
     ]
    },
    {
     "name": "stderr",
     "output_type": "stream",
     "text": [
      "Processing Batches:  15%|█▍        | 187/1253 [1:34:08<7:26:08, 25.11s/it] "
     ]
    },
    {
     "name": "stdout",
     "output_type": "stream",
     "text": [
      "Quota exceeded. Retrying in 60 seconds...\n"
     ]
    },
    {
     "name": "stderr",
     "output_type": "stream",
     "text": [
      "Processing Batches:  15%|█▌        | 189/1253 [1:35:10<7:27:48, 25.25s/it] "
     ]
    },
    {
     "name": "stdout",
     "output_type": "stream",
     "text": [
      "Quota exceeded. Retrying in 60 seconds...\n"
     ]
    },
    {
     "name": "stderr",
     "output_type": "stream",
     "text": [
      "Processing Batches:  15%|█▌        | 191/1253 [1:36:11<7:27:09, 25.26s/it] "
     ]
    },
    {
     "name": "stdout",
     "output_type": "stream",
     "text": [
      "Quota exceeded. Retrying in 60 seconds...\n"
     ]
    },
    {
     "name": "stderr",
     "output_type": "stream",
     "text": [
      "Processing Batches:  15%|█▌        | 193/1253 [1:37:12<7:26:19, 25.26s/it] "
     ]
    },
    {
     "name": "stdout",
     "output_type": "stream",
     "text": [
      "Quota exceeded. Retrying in 60 seconds...\n"
     ]
    },
    {
     "name": "stderr",
     "output_type": "stream",
     "text": [
      "Processing Batches:  16%|█▌        | 195/1253 [1:38:13<7:26:14, 25.31s/it] "
     ]
    },
    {
     "name": "stdout",
     "output_type": "stream",
     "text": [
      "Quota exceeded. Retrying in 60 seconds...\n"
     ]
    },
    {
     "name": "stderr",
     "output_type": "stream",
     "text": [
      "Processing Batches:  16%|█▌        | 197/1253 [1:39:14<7:24:34, 25.26s/it] "
     ]
    },
    {
     "name": "stdout",
     "output_type": "stream",
     "text": [
      "Quota exceeded. Retrying in 60 seconds...\n"
     ]
    },
    {
     "name": "stderr",
     "output_type": "stream",
     "text": [
      "Processing Batches:  16%|█▌        | 199/1253 [1:40:16<7:24:18, 25.29s/it] "
     ]
    },
    {
     "name": "stdout",
     "output_type": "stream",
     "text": [
      "Quota exceeded. Retrying in 60 seconds...\n"
     ]
    },
    {
     "name": "stderr",
     "output_type": "stream",
     "text": [
      "Processing Batches:  16%|█▌        | 201/1253 [1:41:17<7:24:16, 25.34s/it] "
     ]
    },
    {
     "name": "stdout",
     "output_type": "stream",
     "text": [
      "Quota exceeded. Retrying in 60 seconds...\n"
     ]
    },
    {
     "name": "stderr",
     "output_type": "stream",
     "text": [
      "Processing Batches:  16%|█▌        | 203/1253 [1:42:19<7:24:19, 25.39s/it] "
     ]
    },
    {
     "name": "stdout",
     "output_type": "stream",
     "text": [
      "Quota exceeded. Retrying in 60 seconds...\n"
     ]
    },
    {
     "name": "stderr",
     "output_type": "stream",
     "text": [
      "Processing Batches:  16%|█▋        | 205/1253 [1:43:20<7:23:36, 25.40s/it] "
     ]
    },
    {
     "name": "stdout",
     "output_type": "stream",
     "text": [
      "Quota exceeded. Retrying in 60 seconds...\n"
     ]
    },
    {
     "name": "stderr",
     "output_type": "stream",
     "text": [
      "Processing Batches:  17%|█▋        | 207/1253 [1:44:21<7:22:26, 25.38s/it] "
     ]
    },
    {
     "name": "stdout",
     "output_type": "stream",
     "text": [
      "Quota exceeded. Retrying in 60 seconds...\n"
     ]
    },
    {
     "name": "stderr",
     "output_type": "stream",
     "text": [
      "Processing Batches:  17%|█▋        | 209/1253 [1:45:23<7:21:45, 25.39s/it] "
     ]
    },
    {
     "name": "stdout",
     "output_type": "stream",
     "text": [
      "Quota exceeded. Retrying in 60 seconds...\n"
     ]
    },
    {
     "name": "stderr",
     "output_type": "stream",
     "text": [
      "Processing Batches:  17%|█▋        | 211/1253 [1:46:24<7:21:15, 25.41s/it] "
     ]
    },
    {
     "name": "stdout",
     "output_type": "stream",
     "text": [
      "Quota exceeded. Retrying in 60 seconds...\n"
     ]
    },
    {
     "name": "stderr",
     "output_type": "stream",
     "text": [
      "Processing Batches:  17%|█▋        | 213/1253 [1:47:26<7:20:40, 25.42s/it] "
     ]
    },
    {
     "name": "stdout",
     "output_type": "stream",
     "text": [
      "Quota exceeded. Retrying in 60 seconds...\n"
     ]
    },
    {
     "name": "stderr",
     "output_type": "stream",
     "text": [
      "Processing Batches:  17%|█▋        | 215/1253 [1:48:27<7:18:19, 25.34s/it] "
     ]
    },
    {
     "name": "stdout",
     "output_type": "stream",
     "text": [
      "Quota exceeded. Retrying in 60 seconds...\n"
     ]
    },
    {
     "name": "stderr",
     "output_type": "stream",
     "text": [
      "Processing Batches:  17%|█▋        | 217/1253 [1:49:28<7:17:32, 25.34s/it] "
     ]
    },
    {
     "name": "stdout",
     "output_type": "stream",
     "text": [
      "Quota exceeded. Retrying in 60 seconds...\n"
     ]
    },
    {
     "name": "stderr",
     "output_type": "stream",
     "text": [
      "Processing Batches:  17%|█▋        | 219/1253 [1:50:30<7:16:22, 25.32s/it] "
     ]
    },
    {
     "name": "stdout",
     "output_type": "stream",
     "text": [
      "Quota exceeded. Retrying in 60 seconds...\n"
     ]
    },
    {
     "name": "stderr",
     "output_type": "stream",
     "text": [
      "Processing Batches:  18%|█▊        | 221/1253 [1:51:31<7:14:09, 25.24s/it] "
     ]
    },
    {
     "name": "stdout",
     "output_type": "stream",
     "text": [
      "Quota exceeded. Retrying in 60 seconds...\n"
     ]
    },
    {
     "name": "stderr",
     "output_type": "stream",
     "text": [
      "Processing Batches:  18%|█▊        | 223/1253 [1:52:32<7:14:29, 25.31s/it] "
     ]
    },
    {
     "name": "stdout",
     "output_type": "stream",
     "text": [
      "Quota exceeded. Retrying in 60 seconds...\n"
     ]
    },
    {
     "name": "stderr",
     "output_type": "stream",
     "text": [
      "Processing Batches:  18%|█▊        | 225/1253 [1:53:34<7:16:08, 25.46s/it] "
     ]
    },
    {
     "name": "stdout",
     "output_type": "stream",
     "text": [
      "Quota exceeded. Retrying in 60 seconds...\n"
     ]
    },
    {
     "name": "stderr",
     "output_type": "stream",
     "text": [
      "Processing Batches:  18%|█▊        | 227/1253 [1:54:35<7:15:37, 25.48s/it] "
     ]
    },
    {
     "name": "stdout",
     "output_type": "stream",
     "text": [
      "Quota exceeded. Retrying in 60 seconds...\n"
     ]
    },
    {
     "name": "stderr",
     "output_type": "stream",
     "text": [
      "Processing Batches:  18%|█▊        | 229/1253 [1:55:37<7:14:19, 25.45s/it] "
     ]
    },
    {
     "name": "stdout",
     "output_type": "stream",
     "text": [
      "Quota exceeded. Retrying in 60 seconds...\n"
     ]
    },
    {
     "name": "stderr",
     "output_type": "stream",
     "text": [
      "Processing Batches:  18%|█▊        | 231/1253 [1:56:39<7:14:15, 25.49s/it] "
     ]
    },
    {
     "name": "stdout",
     "output_type": "stream",
     "text": [
      "Quota exceeded. Retrying in 60 seconds...\n"
     ]
    },
    {
     "name": "stderr",
     "output_type": "stream",
     "text": [
      "Processing Batches:  19%|█▊        | 233/1253 [1:57:40<7:12:23, 25.43s/it] "
     ]
    },
    {
     "name": "stdout",
     "output_type": "stream",
     "text": [
      "Quota exceeded. Retrying in 60 seconds...\n"
     ]
    },
    {
     "name": "stderr",
     "output_type": "stream",
     "text": [
      "Processing Batches:  19%|█▉        | 235/1253 [1:58:41<7:10:32, 25.38s/it] "
     ]
    },
    {
     "name": "stdout",
     "output_type": "stream",
     "text": [
      "Quota exceeded. Retrying in 60 seconds...\n"
     ]
    },
    {
     "name": "stderr",
     "output_type": "stream",
     "text": [
      "Processing Batches:  19%|█▉        | 237/1253 [1:59:43<7:09:32, 25.37s/it] "
     ]
    },
    {
     "name": "stdout",
     "output_type": "stream",
     "text": [
      "Quota exceeded. Retrying in 60 seconds...\n"
     ]
    },
    {
     "name": "stderr",
     "output_type": "stream",
     "text": [
      "Processing Batches:  19%|█▉        | 239/1253 [2:00:44<7:10:22, 25.47s/it] "
     ]
    },
    {
     "name": "stdout",
     "output_type": "stream",
     "text": [
      "Quota exceeded. Retrying in 60 seconds...\n"
     ]
    },
    {
     "name": "stderr",
     "output_type": "stream",
     "text": [
      "Processing Batches:  19%|█▉        | 241/1253 [2:01:46<7:08:45, 25.42s/it] "
     ]
    },
    {
     "name": "stdout",
     "output_type": "stream",
     "text": [
      "Quota exceeded. Retrying in 60 seconds...\n"
     ]
    },
    {
     "name": "stderr",
     "output_type": "stream",
     "text": [
      "Processing Batches:  19%|█▉        | 243/1253 [2:02:47<7:06:45, 25.35s/it] "
     ]
    },
    {
     "name": "stdout",
     "output_type": "stream",
     "text": [
      "Quota exceeded. Retrying in 60 seconds...\n"
     ]
    },
    {
     "name": "stderr",
     "output_type": "stream",
     "text": [
      "Processing Batches:  20%|█▉        | 245/1253 [2:03:48<7:05:32, 25.33s/it] "
     ]
    },
    {
     "name": "stdout",
     "output_type": "stream",
     "text": [
      "Quota exceeded. Retrying in 60 seconds...\n"
     ]
    },
    {
     "name": "stderr",
     "output_type": "stream",
     "text": [
      "Processing Batches:  20%|█▉        | 247/1253 [2:04:49<7:04:20, 25.31s/it] "
     ]
    },
    {
     "name": "stdout",
     "output_type": "stream",
     "text": [
      "Quota exceeded. Retrying in 60 seconds...\n"
     ]
    },
    {
     "name": "stderr",
     "output_type": "stream",
     "text": [
      "Processing Batches:  20%|█▉        | 249/1253 [2:05:51<7:02:48, 25.27s/it] "
     ]
    },
    {
     "name": "stdout",
     "output_type": "stream",
     "text": [
      "Quota exceeded. Retrying in 60 seconds...\n"
     ]
    },
    {
     "name": "stderr",
     "output_type": "stream",
     "text": [
      "Processing Batches:  20%|██        | 251/1253 [2:06:52<7:02:25, 25.29s/it] "
     ]
    },
    {
     "name": "stdout",
     "output_type": "stream",
     "text": [
      "Quota exceeded. Retrying in 60 seconds...\n"
     ]
    },
    {
     "name": "stderr",
     "output_type": "stream",
     "text": [
      "Processing Batches:  20%|██        | 253/1253 [2:07:53<7:01:55, 25.32s/it]"
     ]
    },
    {
     "name": "stdout",
     "output_type": "stream",
     "text": [
      "Quota exceeded. Retrying in 60 seconds...\n"
     ]
    },
    {
     "name": "stderr",
     "output_type": "stream",
     "text": [
      "Processing Batches:  20%|██        | 255/1253 [2:08:54<7:00:03, 25.25s/it]"
     ]
    },
    {
     "name": "stdout",
     "output_type": "stream",
     "text": [
      "Quota exceeded. Retrying in 60 seconds...\n"
     ]
    },
    {
     "name": "stderr",
     "output_type": "stream",
     "text": [
      "Processing Batches:  21%|██        | 257/1253 [2:09:55<6:59:43, 25.28s/it]"
     ]
    },
    {
     "name": "stdout",
     "output_type": "stream",
     "text": [
      "Quota exceeded. Retrying in 60 seconds...\n"
     ]
    },
    {
     "name": "stderr",
     "output_type": "stream",
     "text": [
      "Processing Batches:  21%|██        | 259/1253 [2:10:56<6:58:04, 25.24s/it]"
     ]
    },
    {
     "name": "stdout",
     "output_type": "stream",
     "text": [
      "Quota exceeded. Retrying in 60 seconds...\n"
     ]
    },
    {
     "name": "stderr",
     "output_type": "stream",
     "text": [
      "Processing Batches:  21%|██        | 261/1253 [2:11:58<6:57:36, 25.26s/it]"
     ]
    },
    {
     "name": "stdout",
     "output_type": "stream",
     "text": [
      "Quota exceeded. Retrying in 60 seconds...\n"
     ]
    },
    {
     "name": "stderr",
     "output_type": "stream",
     "text": [
      "Processing Batches:  21%|██        | 263/1253 [2:12:59<6:58:23, 25.36s/it]"
     ]
    },
    {
     "name": "stdout",
     "output_type": "stream",
     "text": [
      "Quota exceeded. Retrying in 60 seconds...\n"
     ]
    },
    {
     "name": "stderr",
     "output_type": "stream",
     "text": [
      "Processing Batches:  21%|██        | 265/1253 [2:14:00<6:56:36, 25.30s/it]"
     ]
    },
    {
     "name": "stdout",
     "output_type": "stream",
     "text": [
      "Quota exceeded. Retrying in 60 seconds...\n"
     ]
    },
    {
     "name": "stderr",
     "output_type": "stream",
     "text": [
      "Processing Batches:  21%|██▏       | 267/1253 [2:15:01<6:55:43, 25.30s/it]"
     ]
    },
    {
     "name": "stdout",
     "output_type": "stream",
     "text": [
      "Quota exceeded. Retrying in 60 seconds...\n"
     ]
    },
    {
     "name": "stderr",
     "output_type": "stream",
     "text": [
      "Processing Batches:  21%|██▏       | 269/1253 [2:16:03<6:55:05, 25.31s/it]"
     ]
    },
    {
     "name": "stdout",
     "output_type": "stream",
     "text": [
      "Quota exceeded. Retrying in 60 seconds...\n"
     ]
    },
    {
     "name": "stderr",
     "output_type": "stream",
     "text": [
      "Processing Batches:  22%|██▏       | 271/1253 [2:17:05<6:57:39, 25.52s/it]"
     ]
    },
    {
     "name": "stdout",
     "output_type": "stream",
     "text": [
      "Quota exceeded. Retrying in 60 seconds...\n"
     ]
    },
    {
     "name": "stderr",
     "output_type": "stream",
     "text": [
      "Processing Batches:  22%|██▏       | 273/1253 [2:18:06<6:54:40, 25.39s/it]"
     ]
    },
    {
     "name": "stdout",
     "output_type": "stream",
     "text": [
      "Quota exceeded. Retrying in 60 seconds...\n"
     ]
    },
    {
     "name": "stderr",
     "output_type": "stream",
     "text": [
      "Processing Batches:  22%|██▏       | 275/1253 [2:19:07<6:54:21, 25.42s/it]"
     ]
    },
    {
     "name": "stdout",
     "output_type": "stream",
     "text": [
      "Quota exceeded. Retrying in 60 seconds...\n"
     ]
    },
    {
     "name": "stderr",
     "output_type": "stream",
     "text": [
      "Processing Batches:  22%|██▏       | 277/1253 [2:20:09<6:52:32, 25.36s/it]"
     ]
    },
    {
     "name": "stdout",
     "output_type": "stream",
     "text": [
      "Quota exceeded. Retrying in 60 seconds...\n"
     ]
    },
    {
     "name": "stderr",
     "output_type": "stream",
     "text": [
      "Processing Batches:  22%|██▏       | 279/1253 [2:21:10<6:49:54, 25.25s/it]"
     ]
    },
    {
     "name": "stdout",
     "output_type": "stream",
     "text": [
      "Quota exceeded. Retrying in 60 seconds...\n"
     ]
    },
    {
     "name": "stderr",
     "output_type": "stream",
     "text": [
      "Processing Batches:  22%|██▏       | 281/1253 [2:22:11<6:50:31, 25.34s/it]"
     ]
    },
    {
     "name": "stdout",
     "output_type": "stream",
     "text": [
      "Quota exceeded. Retrying in 60 seconds...\n"
     ]
    },
    {
     "name": "stderr",
     "output_type": "stream",
     "text": [
      "Processing Batches:  23%|██▎       | 283/1253 [2:23:13<6:50:09, 25.37s/it]"
     ]
    },
    {
     "name": "stdout",
     "output_type": "stream",
     "text": [
      "Quota exceeded. Retrying in 60 seconds...\n"
     ]
    },
    {
     "name": "stderr",
     "output_type": "stream",
     "text": [
      "Processing Batches:  23%|██▎       | 285/1253 [2:24:14<6:49:11, 25.36s/it]"
     ]
    },
    {
     "name": "stdout",
     "output_type": "stream",
     "text": [
      "Quota exceeded. Retrying in 60 seconds...\n"
     ]
    },
    {
     "name": "stderr",
     "output_type": "stream",
     "text": [
      "Processing Batches:  23%|██▎       | 287/1253 [2:25:15<6:48:29, 25.37s/it]"
     ]
    },
    {
     "name": "stdout",
     "output_type": "stream",
     "text": [
      "Quota exceeded. Retrying in 60 seconds...\n"
     ]
    },
    {
     "name": "stderr",
     "output_type": "stream",
     "text": [
      "Processing Batches:  23%|██▎       | 291/1253 [2:26:19<3:25:39, 12.83s/it]"
     ]
    },
    {
     "name": "stdout",
     "output_type": "stream",
     "text": [
      "Quota exceeded. Retrying in 60 seconds...\n"
     ]
    },
    {
     "name": "stderr",
     "output_type": "stream",
     "text": [
      "Processing Batches:  23%|██▎       | 293/1253 [2:27:20<5:06:08, 19.13s/it]"
     ]
    },
    {
     "name": "stdout",
     "output_type": "stream",
     "text": [
      "Quota exceeded. Retrying in 60 seconds...\n"
     ]
    },
    {
     "name": "stderr",
     "output_type": "stream",
     "text": [
      "Processing Batches:  24%|██▎       | 295/1253 [2:28:21<5:55:53, 22.29s/it]"
     ]
    },
    {
     "name": "stdout",
     "output_type": "stream",
     "text": [
      "Quota exceeded. Retrying in 60 seconds...\n"
     ]
    },
    {
     "name": "stderr",
     "output_type": "stream",
     "text": [
      "Processing Batches:  24%|██▎       | 297/1253 [2:29:22<6:18:58, 23.79s/it]"
     ]
    },
    {
     "name": "stdout",
     "output_type": "stream",
     "text": [
      "Quota exceeded. Retrying in 60 seconds...\n"
     ]
    },
    {
     "name": "stderr",
     "output_type": "stream",
     "text": [
      "Processing Batches:  24%|██▍       | 299/1253 [2:30:23<6:29:33, 24.50s/it]"
     ]
    },
    {
     "name": "stdout",
     "output_type": "stream",
     "text": [
      "Quota exceeded. Retrying in 60 seconds...\n"
     ]
    },
    {
     "name": "stderr",
     "output_type": "stream",
     "text": [
      "Processing Batches:  24%|██▍       | 301/1253 [2:31:24<6:34:26, 24.86s/it]"
     ]
    },
    {
     "name": "stdout",
     "output_type": "stream",
     "text": [
      "Quota exceeded. Retrying in 60 seconds...\n"
     ]
    },
    {
     "name": "stderr",
     "output_type": "stream",
     "text": [
      "Processing Batches:  24%|██▍       | 303/1253 [2:32:25<6:37:24, 25.10s/it]"
     ]
    },
    {
     "name": "stdout",
     "output_type": "stream",
     "text": [
      "Quota exceeded. Retrying in 60 seconds...\n"
     ]
    },
    {
     "name": "stderr",
     "output_type": "stream",
     "text": [
      "Processing Batches:  24%|██▍       | 305/1253 [2:33:27<6:37:23, 25.15s/it]"
     ]
    },
    {
     "name": "stdout",
     "output_type": "stream",
     "text": [
      "Quota exceeded. Retrying in 60 seconds...\n"
     ]
    },
    {
     "name": "stderr",
     "output_type": "stream",
     "text": [
      "Processing Batches:  25%|██▍       | 307/1253 [2:34:28<6:38:08, 25.25s/it]"
     ]
    },
    {
     "name": "stdout",
     "output_type": "stream",
     "text": [
      "Quota exceeded. Retrying in 60 seconds...\n"
     ]
    },
    {
     "name": "stderr",
     "output_type": "stream",
     "text": [
      "Processing Batches:  25%|██▍       | 309/1253 [2:35:29<6:38:43, 25.34s/it]"
     ]
    },
    {
     "name": "stdout",
     "output_type": "stream",
     "text": [
      "Quota exceeded. Retrying in 60 seconds...\n"
     ]
    },
    {
     "name": "stderr",
     "output_type": "stream",
     "text": [
      "Processing Batches:  25%|██▍       | 311/1253 [2:36:30<6:36:26, 25.25s/it]"
     ]
    },
    {
     "name": "stdout",
     "output_type": "stream",
     "text": [
      "Quota exceeded. Retrying in 60 seconds...\n"
     ]
    },
    {
     "name": "stderr",
     "output_type": "stream",
     "text": [
      "Processing Batches:  25%|██▍       | 313/1253 [2:37:31<6:35:26, 25.24s/it]"
     ]
    },
    {
     "name": "stdout",
     "output_type": "stream",
     "text": [
      "Quota exceeded. Retrying in 60 seconds...\n"
     ]
    },
    {
     "name": "stderr",
     "output_type": "stream",
     "text": [
      "Processing Batches:  25%|██▌       | 315/1253 [2:38:32<6:34:20, 25.22s/it]"
     ]
    },
    {
     "name": "stdout",
     "output_type": "stream",
     "text": [
      "Quota exceeded. Retrying in 60 seconds...\n"
     ]
    },
    {
     "name": "stderr",
     "output_type": "stream",
     "text": [
      "Processing Batches:  25%|██▌       | 317/1253 [2:39:34<6:35:37, 25.36s/it]"
     ]
    },
    {
     "name": "stdout",
     "output_type": "stream",
     "text": [
      "Quota exceeded. Retrying in 60 seconds...\n"
     ]
    },
    {
     "name": "stderr",
     "output_type": "stream",
     "text": [
      "Processing Batches:  25%|██▌       | 319/1253 [2:40:35<6:34:50, 25.36s/it]"
     ]
    },
    {
     "name": "stdout",
     "output_type": "stream",
     "text": [
      "Quota exceeded. Retrying in 60 seconds...\n"
     ]
    },
    {
     "name": "stderr",
     "output_type": "stream",
     "text": [
      "Processing Batches:  26%|██▌       | 321/1253 [2:41:36<6:33:09, 25.31s/it]"
     ]
    },
    {
     "name": "stdout",
     "output_type": "stream",
     "text": [
      "Quota exceeded. Retrying in 60 seconds...\n"
     ]
    },
    {
     "name": "stderr",
     "output_type": "stream",
     "text": [
      "Processing Batches:  26%|██▌       | 323/1253 [2:42:38<6:31:51, 25.28s/it]"
     ]
    },
    {
     "name": "stdout",
     "output_type": "stream",
     "text": [
      "Quota exceeded. Retrying in 60 seconds...\n"
     ]
    },
    {
     "name": "stderr",
     "output_type": "stream",
     "text": [
      "Processing Batches:  26%|██▌       | 325/1253 [2:43:39<6:31:56, 25.34s/it]"
     ]
    },
    {
     "name": "stdout",
     "output_type": "stream",
     "text": [
      "Quota exceeded. Retrying in 60 seconds...\n"
     ]
    },
    {
     "name": "stderr",
     "output_type": "stream",
     "text": [
      "Processing Batches:  26%|██▌       | 327/1253 [2:44:40<6:31:14, 25.35s/it]"
     ]
    },
    {
     "name": "stdout",
     "output_type": "stream",
     "text": [
      "Quota exceeded. Retrying in 60 seconds...\n"
     ]
    },
    {
     "name": "stderr",
     "output_type": "stream",
     "text": [
      "Processing Batches:  26%|██▋       | 329/1253 [2:45:42<6:30:56, 25.39s/it]"
     ]
    },
    {
     "name": "stdout",
     "output_type": "stream",
     "text": [
      "Quota exceeded. Retrying in 60 seconds...\n"
     ]
    },
    {
     "name": "stderr",
     "output_type": "stream",
     "text": [
      "Processing Batches:  26%|██▋       | 331/1253 [2:46:43<6:30:06, 25.39s/it]"
     ]
    },
    {
     "name": "stdout",
     "output_type": "stream",
     "text": [
      "Quota exceeded. Retrying in 60 seconds...\n"
     ]
    },
    {
     "name": "stderr",
     "output_type": "stream",
     "text": [
      "Processing Batches:  27%|██▋       | 333/1253 [2:47:44<6:28:00, 25.31s/it]"
     ]
    },
    {
     "name": "stdout",
     "output_type": "stream",
     "text": [
      "Quota exceeded. Retrying in 60 seconds...\n"
     ]
    },
    {
     "name": "stderr",
     "output_type": "stream",
     "text": [
      "Processing Batches:  27%|██▋       | 335/1253 [2:48:46<6:27:51, 25.35s/it]"
     ]
    },
    {
     "name": "stdout",
     "output_type": "stream",
     "text": [
      "Quota exceeded. Retrying in 60 seconds...\n"
     ]
    },
    {
     "name": "stderr",
     "output_type": "stream",
     "text": [
      "Processing Batches:  27%|██▋       | 337/1253 [2:49:47<6:26:40, 25.33s/it]"
     ]
    },
    {
     "name": "stdout",
     "output_type": "stream",
     "text": [
      "Quota exceeded. Retrying in 60 seconds...\n"
     ]
    },
    {
     "name": "stderr",
     "output_type": "stream",
     "text": [
      "Processing Batches:  27%|██▋       | 339/1253 [2:50:49<6:26:58, 25.40s/it]"
     ]
    },
    {
     "name": "stdout",
     "output_type": "stream",
     "text": [
      "Quota exceeded. Retrying in 60 seconds...\n"
     ]
    },
    {
     "name": "stderr",
     "output_type": "stream",
     "text": [
      "Processing Batches:  27%|██▋       | 341/1253 [2:51:50<6:25:50, 25.38s/it]"
     ]
    },
    {
     "name": "stdout",
     "output_type": "stream",
     "text": [
      "Quota exceeded. Retrying in 60 seconds...\n"
     ]
    },
    {
     "name": "stderr",
     "output_type": "stream",
     "text": [
      "Processing Batches:  27%|██▋       | 343/1253 [2:52:51<6:24:16, 25.34s/it]"
     ]
    },
    {
     "name": "stdout",
     "output_type": "stream",
     "text": [
      "Quota exceeded. Retrying in 60 seconds...\n"
     ]
    },
    {
     "name": "stderr",
     "output_type": "stream",
     "text": [
      "Processing Batches:  28%|██▊       | 345/1253 [2:53:52<6:23:13, 25.32s/it]"
     ]
    },
    {
     "name": "stdout",
     "output_type": "stream",
     "text": [
      "Quota exceeded. Retrying in 60 seconds...\n"
     ]
    },
    {
     "name": "stderr",
     "output_type": "stream",
     "text": [
      "Processing Batches:  28%|██▊       | 347/1253 [2:54:54<6:22:27, 25.33s/it]"
     ]
    },
    {
     "name": "stdout",
     "output_type": "stream",
     "text": [
      "Quota exceeded. Retrying in 60 seconds...\n"
     ]
    },
    {
     "name": "stderr",
     "output_type": "stream",
     "text": [
      "Processing Batches:  28%|██▊       | 349/1253 [2:55:55<6:21:22, 25.31s/it]"
     ]
    },
    {
     "name": "stdout",
     "output_type": "stream",
     "text": [
      "Quota exceeded. Retrying in 60 seconds...\n"
     ]
    },
    {
     "name": "stderr",
     "output_type": "stream",
     "text": [
      "Processing Batches:  28%|██▊       | 351/1253 [2:56:57<6:21:44, 25.39s/it]"
     ]
    },
    {
     "name": "stdout",
     "output_type": "stream",
     "text": [
      "Quota exceeded. Retrying in 60 seconds...\n"
     ]
    },
    {
     "name": "stderr",
     "output_type": "stream",
     "text": [
      "Processing Batches:  28%|██▊       | 353/1253 [2:57:58<6:20:28, 25.37s/it]"
     ]
    },
    {
     "name": "stdout",
     "output_type": "stream",
     "text": [
      "Quota exceeded. Retrying in 60 seconds...\n"
     ]
    },
    {
     "name": "stderr",
     "output_type": "stream",
     "text": [
      "Processing Batches:  28%|██▊       | 355/1253 [2:58:59<6:20:09, 25.40s/it]"
     ]
    },
    {
     "name": "stdout",
     "output_type": "stream",
     "text": [
      "Quota exceeded. Retrying in 60 seconds...\n"
     ]
    },
    {
     "name": "stderr",
     "output_type": "stream",
     "text": [
      "Processing Batches:  28%|██▊       | 357/1253 [3:00:01<6:20:17, 25.47s/it]"
     ]
    },
    {
     "name": "stdout",
     "output_type": "stream",
     "text": [
      "Quota exceeded. Retrying in 60 seconds...\n"
     ]
    },
    {
     "name": "stderr",
     "output_type": "stream",
     "text": [
      "Processing Batches:  29%|██▊       | 359/1253 [3:01:02<6:17:13, 25.32s/it]"
     ]
    },
    {
     "name": "stdout",
     "output_type": "stream",
     "text": [
      "Quota exceeded. Retrying in 60 seconds...\n"
     ]
    },
    {
     "name": "stderr",
     "output_type": "stream",
     "text": [
      "Processing Batches:  29%|██▉       | 361/1253 [3:02:04<6:16:44, 25.34s/it]"
     ]
    },
    {
     "name": "stdout",
     "output_type": "stream",
     "text": [
      "Quota exceeded. Retrying in 60 seconds...\n"
     ]
    },
    {
     "name": "stderr",
     "output_type": "stream",
     "text": [
      "Processing Batches:  29%|██▉       | 363/1253 [3:03:05<6:16:23, 25.38s/it]"
     ]
    },
    {
     "name": "stdout",
     "output_type": "stream",
     "text": [
      "Quota exceeded. Retrying in 60 seconds...\n"
     ]
    },
    {
     "name": "stderr",
     "output_type": "stream",
     "text": [
      "Processing Batches:  29%|██▉       | 365/1253 [3:04:06<6:14:10, 25.28s/it]"
     ]
    },
    {
     "name": "stdout",
     "output_type": "stream",
     "text": [
      "Quota exceeded. Retrying in 60 seconds...\n"
     ]
    },
    {
     "name": "stderr",
     "output_type": "stream",
     "text": [
      "Processing Batches:  29%|██▉       | 367/1253 [3:05:08<6:16:58, 25.53s/it]"
     ]
    },
    {
     "name": "stdout",
     "output_type": "stream",
     "text": [
      "Quota exceeded. Retrying in 60 seconds...\n"
     ]
    },
    {
     "name": "stderr",
     "output_type": "stream",
     "text": [
      "Processing Batches:  29%|██▉       | 369/1253 [3:06:09<6:14:40, 25.43s/it]"
     ]
    },
    {
     "name": "stdout",
     "output_type": "stream",
     "text": [
      "Quota exceeded. Retrying in 60 seconds...\n"
     ]
    },
    {
     "name": "stderr",
     "output_type": "stream",
     "text": [
      "Processing Batches:  30%|██▉       | 371/1253 [3:07:11<6:13:12, 25.39s/it]"
     ]
    },
    {
     "name": "stdout",
     "output_type": "stream",
     "text": [
      "Quota exceeded. Retrying in 60 seconds...\n"
     ]
    },
    {
     "name": "stderr",
     "output_type": "stream",
     "text": [
      "Processing Batches:  30%|██▉       | 373/1253 [3:08:12<6:12:16, 25.38s/it]"
     ]
    },
    {
     "name": "stdout",
     "output_type": "stream",
     "text": [
      "Quota exceeded. Retrying in 60 seconds...\n"
     ]
    },
    {
     "name": "stderr",
     "output_type": "stream",
     "text": [
      "Processing Batches:  30%|██▉       | 375/1253 [3:09:13<6:10:38, 25.33s/it]"
     ]
    },
    {
     "name": "stdout",
     "output_type": "stream",
     "text": [
      "Quota exceeded. Retrying in 60 seconds...\n"
     ]
    },
    {
     "name": "stderr",
     "output_type": "stream",
     "text": [
      "Processing Batches:  30%|███       | 377/1253 [3:10:15<6:10:59, 25.41s/it]"
     ]
    },
    {
     "name": "stdout",
     "output_type": "stream",
     "text": [
      "Quota exceeded. Retrying in 60 seconds...\n"
     ]
    },
    {
     "name": "stderr",
     "output_type": "stream",
     "text": [
      "Processing Batches:  30%|███       | 379/1253 [3:11:16<6:08:47, 25.32s/it]"
     ]
    },
    {
     "name": "stdout",
     "output_type": "stream",
     "text": [
      "Quota exceeded. Retrying in 60 seconds...\n"
     ]
    },
    {
     "name": "stderr",
     "output_type": "stream",
     "text": [
      "Processing Batches:  30%|███       | 381/1253 [3:12:17<6:07:00, 25.25s/it]"
     ]
    },
    {
     "name": "stdout",
     "output_type": "stream",
     "text": [
      "Quota exceeded. Retrying in 60 seconds...\n"
     ]
    },
    {
     "name": "stderr",
     "output_type": "stream",
     "text": [
      "Processing Batches:  31%|███       | 383/1253 [3:13:18<6:06:07, 25.25s/it]"
     ]
    },
    {
     "name": "stdout",
     "output_type": "stream",
     "text": [
      "Quota exceeded. Retrying in 60 seconds...\n"
     ]
    },
    {
     "name": "stderr",
     "output_type": "stream",
     "text": [
      "Processing Batches:  31%|███       | 385/1253 [3:14:19<6:05:14, 25.25s/it]"
     ]
    },
    {
     "name": "stdout",
     "output_type": "stream",
     "text": [
      "Quota exceeded. Retrying in 60 seconds...\n"
     ]
    },
    {
     "name": "stderr",
     "output_type": "stream",
     "text": [
      "Processing Batches:  31%|███       | 387/1253 [3:15:20<6:04:37, 25.26s/it]"
     ]
    },
    {
     "name": "stdout",
     "output_type": "stream",
     "text": [
      "Quota exceeded. Retrying in 60 seconds...\n"
     ]
    },
    {
     "name": "stderr",
     "output_type": "stream",
     "text": [
      "Processing Batches:  31%|███       | 389/1253 [3:16:22<6:04:46, 25.33s/it]"
     ]
    },
    {
     "name": "stdout",
     "output_type": "stream",
     "text": [
      "Quota exceeded. Retrying in 60 seconds...\n"
     ]
    },
    {
     "name": "stderr",
     "output_type": "stream",
     "text": [
      "Processing Batches:  31%|███       | 391/1253 [3:17:23<6:03:25, 25.30s/it]"
     ]
    },
    {
     "name": "stdout",
     "output_type": "stream",
     "text": [
      "Quota exceeded. Retrying in 60 seconds...\n"
     ]
    },
    {
     "name": "stderr",
     "output_type": "stream",
     "text": [
      "Processing Batches:  31%|███▏      | 393/1253 [3:18:24<6:02:36, 25.30s/it]"
     ]
    },
    {
     "name": "stdout",
     "output_type": "stream",
     "text": [
      "Quota exceeded. Retrying in 60 seconds...\n"
     ]
    },
    {
     "name": "stderr",
     "output_type": "stream",
     "text": [
      "Processing Batches:  32%|███▏      | 395/1253 [3:19:25<6:01:24, 25.27s/it]"
     ]
    },
    {
     "name": "stdout",
     "output_type": "stream",
     "text": [
      "Quota exceeded. Retrying in 60 seconds...\n"
     ]
    },
    {
     "name": "stderr",
     "output_type": "stream",
     "text": [
      "Processing Batches:  32%|███▏      | 397/1253 [3:20:26<6:00:21, 25.26s/it]"
     ]
    },
    {
     "name": "stdout",
     "output_type": "stream",
     "text": [
      "Quota exceeded. Retrying in 60 seconds...\n"
     ]
    },
    {
     "name": "stderr",
     "output_type": "stream",
     "text": [
      "Processing Batches:  32%|███▏      | 399/1253 [3:21:27<5:59:03, 25.23s/it]"
     ]
    },
    {
     "name": "stdout",
     "output_type": "stream",
     "text": [
      "Quota exceeded. Retrying in 60 seconds...\n"
     ]
    },
    {
     "name": "stderr",
     "output_type": "stream",
     "text": [
      "Processing Batches:  32%|███▏      | 401/1253 [3:22:28<5:58:09, 25.22s/it]"
     ]
    },
    {
     "name": "stdout",
     "output_type": "stream",
     "text": [
      "Quota exceeded. Retrying in 60 seconds...\n"
     ]
    },
    {
     "name": "stderr",
     "output_type": "stream",
     "text": [
      "Processing Batches:  32%|███▏      | 403/1253 [3:23:30<5:58:36, 25.31s/it]"
     ]
    },
    {
     "name": "stdout",
     "output_type": "stream",
     "text": [
      "Quota exceeded. Retrying in 60 seconds...\n"
     ]
    },
    {
     "name": "stderr",
     "output_type": "stream",
     "text": [
      "Processing Batches:  32%|███▏      | 407/1253 [3:24:34<3:01:40, 12.88s/it]"
     ]
    },
    {
     "name": "stdout",
     "output_type": "stream",
     "text": [
      "Quota exceeded. Retrying in 60 seconds...\n"
     ]
    },
    {
     "name": "stderr",
     "output_type": "stream",
     "text": [
      "Processing Batches:  33%|███▎      | 409/1253 [3:25:35<4:32:28, 19.37s/it]"
     ]
    },
    {
     "name": "stdout",
     "output_type": "stream",
     "text": [
      "Quota exceeded. Retrying in 60 seconds...\n"
     ]
    },
    {
     "name": "stderr",
     "output_type": "stream",
     "text": [
      "Processing Batches:  33%|███▎      | 411/1253 [3:26:37<5:16:09, 22.53s/it]"
     ]
    },
    {
     "name": "stdout",
     "output_type": "stream",
     "text": [
      "Quota exceeded. Retrying in 60 seconds...\n"
     ]
    },
    {
     "name": "stderr",
     "output_type": "stream",
     "text": [
      "Processing Batches:  33%|███▎      | 413/1253 [3:27:39<5:37:35, 24.11s/it]"
     ]
    },
    {
     "name": "stdout",
     "output_type": "stream",
     "text": [
      "Quota exceeded. Retrying in 60 seconds...\n"
     ]
    },
    {
     "name": "stderr",
     "output_type": "stream",
     "text": [
      "Processing Batches:  33%|███▎      | 415/1253 [3:28:40<5:45:22, 24.73s/it]"
     ]
    },
    {
     "name": "stdout",
     "output_type": "stream",
     "text": [
      "Quota exceeded. Retrying in 60 seconds...\n"
     ]
    },
    {
     "name": "stderr",
     "output_type": "stream",
     "text": [
      "Processing Batches:  33%|███▎      | 417/1253 [3:29:42<5:49:43, 25.10s/it]"
     ]
    },
    {
     "name": "stdout",
     "output_type": "stream",
     "text": [
      "Quota exceeded. Retrying in 60 seconds...\n"
     ]
    },
    {
     "name": "stderr",
     "output_type": "stream",
     "text": [
      "Processing Batches:  33%|███▎      | 419/1253 [3:30:43<5:51:13, 25.27s/it]"
     ]
    },
    {
     "name": "stdout",
     "output_type": "stream",
     "text": [
      "Quota exceeded. Retrying in 60 seconds...\n"
     ]
    },
    {
     "name": "stderr",
     "output_type": "stream",
     "text": [
      "Processing Batches:  34%|███▎      | 421/1253 [3:31:45<5:50:19, 25.26s/it]"
     ]
    },
    {
     "name": "stdout",
     "output_type": "stream",
     "text": [
      "Quota exceeded. Retrying in 60 seconds...\n"
     ]
    },
    {
     "name": "stderr",
     "output_type": "stream",
     "text": [
      "Processing Batches:  34%|███▍      | 423/1253 [3:32:46<5:49:08, 25.24s/it]"
     ]
    },
    {
     "name": "stdout",
     "output_type": "stream",
     "text": [
      "Quota exceeded. Retrying in 60 seconds...\n"
     ]
    },
    {
     "name": "stderr",
     "output_type": "stream",
     "text": [
      "Processing Batches:  34%|███▍      | 425/1253 [3:33:48<5:50:54, 25.43s/it]"
     ]
    },
    {
     "name": "stdout",
     "output_type": "stream",
     "text": [
      "Quota exceeded. Retrying in 60 seconds...\n"
     ]
    },
    {
     "name": "stderr",
     "output_type": "stream",
     "text": [
      "Processing Batches:  34%|███▍      | 427/1253 [3:34:49<5:48:10, 25.29s/it]"
     ]
    },
    {
     "name": "stdout",
     "output_type": "stream",
     "text": [
      "Quota exceeded. Retrying in 60 seconds...\n"
     ]
    },
    {
     "name": "stderr",
     "output_type": "stream",
     "text": [
      "Processing Batches:  34%|███▍      | 429/1253 [3:35:50<5:47:02, 25.27s/it]"
     ]
    },
    {
     "name": "stdout",
     "output_type": "stream",
     "text": [
      "Quota exceeded. Retrying in 60 seconds...\n"
     ]
    },
    {
     "name": "stderr",
     "output_type": "stream",
     "text": [
      "Processing Batches:  34%|███▍      | 431/1253 [3:36:51<5:45:19, 25.21s/it]"
     ]
    },
    {
     "name": "stdout",
     "output_type": "stream",
     "text": [
      "Quota exceeded. Retrying in 60 seconds...\n"
     ]
    },
    {
     "name": "stderr",
     "output_type": "stream",
     "text": [
      "Processing Batches:  35%|███▍      | 433/1253 [3:37:52<5:44:05, 25.18s/it]"
     ]
    },
    {
     "name": "stdout",
     "output_type": "stream",
     "text": [
      "Quota exceeded. Retrying in 60 seconds...\n"
     ]
    },
    {
     "name": "stderr",
     "output_type": "stream",
     "text": [
      "Processing Batches:  35%|███▍      | 435/1253 [3:38:53<5:43:33, 25.20s/it]"
     ]
    },
    {
     "name": "stdout",
     "output_type": "stream",
     "text": [
      "Quota exceeded. Retrying in 60 seconds...\n"
     ]
    },
    {
     "name": "stderr",
     "output_type": "stream",
     "text": [
      "Processing Batches:  35%|███▍      | 437/1253 [3:39:54<5:43:14, 25.24s/it]"
     ]
    },
    {
     "name": "stdout",
     "output_type": "stream",
     "text": [
      "Quota exceeded. Retrying in 60 seconds...\n"
     ]
    },
    {
     "name": "stderr",
     "output_type": "stream",
     "text": [
      "Processing Batches:  35%|███▌      | 439/1253 [3:40:55<5:42:22, 25.24s/it]"
     ]
    },
    {
     "name": "stdout",
     "output_type": "stream",
     "text": [
      "Quota exceeded. Retrying in 60 seconds...\n"
     ]
    },
    {
     "name": "stderr",
     "output_type": "stream",
     "text": [
      "Processing Batches:  35%|███▌      | 441/1253 [3:41:56<5:41:49, 25.26s/it]"
     ]
    },
    {
     "name": "stdout",
     "output_type": "stream",
     "text": [
      "Quota exceeded. Retrying in 60 seconds...\n"
     ]
    },
    {
     "name": "stderr",
     "output_type": "stream",
     "text": [
      "Processing Batches:  35%|███▌      | 443/1253 [3:42:57<5:40:12, 25.20s/it]"
     ]
    },
    {
     "name": "stdout",
     "output_type": "stream",
     "text": [
      "Quota exceeded. Retrying in 60 seconds...\n"
     ]
    },
    {
     "name": "stderr",
     "output_type": "stream",
     "text": [
      "Processing Batches:  36%|███▌      | 445/1253 [3:43:58<5:39:43, 25.23s/it]"
     ]
    },
    {
     "name": "stdout",
     "output_type": "stream",
     "text": [
      "Quota exceeded. Retrying in 60 seconds...\n"
     ]
    },
    {
     "name": "stderr",
     "output_type": "stream",
     "text": [
      "Processing Batches:  36%|███▌      | 447/1253 [3:45:00<5:39:45, 25.29s/it]"
     ]
    },
    {
     "name": "stdout",
     "output_type": "stream",
     "text": [
      "Quota exceeded. Retrying in 60 seconds...\n"
     ]
    },
    {
     "name": "stderr",
     "output_type": "stream",
     "text": [
      "Processing Batches:  36%|███▌      | 449/1253 [3:46:01<5:38:11, 25.24s/it]"
     ]
    },
    {
     "name": "stdout",
     "output_type": "stream",
     "text": [
      "Quota exceeded. Retrying in 60 seconds...\n"
     ]
    },
    {
     "name": "stderr",
     "output_type": "stream",
     "text": [
      "Processing Batches:  36%|███▌      | 451/1253 [3:47:02<5:37:14, 25.23s/it]"
     ]
    },
    {
     "name": "stdout",
     "output_type": "stream",
     "text": [
      "Quota exceeded. Retrying in 60 seconds...\n"
     ]
    },
    {
     "name": "stderr",
     "output_type": "stream",
     "text": [
      "Processing Batches:  36%|███▌      | 453/1253 [3:48:03<5:36:34, 25.24s/it]"
     ]
    },
    {
     "name": "stdout",
     "output_type": "stream",
     "text": [
      "Quota exceeded. Retrying in 60 seconds...\n"
     ]
    },
    {
     "name": "stderr",
     "output_type": "stream",
     "text": [
      "Processing Batches:  36%|███▋      | 455/1253 [3:49:04<5:36:23, 25.29s/it]"
     ]
    },
    {
     "name": "stdout",
     "output_type": "stream",
     "text": [
      "Quota exceeded. Retrying in 60 seconds...\n"
     ]
    },
    {
     "name": "stderr",
     "output_type": "stream",
     "text": [
      "Processing Batches:  36%|███▋      | 457/1253 [3:50:05<5:34:37, 25.22s/it]"
     ]
    },
    {
     "name": "stdout",
     "output_type": "stream",
     "text": [
      "Quota exceeded. Retrying in 60 seconds...\n"
     ]
    },
    {
     "name": "stderr",
     "output_type": "stream",
     "text": [
      "Processing Batches:  37%|███▋      | 459/1253 [3:51:06<5:33:39, 25.21s/it]"
     ]
    },
    {
     "name": "stdout",
     "output_type": "stream",
     "text": [
      "Quota exceeded. Retrying in 60 seconds...\n"
     ]
    },
    {
     "name": "stderr",
     "output_type": "stream",
     "text": [
      "Processing Batches:  37%|███▋      | 461/1253 [3:52:07<5:33:18, 25.25s/it]"
     ]
    },
    {
     "name": "stdout",
     "output_type": "stream",
     "text": [
      "Quota exceeded. Retrying in 60 seconds...\n"
     ]
    },
    {
     "name": "stderr",
     "output_type": "stream",
     "text": [
      "Processing Batches:  37%|███▋      | 463/1253 [3:53:08<5:32:08, 25.23s/it]"
     ]
    },
    {
     "name": "stdout",
     "output_type": "stream",
     "text": [
      "Quota exceeded. Retrying in 60 seconds...\n"
     ]
    },
    {
     "name": "stderr",
     "output_type": "stream",
     "text": [
      "Processing Batches:  37%|███▋      | 465/1253 [3:54:10<5:32:35, 25.32s/it]"
     ]
    },
    {
     "name": "stdout",
     "output_type": "stream",
     "text": [
      "Quota exceeded. Retrying in 60 seconds...\n"
     ]
    },
    {
     "name": "stderr",
     "output_type": "stream",
     "text": [
      "Processing Batches:  37%|███▋      | 467/1253 [3:55:12<5:32:25, 25.38s/it]"
     ]
    },
    {
     "name": "stdout",
     "output_type": "stream",
     "text": [
      "Quota exceeded. Retrying in 60 seconds...\n"
     ]
    },
    {
     "name": "stderr",
     "output_type": "stream",
     "text": [
      "Processing Batches:  37%|███▋      | 469/1253 [3:56:13<5:30:50, 25.32s/it]"
     ]
    },
    {
     "name": "stdout",
     "output_type": "stream",
     "text": [
      "Quota exceeded. Retrying in 60 seconds...\n"
     ]
    },
    {
     "name": "stderr",
     "output_type": "stream",
     "text": [
      "Processing Batches:  38%|███▊      | 471/1253 [3:57:14<5:30:22, 25.35s/it]"
     ]
    },
    {
     "name": "stdout",
     "output_type": "stream",
     "text": [
      "Quota exceeded. Retrying in 60 seconds...\n"
     ]
    },
    {
     "name": "stderr",
     "output_type": "stream",
     "text": [
      "Processing Batches:  38%|███▊      | 473/1253 [3:58:15<5:28:56, 25.30s/it]"
     ]
    },
    {
     "name": "stdout",
     "output_type": "stream",
     "text": [
      "Quota exceeded. Retrying in 60 seconds...\n"
     ]
    },
    {
     "name": "stderr",
     "output_type": "stream",
     "text": [
      "Processing Batches:  38%|███▊      | 475/1253 [3:59:17<5:27:56, 25.29s/it]"
     ]
    },
    {
     "name": "stdout",
     "output_type": "stream",
     "text": [
      "Quota exceeded. Retrying in 60 seconds...\n"
     ]
    },
    {
     "name": "stderr",
     "output_type": "stream",
     "text": [
      "Processing Batches:  38%|███▊      | 477/1253 [4:00:18<5:26:18, 25.23s/it]"
     ]
    },
    {
     "name": "stdout",
     "output_type": "stream",
     "text": [
      "Quota exceeded. Retrying in 60 seconds...\n"
     ]
    },
    {
     "name": "stderr",
     "output_type": "stream",
     "text": [
      "Processing Batches:  38%|███▊      | 479/1253 [4:01:19<5:27:24, 25.38s/it]"
     ]
    },
    {
     "name": "stdout",
     "output_type": "stream",
     "text": [
      "Quota exceeded. Retrying in 60 seconds...\n"
     ]
    },
    {
     "name": "stderr",
     "output_type": "stream",
     "text": [
      "Processing Batches:  38%|███▊      | 481/1253 [4:02:21<5:26:09, 25.35s/it]"
     ]
    },
    {
     "name": "stdout",
     "output_type": "stream",
     "text": [
      "Quota exceeded. Retrying in 60 seconds...\n"
     ]
    },
    {
     "name": "stderr",
     "output_type": "stream",
     "text": [
      "Processing Batches:  39%|███▊      | 483/1253 [4:03:22<5:25:41, 25.38s/it]"
     ]
    },
    {
     "name": "stdout",
     "output_type": "stream",
     "text": [
      "Quota exceeded. Retrying in 60 seconds...\n"
     ]
    },
    {
     "name": "stderr",
     "output_type": "stream",
     "text": [
      "Processing Batches:  39%|███▊      | 485/1253 [4:04:23<5:23:56, 25.31s/it]"
     ]
    },
    {
     "name": "stdout",
     "output_type": "stream",
     "text": [
      "Quota exceeded. Retrying in 60 seconds...\n"
     ]
    },
    {
     "name": "stderr",
     "output_type": "stream",
     "text": [
      "Processing Batches:  39%|███▉      | 487/1253 [4:05:24<5:23:02, 25.30s/it]"
     ]
    },
    {
     "name": "stdout",
     "output_type": "stream",
     "text": [
      "Quota exceeded. Retrying in 60 seconds...\n"
     ]
    },
    {
     "name": "stderr",
     "output_type": "stream",
     "text": [
      "Processing Batches:  39%|███▉      | 489/1253 [4:06:26<5:22:40, 25.34s/it]"
     ]
    },
    {
     "name": "stdout",
     "output_type": "stream",
     "text": [
      "Quota exceeded. Retrying in 60 seconds...\n"
     ]
    },
    {
     "name": "stderr",
     "output_type": "stream",
     "text": [
      "Processing Batches:  39%|███▉      | 491/1253 [4:07:27<5:21:15, 25.30s/it]"
     ]
    },
    {
     "name": "stdout",
     "output_type": "stream",
     "text": [
      "Quota exceeded. Retrying in 60 seconds...\n"
     ]
    },
    {
     "name": "stderr",
     "output_type": "stream",
     "text": [
      "Processing Batches:  39%|███▉      | 493/1253 [4:08:28<5:19:40, 25.24s/it]"
     ]
    },
    {
     "name": "stdout",
     "output_type": "stream",
     "text": [
      "Quota exceeded. Retrying in 60 seconds...\n"
     ]
    },
    {
     "name": "stderr",
     "output_type": "stream",
     "text": [
      "Processing Batches:  40%|███▉      | 495/1253 [4:09:29<5:19:11, 25.27s/it]"
     ]
    },
    {
     "name": "stdout",
     "output_type": "stream",
     "text": [
      "Quota exceeded. Retrying in 60 seconds...\n"
     ]
    },
    {
     "name": "stderr",
     "output_type": "stream",
     "text": [
      "Processing Batches:  40%|███▉      | 497/1253 [4:10:30<5:17:51, 25.23s/it]"
     ]
    },
    {
     "name": "stdout",
     "output_type": "stream",
     "text": [
      "Quota exceeded. Retrying in 60 seconds...\n"
     ]
    },
    {
     "name": "stderr",
     "output_type": "stream",
     "text": [
      "Processing Batches:  40%|███▉      | 499/1253 [4:11:31<5:17:01, 25.23s/it]"
     ]
    },
    {
     "name": "stdout",
     "output_type": "stream",
     "text": [
      "Quota exceeded. Retrying in 60 seconds...\n"
     ]
    },
    {
     "name": "stderr",
     "output_type": "stream",
     "text": [
      "Processing Batches:  40%|███▉      | 501/1253 [4:12:32<5:16:27, 25.25s/it]"
     ]
    },
    {
     "name": "stdout",
     "output_type": "stream",
     "text": [
      "Quota exceeded. Retrying in 60 seconds...\n"
     ]
    },
    {
     "name": "stderr",
     "output_type": "stream",
     "text": [
      "Processing Batches:  40%|████      | 503/1253 [4:13:34<5:16:02, 25.28s/it]"
     ]
    },
    {
     "name": "stdout",
     "output_type": "stream",
     "text": [
      "Quota exceeded. Retrying in 60 seconds...\n"
     ]
    },
    {
     "name": "stderr",
     "output_type": "stream",
     "text": [
      "Processing Batches:  40%|████      | 505/1253 [4:14:36<5:17:47, 25.49s/it]"
     ]
    },
    {
     "name": "stdout",
     "output_type": "stream",
     "text": [
      "Quota exceeded. Retrying in 60 seconds...\n"
     ]
    },
    {
     "name": "stderr",
     "output_type": "stream",
     "text": [
      "Processing Batches:  40%|████      | 507/1253 [4:15:37<5:15:12, 25.35s/it]"
     ]
    },
    {
     "name": "stdout",
     "output_type": "stream",
     "text": [
      "Quota exceeded. Retrying in 60 seconds...\n"
     ]
    },
    {
     "name": "stderr",
     "output_type": "stream",
     "text": [
      "Processing Batches:  41%|████      | 509/1253 [4:16:38<5:13:18, 25.27s/it]"
     ]
    },
    {
     "name": "stdout",
     "output_type": "stream",
     "text": [
      "Quota exceeded. Retrying in 60 seconds...\n"
     ]
    },
    {
     "name": "stderr",
     "output_type": "stream",
     "text": [
      "Processing Batches:  41%|████      | 511/1253 [4:17:39<5:13:14, 25.33s/it]"
     ]
    },
    {
     "name": "stdout",
     "output_type": "stream",
     "text": [
      "Quota exceeded. Retrying in 60 seconds...\n"
     ]
    },
    {
     "name": "stderr",
     "output_type": "stream",
     "text": [
      "Processing Batches:  41%|████      | 513/1253 [4:18:40<5:12:28, 25.34s/it]"
     ]
    },
    {
     "name": "stdout",
     "output_type": "stream",
     "text": [
      "Quota exceeded. Retrying in 60 seconds...\n"
     ]
    },
    {
     "name": "stderr",
     "output_type": "stream",
     "text": [
      "Processing Batches:  41%|████      | 515/1253 [4:19:41<5:10:50, 25.27s/it]"
     ]
    },
    {
     "name": "stdout",
     "output_type": "stream",
     "text": [
      "Quota exceeded. Retrying in 60 seconds...\n"
     ]
    },
    {
     "name": "stderr",
     "output_type": "stream",
     "text": [
      "Processing Batches:  41%|████▏     | 517/1253 [4:20:43<5:10:10, 25.29s/it]"
     ]
    },
    {
     "name": "stdout",
     "output_type": "stream",
     "text": [
      "Quota exceeded. Retrying in 60 seconds...\n"
     ]
    },
    {
     "name": "stderr",
     "output_type": "stream",
     "text": [
      "Processing Batches:  41%|████▏     | 519/1253 [4:21:44<5:09:31, 25.30s/it]"
     ]
    },
    {
     "name": "stdout",
     "output_type": "stream",
     "text": [
      "Quota exceeded. Retrying in 60 seconds...\n"
     ]
    },
    {
     "name": "stderr",
     "output_type": "stream",
     "text": [
      "Processing Batches:  42%|████▏     | 521/1253 [4:22:45<5:07:54, 25.24s/it]"
     ]
    },
    {
     "name": "stdout",
     "output_type": "stream",
     "text": [
      "Quota exceeded. Retrying in 60 seconds...\n"
     ]
    },
    {
     "name": "stderr",
     "output_type": "stream",
     "text": [
      "Processing Batches:  42%|████▏     | 523/1253 [4:23:46<5:06:33, 25.20s/it]"
     ]
    },
    {
     "name": "stdout",
     "output_type": "stream",
     "text": [
      "Quota exceeded. Retrying in 60 seconds...\n"
     ]
    },
    {
     "name": "stderr",
     "output_type": "stream",
     "text": [
      "Processing Batches:  42%|████▏     | 525/1253 [4:24:47<5:05:35, 25.19s/it]"
     ]
    },
    {
     "name": "stdout",
     "output_type": "stream",
     "text": [
      "Quota exceeded. Retrying in 60 seconds...\n"
     ]
    },
    {
     "name": "stderr",
     "output_type": "stream",
     "text": [
      "Processing Batches:  42%|████▏     | 527/1253 [4:25:48<5:05:14, 25.23s/it]"
     ]
    },
    {
     "name": "stdout",
     "output_type": "stream",
     "text": [
      "Quota exceeded. Retrying in 60 seconds...\n"
     ]
    },
    {
     "name": "stderr",
     "output_type": "stream",
     "text": [
      "Processing Batches:  42%|████▏     | 529/1253 [4:26:49<5:05:47, 25.34s/it]"
     ]
    },
    {
     "name": "stdout",
     "output_type": "stream",
     "text": [
      "Quota exceeded. Retrying in 60 seconds...\n"
     ]
    },
    {
     "name": "stderr",
     "output_type": "stream",
     "text": [
      "Processing Batches:  42%|████▏     | 531/1253 [4:27:51<5:05:14, 25.37s/it]"
     ]
    },
    {
     "name": "stdout",
     "output_type": "stream",
     "text": [
      "Quota exceeded. Retrying in 60 seconds...\n"
     ]
    },
    {
     "name": "stderr",
     "output_type": "stream",
     "text": [
      "Processing Batches:  43%|████▎     | 533/1253 [4:28:52<5:04:24, 25.37s/it]"
     ]
    },
    {
     "name": "stdout",
     "output_type": "stream",
     "text": [
      "Quota exceeded. Retrying in 60 seconds...\n"
     ]
    },
    {
     "name": "stderr",
     "output_type": "stream",
     "text": [
      "Processing Batches:  43%|████▎     | 535/1253 [4:29:54<5:03:20, 25.35s/it]"
     ]
    },
    {
     "name": "stdout",
     "output_type": "stream",
     "text": [
      "Quota exceeded. Retrying in 60 seconds...\n"
     ]
    },
    {
     "name": "stderr",
     "output_type": "stream",
     "text": [
      "Processing Batches:  43%|████▎     | 537/1253 [4:30:55<5:02:44, 25.37s/it]"
     ]
    },
    {
     "name": "stdout",
     "output_type": "stream",
     "text": [
      "Quota exceeded. Retrying in 60 seconds...\n"
     ]
    },
    {
     "name": "stderr",
     "output_type": "stream",
     "text": [
      "Processing Batches:  43%|████▎     | 539/1253 [4:31:56<5:01:41, 25.35s/it]"
     ]
    },
    {
     "name": "stdout",
     "output_type": "stream",
     "text": [
      "Quota exceeded. Retrying in 60 seconds...\n"
     ]
    },
    {
     "name": "stderr",
     "output_type": "stream",
     "text": [
      "Processing Batches:  43%|████▎     | 541/1253 [4:32:58<5:00:51, 25.35s/it]"
     ]
    },
    {
     "name": "stdout",
     "output_type": "stream",
     "text": [
      "Quota exceeded. Retrying in 60 seconds...\n"
     ]
    },
    {
     "name": "stderr",
     "output_type": "stream",
     "text": [
      "Processing Batches:  43%|████▎     | 543/1253 [4:33:59<4:59:28, 25.31s/it]"
     ]
    },
    {
     "name": "stdout",
     "output_type": "stream",
     "text": [
      "Quota exceeded. Retrying in 60 seconds...\n"
     ]
    },
    {
     "name": "stderr",
     "output_type": "stream",
     "text": [
      "Processing Batches:  43%|████▎     | 545/1253 [4:35:00<4:58:50, 25.32s/it]"
     ]
    },
    {
     "name": "stdout",
     "output_type": "stream",
     "text": [
      "Quota exceeded. Retrying in 60 seconds...\n"
     ]
    },
    {
     "name": "stderr",
     "output_type": "stream",
     "text": [
      "Processing Batches:  44%|████▎     | 547/1253 [4:36:01<4:57:48, 25.31s/it]"
     ]
    },
    {
     "name": "stdout",
     "output_type": "stream",
     "text": [
      "Quota exceeded. Retrying in 60 seconds...\n"
     ]
    },
    {
     "name": "stderr",
     "output_type": "stream",
     "text": [
      "Processing Batches:  44%|████▍     | 549/1253 [4:37:02<4:55:54, 25.22s/it]"
     ]
    },
    {
     "name": "stdout",
     "output_type": "stream",
     "text": [
      "Quota exceeded. Retrying in 60 seconds...\n"
     ]
    },
    {
     "name": "stderr",
     "output_type": "stream",
     "text": [
      "Processing Batches:  44%|████▍     | 551/1253 [4:38:03<4:55:30, 25.26s/it]"
     ]
    },
    {
     "name": "stdout",
     "output_type": "stream",
     "text": [
      "Quota exceeded. Retrying in 60 seconds...\n"
     ]
    },
    {
     "name": "stderr",
     "output_type": "stream",
     "text": [
      "Processing Batches:  44%|████▍     | 553/1253 [4:39:04<4:54:26, 25.24s/it]"
     ]
    },
    {
     "name": "stdout",
     "output_type": "stream",
     "text": [
      "Quota exceeded. Retrying in 60 seconds...\n"
     ]
    },
    {
     "name": "stderr",
     "output_type": "stream",
     "text": [
      "Processing Batches:  44%|████▍     | 555/1253 [4:40:06<4:55:36, 25.41s/it]"
     ]
    },
    {
     "name": "stdout",
     "output_type": "stream",
     "text": [
      "Quota exceeded. Retrying in 60 seconds...\n"
     ]
    },
    {
     "name": "stderr",
     "output_type": "stream",
     "text": [
      "Processing Batches:  44%|████▍     | 557/1253 [4:41:08<4:54:33, 25.39s/it]"
     ]
    },
    {
     "name": "stdout",
     "output_type": "stream",
     "text": [
      "Quota exceeded. Retrying in 60 seconds...\n"
     ]
    },
    {
     "name": "stderr",
     "output_type": "stream",
     "text": [
      "Processing Batches:  45%|████▍     | 559/1253 [4:42:09<4:53:38, 25.39s/it]"
     ]
    },
    {
     "name": "stdout",
     "output_type": "stream",
     "text": [
      "Quota exceeded. Retrying in 60 seconds...\n"
     ]
    },
    {
     "name": "stderr",
     "output_type": "stream",
     "text": [
      "Processing Batches:  45%|████▍     | 561/1253 [4:43:10<4:51:17, 25.26s/it]"
     ]
    },
    {
     "name": "stdout",
     "output_type": "stream",
     "text": [
      "Quota exceeded. Retrying in 60 seconds...\n"
     ]
    },
    {
     "name": "stderr",
     "output_type": "stream",
     "text": [
      "Processing Batches:  45%|████▍     | 563/1253 [4:44:11<4:50:35, 25.27s/it]"
     ]
    },
    {
     "name": "stdout",
     "output_type": "stream",
     "text": [
      "Quota exceeded. Retrying in 60 seconds...\n"
     ]
    },
    {
     "name": "stderr",
     "output_type": "stream",
     "text": [
      "Processing Batches:  45%|████▌     | 565/1253 [4:45:13<4:49:47, 25.27s/it]"
     ]
    },
    {
     "name": "stdout",
     "output_type": "stream",
     "text": [
      "Quota exceeded. Retrying in 60 seconds...\n"
     ]
    },
    {
     "name": "stderr",
     "output_type": "stream",
     "text": [
      "Processing Batches:  45%|████▌     | 567/1253 [4:46:14<4:49:21, 25.31s/it]"
     ]
    },
    {
     "name": "stdout",
     "output_type": "stream",
     "text": [
      "Quota exceeded. Retrying in 60 seconds...\n"
     ]
    },
    {
     "name": "stderr",
     "output_type": "stream",
     "text": [
      "Processing Batches:  45%|████▌     | 569/1253 [4:47:16<4:50:34, 25.49s/it]"
     ]
    },
    {
     "name": "stdout",
     "output_type": "stream",
     "text": [
      "Quota exceeded. Retrying in 60 seconds...\n"
     ]
    },
    {
     "name": "stderr",
     "output_type": "stream",
     "text": [
      "Processing Batches:  46%|████▌     | 571/1253 [4:48:17<4:47:40, 25.31s/it]"
     ]
    },
    {
     "name": "stdout",
     "output_type": "stream",
     "text": [
      "Quota exceeded. Retrying in 60 seconds...\n"
     ]
    },
    {
     "name": "stderr",
     "output_type": "stream",
     "text": [
      "Processing Batches:  46%|████▌     | 573/1253 [4:49:19<4:48:43, 25.48s/it]"
     ]
    },
    {
     "name": "stdout",
     "output_type": "stream",
     "text": [
      "Quota exceeded. Retrying in 60 seconds...\n"
     ]
    },
    {
     "name": "stderr",
     "output_type": "stream",
     "text": [
      "Processing Batches:  46%|████▌     | 575/1253 [4:50:20<4:46:19, 25.34s/it]"
     ]
    },
    {
     "name": "stdout",
     "output_type": "stream",
     "text": [
      "Quota exceeded. Retrying in 60 seconds...\n"
     ]
    },
    {
     "name": "stderr",
     "output_type": "stream",
     "text": [
      "Processing Batches:  46%|████▌     | 577/1253 [4:51:21<4:45:52, 25.37s/it]"
     ]
    },
    {
     "name": "stdout",
     "output_type": "stream",
     "text": [
      "Quota exceeded. Retrying in 60 seconds...\n"
     ]
    },
    {
     "name": "stderr",
     "output_type": "stream",
     "text": [
      "Processing Batches:  46%|████▌     | 579/1253 [4:52:23<4:45:18, 25.40s/it]"
     ]
    },
    {
     "name": "stdout",
     "output_type": "stream",
     "text": [
      "Quota exceeded. Retrying in 60 seconds...\n"
     ]
    },
    {
     "name": "stderr",
     "output_type": "stream",
     "text": [
      "Processing Batches:  46%|████▋     | 581/1253 [4:53:24<4:44:15, 25.38s/it]"
     ]
    },
    {
     "name": "stdout",
     "output_type": "stream",
     "text": [
      "Quota exceeded. Retrying in 60 seconds...\n"
     ]
    },
    {
     "name": "stderr",
     "output_type": "stream",
     "text": [
      "Processing Batches:  47%|████▋     | 583/1253 [4:54:25<4:42:52, 25.33s/it]"
     ]
    },
    {
     "name": "stdout",
     "output_type": "stream",
     "text": [
      "Quota exceeded. Retrying in 60 seconds...\n"
     ]
    },
    {
     "name": "stderr",
     "output_type": "stream",
     "text": [
      "Processing Batches:  47%|████▋     | 585/1253 [4:55:27<4:42:39, 25.39s/it]"
     ]
    },
    {
     "name": "stdout",
     "output_type": "stream",
     "text": [
      "Quota exceeded. Retrying in 60 seconds...\n"
     ]
    },
    {
     "name": "stderr",
     "output_type": "stream",
     "text": [
      "Processing Batches:  47%|████▋     | 587/1253 [4:56:28<4:41:32, 25.36s/it]"
     ]
    },
    {
     "name": "stdout",
     "output_type": "stream",
     "text": [
      "Quota exceeded. Retrying in 60 seconds...\n"
     ]
    },
    {
     "name": "stderr",
     "output_type": "stream",
     "text": [
      "Processing Batches:  47%|████▋     | 589/1253 [4:57:30<4:41:28, 25.44s/it]"
     ]
    },
    {
     "name": "stdout",
     "output_type": "stream",
     "text": [
      "Quota exceeded. Retrying in 60 seconds...\n"
     ]
    },
    {
     "name": "stderr",
     "output_type": "stream",
     "text": [
      "Processing Batches:  47%|████▋     | 591/1253 [4:58:31<4:39:03, 25.29s/it]"
     ]
    },
    {
     "name": "stdout",
     "output_type": "stream",
     "text": [
      "Quota exceeded. Retrying in 60 seconds...\n"
     ]
    },
    {
     "name": "stderr",
     "output_type": "stream",
     "text": [
      "Processing Batches:  47%|████▋     | 593/1253 [4:59:32<4:39:07, 25.38s/it]"
     ]
    },
    {
     "name": "stdout",
     "output_type": "stream",
     "text": [
      "Quota exceeded. Retrying in 60 seconds...\n"
     ]
    },
    {
     "name": "stderr",
     "output_type": "stream",
     "text": [
      "Processing Batches:  47%|████▋     | 595/1253 [5:00:33<4:37:08, 25.27s/it]"
     ]
    },
    {
     "name": "stdout",
     "output_type": "stream",
     "text": [
      "Quota exceeded. Retrying in 60 seconds...\n"
     ]
    },
    {
     "name": "stderr",
     "output_type": "stream",
     "text": [
      "Processing Batches:  48%|████▊     | 597/1253 [5:01:35<4:36:13, 25.26s/it]"
     ]
    },
    {
     "name": "stdout",
     "output_type": "stream",
     "text": [
      "Quota exceeded. Retrying in 60 seconds...\n"
     ]
    },
    {
     "name": "stderr",
     "output_type": "stream",
     "text": [
      "Processing Batches:  48%|████▊     | 599/1253 [5:02:36<4:34:54, 25.22s/it]"
     ]
    },
    {
     "name": "stdout",
     "output_type": "stream",
     "text": [
      "Quota exceeded. Retrying in 60 seconds...\n"
     ]
    },
    {
     "name": "stderr",
     "output_type": "stream",
     "text": [
      "Processing Batches:  48%|████▊     | 601/1253 [5:03:37<4:34:26, 25.26s/it]"
     ]
    },
    {
     "name": "stdout",
     "output_type": "stream",
     "text": [
      "Quota exceeded. Retrying in 60 seconds...\n"
     ]
    },
    {
     "name": "stderr",
     "output_type": "stream",
     "text": [
      "Processing Batches:  48%|████▊     | 603/1253 [5:04:38<4:34:17, 25.32s/it]"
     ]
    },
    {
     "name": "stdout",
     "output_type": "stream",
     "text": [
      "Quota exceeded. Retrying in 60 seconds...\n"
     ]
    },
    {
     "name": "stderr",
     "output_type": "stream",
     "text": [
      "Processing Batches:  48%|████▊     | 605/1253 [5:05:39<4:32:42, 25.25s/it]"
     ]
    },
    {
     "name": "stdout",
     "output_type": "stream",
     "text": [
      "Quota exceeded. Retrying in 60 seconds...\n"
     ]
    },
    {
     "name": "stderr",
     "output_type": "stream",
     "text": [
      "Processing Batches:  48%|████▊     | 607/1253 [5:06:40<4:31:59, 25.26s/it]"
     ]
    },
    {
     "name": "stdout",
     "output_type": "stream",
     "text": [
      "Quota exceeded. Retrying in 60 seconds...\n"
     ]
    },
    {
     "name": "stderr",
     "output_type": "stream",
     "text": [
      "Processing Batches:  49%|████▊     | 609/1253 [5:07:42<4:31:28, 25.29s/it]"
     ]
    },
    {
     "name": "stdout",
     "output_type": "stream",
     "text": [
      "Quota exceeded. Retrying in 60 seconds...\n"
     ]
    },
    {
     "name": "stderr",
     "output_type": "stream",
     "text": [
      "Processing Batches:  49%|████▉     | 611/1253 [5:08:43<4:30:37, 25.29s/it]"
     ]
    },
    {
     "name": "stdout",
     "output_type": "stream",
     "text": [
      "Quota exceeded. Retrying in 60 seconds...\n"
     ]
    },
    {
     "name": "stderr",
     "output_type": "stream",
     "text": [
      "Processing Batches:  49%|████▉     | 613/1253 [5:09:44<4:29:09, 25.23s/it]"
     ]
    },
    {
     "name": "stdout",
     "output_type": "stream",
     "text": [
      "Quota exceeded. Retrying in 60 seconds...\n"
     ]
    },
    {
     "name": "stderr",
     "output_type": "stream",
     "text": [
      "Processing Batches:  49%|████▉     | 615/1253 [5:10:46<4:30:44, 25.46s/it]"
     ]
    },
    {
     "name": "stdout",
     "output_type": "stream",
     "text": [
      "Quota exceeded. Retrying in 60 seconds...\n"
     ]
    },
    {
     "name": "stderr",
     "output_type": "stream",
     "text": [
      "Processing Batches:  49%|████▉     | 617/1253 [5:11:48<4:30:20, 25.50s/it]"
     ]
    },
    {
     "name": "stdout",
     "output_type": "stream",
     "text": [
      "Quota exceeded. Retrying in 60 seconds...\n"
     ]
    },
    {
     "name": "stderr",
     "output_type": "stream",
     "text": [
      "Processing Batches:  49%|████▉     | 619/1253 [5:12:49<4:28:25, 25.40s/it]"
     ]
    },
    {
     "name": "stdout",
     "output_type": "stream",
     "text": [
      "Quota exceeded. Retrying in 60 seconds...\n"
     ]
    },
    {
     "name": "stderr",
     "output_type": "stream",
     "text": [
      "Processing Batches:  50%|████▉     | 621/1253 [5:13:50<4:26:32, 25.30s/it]"
     ]
    },
    {
     "name": "stdout",
     "output_type": "stream",
     "text": [
      "Quota exceeded. Retrying in 60 seconds...\n"
     ]
    },
    {
     "name": "stderr",
     "output_type": "stream",
     "text": [
      "Processing Batches:  50%|████▉     | 623/1253 [5:14:52<4:27:40, 25.49s/it]"
     ]
    },
    {
     "name": "stdout",
     "output_type": "stream",
     "text": [
      "Quota exceeded. Retrying in 60 seconds...\n"
     ]
    },
    {
     "name": "stderr",
     "output_type": "stream",
     "text": [
      "Processing Batches:  50%|████▉     | 625/1253 [5:15:53<4:25:39, 25.38s/it]"
     ]
    },
    {
     "name": "stdout",
     "output_type": "stream",
     "text": [
      "Quota exceeded. Retrying in 60 seconds...\n"
     ]
    },
    {
     "name": "stderr",
     "output_type": "stream",
     "text": [
      "Processing Batches:  50%|█████     | 627/1253 [5:16:55<4:25:12, 25.42s/it]"
     ]
    },
    {
     "name": "stdout",
     "output_type": "stream",
     "text": [
      "Quota exceeded. Retrying in 60 seconds...\n"
     ]
    },
    {
     "name": "stderr",
     "output_type": "stream",
     "text": [
      "Processing Batches:  50%|█████     | 629/1253 [5:17:56<4:23:09, 25.30s/it]"
     ]
    },
    {
     "name": "stdout",
     "output_type": "stream",
     "text": [
      "Quota exceeded. Retrying in 60 seconds...\n"
     ]
    },
    {
     "name": "stderr",
     "output_type": "stream",
     "text": [
      "Processing Batches:  50%|█████     | 631/1253 [5:18:57<4:22:27, 25.32s/it]"
     ]
    },
    {
     "name": "stdout",
     "output_type": "stream",
     "text": [
      "Quota exceeded. Retrying in 60 seconds...\n"
     ]
    },
    {
     "name": "stderr",
     "output_type": "stream",
     "text": [
      "Processing Batches:  51%|█████     | 633/1253 [5:19:58<4:21:28, 25.30s/it]"
     ]
    },
    {
     "name": "stdout",
     "output_type": "stream",
     "text": [
      "Quota exceeded. Retrying in 60 seconds...\n"
     ]
    },
    {
     "name": "stderr",
     "output_type": "stream",
     "text": [
      "Processing Batches:  51%|█████     | 635/1253 [5:21:00<4:20:21, 25.28s/it]"
     ]
    },
    {
     "name": "stdout",
     "output_type": "stream",
     "text": [
      "Quota exceeded. Retrying in 60 seconds...\n"
     ]
    },
    {
     "name": "stderr",
     "output_type": "stream",
     "text": [
      "Processing Batches:  51%|█████     | 637/1253 [5:22:01<4:19:13, 25.25s/it]"
     ]
    },
    {
     "name": "stdout",
     "output_type": "stream",
     "text": [
      "Quota exceeded. Retrying in 60 seconds...\n"
     ]
    },
    {
     "name": "stderr",
     "output_type": "stream",
     "text": [
      "Processing Batches:  51%|█████     | 639/1253 [5:23:02<4:18:28, 25.26s/it]"
     ]
    },
    {
     "name": "stdout",
     "output_type": "stream",
     "text": [
      "Quota exceeded. Retrying in 60 seconds...\n"
     ]
    },
    {
     "name": "stderr",
     "output_type": "stream",
     "text": [
      "Processing Batches:  51%|█████     | 641/1253 [5:24:03<4:17:46, 25.27s/it]"
     ]
    },
    {
     "name": "stdout",
     "output_type": "stream",
     "text": [
      "Quota exceeded. Retrying in 60 seconds...\n"
     ]
    },
    {
     "name": "stderr",
     "output_type": "stream",
     "text": [
      "Processing Batches:  51%|█████▏    | 643/1253 [5:25:04<4:16:47, 25.26s/it]"
     ]
    },
    {
     "name": "stdout",
     "output_type": "stream",
     "text": [
      "Quota exceeded. Retrying in 60 seconds...\n"
     ]
    },
    {
     "name": "stderr",
     "output_type": "stream",
     "text": [
      "Processing Batches:  51%|█████▏    | 645/1253 [5:26:05<4:15:56, 25.26s/it]"
     ]
    },
    {
     "name": "stdout",
     "output_type": "stream",
     "text": [
      "Quota exceeded. Retrying in 60 seconds...\n"
     ]
    },
    {
     "name": "stderr",
     "output_type": "stream",
     "text": [
      "Processing Batches:  52%|█████▏    | 647/1253 [5:27:06<4:15:18, 25.28s/it]"
     ]
    },
    {
     "name": "stdout",
     "output_type": "stream",
     "text": [
      "Quota exceeded. Retrying in 60 seconds...\n"
     ]
    },
    {
     "name": "stderr",
     "output_type": "stream",
     "text": [
      "Processing Batches:  52%|█████▏    | 649/1253 [5:28:08<4:15:29, 25.38s/it]"
     ]
    },
    {
     "name": "stdout",
     "output_type": "stream",
     "text": [
      "Quota exceeded. Retrying in 60 seconds...\n"
     ]
    },
    {
     "name": "stderr",
     "output_type": "stream",
     "text": [
      "Processing Batches:  52%|█████▏    | 651/1253 [5:29:09<4:14:14, 25.34s/it]"
     ]
    },
    {
     "name": "stdout",
     "output_type": "stream",
     "text": [
      "Quota exceeded. Retrying in 60 seconds...\n"
     ]
    },
    {
     "name": "stderr",
     "output_type": "stream",
     "text": [
      "Processing Batches:  52%|█████▏    | 653/1253 [5:30:10<4:12:56, 25.29s/it]"
     ]
    },
    {
     "name": "stdout",
     "output_type": "stream",
     "text": [
      "Quota exceeded. Retrying in 60 seconds...\n"
     ]
    },
    {
     "name": "stderr",
     "output_type": "stream",
     "text": [
      "Processing Batches:  52%|█████▏    | 655/1253 [5:31:11<4:11:29, 25.23s/it]"
     ]
    },
    {
     "name": "stdout",
     "output_type": "stream",
     "text": [
      "Quota exceeded. Retrying in 60 seconds...\n"
     ]
    },
    {
     "name": "stderr",
     "output_type": "stream",
     "text": [
      "Processing Batches:  52%|█████▏    | 657/1253 [5:32:13<4:11:16, 25.30s/it]"
     ]
    },
    {
     "name": "stdout",
     "output_type": "stream",
     "text": [
      "Quota exceeded. Retrying in 60 seconds...\n"
     ]
    },
    {
     "name": "stderr",
     "output_type": "stream",
     "text": [
      "Processing Batches:  53%|█████▎    | 659/1253 [5:33:14<4:10:39, 25.32s/it]"
     ]
    },
    {
     "name": "stdout",
     "output_type": "stream",
     "text": [
      "Quota exceeded. Retrying in 60 seconds...\n"
     ]
    },
    {
     "name": "stderr",
     "output_type": "stream",
     "text": [
      "Processing Batches:  53%|█████▎    | 661/1253 [5:34:15<4:09:35, 25.30s/it]"
     ]
    },
    {
     "name": "stdout",
     "output_type": "stream",
     "text": [
      "Quota exceeded. Retrying in 60 seconds...\n"
     ]
    },
    {
     "name": "stderr",
     "output_type": "stream",
     "text": [
      "Processing Batches:  53%|█████▎    | 663/1253 [5:35:16<4:08:23, 25.26s/it]"
     ]
    },
    {
     "name": "stdout",
     "output_type": "stream",
     "text": [
      "Quota exceeded. Retrying in 60 seconds...\n"
     ]
    },
    {
     "name": "stderr",
     "output_type": "stream",
     "text": [
      "Processing Batches:  53%|█████▎    | 665/1253 [5:36:18<4:09:44, 25.48s/it]"
     ]
    },
    {
     "name": "stdout",
     "output_type": "stream",
     "text": [
      "Quota exceeded. Retrying in 60 seconds...\n"
     ]
    },
    {
     "name": "stderr",
     "output_type": "stream",
     "text": [
      "Processing Batches:  53%|█████▎    | 667/1253 [5:37:20<4:08:43, 25.47s/it]"
     ]
    },
    {
     "name": "stdout",
     "output_type": "stream",
     "text": [
      "Quota exceeded. Retrying in 60 seconds...\n"
     ]
    },
    {
     "name": "stderr",
     "output_type": "stream",
     "text": [
      "Processing Batches:  53%|█████▎    | 669/1253 [5:38:21<4:07:58, 25.48s/it]"
     ]
    },
    {
     "name": "stdout",
     "output_type": "stream",
     "text": [
      "Quota exceeded. Retrying in 60 seconds...\n"
     ]
    },
    {
     "name": "stderr",
     "output_type": "stream",
     "text": [
      "Processing Batches:  54%|█████▎    | 671/1253 [5:39:22<4:05:59, 25.36s/it]"
     ]
    },
    {
     "name": "stdout",
     "output_type": "stream",
     "text": [
      "Quota exceeded. Retrying in 60 seconds...\n"
     ]
    },
    {
     "name": "stderr",
     "output_type": "stream",
     "text": [
      "Processing Batches:  54%|█████▎    | 673/1253 [5:40:23<4:04:40, 25.31s/it]"
     ]
    },
    {
     "name": "stdout",
     "output_type": "stream",
     "text": [
      "Quota exceeded. Retrying in 60 seconds...\n"
     ]
    },
    {
     "name": "stderr",
     "output_type": "stream",
     "text": [
      "Processing Batches:  54%|█████▍    | 675/1253 [5:41:25<4:03:44, 25.30s/it]"
     ]
    },
    {
     "name": "stdout",
     "output_type": "stream",
     "text": [
      "Quota exceeded. Retrying in 60 seconds...\n"
     ]
    },
    {
     "name": "stderr",
     "output_type": "stream",
     "text": [
      "Processing Batches:  54%|█████▍    | 677/1253 [5:42:26<4:02:48, 25.29s/it]"
     ]
    },
    {
     "name": "stdout",
     "output_type": "stream",
     "text": [
      "Quota exceeded. Retrying in 60 seconds...\n"
     ]
    },
    {
     "name": "stderr",
     "output_type": "stream",
     "text": [
      "Processing Batches:  54%|█████▍    | 679/1253 [5:43:27<4:01:37, 25.26s/it]"
     ]
    },
    {
     "name": "stdout",
     "output_type": "stream",
     "text": [
      "Quota exceeded. Retrying in 60 seconds...\n"
     ]
    },
    {
     "name": "stderr",
     "output_type": "stream",
     "text": [
      "Processing Batches:  54%|█████▍    | 681/1253 [5:44:28<4:00:40, 25.25s/it]"
     ]
    },
    {
     "name": "stdout",
     "output_type": "stream",
     "text": [
      "Quota exceeded. Retrying in 60 seconds...\n"
     ]
    },
    {
     "name": "stderr",
     "output_type": "stream",
     "text": [
      "Processing Batches:  55%|█████▍    | 683/1253 [5:45:29<4:00:11, 25.28s/it]"
     ]
    },
    {
     "name": "stdout",
     "output_type": "stream",
     "text": [
      "Quota exceeded. Retrying in 60 seconds...\n"
     ]
    },
    {
     "name": "stderr",
     "output_type": "stream",
     "text": [
      "Processing Batches:  55%|█████▍    | 685/1253 [5:46:31<3:59:45, 25.33s/it]"
     ]
    },
    {
     "name": "stdout",
     "output_type": "stream",
     "text": [
      "Quota exceeded. Retrying in 60 seconds...\n"
     ]
    },
    {
     "name": "stderr",
     "output_type": "stream",
     "text": [
      "Processing Batches:  55%|█████▍    | 687/1253 [5:47:33<4:00:12, 25.46s/it]"
     ]
    },
    {
     "name": "stdout",
     "output_type": "stream",
     "text": [
      "Quota exceeded. Retrying in 60 seconds...\n"
     ]
    },
    {
     "name": "stderr",
     "output_type": "stream",
     "text": [
      "Processing Batches:  55%|█████▍    | 689/1253 [5:48:34<3:57:54, 25.31s/it]"
     ]
    },
    {
     "name": "stdout",
     "output_type": "stream",
     "text": [
      "Quota exceeded. Retrying in 60 seconds...\n"
     ]
    },
    {
     "name": "stderr",
     "output_type": "stream",
     "text": [
      "Processing Batches:  55%|█████▌    | 691/1253 [5:49:35<3:56:47, 25.28s/it]"
     ]
    },
    {
     "name": "stdout",
     "output_type": "stream",
     "text": [
      "Quota exceeded. Retrying in 60 seconds...\n"
     ]
    },
    {
     "name": "stderr",
     "output_type": "stream",
     "text": [
      "Processing Batches:  55%|█████▌    | 693/1253 [5:50:36<3:55:28, 25.23s/it]"
     ]
    },
    {
     "name": "stdout",
     "output_type": "stream",
     "text": [
      "Quota exceeded. Retrying in 60 seconds...\n"
     ]
    },
    {
     "name": "stderr",
     "output_type": "stream",
     "text": [
      "Processing Batches:  55%|█████▌    | 695/1253 [5:51:37<3:54:54, 25.26s/it]"
     ]
    },
    {
     "name": "stdout",
     "output_type": "stream",
     "text": [
      "Quota exceeded. Retrying in 60 seconds...\n"
     ]
    },
    {
     "name": "stderr",
     "output_type": "stream",
     "text": [
      "Processing Batches:  56%|█████▌    | 697/1253 [5:52:38<3:53:54, 25.24s/it]"
     ]
    },
    {
     "name": "stdout",
     "output_type": "stream",
     "text": [
      "Quota exceeded. Retrying in 60 seconds...\n"
     ]
    },
    {
     "name": "stderr",
     "output_type": "stream",
     "text": [
      "Processing Batches:  56%|█████▌    | 699/1253 [5:53:39<3:52:46, 25.21s/it]"
     ]
    },
    {
     "name": "stdout",
     "output_type": "stream",
     "text": [
      "Quota exceeded. Retrying in 60 seconds...\n"
     ]
    },
    {
     "name": "stderr",
     "output_type": "stream",
     "text": [
      "Processing Batches:  56%|█████▌    | 701/1253 [5:54:40<3:52:30, 25.27s/it]"
     ]
    },
    {
     "name": "stdout",
     "output_type": "stream",
     "text": [
      "Quota exceeded. Retrying in 60 seconds...\n"
     ]
    },
    {
     "name": "stderr",
     "output_type": "stream",
     "text": [
      "Processing Batches:  56%|█████▌    | 703/1253 [5:55:41<3:51:40, 25.27s/it]"
     ]
    },
    {
     "name": "stdout",
     "output_type": "stream",
     "text": [
      "Quota exceeded. Retrying in 60 seconds...\n"
     ]
    },
    {
     "name": "stderr",
     "output_type": "stream",
     "text": [
      "Processing Batches:  56%|█████▋    | 705/1253 [5:56:43<3:51:44, 25.37s/it]"
     ]
    },
    {
     "name": "stdout",
     "output_type": "stream",
     "text": [
      "Quota exceeded. Retrying in 60 seconds...\n"
     ]
    },
    {
     "name": "stderr",
     "output_type": "stream",
     "text": [
      "Processing Batches:  57%|█████▋    | 709/1253 [5:57:48<1:59:20, 13.16s/it]"
     ]
    },
    {
     "name": "stdout",
     "output_type": "stream",
     "text": [
      "Quota exceeded. Retrying in 60 seconds...\n"
     ]
    },
    {
     "name": "stderr",
     "output_type": "stream",
     "text": [
      "Processing Batches:  57%|█████▋    | 711/1253 [5:58:49<2:55:23, 19.42s/it]"
     ]
    },
    {
     "name": "stdout",
     "output_type": "stream",
     "text": [
      "Quota exceeded. Retrying in 60 seconds...\n"
     ]
    },
    {
     "name": "stderr",
     "output_type": "stream",
     "text": [
      "Processing Batches:  58%|█████▊    | 721/1253 [6:00:01<19:58,  2.25s/it]"
     ]
    },
    {
     "name": "stdout",
     "output_type": "stream",
     "text": [
      "Quota exceeded. Retrying in 60 seconds...\n"
     ]
    },
    {
     "name": "stderr",
     "output_type": "stream",
     "text": [
      "Processing Batches:  58%|█████▊    | 723/1253 [6:01:03<2:05:26, 14.20s/it]"
     ]
    },
    {
     "name": "stdout",
     "output_type": "stream",
     "text": [
      "Quota exceeded. Retrying in 60 seconds...\n"
     ]
    },
    {
     "name": "stderr",
     "output_type": "stream",
     "text": [
      "Processing Batches:  58%|█████▊    | 727/1253 [6:02:06<1:28:40, 10.11s/it]"
     ]
    },
    {
     "name": "stdout",
     "output_type": "stream",
     "text": [
      "Quota exceeded. Retrying in 60 seconds...\n"
     ]
    },
    {
     "name": "stderr",
     "output_type": "stream",
     "text": [
      "Processing Batches:  58%|█████▊    | 729/1253 [6:03:08<2:37:01, 17.98s/it]"
     ]
    },
    {
     "name": "stdout",
     "output_type": "stream",
     "text": [
      "Quota exceeded. Retrying in 60 seconds...\n"
     ]
    },
    {
     "name": "stderr",
     "output_type": "stream",
     "text": [
      "Processing Batches:  58%|█████▊    | 731/1253 [6:04:09<3:08:30, 21.67s/it]"
     ]
    },
    {
     "name": "stdout",
     "output_type": "stream",
     "text": [
      "Quota exceeded. Retrying in 60 seconds...\n"
     ]
    },
    {
     "name": "stderr",
     "output_type": "stream",
     "text": [
      "Processing Batches:  59%|█████▊    | 735/1253 [6:05:12<1:42:37, 11.89s/it]"
     ]
    },
    {
     "name": "stdout",
     "output_type": "stream",
     "text": [
      "Quota exceeded. Retrying in 60 seconds...\n"
     ]
    },
    {
     "name": "stderr",
     "output_type": "stream",
     "text": [
      "Processing Batches:  59%|█████▉    | 737/1253 [6:06:13<2:40:34, 18.67s/it]"
     ]
    },
    {
     "name": "stdout",
     "output_type": "stream",
     "text": [
      "Quota exceeded. Retrying in 60 seconds...\n"
     ]
    },
    {
     "name": "stderr",
     "output_type": "stream",
     "text": [
      "Processing Batches:  59%|█████▉    | 739/1253 [6:07:14<3:08:16, 21.98s/it]"
     ]
    },
    {
     "name": "stdout",
     "output_type": "stream",
     "text": [
      "Quota exceeded. Retrying in 60 seconds...\n"
     ]
    },
    {
     "name": "stderr",
     "output_type": "stream",
     "text": [
      "Processing Batches:  59%|█████▉    | 741/1253 [6:08:16<3:21:35, 23.62s/it]"
     ]
    },
    {
     "name": "stdout",
     "output_type": "stream",
     "text": [
      "Quota exceeded. Retrying in 60 seconds...\n"
     ]
    },
    {
     "name": "stderr",
     "output_type": "stream",
     "text": [
      "Processing Batches:  59%|█████▉    | 743/1253 [6:09:17<3:27:47, 24.45s/it]"
     ]
    },
    {
     "name": "stdout",
     "output_type": "stream",
     "text": [
      "Quota exceeded. Retrying in 60 seconds...\n"
     ]
    },
    {
     "name": "stderr",
     "output_type": "stream",
     "text": [
      "Processing Batches:  59%|█████▉    | 745/1253 [6:10:18<3:30:59, 24.92s/it]"
     ]
    },
    {
     "name": "stdout",
     "output_type": "stream",
     "text": [
      "Quota exceeded. Retrying in 60 seconds...\n"
     ]
    },
    {
     "name": "stderr",
     "output_type": "stream",
     "text": [
      "Processing Batches:  60%|█████▉    | 747/1253 [6:11:19<3:31:43, 25.11s/it]"
     ]
    },
    {
     "name": "stdout",
     "output_type": "stream",
     "text": [
      "Quota exceeded. Retrying in 60 seconds...\n"
     ]
    },
    {
     "name": "stderr",
     "output_type": "stream",
     "text": [
      "Processing Batches:  60%|█████▉    | 749/1253 [6:12:20<3:31:35, 25.19s/it]"
     ]
    },
    {
     "name": "stdout",
     "output_type": "stream",
     "text": [
      "Quota exceeded. Retrying in 60 seconds...\n"
     ]
    },
    {
     "name": "stderr",
     "output_type": "stream",
     "text": [
      "Processing Batches:  60%|█████▉    | 751/1253 [6:13:21<3:30:38, 25.18s/it]"
     ]
    },
    {
     "name": "stdout",
     "output_type": "stream",
     "text": [
      "Quota exceeded. Retrying in 60 seconds...\n"
     ]
    },
    {
     "name": "stderr",
     "output_type": "stream",
     "text": [
      "Processing Batches:  60%|██████    | 753/1253 [6:14:23<3:30:47, 25.30s/it]"
     ]
    },
    {
     "name": "stdout",
     "output_type": "stream",
     "text": [
      "Quota exceeded. Retrying in 60 seconds...\n"
     ]
    },
    {
     "name": "stderr",
     "output_type": "stream",
     "text": [
      "Processing Batches:  60%|██████    | 755/1253 [6:15:24<3:30:18, 25.34s/it]"
     ]
    },
    {
     "name": "stdout",
     "output_type": "stream",
     "text": [
      "Quota exceeded. Retrying in 60 seconds...\n"
     ]
    },
    {
     "name": "stderr",
     "output_type": "stream",
     "text": [
      "Processing Batches:  60%|██████    | 757/1253 [6:16:25<3:28:47, 25.26s/it]"
     ]
    },
    {
     "name": "stdout",
     "output_type": "stream",
     "text": [
      "Quota exceeded. Retrying in 60 seconds...\n"
     ]
    },
    {
     "name": "stderr",
     "output_type": "stream",
     "text": [
      "Processing Batches:  61%|██████    | 759/1253 [6:17:27<3:28:30, 25.32s/it]"
     ]
    },
    {
     "name": "stdout",
     "output_type": "stream",
     "text": [
      "Quota exceeded. Retrying in 60 seconds...\n"
     ]
    },
    {
     "name": "stderr",
     "output_type": "stream",
     "text": [
      "Processing Batches:  61%|██████    | 761/1253 [6:18:28<3:27:24, 25.29s/it]"
     ]
    },
    {
     "name": "stdout",
     "output_type": "stream",
     "text": [
      "Quota exceeded. Retrying in 60 seconds...\n"
     ]
    },
    {
     "name": "stderr",
     "output_type": "stream",
     "text": [
      "Processing Batches:  61%|██████    | 763/1253 [6:19:29<3:26:26, 25.28s/it]"
     ]
    },
    {
     "name": "stdout",
     "output_type": "stream",
     "text": [
      "Quota exceeded. Retrying in 60 seconds...\n"
     ]
    },
    {
     "name": "stderr",
     "output_type": "stream",
     "text": [
      "Processing Batches:  61%|██████    | 765/1253 [6:20:30<3:25:38, 25.28s/it]"
     ]
    },
    {
     "name": "stdout",
     "output_type": "stream",
     "text": [
      "Quota exceeded. Retrying in 60 seconds...\n"
     ]
    },
    {
     "name": "stderr",
     "output_type": "stream",
     "text": [
      "Processing Batches:  61%|██████    | 767/1253 [6:21:31<3:24:18, 25.22s/it]"
     ]
    },
    {
     "name": "stdout",
     "output_type": "stream",
     "text": [
      "Quota exceeded. Retrying in 60 seconds...\n"
     ]
    },
    {
     "name": "stderr",
     "output_type": "stream",
     "text": [
      "Processing Batches:  61%|██████▏   | 769/1253 [6:22:32<3:23:14, 25.20s/it]"
     ]
    },
    {
     "name": "stdout",
     "output_type": "stream",
     "text": [
      "Quota exceeded. Retrying in 60 seconds...\n"
     ]
    },
    {
     "name": "stderr",
     "output_type": "stream",
     "text": [
      "Processing Batches:  62%|██████▏   | 771/1253 [6:23:33<3:22:38, 25.22s/it]"
     ]
    },
    {
     "name": "stdout",
     "output_type": "stream",
     "text": [
      "Quota exceeded. Retrying in 60 seconds...\n"
     ]
    },
    {
     "name": "stderr",
     "output_type": "stream",
     "text": [
      "Processing Batches:  62%|██████▏   | 773/1253 [6:24:34<3:21:58, 25.25s/it]"
     ]
    },
    {
     "name": "stdout",
     "output_type": "stream",
     "text": [
      "Quota exceeded. Retrying in 60 seconds...\n"
     ]
    },
    {
     "name": "stderr",
     "output_type": "stream",
     "text": [
      "Processing Batches:  62%|██████▏   | 775/1253 [6:25:35<3:20:40, 25.19s/it]"
     ]
    },
    {
     "name": "stdout",
     "output_type": "stream",
     "text": [
      "Quota exceeded. Retrying in 60 seconds...\n"
     ]
    },
    {
     "name": "stderr",
     "output_type": "stream",
     "text": [
      "Processing Batches:  62%|██████▏   | 777/1253 [6:26:37<3:20:32, 25.28s/it]"
     ]
    },
    {
     "name": "stdout",
     "output_type": "stream",
     "text": [
      "Quota exceeded. Retrying in 60 seconds...\n"
     ]
    },
    {
     "name": "stderr",
     "output_type": "stream",
     "text": [
      "Processing Batches:  62%|██████▏   | 779/1253 [6:27:38<3:19:56, 25.31s/it]"
     ]
    },
    {
     "name": "stdout",
     "output_type": "stream",
     "text": [
      "Quota exceeded. Retrying in 60 seconds...\n"
     ]
    },
    {
     "name": "stderr",
     "output_type": "stream",
     "text": [
      "Processing Batches:  62%|██████▏   | 781/1253 [6:28:39<3:18:33, 25.24s/it]"
     ]
    },
    {
     "name": "stdout",
     "output_type": "stream",
     "text": [
      "Quota exceeded. Retrying in 60 seconds...\n"
     ]
    },
    {
     "name": "stderr",
     "output_type": "stream",
     "text": [
      "Processing Batches:  62%|██████▏   | 783/1253 [6:29:40<3:17:32, 25.22s/it]"
     ]
    },
    {
     "name": "stdout",
     "output_type": "stream",
     "text": [
      "Quota exceeded. Retrying in 60 seconds...\n"
     ]
    },
    {
     "name": "stderr",
     "output_type": "stream",
     "text": [
      "Processing Batches:  63%|██████▎   | 785/1253 [6:30:41<3:16:24, 25.18s/it]"
     ]
    },
    {
     "name": "stdout",
     "output_type": "stream",
     "text": [
      "Quota exceeded. Retrying in 60 seconds...\n"
     ]
    },
    {
     "name": "stderr",
     "output_type": "stream",
     "text": [
      "Processing Batches:  63%|██████▎   | 787/1253 [6:31:42<3:15:33, 25.18s/it]"
     ]
    },
    {
     "name": "stdout",
     "output_type": "stream",
     "text": [
      "Quota exceeded. Retrying in 60 seconds...\n"
     ]
    },
    {
     "name": "stderr",
     "output_type": "stream",
     "text": [
      "Processing Batches:  63%|██████▎   | 789/1253 [6:32:43<3:14:43, 25.18s/it]"
     ]
    },
    {
     "name": "stdout",
     "output_type": "stream",
     "text": [
      "Quota exceeded. Retrying in 60 seconds...\n"
     ]
    },
    {
     "name": "stderr",
     "output_type": "stream",
     "text": [
      "Processing Batches:  63%|██████▎   | 791/1253 [6:33:44<3:14:23, 25.25s/it]"
     ]
    },
    {
     "name": "stdout",
     "output_type": "stream",
     "text": [
      "Quota exceeded. Retrying in 60 seconds...\n"
     ]
    },
    {
     "name": "stderr",
     "output_type": "stream",
     "text": [
      "Processing Batches:  63%|██████▎   | 793/1253 [6:34:45<3:13:10, 25.20s/it]"
     ]
    },
    {
     "name": "stdout",
     "output_type": "stream",
     "text": [
      "Quota exceeded. Retrying in 60 seconds...\n"
     ]
    },
    {
     "name": "stderr",
     "output_type": "stream",
     "text": [
      "Processing Batches:  63%|██████▎   | 795/1253 [6:35:46<3:12:43, 25.25s/it]"
     ]
    },
    {
     "name": "stdout",
     "output_type": "stream",
     "text": [
      "Quota exceeded. Retrying in 60 seconds...\n"
     ]
    },
    {
     "name": "stderr",
     "output_type": "stream",
     "text": [
      "Processing Batches:  64%|██████▎   | 797/1253 [6:36:47<3:11:56, 25.26s/it]"
     ]
    },
    {
     "name": "stdout",
     "output_type": "stream",
     "text": [
      "Quota exceeded. Retrying in 60 seconds...\n"
     ]
    },
    {
     "name": "stderr",
     "output_type": "stream",
     "text": [
      "Processing Batches:  64%|██████▍   | 799/1253 [6:37:49<3:11:21, 25.29s/it]"
     ]
    },
    {
     "name": "stdout",
     "output_type": "stream",
     "text": [
      "Quota exceeded. Retrying in 60 seconds...\n"
     ]
    },
    {
     "name": "stderr",
     "output_type": "stream",
     "text": [
      "Processing Batches:  64%|██████▍   | 801/1253 [6:38:51<3:12:10, 25.51s/it]"
     ]
    },
    {
     "name": "stdout",
     "output_type": "stream",
     "text": [
      "Quota exceeded. Retrying in 60 seconds...\n"
     ]
    },
    {
     "name": "stderr",
     "output_type": "stream",
     "text": [
      "Processing Batches:  64%|██████▍   | 803/1253 [6:39:52<3:09:49, 25.31s/it]"
     ]
    },
    {
     "name": "stdout",
     "output_type": "stream",
     "text": [
      "Quota exceeded. Retrying in 60 seconds...\n"
     ]
    },
    {
     "name": "stderr",
     "output_type": "stream",
     "text": [
      "Processing Batches:  64%|██████▍   | 805/1253 [6:40:53<3:08:49, 25.29s/it]"
     ]
    },
    {
     "name": "stdout",
     "output_type": "stream",
     "text": [
      "Quota exceeded. Retrying in 60 seconds...\n"
     ]
    },
    {
     "name": "stderr",
     "output_type": "stream",
     "text": [
      "Processing Batches:  64%|██████▍   | 807/1253 [6:41:54<3:08:19, 25.34s/it]"
     ]
    },
    {
     "name": "stdout",
     "output_type": "stream",
     "text": [
      "Quota exceeded. Retrying in 60 seconds...\n"
     ]
    },
    {
     "name": "stderr",
     "output_type": "stream",
     "text": [
      "Processing Batches:  65%|██████▍   | 809/1253 [6:42:55<3:07:03, 25.28s/it]"
     ]
    },
    {
     "name": "stdout",
     "output_type": "stream",
     "text": [
      "Quota exceeded. Retrying in 60 seconds...\n"
     ]
    },
    {
     "name": "stderr",
     "output_type": "stream",
     "text": [
      "Processing Batches:  65%|██████▍   | 811/1253 [6:43:57<3:06:34, 25.33s/it]"
     ]
    },
    {
     "name": "stdout",
     "output_type": "stream",
     "text": [
      "Quota exceeded. Retrying in 60 seconds...\n"
     ]
    },
    {
     "name": "stderr",
     "output_type": "stream",
     "text": [
      "Processing Batches:  65%|██████▍   | 813/1253 [6:44:58<3:05:41, 25.32s/it]"
     ]
    },
    {
     "name": "stdout",
     "output_type": "stream",
     "text": [
      "Quota exceeded. Retrying in 60 seconds...\n"
     ]
    },
    {
     "name": "stderr",
     "output_type": "stream",
     "text": [
      "Processing Batches:  65%|██████▌   | 815/1253 [6:45:59<3:04:54, 25.33s/it]"
     ]
    },
    {
     "name": "stdout",
     "output_type": "stream",
     "text": [
      "Quota exceeded. Retrying in 60 seconds...\n"
     ]
    },
    {
     "name": "stderr",
     "output_type": "stream",
     "text": [
      "Processing Batches:  65%|██████▌   | 817/1253 [6:47:00<3:03:46, 25.29s/it]"
     ]
    },
    {
     "name": "stdout",
     "output_type": "stream",
     "text": [
      "Quota exceeded. Retrying in 60 seconds...\n"
     ]
    },
    {
     "name": "stderr",
     "output_type": "stream",
     "text": [
      "Processing Batches:  65%|██████▌   | 819/1253 [6:48:01<3:02:30, 25.23s/it]"
     ]
    },
    {
     "name": "stdout",
     "output_type": "stream",
     "text": [
      "Quota exceeded. Retrying in 60 seconds...\n"
     ]
    },
    {
     "name": "stderr",
     "output_type": "stream",
     "text": [
      "Processing Batches:  66%|██████▌   | 821/1253 [6:49:02<3:01:24, 25.19s/it]"
     ]
    },
    {
     "name": "stdout",
     "output_type": "stream",
     "text": [
      "Quota exceeded. Retrying in 60 seconds...\n"
     ]
    },
    {
     "name": "stderr",
     "output_type": "stream",
     "text": [
      "Processing Batches:  66%|██████▌   | 823/1253 [6:50:03<3:01:03, 25.26s/it]"
     ]
    },
    {
     "name": "stdout",
     "output_type": "stream",
     "text": [
      "Quota exceeded. Retrying in 60 seconds...\n"
     ]
    },
    {
     "name": "stderr",
     "output_type": "stream",
     "text": [
      "Processing Batches:  66%|██████▌   | 825/1253 [6:51:04<2:59:50, 25.21s/it]"
     ]
    },
    {
     "name": "stdout",
     "output_type": "stream",
     "text": [
      "Quota exceeded. Retrying in 60 seconds...\n"
     ]
    },
    {
     "name": "stderr",
     "output_type": "stream",
     "text": [
      "Processing Batches:  66%|██████▌   | 827/1253 [6:52:06<2:59:35, 25.29s/it]"
     ]
    },
    {
     "name": "stdout",
     "output_type": "stream",
     "text": [
      "Quota exceeded. Retrying in 60 seconds...\n"
     ]
    },
    {
     "name": "stderr",
     "output_type": "stream",
     "text": [
      "Processing Batches:  66%|██████▌   | 829/1253 [6:53:07<2:58:11, 25.22s/it]"
     ]
    },
    {
     "name": "stdout",
     "output_type": "stream",
     "text": [
      "Quota exceeded. Retrying in 60 seconds...\n"
     ]
    },
    {
     "name": "stderr",
     "output_type": "stream",
     "text": [
      "Processing Batches:  66%|██████▋   | 831/1253 [6:54:08<2:57:00, 25.17s/it]"
     ]
    },
    {
     "name": "stdout",
     "output_type": "stream",
     "text": [
      "Quota exceeded. Retrying in 60 seconds...\n"
     ]
    },
    {
     "name": "stderr",
     "output_type": "stream",
     "text": [
      "Processing Batches:  66%|██████▋   | 833/1253 [6:55:09<2:57:08, 25.30s/it]"
     ]
    },
    {
     "name": "stdout",
     "output_type": "stream",
     "text": [
      "Quota exceeded. Retrying in 60 seconds...\n"
     ]
    },
    {
     "name": "stderr",
     "output_type": "stream",
     "text": [
      "Processing Batches:  67%|██████▋   | 835/1253 [6:56:10<2:56:08, 25.28s/it]"
     ]
    },
    {
     "name": "stdout",
     "output_type": "stream",
     "text": [
      "Quota exceeded. Retrying in 60 seconds...\n"
     ]
    },
    {
     "name": "stderr",
     "output_type": "stream",
     "text": [
      "Processing Batches:  67%|██████▋   | 837/1253 [6:57:12<2:56:18, 25.43s/it]"
     ]
    },
    {
     "name": "stdout",
     "output_type": "stream",
     "text": [
      "Quota exceeded. Retrying in 60 seconds...\n"
     ]
    },
    {
     "name": "stderr",
     "output_type": "stream",
     "text": [
      "Processing Batches:  67%|██████▋   | 839/1253 [6:58:13<2:54:36, 25.30s/it]"
     ]
    },
    {
     "name": "stdout",
     "output_type": "stream",
     "text": [
      "Quota exceeded. Retrying in 60 seconds...\n"
     ]
    },
    {
     "name": "stderr",
     "output_type": "stream",
     "text": [
      "Processing Batches:  67%|██████▋   | 841/1253 [6:59:14<2:53:45, 25.30s/it]"
     ]
    },
    {
     "name": "stdout",
     "output_type": "stream",
     "text": [
      "Quota exceeded. Retrying in 60 seconds...\n"
     ]
    },
    {
     "name": "stderr",
     "output_type": "stream",
     "text": [
      "Processing Batches:  67%|██████▋   | 843/1253 [7:00:16<2:53:16, 25.36s/it]"
     ]
    },
    {
     "name": "stdout",
     "output_type": "stream",
     "text": [
      "Quota exceeded. Retrying in 60 seconds...\n"
     ]
    },
    {
     "name": "stderr",
     "output_type": "stream",
     "text": [
      "Processing Batches:  67%|██████▋   | 845/1253 [7:01:17<2:52:51, 25.42s/it]"
     ]
    },
    {
     "name": "stdout",
     "output_type": "stream",
     "text": [
      "Quota exceeded. Retrying in 60 seconds...\n"
     ]
    },
    {
     "name": "stderr",
     "output_type": "stream",
     "text": [
      "Processing Batches:  68%|██████▊   | 847/1253 [7:02:18<2:51:25, 25.33s/it]"
     ]
    },
    {
     "name": "stdout",
     "output_type": "stream",
     "text": [
      "Quota exceeded. Retrying in 60 seconds...\n"
     ]
    },
    {
     "name": "stderr",
     "output_type": "stream",
     "text": [
      "Processing Batches:  68%|██████▊   | 849/1253 [7:03:20<2:51:04, 25.41s/it]"
     ]
    },
    {
     "name": "stdout",
     "output_type": "stream",
     "text": [
      "Quota exceeded. Retrying in 60 seconds...\n"
     ]
    },
    {
     "name": "stderr",
     "output_type": "stream",
     "text": [
      "Processing Batches:  68%|██████▊   | 851/1253 [7:04:21<2:50:21, 25.43s/it]"
     ]
    },
    {
     "name": "stdout",
     "output_type": "stream",
     "text": [
      "Quota exceeded. Retrying in 60 seconds...\n"
     ]
    },
    {
     "name": "stderr",
     "output_type": "stream",
     "text": [
      "Processing Batches:  68%|██████▊   | 853/1253 [7:05:23<2:48:48, 25.32s/it]"
     ]
    },
    {
     "name": "stdout",
     "output_type": "stream",
     "text": [
      "Quota exceeded. Retrying in 60 seconds...\n"
     ]
    },
    {
     "name": "stderr",
     "output_type": "stream",
     "text": [
      "Processing Batches:  68%|██████▊   | 855/1253 [7:06:24<2:47:31, 25.25s/it]"
     ]
    },
    {
     "name": "stdout",
     "output_type": "stream",
     "text": [
      "Quota exceeded. Retrying in 60 seconds...\n"
     ]
    },
    {
     "name": "stderr",
     "output_type": "stream",
     "text": [
      "Processing Batches:  68%|██████▊   | 857/1253 [7:07:25<2:46:39, 25.25s/it]"
     ]
    },
    {
     "name": "stdout",
     "output_type": "stream",
     "text": [
      "Quota exceeded. Retrying in 60 seconds...\n"
     ]
    },
    {
     "name": "stderr",
     "output_type": "stream",
     "text": [
      "Processing Batches:  69%|██████▊   | 859/1253 [7:08:26<2:46:01, 25.28s/it]"
     ]
    },
    {
     "name": "stdout",
     "output_type": "stream",
     "text": [
      "Quota exceeded. Retrying in 60 seconds...\n"
     ]
    },
    {
     "name": "stderr",
     "output_type": "stream",
     "text": [
      "Processing Batches:  69%|██████▊   | 861/1253 [7:09:27<2:44:56, 25.25s/it]"
     ]
    },
    {
     "name": "stdout",
     "output_type": "stream",
     "text": [
      "Quota exceeded. Retrying in 60 seconds...\n"
     ]
    },
    {
     "name": "stderr",
     "output_type": "stream",
     "text": [
      "Processing Batches:  69%|██████▉   | 863/1253 [7:10:28<2:44:04, 25.24s/it]"
     ]
    },
    {
     "name": "stdout",
     "output_type": "stream",
     "text": [
      "Quota exceeded. Retrying in 60 seconds...\n"
     ]
    },
    {
     "name": "stderr",
     "output_type": "stream",
     "text": [
      "Processing Batches:  69%|██████▉   | 865/1253 [7:11:29<2:43:10, 25.23s/it]"
     ]
    },
    {
     "name": "stdout",
     "output_type": "stream",
     "text": [
      "Quota exceeded. Retrying in 60 seconds...\n"
     ]
    },
    {
     "name": "stderr",
     "output_type": "stream",
     "text": [
      "Processing Batches:  69%|██████▉   | 867/1253 [7:12:30<2:42:06, 25.20s/it]"
     ]
    },
    {
     "name": "stdout",
     "output_type": "stream",
     "text": [
      "Quota exceeded. Retrying in 60 seconds...\n"
     ]
    },
    {
     "name": "stderr",
     "output_type": "stream",
     "text": [
      "Processing Batches:  69%|██████▉   | 869/1253 [7:13:31<2:41:13, 25.19s/it]"
     ]
    },
    {
     "name": "stdout",
     "output_type": "stream",
     "text": [
      "Quota exceeded. Retrying in 60 seconds...\n"
     ]
    },
    {
     "name": "stderr",
     "output_type": "stream",
     "text": [
      "Processing Batches:  70%|██████▉   | 871/1253 [7:14:32<2:40:53, 25.27s/it]"
     ]
    },
    {
     "name": "stdout",
     "output_type": "stream",
     "text": [
      "Quota exceeded. Retrying in 60 seconds...\n"
     ]
    },
    {
     "name": "stderr",
     "output_type": "stream",
     "text": [
      "Processing Batches:  70%|██████▉   | 873/1253 [7:15:34<2:39:59, 25.26s/it]"
     ]
    },
    {
     "name": "stdout",
     "output_type": "stream",
     "text": [
      "Quota exceeded. Retrying in 60 seconds...\n"
     ]
    },
    {
     "name": "stderr",
     "output_type": "stream",
     "text": [
      "Processing Batches:  70%|██████▉   | 875/1253 [7:16:35<2:39:07, 25.26s/it]"
     ]
    },
    {
     "name": "stdout",
     "output_type": "stream",
     "text": [
      "Quota exceeded. Retrying in 60 seconds...\n"
     ]
    },
    {
     "name": "stderr",
     "output_type": "stream",
     "text": [
      "Processing Batches:  70%|██████▉   | 877/1253 [7:17:36<2:39:05, 25.39s/it]"
     ]
    },
    {
     "name": "stdout",
     "output_type": "stream",
     "text": [
      "Quota exceeded. Retrying in 60 seconds...\n"
     ]
    },
    {
     "name": "stderr",
     "output_type": "stream",
     "text": [
      "Processing Batches:  70%|███████   | 879/1253 [7:18:38<2:38:11, 25.38s/it]"
     ]
    },
    {
     "name": "stdout",
     "output_type": "stream",
     "text": [
      "Quota exceeded. Retrying in 60 seconds...\n"
     ]
    },
    {
     "name": "stderr",
     "output_type": "stream",
     "text": [
      "Processing Batches:  70%|███████   | 881/1253 [7:19:39<2:36:35, 25.26s/it]"
     ]
    },
    {
     "name": "stdout",
     "output_type": "stream",
     "text": [
      "Quota exceeded. Retrying in 60 seconds...\n"
     ]
    },
    {
     "name": "stderr",
     "output_type": "stream",
     "text": [
      "Processing Batches:  70%|███████   | 883/1253 [7:20:40<2:35:57, 25.29s/it]"
     ]
    },
    {
     "name": "stdout",
     "output_type": "stream",
     "text": [
      "Quota exceeded. Retrying in 60 seconds...\n"
     ]
    },
    {
     "name": "stderr",
     "output_type": "stream",
     "text": [
      "Processing Batches:  71%|███████   | 885/1253 [7:21:41<2:34:34, 25.20s/it]"
     ]
    },
    {
     "name": "stdout",
     "output_type": "stream",
     "text": [
      "Quota exceeded. Retrying in 60 seconds...\n"
     ]
    },
    {
     "name": "stderr",
     "output_type": "stream",
     "text": [
      "Processing Batches:  71%|███████   | 887/1253 [7:22:42<2:33:47, 25.21s/it]"
     ]
    },
    {
     "name": "stdout",
     "output_type": "stream",
     "text": [
      "Quota exceeded. Retrying in 60 seconds...\n"
     ]
    },
    {
     "name": "stderr",
     "output_type": "stream",
     "text": [
      "Processing Batches:  71%|███████   | 889/1253 [7:23:43<2:32:49, 25.19s/it]"
     ]
    },
    {
     "name": "stdout",
     "output_type": "stream",
     "text": [
      "Quota exceeded. Retrying in 60 seconds...\n"
     ]
    },
    {
     "name": "stderr",
     "output_type": "stream",
     "text": [
      "Processing Batches:  71%|███████   | 891/1253 [7:24:44<2:32:22, 25.26s/it]"
     ]
    },
    {
     "name": "stdout",
     "output_type": "stream",
     "text": [
      "Quota exceeded. Retrying in 60 seconds...\n"
     ]
    },
    {
     "name": "stderr",
     "output_type": "stream",
     "text": [
      "Processing Batches:  71%|███████▏  | 893/1253 [7:25:45<2:31:16, 25.21s/it]"
     ]
    },
    {
     "name": "stdout",
     "output_type": "stream",
     "text": [
      "Quota exceeded. Retrying in 60 seconds...\n"
     ]
    },
    {
     "name": "stderr",
     "output_type": "stream",
     "text": [
      "Processing Batches:  71%|███████▏  | 895/1253 [7:26:46<2:30:18, 25.19s/it]"
     ]
    },
    {
     "name": "stdout",
     "output_type": "stream",
     "text": [
      "Quota exceeded. Retrying in 60 seconds...\n"
     ]
    },
    {
     "name": "stderr",
     "output_type": "stream",
     "text": [
      "Processing Batches:  72%|███████▏  | 897/1253 [7:27:47<2:29:47, 25.25s/it]"
     ]
    },
    {
     "name": "stdout",
     "output_type": "stream",
     "text": [
      "Quota exceeded. Retrying in 60 seconds...\n"
     ]
    },
    {
     "name": "stderr",
     "output_type": "stream",
     "text": [
      "Processing Batches:  72%|███████▏  | 900/1253 [7:28:51<1:46:32, 18.11s/it]"
     ]
    },
    {
     "name": "stdout",
     "output_type": "stream",
     "text": [
      "Quota exceeded. Retrying in 60 seconds...\n"
     ]
    },
    {
     "name": "stderr",
     "output_type": "stream",
     "text": [
      "Processing Batches:  72%|███████▏  | 902/1253 [7:29:52<2:06:59, 21.71s/it]"
     ]
    },
    {
     "name": "stdout",
     "output_type": "stream",
     "text": [
      "Quota exceeded. Retrying in 60 seconds...\n"
     ]
    },
    {
     "name": "stderr",
     "output_type": "stream",
     "text": [
      "Processing Batches:  72%|███████▏  | 904/1253 [7:30:53<2:17:06, 23.57s/it]"
     ]
    },
    {
     "name": "stdout",
     "output_type": "stream",
     "text": [
      "Quota exceeded. Retrying in 60 seconds...\n"
     ]
    },
    {
     "name": "stderr",
     "output_type": "stream",
     "text": [
      "Processing Batches:  72%|███████▏  | 906/1253 [7:31:54<2:21:59, 24.55s/it]"
     ]
    },
    {
     "name": "stdout",
     "output_type": "stream",
     "text": [
      "Quota exceeded. Retrying in 60 seconds...\n"
     ]
    },
    {
     "name": "stderr",
     "output_type": "stream",
     "text": [
      "Processing Batches:  72%|███████▏  | 908/1253 [7:32:56<2:23:24, 24.94s/it]"
     ]
    },
    {
     "name": "stdout",
     "output_type": "stream",
     "text": [
      "Quota exceeded. Retrying in 60 seconds...\n"
     ]
    },
    {
     "name": "stderr",
     "output_type": "stream",
     "text": [
      "Processing Batches:  73%|███████▎  | 910/1253 [7:33:57<2:23:18, 25.07s/it]"
     ]
    },
    {
     "name": "stdout",
     "output_type": "stream",
     "text": [
      "Quota exceeded. Retrying in 60 seconds...\n"
     ]
    },
    {
     "name": "stderr",
     "output_type": "stream",
     "text": [
      "Processing Batches:  73%|███████▎  | 912/1253 [7:34:58<2:22:56, 25.15s/it]"
     ]
    },
    {
     "name": "stdout",
     "output_type": "stream",
     "text": [
      "Quota exceeded. Retrying in 60 seconds...\n"
     ]
    },
    {
     "name": "stderr",
     "output_type": "stream",
     "text": [
      "Processing Batches:  73%|███████▎  | 914/1253 [7:35:59<2:22:40, 25.25s/it]"
     ]
    },
    {
     "name": "stdout",
     "output_type": "stream",
     "text": [
      "Quota exceeded. Retrying in 60 seconds...\n"
     ]
    },
    {
     "name": "stderr",
     "output_type": "stream",
     "text": [
      "Processing Batches:  73%|███████▎  | 916/1253 [7:37:00<2:21:57, 25.27s/it]"
     ]
    },
    {
     "name": "stdout",
     "output_type": "stream",
     "text": [
      "Quota exceeded. Retrying in 60 seconds...\n"
     ]
    },
    {
     "name": "stderr",
     "output_type": "stream",
     "text": [
      "Processing Batches:  73%|███████▎  | 918/1253 [7:38:01<2:20:57, 25.25s/it]"
     ]
    },
    {
     "name": "stdout",
     "output_type": "stream",
     "text": [
      "Quota exceeded. Retrying in 60 seconds...\n"
     ]
    },
    {
     "name": "stderr",
     "output_type": "stream",
     "text": [
      "Processing Batches:  73%|███████▎  | 920/1253 [7:39:03<2:20:17, 25.28s/it]"
     ]
    },
    {
     "name": "stdout",
     "output_type": "stream",
     "text": [
      "Quota exceeded. Retrying in 60 seconds...\n"
     ]
    },
    {
     "name": "stderr",
     "output_type": "stream",
     "text": [
      "Processing Batches:  74%|███████▎  | 922/1253 [7:40:04<2:19:07, 25.22s/it]"
     ]
    },
    {
     "name": "stdout",
     "output_type": "stream",
     "text": [
      "Quota exceeded. Retrying in 60 seconds...\n"
     ]
    },
    {
     "name": "stderr",
     "output_type": "stream",
     "text": [
      "Processing Batches:  74%|███████▎  | 924/1253 [7:41:05<2:18:38, 25.29s/it]"
     ]
    },
    {
     "name": "stdout",
     "output_type": "stream",
     "text": [
      "Quota exceeded. Retrying in 60 seconds...\n"
     ]
    },
    {
     "name": "stderr",
     "output_type": "stream",
     "text": [
      "Processing Batches:  74%|███████▍  | 926/1253 [7:42:06<2:17:54, 25.30s/it]"
     ]
    },
    {
     "name": "stdout",
     "output_type": "stream",
     "text": [
      "Quota exceeded. Retrying in 60 seconds...\n"
     ]
    },
    {
     "name": "stderr",
     "output_type": "stream",
     "text": [
      "Processing Batches:  74%|███████▍  | 928/1253 [7:43:07<2:16:47, 25.25s/it]"
     ]
    },
    {
     "name": "stdout",
     "output_type": "stream",
     "text": [
      "Quota exceeded. Retrying in 60 seconds...\n"
     ]
    },
    {
     "name": "stderr",
     "output_type": "stream",
     "text": [
      "Processing Batches:  74%|███████▍  | 930/1253 [7:44:09<2:16:54, 25.43s/it]"
     ]
    },
    {
     "name": "stdout",
     "output_type": "stream",
     "text": [
      "Quota exceeded. Retrying in 60 seconds...\n"
     ]
    },
    {
     "name": "stderr",
     "output_type": "stream",
     "text": [
      "Processing Batches:  74%|███████▍  | 932/1253 [7:45:11<2:15:53, 25.40s/it]"
     ]
    },
    {
     "name": "stdout",
     "output_type": "stream",
     "text": [
      "Quota exceeded. Retrying in 60 seconds...\n"
     ]
    },
    {
     "name": "stderr",
     "output_type": "stream",
     "text": [
      "Processing Batches:  75%|███████▍  | 934/1253 [7:46:11<2:14:19, 25.27s/it]"
     ]
    },
    {
     "name": "stdout",
     "output_type": "stream",
     "text": [
      "Quota exceeded. Retrying in 60 seconds...\n"
     ]
    },
    {
     "name": "stderr",
     "output_type": "stream",
     "text": [
      "Processing Batches:  75%|███████▍  | 936/1253 [7:47:13<2:13:28, 25.26s/it]"
     ]
    },
    {
     "name": "stdout",
     "output_type": "stream",
     "text": [
      "Quota exceeded. Retrying in 60 seconds...\n"
     ]
    },
    {
     "name": "stderr",
     "output_type": "stream",
     "text": [
      "Processing Batches:  75%|███████▍  | 938/1253 [7:48:14<2:13:04, 25.35s/it]"
     ]
    },
    {
     "name": "stdout",
     "output_type": "stream",
     "text": [
      "Quota exceeded. Retrying in 60 seconds...\n"
     ]
    },
    {
     "name": "stderr",
     "output_type": "stream",
     "text": [
      "Processing Batches:  75%|███████▌  | 940/1253 [7:49:15<2:12:01, 25.31s/it]"
     ]
    },
    {
     "name": "stdout",
     "output_type": "stream",
     "text": [
      "Quota exceeded. Retrying in 60 seconds...\n"
     ]
    },
    {
     "name": "stderr",
     "output_type": "stream",
     "text": [
      "Processing Batches:  75%|███████▌  | 942/1253 [7:50:17<2:11:33, 25.38s/it]"
     ]
    },
    {
     "name": "stdout",
     "output_type": "stream",
     "text": [
      "Quota exceeded. Retrying in 60 seconds...\n"
     ]
    },
    {
     "name": "stderr",
     "output_type": "stream",
     "text": [
      "Processing Batches:  75%|███████▌  | 944/1253 [7:51:18<2:10:24, 25.32s/it]"
     ]
    },
    {
     "name": "stdout",
     "output_type": "stream",
     "text": [
      "Quota exceeded. Retrying in 60 seconds...\n"
     ]
    },
    {
     "name": "stderr",
     "output_type": "stream",
     "text": [
      "Processing Batches:  75%|███████▌  | 946/1253 [7:52:19<2:09:16, 25.26s/it]"
     ]
    },
    {
     "name": "stdout",
     "output_type": "stream",
     "text": [
      "Quota exceeded. Retrying in 60 seconds...\n"
     ]
    },
    {
     "name": "stderr",
     "output_type": "stream",
     "text": [
      "Processing Batches:  76%|███████▌  | 948/1253 [7:53:20<2:08:26, 25.27s/it]"
     ]
    },
    {
     "name": "stdout",
     "output_type": "stream",
     "text": [
      "Quota exceeded. Retrying in 60 seconds...\n"
     ]
    },
    {
     "name": "stderr",
     "output_type": "stream",
     "text": [
      "Processing Batches:  76%|███████▌  | 950/1253 [7:54:21<2:07:28, 25.24s/it]"
     ]
    },
    {
     "name": "stdout",
     "output_type": "stream",
     "text": [
      "Quota exceeded. Retrying in 60 seconds...\n"
     ]
    },
    {
     "name": "stderr",
     "output_type": "stream",
     "text": [
      "Processing Batches:  76%|███████▌  | 952/1253 [7:55:22<2:06:26, 25.20s/it]"
     ]
    },
    {
     "name": "stdout",
     "output_type": "stream",
     "text": [
      "Quota exceeded. Retrying in 60 seconds...\n"
     ]
    },
    {
     "name": "stderr",
     "output_type": "stream",
     "text": [
      "Processing Batches:  76%|███████▌  | 954/1253 [7:56:23<2:05:37, 25.21s/it]"
     ]
    },
    {
     "name": "stdout",
     "output_type": "stream",
     "text": [
      "Quota exceeded. Retrying in 60 seconds...\n"
     ]
    },
    {
     "name": "stderr",
     "output_type": "stream",
     "text": [
      "Processing Batches:  76%|███████▋  | 956/1253 [7:57:24<2:04:51, 25.22s/it]"
     ]
    },
    {
     "name": "stdout",
     "output_type": "stream",
     "text": [
      "Quota exceeded. Retrying in 60 seconds...\n"
     ]
    },
    {
     "name": "stderr",
     "output_type": "stream",
     "text": [
      "Processing Batches:  76%|███████▋  | 958/1253 [7:58:25<2:03:59, 25.22s/it]"
     ]
    },
    {
     "name": "stdout",
     "output_type": "stream",
     "text": [
      "Quota exceeded. Retrying in 60 seconds...\n"
     ]
    },
    {
     "name": "stderr",
     "output_type": "stream",
     "text": [
      "Processing Batches:  77%|███████▋  | 960/1253 [7:59:26<2:02:58, 25.18s/it]"
     ]
    },
    {
     "name": "stdout",
     "output_type": "stream",
     "text": [
      "Quota exceeded. Retrying in 60 seconds...\n"
     ]
    },
    {
     "name": "stderr",
     "output_type": "stream",
     "text": [
      "Processing Batches:  77%|███████▋  | 962/1253 [8:00:27<2:02:08, 25.19s/it]"
     ]
    },
    {
     "name": "stdout",
     "output_type": "stream",
     "text": [
      "Quota exceeded. Retrying in 60 seconds...\n"
     ]
    },
    {
     "name": "stderr",
     "output_type": "stream",
     "text": [
      "Processing Batches:  77%|███████▋  | 964/1253 [8:01:29<2:01:29, 25.22s/it]"
     ]
    },
    {
     "name": "stdout",
     "output_type": "stream",
     "text": [
      "Quota exceeded. Retrying in 60 seconds...\n"
     ]
    },
    {
     "name": "stderr",
     "output_type": "stream",
     "text": [
      "Processing Batches:  77%|███████▋  | 966/1253 [8:02:30<2:00:44, 25.24s/it]"
     ]
    },
    {
     "name": "stdout",
     "output_type": "stream",
     "text": [
      "Quota exceeded. Retrying in 60 seconds...\n"
     ]
    },
    {
     "name": "stderr",
     "output_type": "stream",
     "text": [
      "Processing Batches:  77%|███████▋  | 968/1253 [8:03:31<2:00:00, 25.26s/it]"
     ]
    },
    {
     "name": "stdout",
     "output_type": "stream",
     "text": [
      "Quota exceeded. Retrying in 60 seconds...\n"
     ]
    },
    {
     "name": "stderr",
     "output_type": "stream",
     "text": [
      "Processing Batches:  77%|███████▋  | 970/1253 [8:04:32<1:59:01, 25.24s/it]"
     ]
    },
    {
     "name": "stdout",
     "output_type": "stream",
     "text": [
      "Quota exceeded. Retrying in 60 seconds...\n"
     ]
    },
    {
     "name": "stderr",
     "output_type": "stream",
     "text": [
      "Processing Batches:  78%|███████▊  | 972/1253 [8:05:33<1:58:15, 25.25s/it]"
     ]
    },
    {
     "name": "stdout",
     "output_type": "stream",
     "text": [
      "Quota exceeded. Retrying in 60 seconds...\n"
     ]
    },
    {
     "name": "stderr",
     "output_type": "stream",
     "text": [
      "Processing Batches:  78%|███████▊  | 974/1253 [8:06:35<1:57:50, 25.34s/it]"
     ]
    },
    {
     "name": "stdout",
     "output_type": "stream",
     "text": [
      "Quota exceeded. Retrying in 60 seconds...\n"
     ]
    },
    {
     "name": "stderr",
     "output_type": "stream",
     "text": [
      "Processing Batches:  78%|███████▊  | 976/1253 [8:07:36<1:56:59, 25.34s/it]"
     ]
    },
    {
     "name": "stdout",
     "output_type": "stream",
     "text": [
      "Quota exceeded. Retrying in 60 seconds...\n"
     ]
    },
    {
     "name": "stderr",
     "output_type": "stream",
     "text": [
      "Processing Batches:  78%|███████▊  | 978/1253 [8:08:37<1:56:15, 25.37s/it]"
     ]
    },
    {
     "name": "stdout",
     "output_type": "stream",
     "text": [
      "Quota exceeded. Retrying in 60 seconds...\n"
     ]
    },
    {
     "name": "stderr",
     "output_type": "stream",
     "text": [
      "Processing Batches:  78%|███████▊  | 980/1253 [8:09:38<1:55:04, 25.29s/it]"
     ]
    },
    {
     "name": "stdout",
     "output_type": "stream",
     "text": [
      "Quota exceeded. Retrying in 60 seconds...\n"
     ]
    },
    {
     "name": "stderr",
     "output_type": "stream",
     "text": [
      "Processing Batches:  78%|███████▊  | 982/1253 [8:10:39<1:54:09, 25.28s/it]"
     ]
    },
    {
     "name": "stdout",
     "output_type": "stream",
     "text": [
      "Quota exceeded. Retrying in 60 seconds...\n"
     ]
    },
    {
     "name": "stderr",
     "output_type": "stream",
     "text": [
      "Processing Batches:  79%|███████▊  | 984/1253 [8:11:41<1:53:12, 25.25s/it]"
     ]
    },
    {
     "name": "stdout",
     "output_type": "stream",
     "text": [
      "Quota exceeded. Retrying in 60 seconds...\n"
     ]
    },
    {
     "name": "stderr",
     "output_type": "stream",
     "text": [
      "Processing Batches:  79%|███████▊  | 986/1253 [8:12:42<1:52:29, 25.28s/it]"
     ]
    },
    {
     "name": "stdout",
     "output_type": "stream",
     "text": [
      "Quota exceeded. Retrying in 60 seconds...\n"
     ]
    },
    {
     "name": "stderr",
     "output_type": "stream",
     "text": [
      "Processing Batches:  79%|███████▉  | 988/1253 [8:13:44<1:52:11, 25.40s/it]"
     ]
    },
    {
     "name": "stdout",
     "output_type": "stream",
     "text": [
      "Quota exceeded. Retrying in 60 seconds...\n"
     ]
    },
    {
     "name": "stderr",
     "output_type": "stream",
     "text": [
      "Processing Batches:  79%|███████▉  | 990/1253 [8:14:45<1:50:49, 25.28s/it]"
     ]
    },
    {
     "name": "stdout",
     "output_type": "stream",
     "text": [
      "Quota exceeded. Retrying in 60 seconds...\n"
     ]
    },
    {
     "name": "stderr",
     "output_type": "stream",
     "text": [
      "Processing Batches:  79%|███████▉  | 992/1253 [8:15:45<1:49:37, 25.20s/it]"
     ]
    },
    {
     "name": "stdout",
     "output_type": "stream",
     "text": [
      "Quota exceeded. Retrying in 60 seconds...\n"
     ]
    },
    {
     "name": "stderr",
     "output_type": "stream",
     "text": [
      "Processing Batches:  79%|███████▉  | 994/1253 [8:16:48<1:50:20, 25.56s/it]"
     ]
    },
    {
     "name": "stdout",
     "output_type": "stream",
     "text": [
      "Quota exceeded. Retrying in 60 seconds...\n"
     ]
    },
    {
     "name": "stderr",
     "output_type": "stream",
     "text": [
      "Processing Batches:  79%|███████▉  | 996/1253 [8:17:49<1:48:39, 25.37s/it]"
     ]
    },
    {
     "name": "stdout",
     "output_type": "stream",
     "text": [
      "Quota exceeded. Retrying in 60 seconds...\n"
     ]
    },
    {
     "name": "stderr",
     "output_type": "stream",
     "text": [
      "Processing Batches:  80%|███████▉  | 998/1253 [8:18:50<1:47:21, 25.26s/it]"
     ]
    },
    {
     "name": "stdout",
     "output_type": "stream",
     "text": [
      "Quota exceeded. Retrying in 60 seconds...\n"
     ]
    },
    {
     "name": "stderr",
     "output_type": "stream",
     "text": [
      "Processing Batches:  80%|███████▉  | 1000/1253 [8:19:51<1:46:19, 25.21s/it]"
     ]
    },
    {
     "name": "stdout",
     "output_type": "stream",
     "text": [
      "Quota exceeded. Retrying in 60 seconds...\n"
     ]
    },
    {
     "name": "stderr",
     "output_type": "stream",
     "text": [
      "Processing Batches:  80%|███████▉  | 1002/1253 [8:20:52<1:45:30, 25.22s/it]"
     ]
    },
    {
     "name": "stdout",
     "output_type": "stream",
     "text": [
      "Quota exceeded. Retrying in 60 seconds...\n"
     ]
    },
    {
     "name": "stderr",
     "output_type": "stream",
     "text": [
      "Processing Batches:  80%|████████  | 1004/1253 [8:21:53<1:44:46, 25.25s/it]"
     ]
    },
    {
     "name": "stdout",
     "output_type": "stream",
     "text": [
      "Quota exceeded. Retrying in 60 seconds...\n"
     ]
    },
    {
     "name": "stderr",
     "output_type": "stream",
     "text": [
      "Processing Batches:  80%|████████  | 1006/1253 [8:22:54<1:43:52, 25.23s/it]"
     ]
    },
    {
     "name": "stdout",
     "output_type": "stream",
     "text": [
      "Quota exceeded. Retrying in 60 seconds...\n"
     ]
    },
    {
     "name": "stderr",
     "output_type": "stream",
     "text": [
      "Processing Batches:  80%|████████  | 1008/1253 [8:23:55<1:42:57, 25.21s/it]"
     ]
    },
    {
     "name": "stdout",
     "output_type": "stream",
     "text": [
      "Quota exceeded. Retrying in 60 seconds...\n"
     ]
    },
    {
     "name": "stderr",
     "output_type": "stream",
     "text": [
      "Processing Batches:  81%|████████  | 1010/1253 [8:24:56<1:42:04, 25.20s/it]"
     ]
    },
    {
     "name": "stdout",
     "output_type": "stream",
     "text": [
      "Quota exceeded. Retrying in 60 seconds...\n"
     ]
    },
    {
     "name": "stderr",
     "output_type": "stream",
     "text": [
      "Processing Batches:  81%|████████  | 1012/1253 [8:25:57<1:41:13, 25.20s/it]"
     ]
    },
    {
     "name": "stdout",
     "output_type": "stream",
     "text": [
      "Quota exceeded. Retrying in 60 seconds...\n"
     ]
    },
    {
     "name": "stderr",
     "output_type": "stream",
     "text": [
      "Processing Batches:  81%|████████  | 1014/1253 [8:26:59<1:40:41, 25.28s/it]"
     ]
    },
    {
     "name": "stdout",
     "output_type": "stream",
     "text": [
      "Quota exceeded. Retrying in 60 seconds...\n"
     ]
    },
    {
     "name": "stderr",
     "output_type": "stream",
     "text": [
      "Processing Batches:  81%|████████  | 1016/1253 [8:28:00<1:39:54, 25.29s/it]"
     ]
    },
    {
     "name": "stdout",
     "output_type": "stream",
     "text": [
      "Quota exceeded. Retrying in 60 seconds...\n"
     ]
    },
    {
     "name": "stderr",
     "output_type": "stream",
     "text": [
      "Processing Batches:  81%|████████  | 1018/1253 [8:29:01<1:38:52, 25.24s/it]"
     ]
    },
    {
     "name": "stdout",
     "output_type": "stream",
     "text": [
      "Quota exceeded. Retrying in 60 seconds...\n"
     ]
    },
    {
     "name": "stderr",
     "output_type": "stream",
     "text": [
      "Processing Batches:  81%|████████▏ | 1020/1253 [8:30:02<1:37:54, 25.21s/it]"
     ]
    },
    {
     "name": "stdout",
     "output_type": "stream",
     "text": [
      "Quota exceeded. Retrying in 60 seconds...\n"
     ]
    },
    {
     "name": "stderr",
     "output_type": "stream",
     "text": [
      "Processing Batches:  82%|████████▏ | 1022/1253 [8:31:03<1:37:13, 25.25s/it]"
     ]
    },
    {
     "name": "stdout",
     "output_type": "stream",
     "text": [
      "Quota exceeded. Retrying in 60 seconds...\n"
     ]
    },
    {
     "name": "stderr",
     "output_type": "stream",
     "text": [
      "Processing Batches:  82%|████████▏ | 1024/1253 [8:32:05<1:36:41, 25.34s/it]"
     ]
    },
    {
     "name": "stdout",
     "output_type": "stream",
     "text": [
      "Quota exceeded. Retrying in 60 seconds...\n"
     ]
    },
    {
     "name": "stderr",
     "output_type": "stream",
     "text": [
      "Processing Batches:  82%|████████▏ | 1026/1253 [8:33:06<1:35:48, 25.32s/it]"
     ]
    },
    {
     "name": "stdout",
     "output_type": "stream",
     "text": [
      "Quota exceeded. Retrying in 60 seconds...\n"
     ]
    },
    {
     "name": "stderr",
     "output_type": "stream",
     "text": [
      "Processing Batches:  82%|████████▏ | 1028/1253 [8:34:07<1:34:43, 25.26s/it]"
     ]
    },
    {
     "name": "stdout",
     "output_type": "stream",
     "text": [
      "Quota exceeded. Retrying in 60 seconds...\n"
     ]
    },
    {
     "name": "stderr",
     "output_type": "stream",
     "text": [
      "Processing Batches:  82%|████████▏ | 1030/1253 [8:35:08<1:33:41, 25.21s/it]"
     ]
    },
    {
     "name": "stdout",
     "output_type": "stream",
     "text": [
      "Quota exceeded. Retrying in 60 seconds...\n"
     ]
    },
    {
     "name": "stderr",
     "output_type": "stream",
     "text": [
      "Processing Batches:  82%|████████▏ | 1032/1253 [8:36:09<1:33:01, 25.26s/it]"
     ]
    },
    {
     "name": "stdout",
     "output_type": "stream",
     "text": [
      "Quota exceeded. Retrying in 60 seconds...\n"
     ]
    },
    {
     "name": "stderr",
     "output_type": "stream",
     "text": [
      "Processing Batches:  83%|████████▎ | 1034/1253 [8:37:10<1:32:12, 25.26s/it]"
     ]
    },
    {
     "name": "stdout",
     "output_type": "stream",
     "text": [
      "Quota exceeded. Retrying in 60 seconds...\n"
     ]
    },
    {
     "name": "stderr",
     "output_type": "stream",
     "text": [
      "Processing Batches:  83%|████████▎ | 1036/1253 [8:38:12<1:31:53, 25.41s/it]"
     ]
    },
    {
     "name": "stdout",
     "output_type": "stream",
     "text": [
      "Quota exceeded. Retrying in 60 seconds...\n"
     ]
    },
    {
     "name": "stderr",
     "output_type": "stream",
     "text": [
      "Processing Batches:  83%|████████▎ | 1038/1253 [8:39:13<1:31:00, 25.40s/it]"
     ]
    },
    {
     "name": "stdout",
     "output_type": "stream",
     "text": [
      "Quota exceeded. Retrying in 60 seconds...\n"
     ]
    },
    {
     "name": "stderr",
     "output_type": "stream",
     "text": [
      "Processing Batches:  83%|████████▎ | 1040/1253 [8:40:15<1:29:55, 25.33s/it]"
     ]
    },
    {
     "name": "stdout",
     "output_type": "stream",
     "text": [
      "Quota exceeded. Retrying in 60 seconds...\n"
     ]
    },
    {
     "name": "stderr",
     "output_type": "stream",
     "text": [
      "Processing Batches:  83%|████████▎ | 1042/1253 [8:41:16<1:28:58, 25.30s/it]"
     ]
    },
    {
     "name": "stdout",
     "output_type": "stream",
     "text": [
      "Quota exceeded. Retrying in 60 seconds...\n"
     ]
    },
    {
     "name": "stderr",
     "output_type": "stream",
     "text": [
      "Processing Batches:  83%|████████▎ | 1044/1253 [8:42:17<1:28:11, 25.32s/it]"
     ]
    },
    {
     "name": "stdout",
     "output_type": "stream",
     "text": [
      "Quota exceeded. Retrying in 60 seconds...\n"
     ]
    },
    {
     "name": "stderr",
     "output_type": "stream",
     "text": [
      "Processing Batches:  83%|████████▎ | 1046/1253 [8:43:18<1:27:03, 25.24s/it]"
     ]
    },
    {
     "name": "stdout",
     "output_type": "stream",
     "text": [
      "Quota exceeded. Retrying in 60 seconds...\n"
     ]
    },
    {
     "name": "stderr",
     "output_type": "stream",
     "text": [
      "Processing Batches:  84%|████████▎ | 1048/1253 [8:44:19<1:26:13, 25.24s/it]"
     ]
    },
    {
     "name": "stdout",
     "output_type": "stream",
     "text": [
      "Quota exceeded. Retrying in 60 seconds...\n"
     ]
    },
    {
     "name": "stderr",
     "output_type": "stream",
     "text": [
      "Processing Batches:  84%|████████▍ | 1050/1253 [8:45:20<1:25:36, 25.30s/it]"
     ]
    },
    {
     "name": "stdout",
     "output_type": "stream",
     "text": [
      "Quota exceeded. Retrying in 60 seconds...\n"
     ]
    },
    {
     "name": "stderr",
     "output_type": "stream",
     "text": [
      "Processing Batches:  84%|████████▍ | 1052/1253 [8:46:22<1:24:35, 25.25s/it]"
     ]
    },
    {
     "name": "stdout",
     "output_type": "stream",
     "text": [
      "Quota exceeded. Retrying in 60 seconds...\n"
     ]
    },
    {
     "name": "stderr",
     "output_type": "stream",
     "text": [
      "Processing Batches:  84%|████████▍ | 1054/1253 [8:47:23<1:23:50, 25.28s/it]"
     ]
    },
    {
     "name": "stdout",
     "output_type": "stream",
     "text": [
      "Quota exceeded. Retrying in 60 seconds...\n"
     ]
    },
    {
     "name": "stderr",
     "output_type": "stream",
     "text": [
      "Processing Batches:  84%|████████▍ | 1056/1253 [8:48:24<1:23:04, 25.30s/it]"
     ]
    },
    {
     "name": "stdout",
     "output_type": "stream",
     "text": [
      "Quota exceeded. Retrying in 60 seconds...\n"
     ]
    },
    {
     "name": "stderr",
     "output_type": "stream",
     "text": [
      "Processing Batches:  84%|████████▍ | 1058/1253 [8:49:25<1:21:57, 25.22s/it]"
     ]
    },
    {
     "name": "stdout",
     "output_type": "stream",
     "text": [
      "Quota exceeded. Retrying in 60 seconds...\n"
     ]
    },
    {
     "name": "stderr",
     "output_type": "stream",
     "text": [
      "Processing Batches:  85%|████████▍ | 1060/1253 [8:50:26<1:21:04, 25.21s/it]"
     ]
    },
    {
     "name": "stdout",
     "output_type": "stream",
     "text": [
      "Quota exceeded. Retrying in 60 seconds...\n"
     ]
    },
    {
     "name": "stderr",
     "output_type": "stream",
     "text": [
      "Processing Batches:  85%|████████▍ | 1062/1253 [8:51:27<1:20:19, 25.23s/it]"
     ]
    },
    {
     "name": "stdout",
     "output_type": "stream",
     "text": [
      "Quota exceeded. Retrying in 60 seconds...\n"
     ]
    },
    {
     "name": "stderr",
     "output_type": "stream",
     "text": [
      "Processing Batches:  85%|████████▍ | 1064/1253 [8:52:28<1:19:17, 25.17s/it]"
     ]
    },
    {
     "name": "stdout",
     "output_type": "stream",
     "text": [
      "Quota exceeded. Retrying in 60 seconds...\n"
     ]
    },
    {
     "name": "stderr",
     "output_type": "stream",
     "text": [
      "Processing Batches:  85%|████████▌ | 1066/1253 [8:53:29<1:18:37, 25.23s/it]"
     ]
    },
    {
     "name": "stdout",
     "output_type": "stream",
     "text": [
      "Quota exceeded. Retrying in 60 seconds...\n"
     ]
    },
    {
     "name": "stderr",
     "output_type": "stream",
     "text": [
      "Processing Batches:  85%|████████▌ | 1068/1253 [8:54:30<1:17:52, 25.25s/it]"
     ]
    },
    {
     "name": "stdout",
     "output_type": "stream",
     "text": [
      "Quota exceeded. Retrying in 60 seconds...\n"
     ]
    },
    {
     "name": "stderr",
     "output_type": "stream",
     "text": [
      "Processing Batches:  85%|████████▌ | 1070/1253 [8:55:31<1:16:58, 25.24s/it]"
     ]
    },
    {
     "name": "stdout",
     "output_type": "stream",
     "text": [
      "Quota exceeded. Retrying in 60 seconds...\n"
     ]
    },
    {
     "name": "stderr",
     "output_type": "stream",
     "text": [
      "Processing Batches:  86%|████████▌ | 1072/1253 [8:56:33<1:16:18, 25.30s/it]"
     ]
    },
    {
     "name": "stdout",
     "output_type": "stream",
     "text": [
      "Quota exceeded. Retrying in 60 seconds...\n"
     ]
    },
    {
     "name": "stderr",
     "output_type": "stream",
     "text": [
      "Processing Batches:  86%|████████▌ | 1074/1253 [8:57:34<1:15:19, 25.25s/it]"
     ]
    },
    {
     "name": "stdout",
     "output_type": "stream",
     "text": [
      "Quota exceeded. Retrying in 60 seconds...\n"
     ]
    },
    {
     "name": "stderr",
     "output_type": "stream",
     "text": [
      "Processing Batches:  86%|████████▌ | 1076/1253 [8:58:36<1:15:35, 25.62s/it]"
     ]
    },
    {
     "name": "stdout",
     "output_type": "stream",
     "text": [
      "Quota exceeded. Retrying in 60 seconds...\n"
     ]
    },
    {
     "name": "stderr",
     "output_type": "stream",
     "text": [
      "Processing Batches:  86%|████████▌ | 1078/1253 [8:59:38<1:14:15, 25.46s/it]"
     ]
    },
    {
     "name": "stdout",
     "output_type": "stream",
     "text": [
      "Quota exceeded. Retrying in 60 seconds...\n"
     ]
    },
    {
     "name": "stderr",
     "output_type": "stream",
     "text": [
      "Processing Batches:  86%|████████▌ | 1080/1253 [9:00:39<1:13:21, 25.44s/it]"
     ]
    },
    {
     "name": "stdout",
     "output_type": "stream",
     "text": [
      "Quota exceeded. Retrying in 60 seconds...\n"
     ]
    },
    {
     "name": "stderr",
     "output_type": "stream",
     "text": [
      "Processing Batches:  86%|████████▋ | 1082/1253 [9:01:41<1:12:40, 25.50s/it]"
     ]
    },
    {
     "name": "stdout",
     "output_type": "stream",
     "text": [
      "Quota exceeded. Retrying in 60 seconds...\n"
     ]
    },
    {
     "name": "stderr",
     "output_type": "stream",
     "text": [
      "Processing Batches:  87%|████████▋ | 1084/1253 [9:02:42<1:11:29, 25.38s/it]"
     ]
    },
    {
     "name": "stdout",
     "output_type": "stream",
     "text": [
      "Quota exceeded. Retrying in 60 seconds...\n"
     ]
    },
    {
     "name": "stderr",
     "output_type": "stream",
     "text": [
      "Processing Batches:  87%|████████▋ | 1086/1253 [9:03:43<1:10:25, 25.30s/it]"
     ]
    },
    {
     "name": "stdout",
     "output_type": "stream",
     "text": [
      "Quota exceeded. Retrying in 60 seconds...\n"
     ]
    },
    {
     "name": "stderr",
     "output_type": "stream",
     "text": [
      "Processing Batches:  87%|████████▋ | 1088/1253 [9:04:45<1:09:42, 25.35s/it]"
     ]
    },
    {
     "name": "stdout",
     "output_type": "stream",
     "text": [
      "Quota exceeded. Retrying in 60 seconds...\n"
     ]
    },
    {
     "name": "stderr",
     "output_type": "stream",
     "text": [
      "Processing Batches:  87%|████████▋ | 1090/1253 [9:05:45<1:08:31, 25.23s/it]"
     ]
    },
    {
     "name": "stdout",
     "output_type": "stream",
     "text": [
      "Quota exceeded. Retrying in 60 seconds...\n"
     ]
    },
    {
     "name": "stderr",
     "output_type": "stream",
     "text": [
      "Processing Batches:  87%|████████▋ | 1092/1253 [9:06:46<1:07:40, 25.22s/it]"
     ]
    },
    {
     "name": "stdout",
     "output_type": "stream",
     "text": [
      "Quota exceeded. Retrying in 60 seconds...\n"
     ]
    },
    {
     "name": "stderr",
     "output_type": "stream",
     "text": [
      "Processing Batches:  87%|████████▋ | 1094/1253 [9:07:47<1:06:45, 25.19s/it]"
     ]
    },
    {
     "name": "stdout",
     "output_type": "stream",
     "text": [
      "Quota exceeded. Retrying in 60 seconds...\n"
     ]
    },
    {
     "name": "stderr",
     "output_type": "stream",
     "text": [
      "Processing Batches:  87%|████████▋ | 1096/1253 [9:08:49<1:06:03, 25.24s/it]"
     ]
    },
    {
     "name": "stdout",
     "output_type": "stream",
     "text": [
      "Quota exceeded. Retrying in 60 seconds...\n"
     ]
    },
    {
     "name": "stderr",
     "output_type": "stream",
     "text": [
      "Processing Batches:  88%|████████▊ | 1098/1253 [9:09:50<1:05:20, 25.29s/it]"
     ]
    },
    {
     "name": "stdout",
     "output_type": "stream",
     "text": [
      "Quota exceeded. Retrying in 60 seconds...\n"
     ]
    },
    {
     "name": "stderr",
     "output_type": "stream",
     "text": [
      "Processing Batches:  88%|████████▊ | 1100/1253 [9:10:51<1:04:23, 25.25s/it]"
     ]
    },
    {
     "name": "stdout",
     "output_type": "stream",
     "text": [
      "Quota exceeded. Retrying in 60 seconds...\n"
     ]
    },
    {
     "name": "stderr",
     "output_type": "stream",
     "text": [
      "Processing Batches:  88%|████████▊ | 1102/1253 [9:11:52<1:03:43, 25.32s/it]"
     ]
    },
    {
     "name": "stdout",
     "output_type": "stream",
     "text": [
      "Quota exceeded. Retrying in 60 seconds...\n"
     ]
    },
    {
     "name": "stderr",
     "output_type": "stream",
     "text": [
      "Processing Batches:  88%|████████▊ | 1104/1253 [9:12:53<1:02:44, 25.27s/it]"
     ]
    },
    {
     "name": "stdout",
     "output_type": "stream",
     "text": [
      "Quota exceeded. Retrying in 60 seconds...\n"
     ]
    },
    {
     "name": "stderr",
     "output_type": "stream",
     "text": [
      "Processing Batches:  88%|████████▊ | 1106/1253 [9:13:54<1:01:49, 25.24s/it]"
     ]
    },
    {
     "name": "stdout",
     "output_type": "stream",
     "text": [
      "Quota exceeded. Retrying in 60 seconds...\n"
     ]
    },
    {
     "name": "stderr",
     "output_type": "stream",
     "text": [
      "Processing Batches:  88%|████████▊ | 1108/1253 [9:14:56<1:01:00, 25.25s/it]"
     ]
    },
    {
     "name": "stdout",
     "output_type": "stream",
     "text": [
      "Quota exceeded. Retrying in 60 seconds...\n"
     ]
    },
    {
     "name": "stderr",
     "output_type": "stream",
     "text": [
      "Processing Batches:  89%|████████▊ | 1110/1253 [9:15:57<1:00:14, 25.27s/it]"
     ]
    },
    {
     "name": "stdout",
     "output_type": "stream",
     "text": [
      "Quota exceeded. Retrying in 60 seconds...\n"
     ]
    },
    {
     "name": "stderr",
     "output_type": "stream",
     "text": [
      "Processing Batches:  89%|████████▊ | 1112/1253 [9:16:58<59:15, 25.22s/it]  "
     ]
    },
    {
     "name": "stdout",
     "output_type": "stream",
     "text": [
      "Quota exceeded. Retrying in 60 seconds...\n"
     ]
    },
    {
     "name": "stderr",
     "output_type": "stream",
     "text": [
      "Processing Batches:  89%|████████▉ | 1114/1253 [9:17:59<58:23, 25.20s/it]  "
     ]
    },
    {
     "name": "stdout",
     "output_type": "stream",
     "text": [
      "Quota exceeded. Retrying in 60 seconds...\n"
     ]
    },
    {
     "name": "stderr",
     "output_type": "stream",
     "text": [
      "Processing Batches:  89%|████████▉ | 1116/1253 [9:19:00<57:37, 25.24s/it]  "
     ]
    },
    {
     "name": "stdout",
     "output_type": "stream",
     "text": [
      "Quota exceeded. Retrying in 60 seconds...\n"
     ]
    },
    {
     "name": "stderr",
     "output_type": "stream",
     "text": [
      "Processing Batches:  89%|████████▉ | 1118/1253 [9:20:01<56:45, 25.23s/it]  "
     ]
    },
    {
     "name": "stdout",
     "output_type": "stream",
     "text": [
      "Quota exceeded. Retrying in 60 seconds...\n"
     ]
    },
    {
     "name": "stderr",
     "output_type": "stream",
     "text": [
      "Processing Batches:  89%|████████▉ | 1120/1253 [9:21:02<55:57, 25.24s/it]  "
     ]
    },
    {
     "name": "stdout",
     "output_type": "stream",
     "text": [
      "Quota exceeded. Retrying in 60 seconds...\n"
     ]
    },
    {
     "name": "stderr",
     "output_type": "stream",
     "text": [
      "Processing Batches:  90%|████████▉ | 1122/1253 [9:22:03<55:10, 25.27s/it]  "
     ]
    },
    {
     "name": "stdout",
     "output_type": "stream",
     "text": [
      "Quota exceeded. Retrying in 60 seconds...\n"
     ]
    },
    {
     "name": "stderr",
     "output_type": "stream",
     "text": [
      "Processing Batches:  90%|████████▉ | 1124/1253 [9:23:05<54:27, 25.33s/it]  "
     ]
    },
    {
     "name": "stdout",
     "output_type": "stream",
     "text": [
      "Quota exceeded. Retrying in 60 seconds...\n"
     ]
    },
    {
     "name": "stderr",
     "output_type": "stream",
     "text": [
      "Processing Batches:  90%|████████▉ | 1126/1253 [9:24:06<53:23, 25.22s/it]  "
     ]
    },
    {
     "name": "stdout",
     "output_type": "stream",
     "text": [
      "Quota exceeded. Retrying in 60 seconds...\n"
     ]
    },
    {
     "name": "stderr",
     "output_type": "stream",
     "text": [
      "Processing Batches:  90%|█████████ | 1128/1253 [9:25:07<52:29, 25.20s/it]  "
     ]
    },
    {
     "name": "stdout",
     "output_type": "stream",
     "text": [
      "Quota exceeded. Retrying in 60 seconds...\n"
     ]
    },
    {
     "name": "stderr",
     "output_type": "stream",
     "text": [
      "Processing Batches:  90%|█████████ | 1130/1253 [9:26:08<51:49, 25.28s/it]  "
     ]
    },
    {
     "name": "stdout",
     "output_type": "stream",
     "text": [
      "Quota exceeded. Retrying in 60 seconds...\n"
     ]
    },
    {
     "name": "stderr",
     "output_type": "stream",
     "text": [
      "Processing Batches:  90%|█████████ | 1132/1253 [9:27:09<51:02, 25.31s/it]  "
     ]
    },
    {
     "name": "stdout",
     "output_type": "stream",
     "text": [
      "Quota exceeded. Retrying in 60 seconds...\n"
     ]
    },
    {
     "name": "stderr",
     "output_type": "stream",
     "text": [
      "Processing Batches:  91%|█████████ | 1134/1253 [9:28:10<50:10, 25.29s/it]  "
     ]
    },
    {
     "name": "stdout",
     "output_type": "stream",
     "text": [
      "Quota exceeded. Retrying in 60 seconds...\n"
     ]
    },
    {
     "name": "stderr",
     "output_type": "stream",
     "text": [
      "Processing Batches:  91%|█████████ | 1136/1253 [9:29:11<49:15, 25.26s/it]  "
     ]
    },
    {
     "name": "stdout",
     "output_type": "stream",
     "text": [
      "Quota exceeded. Retrying in 60 seconds...\n"
     ]
    },
    {
     "name": "stderr",
     "output_type": "stream",
     "text": [
      "Processing Batches:  91%|█████████ | 1138/1253 [9:30:13<48:21, 25.23s/it]  "
     ]
    },
    {
     "name": "stdout",
     "output_type": "stream",
     "text": [
      "Quota exceeded. Retrying in 60 seconds...\n"
     ]
    },
    {
     "name": "stderr",
     "output_type": "stream",
     "text": [
      "Processing Batches:  91%|█████████ | 1140/1253 [9:31:14<47:31, 25.24s/it]  "
     ]
    },
    {
     "name": "stdout",
     "output_type": "stream",
     "text": [
      "Quota exceeded. Retrying in 60 seconds...\n"
     ]
    },
    {
     "name": "stderr",
     "output_type": "stream",
     "text": [
      "Processing Batches:  91%|█████████ | 1142/1253 [9:32:15<46:38, 25.22s/it]  "
     ]
    },
    {
     "name": "stdout",
     "output_type": "stream",
     "text": [
      "Quota exceeded. Retrying in 60 seconds...\n"
     ]
    },
    {
     "name": "stderr",
     "output_type": "stream",
     "text": [
      "Processing Batches:  91%|█████████▏| 1144/1253 [9:33:16<45:50, 25.23s/it]  "
     ]
    },
    {
     "name": "stdout",
     "output_type": "stream",
     "text": [
      "Quota exceeded. Retrying in 60 seconds...\n"
     ]
    },
    {
     "name": "stderr",
     "output_type": "stream",
     "text": [
      "Processing Batches:  91%|█████████▏| 1146/1253 [9:34:17<45:01, 25.25s/it]  "
     ]
    },
    {
     "name": "stdout",
     "output_type": "stream",
     "text": [
      "Quota exceeded. Retrying in 60 seconds...\n"
     ]
    },
    {
     "name": "stderr",
     "output_type": "stream",
     "text": [
      "Processing Batches:  92%|█████████▏| 1148/1253 [9:35:18<44:15, 25.29s/it]  "
     ]
    },
    {
     "name": "stdout",
     "output_type": "stream",
     "text": [
      "Quota exceeded. Retrying in 60 seconds...\n"
     ]
    },
    {
     "name": "stderr",
     "output_type": "stream",
     "text": [
      "Processing Batches:  92%|█████████▏| 1150/1253 [9:36:19<43:23, 25.27s/it]  "
     ]
    },
    {
     "name": "stdout",
     "output_type": "stream",
     "text": [
      "Quota exceeded. Retrying in 60 seconds...\n"
     ]
    },
    {
     "name": "stderr",
     "output_type": "stream",
     "text": [
      "Processing Batches:  92%|█████████▏| 1152/1253 [9:37:20<42:26, 25.21s/it]  "
     ]
    },
    {
     "name": "stdout",
     "output_type": "stream",
     "text": [
      "Quota exceeded. Retrying in 60 seconds...\n"
     ]
    },
    {
     "name": "stderr",
     "output_type": "stream",
     "text": [
      "Processing Batches:  92%|█████████▏| 1154/1253 [9:38:22<41:46, 25.32s/it]"
     ]
    },
    {
     "name": "stdout",
     "output_type": "stream",
     "text": [
      "Quota exceeded. Retrying in 60 seconds...\n"
     ]
    },
    {
     "name": "stderr",
     "output_type": "stream",
     "text": [
      "Processing Batches:  92%|█████████▏| 1156/1253 [9:39:23<41:01, 25.38s/it]"
     ]
    },
    {
     "name": "stdout",
     "output_type": "stream",
     "text": [
      "Quota exceeded. Retrying in 60 seconds...\n"
     ]
    },
    {
     "name": "stderr",
     "output_type": "stream",
     "text": [
      "Processing Batches:  92%|█████████▏| 1158/1253 [9:40:24<40:06, 25.33s/it]"
     ]
    },
    {
     "name": "stdout",
     "output_type": "stream",
     "text": [
      "Quota exceeded. Retrying in 60 seconds...\n"
     ]
    },
    {
     "name": "stderr",
     "output_type": "stream",
     "text": [
      "Processing Batches:  93%|█████████▎| 1160/1253 [9:41:26<39:18, 25.36s/it]"
     ]
    },
    {
     "name": "stdout",
     "output_type": "stream",
     "text": [
      "Quota exceeded. Retrying in 60 seconds...\n"
     ]
    },
    {
     "name": "stderr",
     "output_type": "stream",
     "text": [
      "Processing Batches:  93%|█████████▎| 1162/1253 [9:42:28<38:41, 25.51s/it]"
     ]
    },
    {
     "name": "stdout",
     "output_type": "stream",
     "text": [
      "Quota exceeded. Retrying in 60 seconds...\n"
     ]
    },
    {
     "name": "stderr",
     "output_type": "stream",
     "text": [
      "Processing Batches:  93%|█████████▎| 1164/1253 [9:43:29<37:41, 25.41s/it]"
     ]
    },
    {
     "name": "stdout",
     "output_type": "stream",
     "text": [
      "Quota exceeded. Retrying in 60 seconds...\n"
     ]
    },
    {
     "name": "stderr",
     "output_type": "stream",
     "text": [
      "Processing Batches:  93%|█████████▎| 1166/1253 [9:44:30<36:52, 25.43s/it]"
     ]
    },
    {
     "name": "stdout",
     "output_type": "stream",
     "text": [
      "Quota exceeded. Retrying in 60 seconds...\n"
     ]
    },
    {
     "name": "stderr",
     "output_type": "stream",
     "text": [
      "Processing Batches:  93%|█████████▎| 1168/1253 [9:45:32<36:07, 25.50s/it]"
     ]
    },
    {
     "name": "stdout",
     "output_type": "stream",
     "text": [
      "Quota exceeded. Retrying in 60 seconds...\n"
     ]
    },
    {
     "name": "stderr",
     "output_type": "stream",
     "text": [
      "Processing Batches:  93%|█████████▎| 1170/1253 [9:46:33<35:02, 25.34s/it]"
     ]
    },
    {
     "name": "stdout",
     "output_type": "stream",
     "text": [
      "Quota exceeded. Retrying in 60 seconds...\n"
     ]
    },
    {
     "name": "stderr",
     "output_type": "stream",
     "text": [
      "Processing Batches:  94%|█████████▎| 1172/1253 [9:47:34<34:09, 25.31s/it]"
     ]
    },
    {
     "name": "stdout",
     "output_type": "stream",
     "text": [
      "Quota exceeded. Retrying in 60 seconds...\n"
     ]
    },
    {
     "name": "stderr",
     "output_type": "stream",
     "text": [
      "Processing Batches:  94%|█████████▎| 1174/1253 [9:48:35<33:17, 25.28s/it]"
     ]
    },
    {
     "name": "stdout",
     "output_type": "stream",
     "text": [
      "Quota exceeded. Retrying in 60 seconds...\n"
     ]
    },
    {
     "name": "stderr",
     "output_type": "stream",
     "text": [
      "Processing Batches:  94%|█████████▍| 1176/1253 [9:49:37<32:30, 25.33s/it]"
     ]
    },
    {
     "name": "stdout",
     "output_type": "stream",
     "text": [
      "Quota exceeded. Retrying in 60 seconds...\n"
     ]
    },
    {
     "name": "stderr",
     "output_type": "stream",
     "text": [
      "Processing Batches:  94%|█████████▍| 1178/1253 [9:50:38<31:37, 25.31s/it]"
     ]
    },
    {
     "name": "stdout",
     "output_type": "stream",
     "text": [
      "Quota exceeded. Retrying in 60 seconds...\n"
     ]
    },
    {
     "name": "stderr",
     "output_type": "stream",
     "text": [
      "Processing Batches:  94%|█████████▍| 1180/1253 [9:51:39<30:51, 25.36s/it]"
     ]
    },
    {
     "name": "stdout",
     "output_type": "stream",
     "text": [
      "Quota exceeded. Retrying in 60 seconds...\n"
     ]
    },
    {
     "name": "stderr",
     "output_type": "stream",
     "text": [
      "Processing Batches:  94%|█████████▍| 1182/1253 [9:52:41<29:57, 25.32s/it]"
     ]
    },
    {
     "name": "stdout",
     "output_type": "stream",
     "text": [
      "Quota exceeded. Retrying in 60 seconds...\n"
     ]
    },
    {
     "name": "stderr",
     "output_type": "stream",
     "text": [
      "Processing Batches:  94%|█████████▍| 1184/1253 [9:53:42<29:01, 25.24s/it]"
     ]
    },
    {
     "name": "stdout",
     "output_type": "stream",
     "text": [
      "Quota exceeded. Retrying in 60 seconds...\n"
     ]
    },
    {
     "name": "stderr",
     "output_type": "stream",
     "text": [
      "Processing Batches:  95%|█████████▍| 1186/1253 [9:54:43<28:21, 25.40s/it]"
     ]
    },
    {
     "name": "stdout",
     "output_type": "stream",
     "text": [
      "Quota exceeded. Retrying in 60 seconds...\n"
     ]
    },
    {
     "name": "stderr",
     "output_type": "stream",
     "text": [
      "Processing Batches:  95%|█████████▍| 1188/1253 [9:55:45<27:36, 25.49s/it]"
     ]
    },
    {
     "name": "stdout",
     "output_type": "stream",
     "text": [
      "Quota exceeded. Retrying in 60 seconds...\n"
     ]
    },
    {
     "name": "stderr",
     "output_type": "stream",
     "text": [
      "Processing Batches:  95%|█████████▍| 1190/1253 [9:56:46<26:41, 25.42s/it]"
     ]
    },
    {
     "name": "stdout",
     "output_type": "stream",
     "text": [
      "Quota exceeded. Retrying in 60 seconds...\n"
     ]
    },
    {
     "name": "stderr",
     "output_type": "stream",
     "text": [
      "Processing Batches:  95%|█████████▌| 1192/1253 [9:57:47<25:45, 25.33s/it]"
     ]
    },
    {
     "name": "stdout",
     "output_type": "stream",
     "text": [
      "Quota exceeded. Retrying in 60 seconds...\n"
     ]
    },
    {
     "name": "stderr",
     "output_type": "stream",
     "text": [
      "Processing Batches:  95%|█████████▌| 1194/1253 [9:58:49<25:01, 25.44s/it]"
     ]
    },
    {
     "name": "stdout",
     "output_type": "stream",
     "text": [
      "Quota exceeded. Retrying in 60 seconds...\n"
     ]
    },
    {
     "name": "stderr",
     "output_type": "stream",
     "text": [
      "Processing Batches:  95%|█████████▌| 1196/1253 [9:59:50<24:02, 25.31s/it]"
     ]
    },
    {
     "name": "stdout",
     "output_type": "stream",
     "text": [
      "Quota exceeded. Retrying in 60 seconds...\n"
     ]
    },
    {
     "name": "stderr",
     "output_type": "stream",
     "text": [
      "Processing Batches:  96%|█████████▌| 1198/1253 [10:00:52<23:14, 25.36s/it]"
     ]
    },
    {
     "name": "stdout",
     "output_type": "stream",
     "text": [
      "Quota exceeded. Retrying in 60 seconds...\n"
     ]
    },
    {
     "name": "stderr",
     "output_type": "stream",
     "text": [
      "Processing Batches:  96%|█████████▌| 1200/1253 [10:01:53<22:18, 25.26s/it]"
     ]
    },
    {
     "name": "stdout",
     "output_type": "stream",
     "text": [
      "Quota exceeded. Retrying in 60 seconds...\n"
     ]
    },
    {
     "name": "stderr",
     "output_type": "stream",
     "text": [
      "Processing Batches:  96%|█████████▌| 1202/1253 [10:02:54<21:28, 25.27s/it]"
     ]
    },
    {
     "name": "stdout",
     "output_type": "stream",
     "text": [
      "Quota exceeded. Retrying in 60 seconds...\n"
     ]
    },
    {
     "name": "stderr",
     "output_type": "stream",
     "text": [
      "Processing Batches:  96%|█████████▌| 1204/1253 [10:03:55<20:36, 25.23s/it]"
     ]
    },
    {
     "name": "stdout",
     "output_type": "stream",
     "text": [
      "Quota exceeded. Retrying in 60 seconds...\n"
     ]
    },
    {
     "name": "stderr",
     "output_type": "stream",
     "text": [
      "Processing Batches:  96%|█████████▌| 1206/1253 [10:04:56<19:46, 25.25s/it]"
     ]
    },
    {
     "name": "stdout",
     "output_type": "stream",
     "text": [
      "Quota exceeded. Retrying in 60 seconds...\n"
     ]
    },
    {
     "name": "stderr",
     "output_type": "stream",
     "text": [
      "Processing Batches:  96%|█████████▋| 1208/1253 [10:05:57<18:57, 25.27s/it]"
     ]
    },
    {
     "name": "stdout",
     "output_type": "stream",
     "text": [
      "Quota exceeded. Retrying in 60 seconds...\n"
     ]
    },
    {
     "name": "stderr",
     "output_type": "stream",
     "text": [
      "Processing Batches:  97%|█████████▋| 1210/1253 [10:06:59<18:13, 25.44s/it]"
     ]
    },
    {
     "name": "stdout",
     "output_type": "stream",
     "text": [
      "Quota exceeded. Retrying in 60 seconds...\n"
     ]
    },
    {
     "name": "stderr",
     "output_type": "stream",
     "text": [
      "Processing Batches:  97%|█████████▋| 1212/1253 [10:08:01<17:24, 25.47s/it]"
     ]
    },
    {
     "name": "stdout",
     "output_type": "stream",
     "text": [
      "Quota exceeded. Retrying in 60 seconds...\n"
     ]
    },
    {
     "name": "stderr",
     "output_type": "stream",
     "text": [
      "Processing Batches:  97%|█████████▋| 1214/1253 [10:09:02<16:27, 25.33s/it]"
     ]
    },
    {
     "name": "stdout",
     "output_type": "stream",
     "text": [
      "Quota exceeded. Retrying in 60 seconds...\n"
     ]
    },
    {
     "name": "stderr",
     "output_type": "stream",
     "text": [
      "Processing Batches:  97%|█████████▋| 1216/1253 [10:10:03<15:35, 25.28s/it]"
     ]
    },
    {
     "name": "stdout",
     "output_type": "stream",
     "text": [
      "Quota exceeded. Retrying in 60 seconds...\n"
     ]
    },
    {
     "name": "stderr",
     "output_type": "stream",
     "text": [
      "Processing Batches:  97%|█████████▋| 1218/1253 [10:11:04<14:43, 25.25s/it]"
     ]
    },
    {
     "name": "stdout",
     "output_type": "stream",
     "text": [
      "Quota exceeded. Retrying in 60 seconds...\n"
     ]
    },
    {
     "name": "stderr",
     "output_type": "stream",
     "text": [
      "Processing Batches:  97%|█████████▋| 1220/1253 [10:12:05<13:53, 25.25s/it]"
     ]
    },
    {
     "name": "stdout",
     "output_type": "stream",
     "text": [
      "Quota exceeded. Retrying in 60 seconds...\n"
     ]
    },
    {
     "name": "stderr",
     "output_type": "stream",
     "text": [
      "Processing Batches:  98%|█████████▊| 1222/1253 [10:13:06<13:03, 25.29s/it]"
     ]
    },
    {
     "name": "stdout",
     "output_type": "stream",
     "text": [
      "Quota exceeded. Retrying in 60 seconds...\n"
     ]
    },
    {
     "name": "stderr",
     "output_type": "stream",
     "text": [
      "Processing Batches:  98%|█████████▊| 1224/1253 [10:14:08<12:14, 25.31s/it]"
     ]
    },
    {
     "name": "stdout",
     "output_type": "stream",
     "text": [
      "Quota exceeded. Retrying in 60 seconds...\n"
     ]
    },
    {
     "name": "stderr",
     "output_type": "stream",
     "text": [
      "Processing Batches:  98%|█████████▊| 1226/1253 [10:15:09<11:21, 25.24s/it]"
     ]
    },
    {
     "name": "stdout",
     "output_type": "stream",
     "text": [
      "Quota exceeded. Retrying in 60 seconds...\n"
     ]
    },
    {
     "name": "stderr",
     "output_type": "stream",
     "text": [
      "Processing Batches:  98%|█████████▊| 1228/1253 [10:16:10<10:32, 25.31s/it]"
     ]
    },
    {
     "name": "stdout",
     "output_type": "stream",
     "text": [
      "Quota exceeded. Retrying in 60 seconds...\n"
     ]
    },
    {
     "name": "stderr",
     "output_type": "stream",
     "text": [
      "Processing Batches:  98%|█████████▊| 1230/1253 [10:17:11<09:41, 25.28s/it]"
     ]
    },
    {
     "name": "stdout",
     "output_type": "stream",
     "text": [
      "Quota exceeded. Retrying in 60 seconds...\n"
     ]
    },
    {
     "name": "stderr",
     "output_type": "stream",
     "text": [
      "Processing Batches:  98%|█████████▊| 1232/1253 [10:18:13<08:53, 25.39s/it]"
     ]
    },
    {
     "name": "stdout",
     "output_type": "stream",
     "text": [
      "Quota exceeded. Retrying in 60 seconds...\n"
     ]
    },
    {
     "name": "stderr",
     "output_type": "stream",
     "text": [
      "Processing Batches:  98%|█████████▊| 1234/1253 [10:19:14<08:00, 25.31s/it]"
     ]
    },
    {
     "name": "stdout",
     "output_type": "stream",
     "text": [
      "Quota exceeded. Retrying in 60 seconds...\n"
     ]
    },
    {
     "name": "stderr",
     "output_type": "stream",
     "text": [
      "Processing Batches:  99%|█████████▊| 1236/1253 [10:20:15<07:10, 25.34s/it]"
     ]
    },
    {
     "name": "stdout",
     "output_type": "stream",
     "text": [
      "Quota exceeded. Retrying in 60 seconds...\n"
     ]
    },
    {
     "name": "stderr",
     "output_type": "stream",
     "text": [
      "Processing Batches:  99%|█████████▉| 1238/1253 [10:21:16<06:19, 25.29s/it]"
     ]
    },
    {
     "name": "stdout",
     "output_type": "stream",
     "text": [
      "Quota exceeded. Retrying in 60 seconds...\n"
     ]
    },
    {
     "name": "stderr",
     "output_type": "stream",
     "text": [
      "Processing Batches:  99%|█████████▉| 1240/1253 [10:22:19<05:32, 25.56s/it]"
     ]
    },
    {
     "name": "stdout",
     "output_type": "stream",
     "text": [
      "Quota exceeded. Retrying in 60 seconds...\n"
     ]
    },
    {
     "name": "stderr",
     "output_type": "stream",
     "text": [
      "Processing Batches:  99%|█████████▉| 1242/1253 [10:23:20<04:39, 25.39s/it]"
     ]
    },
    {
     "name": "stdout",
     "output_type": "stream",
     "text": [
      "Quota exceeded. Retrying in 60 seconds...\n"
     ]
    },
    {
     "name": "stderr",
     "output_type": "stream",
     "text": [
      "Processing Batches:  99%|█████████▉| 1244/1253 [10:24:21<03:49, 25.46s/it]"
     ]
    },
    {
     "name": "stdout",
     "output_type": "stream",
     "text": [
      "Quota exceeded. Retrying in 60 seconds...\n"
     ]
    },
    {
     "name": "stderr",
     "output_type": "stream",
     "text": [
      "Processing Batches:  99%|█████████▉| 1246/1253 [10:25:23<02:57, 25.39s/it]"
     ]
    },
    {
     "name": "stdout",
     "output_type": "stream",
     "text": [
      "Quota exceeded. Retrying in 60 seconds...\n"
     ]
    },
    {
     "name": "stderr",
     "output_type": "stream",
     "text": [
      "Processing Batches: 100%|█████████▉| 1248/1253 [10:26:24<02:07, 25.40s/it]"
     ]
    },
    {
     "name": "stdout",
     "output_type": "stream",
     "text": [
      "Quota exceeded. Retrying in 60 seconds...\n"
     ]
    },
    {
     "name": "stderr",
     "output_type": "stream",
     "text": [
      "Processing Batches: 100%|█████████▉| 1250/1253 [10:27:25<01:15, 25.29s/it]"
     ]
    },
    {
     "name": "stdout",
     "output_type": "stream",
     "text": [
      "Quota exceeded. Retrying in 60 seconds...\n"
     ]
    },
    {
     "name": "stderr",
     "output_type": "stream",
     "text": [
      "Processing Batches: 100%|█████████▉| 1252/1253 [10:28:26<00:25, 25.24s/it]"
     ]
    },
    {
     "name": "stdout",
     "output_type": "stream",
     "text": [
      "Quota exceeded. Retrying in 60 seconds...\n"
     ]
    },
    {
     "name": "stderr",
     "output_type": "stream",
     "text": [
      "Processing Batches: 100%|██████████| 1253/1253 [10:29:27<00:00, 30.14s/it]\n"
     ]
    }
   ],
   "source": [
    "num_samples = len(test_df)\n",
    "test_df_subset = test_df.head(num_samples).copy()\n",
    "llama_answers, accuracy = generate_answers(test_df_subset, num_samples, 1, True)\n",
    "test_df_subset[\"llama_answers\"] = llama_answers"
   ]
  },
  {
   "cell_type": "code",
   "execution_count": 15,
   "id": "2929bb2f",
   "metadata": {
    "execution": {
     "iopub.execute_input": "2025-03-30T11:45:52.148488Z",
     "iopub.status.busy": "2025-03-30T11:45:52.148145Z",
     "iopub.status.idle": "2025-03-30T11:45:52.152844Z",
     "shell.execute_reply": "2025-03-30T11:45:52.151837Z"
    },
    "papermill": {
     "duration": 0.119781,
     "end_time": "2025-03-30T11:45:52.154781",
     "exception": false,
     "start_time": "2025-03-30T11:45:52.035000",
     "status": "completed"
    },
    "tags": []
   },
   "outputs": [
    {
     "name": "stdout",
     "output_type": "stream",
     "text": [
      "Accuracy: None%\n"
     ]
    }
   ],
   "source": [
    "print(f\"Accuracy: {accuracy}%\")"
   ]
  },
  {
   "cell_type": "code",
   "execution_count": 16,
   "id": "2bf53141",
   "metadata": {
    "execution": {
     "iopub.execute_input": "2025-03-30T11:45:52.376925Z",
     "iopub.status.busy": "2025-03-30T11:45:52.376542Z",
     "iopub.status.idle": "2025-03-30T11:45:52.407841Z",
     "shell.execute_reply": "2025-03-30T11:45:52.406894Z"
    },
    "papermill": {
     "duration": 0.143243,
     "end_time": "2025-03-30T11:45:52.409508",
     "exception": false,
     "start_time": "2025-03-30T11:45:52.266265",
     "status": "completed"
    },
    "tags": []
   },
   "outputs": [
    {
     "data": {
      "text/html": [
       "<div>\n",
       "<style scoped>\n",
       "    .dataframe tbody tr th:only-of-type {\n",
       "        vertical-align: middle;\n",
       "    }\n",
       "\n",
       "    .dataframe tbody tr th {\n",
       "        vertical-align: top;\n",
       "    }\n",
       "\n",
       "    .dataframe thead th {\n",
       "        text-align: right;\n",
       "    }\n",
       "</style>\n",
       "<table border=\"1\" class=\"dataframe\">\n",
       "  <thead>\n",
       "    <tr style=\"text-align: right;\">\n",
       "      <th></th>\n",
       "      <th>task_id</th>\n",
       "      <th>answer</th>\n",
       "    </tr>\n",
       "  </thead>\n",
       "  <tbody>\n",
       "    <tr>\n",
       "      <th>0</th>\n",
       "      <td>k10171</td>\n",
       "      <td>D</td>\n",
       "    </tr>\n",
       "    <tr>\n",
       "      <th>1</th>\n",
       "      <td>k10182</td>\n",
       "      <td>D</td>\n",
       "    </tr>\n",
       "    <tr>\n",
       "      <th>2</th>\n",
       "      <td>k10184</td>\n",
       "      <td>A</td>\n",
       "    </tr>\n",
       "    <tr>\n",
       "      <th>3</th>\n",
       "      <td>k10206</td>\n",
       "      <td>C</td>\n",
       "    </tr>\n",
       "    <tr>\n",
       "      <th>4</th>\n",
       "      <td>k10215</td>\n",
       "      <td>A</td>\n",
       "    </tr>\n",
       "  </tbody>\n",
       "</table>\n",
       "</div>"
      ],
      "text/plain": [
       "  task_id answer\n",
       "0  k10171      D\n",
       "1  k10182      D\n",
       "2  k10184      A\n",
       "3  k10206      C\n",
       "4  k10215      A"
      ]
     },
     "execution_count": 16,
     "metadata": {},
     "output_type": "execute_result"
    }
   ],
   "source": [
    "submission_df = test_df_subset[[\"task_id\", \"llama_answers\"]].rename(columns={\"llama_answers\": \"answer\"})\n",
    "submission_df.to_csv(\"submission.csv\", index=False)\n",
    "submission_df.head(5)"
   ]
  },
  {
   "cell_type": "code",
   "execution_count": 17,
   "id": "93647219",
   "metadata": {
    "execution": {
     "iopub.execute_input": "2025-03-30T11:45:52.629467Z",
     "iopub.status.busy": "2025-03-30T11:45:52.629147Z",
     "iopub.status.idle": "2025-03-30T11:45:52.646630Z",
     "shell.execute_reply": "2025-03-30T11:45:52.645766Z"
    },
    "papermill": {
     "duration": 0.128955,
     "end_time": "2025-03-30T11:45:52.648163",
     "exception": false,
     "start_time": "2025-03-30T11:45:52.519208",
     "status": "completed"
    },
    "tags": []
   },
   "outputs": [
    {
     "name": "stdout",
     "output_type": "stream",
     "text": [
      "answer\n",
      "A    357\n",
      "B    338\n",
      "C    332\n",
      "D    226\n",
      "Name: count, dtype: int64\n"
     ]
    }
   ],
   "source": [
    "print(submission_df[\"answer\"].value_counts())"
   ]
  },
  {
   "cell_type": "code",
   "execution_count": null,
   "id": "6be090ad",
   "metadata": {
    "papermill": {
     "duration": 0.110517,
     "end_time": "2025-03-30T11:45:52.868485",
     "exception": false,
     "start_time": "2025-03-30T11:45:52.757968",
     "status": "completed"
    },
    "tags": []
   },
   "outputs": [],
   "source": []
  }
 ],
 "metadata": {
  "kaggle": {
   "accelerator": "none",
   "dataSources": [
    {
     "databundleVersionId": 11597044,
     "sourceId": 97436,
     "sourceType": "competition"
    },
    {
     "datasetId": 6994450,
     "sourceId": 11202506,
     "sourceType": "datasetVersion"
    }
   ],
   "dockerImageVersionId": 30918,
   "isGpuEnabled": false,
   "isInternetEnabled": true,
   "language": "python",
   "sourceType": "notebook"
  },
  "kernelspec": {
   "display_name": "Python 3",
   "language": "python",
   "name": "python3"
  },
  "language_info": {
   "codemirror_mode": {
    "name": "ipython",
    "version": 3
   },
   "file_extension": ".py",
   "mimetype": "text/x-python",
   "name": "python",
   "nbconvert_exporter": "python",
   "pygments_lexer": "ipython3",
   "version": "3.10.12"
  },
  "papermill": {
   "default_parameters": {},
   "duration": 37775.436045,
   "end_time": "2025-03-30T11:45:53.649160",
   "environment_variables": {},
   "exception": null,
   "input_path": "__notebook__.ipynb",
   "output_path": "__notebook__.ipynb",
   "parameters": {},
   "start_time": "2025-03-30T01:16:18.213115",
   "version": "2.6.0"
  }
 },
 "nbformat": 4,
 "nbformat_minor": 5
}
