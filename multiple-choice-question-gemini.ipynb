{
 "cells": [
  {
   "cell_type": "code",
   "execution_count": 1,
   "id": "c64819ae",
   "metadata": {
    "execution": {
     "iopub.execute_input": "2025-03-29T07:04:02.847162Z",
     "iopub.status.busy": "2025-03-29T07:04:02.846766Z",
     "iopub.status.idle": "2025-03-29T07:04:05.744776Z",
     "shell.execute_reply": "2025-03-29T07:04:05.743665Z"
    },
    "papermill": {
     "duration": 2.905817,
     "end_time": "2025-03-29T07:04:05.746709",
     "exception": false,
     "start_time": "2025-03-29T07:04:02.840892",
     "status": "completed"
    },
    "tags": []
   },
   "outputs": [],
   "source": [
    "import ast \n",
    "import pandas as pd \n",
    "from tqdm import tqdm \n",
    "import time \n",
    "from google.api_core import exceptions as google_exceptions \n",
    "import google.generativeai as genai \n",
    "import matplotlib.pyplot as plt \n",
    "import random"
   ]
  },
  {
   "cell_type": "code",
   "execution_count": 2,
   "id": "1407ba12",
   "metadata": {
    "execution": {
     "iopub.execute_input": "2025-03-29T07:04:05.756732Z",
     "iopub.status.busy": "2025-03-29T07:04:05.756130Z",
     "iopub.status.idle": "2025-03-29T07:04:05.813693Z",
     "shell.execute_reply": "2025-03-29T07:04:05.812680Z"
    },
    "papermill": {
     "duration": 0.064248,
     "end_time": "2025-03-29T07:04:05.815322",
     "exception": false,
     "start_time": "2025-03-29T07:04:05.751074",
     "status": "completed"
    },
    "tags": []
   },
   "outputs": [
    {
     "data": {
      "text/html": [
       "<div>\n",
       "<style scoped>\n",
       "    .dataframe tbody tr th:only-of-type {\n",
       "        vertical-align: middle;\n",
       "    }\n",
       "\n",
       "    .dataframe tbody tr th {\n",
       "        vertical-align: top;\n",
       "    }\n",
       "\n",
       "    .dataframe thead th {\n",
       "        text-align: right;\n",
       "    }\n",
       "</style>\n",
       "<table border=\"1\" class=\"dataframe\">\n",
       "  <thead>\n",
       "    <tr style=\"text-align: right;\">\n",
       "      <th></th>\n",
       "      <th>task_id</th>\n",
       "      <th>question</th>\n",
       "      <th>choices</th>\n",
       "    </tr>\n",
       "  </thead>\n",
       "  <tbody>\n",
       "    <tr>\n",
       "      <th>0</th>\n",
       "      <td>k10171</td>\n",
       "      <td>Question: What will be output of the following...</td>\n",
       "      <td>['10', '9', '8', 'Error']</td>\n",
       "    </tr>\n",
       "    <tr>\n",
       "      <th>1</th>\n",
       "      <td>k10182</td>\n",
       "      <td>Question: Consider line 3. Identify the compil...</td>\n",
       "      <td>['No compilation error', 'Only a lexical error...</td>\n",
       "    </tr>\n",
       "    <tr>\n",
       "      <th>2</th>\n",
       "      <td>k10184</td>\n",
       "      <td>Question: Assume the conflicts part (a) of thi...</td>\n",
       "      <td>['Equal precedence and left associativity; exp...</td>\n",
       "    </tr>\n",
       "    <tr>\n",
       "      <th>3</th>\n",
       "      <td>k10206</td>\n",
       "      <td>Question: What will be output if you will exec...</td>\n",
       "      <td>['2.00000', '4.00000', '6.00000', 'Compilation...</td>\n",
       "    </tr>\n",
       "    <tr>\n",
       "      <th>4</th>\n",
       "      <td>k10215</td>\n",
       "      <td>Question: Select the output for code :\\nstatic...</td>\n",
       "      <td>['amish', 'ANKIT', 'harsh', 'Compile time error']</td>\n",
       "    </tr>\n",
       "  </tbody>\n",
       "</table>\n",
       "</div>"
      ],
      "text/plain": [
       "  task_id                                           question  \\\n",
       "0  k10171  Question: What will be output of the following...   \n",
       "1  k10182  Question: Consider line 3. Identify the compil...   \n",
       "2  k10184  Question: Assume the conflicts part (a) of thi...   \n",
       "3  k10206  Question: What will be output if you will exec...   \n",
       "4  k10215  Question: Select the output for code :\\nstatic...   \n",
       "\n",
       "                                             choices  \n",
       "0                          ['10', '9', '8', 'Error']  \n",
       "1  ['No compilation error', 'Only a lexical error...  \n",
       "2  ['Equal precedence and left associativity; exp...  \n",
       "3  ['2.00000', '4.00000', '6.00000', 'Compilation...  \n",
       "4  ['amish', 'ANKIT', 'harsh', 'Compile time error']  "
      ]
     },
     "execution_count": 2,
     "metadata": {},
     "output_type": "execute_result"
    }
   ],
   "source": [
    "test_df = pd.read_csv('/kaggle/input/fpt-ai-residency-batch-6-entry-test/b6_test_data.csv')\n",
    "test_df.head(5)"
   ]
  },
  {
   "cell_type": "code",
   "execution_count": 3,
   "id": "02b5f283",
   "metadata": {
    "execution": {
     "iopub.execute_input": "2025-03-29T07:04:05.825297Z",
     "iopub.status.busy": "2025-03-29T07:04:05.824972Z",
     "iopub.status.idle": "2025-03-29T07:04:05.872036Z",
     "shell.execute_reply": "2025-03-29T07:04:05.870973Z"
    },
    "papermill": {
     "duration": 0.053955,
     "end_time": "2025-03-29T07:04:05.873825",
     "exception": false,
     "start_time": "2025-03-29T07:04:05.819870",
     "status": "completed"
    },
    "tags": []
   },
   "outputs": [
    {
     "data": {
      "text/html": [
       "<div>\n",
       "<style scoped>\n",
       "    .dataframe tbody tr th:only-of-type {\n",
       "        vertical-align: middle;\n",
       "    }\n",
       "\n",
       "    .dataframe tbody tr th {\n",
       "        vertical-align: top;\n",
       "    }\n",
       "\n",
       "    .dataframe thead th {\n",
       "        text-align: right;\n",
       "    }\n",
       "</style>\n",
       "<table border=\"1\" class=\"dataframe\">\n",
       "  <thead>\n",
       "    <tr style=\"text-align: right;\">\n",
       "      <th></th>\n",
       "      <th>task_id</th>\n",
       "      <th>question</th>\n",
       "      <th>choices</th>\n",
       "      <th>full_question</th>\n",
       "    </tr>\n",
       "  </thead>\n",
       "  <tbody>\n",
       "    <tr>\n",
       "      <th>0</th>\n",
       "      <td>k10171</td>\n",
       "      <td>Question: What will be output of the following...</td>\n",
       "      <td>['10', '9', '8', 'Error']</td>\n",
       "      <td>Question: What will be output of the following...</td>\n",
       "    </tr>\n",
       "    <tr>\n",
       "      <th>1</th>\n",
       "      <td>k10182</td>\n",
       "      <td>Question: Consider line 3. Identify the compil...</td>\n",
       "      <td>['No compilation error', 'Only a lexical error...</td>\n",
       "      <td>Question: Consider line 3. Identify the compil...</td>\n",
       "    </tr>\n",
       "    <tr>\n",
       "      <th>2</th>\n",
       "      <td>k10184</td>\n",
       "      <td>Question: Assume the conflicts part (a) of thi...</td>\n",
       "      <td>['Equal precedence and left associativity; exp...</td>\n",
       "      <td>Question: Assume the conflicts part (a) of thi...</td>\n",
       "    </tr>\n",
       "    <tr>\n",
       "      <th>3</th>\n",
       "      <td>k10206</td>\n",
       "      <td>Question: What will be output if you will exec...</td>\n",
       "      <td>['2.00000', '4.00000', '6.00000', 'Compilation...</td>\n",
       "      <td>Question: What will be output if you will exec...</td>\n",
       "    </tr>\n",
       "    <tr>\n",
       "      <th>4</th>\n",
       "      <td>k10215</td>\n",
       "      <td>Question: Select the output for code :\\nstatic...</td>\n",
       "      <td>['amish', 'ANKIT', 'harsh', 'Compile time error']</td>\n",
       "      <td>Question: Select the output for code :\\nstatic...</td>\n",
       "    </tr>\n",
       "  </tbody>\n",
       "</table>\n",
       "</div>"
      ],
      "text/plain": [
       "  task_id                                           question  \\\n",
       "0  k10171  Question: What will be output of the following...   \n",
       "1  k10182  Question: Consider line 3. Identify the compil...   \n",
       "2  k10184  Question: Assume the conflicts part (a) of thi...   \n",
       "3  k10206  Question: What will be output if you will exec...   \n",
       "4  k10215  Question: Select the output for code :\\nstatic...   \n",
       "\n",
       "                                             choices  \\\n",
       "0                          ['10', '9', '8', 'Error']   \n",
       "1  ['No compilation error', 'Only a lexical error...   \n",
       "2  ['Equal precedence and left associativity; exp...   \n",
       "3  ['2.00000', '4.00000', '6.00000', 'Compilation...   \n",
       "4  ['amish', 'ANKIT', 'harsh', 'Compile time error']   \n",
       "\n",
       "                                       full_question  \n",
       "0  Question: What will be output of the following...  \n",
       "1  Question: Consider line 3. Identify the compil...  \n",
       "2  Question: Assume the conflicts part (a) of thi...  \n",
       "3  Question: What will be output if you will exec...  \n",
       "4  Question: Select the output for code :\\nstatic...  "
      ]
     },
     "execution_count": 3,
     "metadata": {},
     "output_type": "execute_result"
    }
   ],
   "source": [
    "def create_full_question(row):\n",
    "    question = row['question']\n",
    "    choices_str = row['choices']\n",
    "    choices = ast.literal_eval(choices_str)\n",
    "    \n",
    "    formatted_choices = '\\n'.join([f\"{chr(65+i)}. {choice}\" for i, choice in enumerate(choices)])\n",
    "    full_question = f\"{question}\\n{formatted_choices}\" + \"\\nPlease only provide the correct answer as one of the options: A, B, C, or D.\"\n",
    "    return full_question\n",
    "\n",
    "test_df['full_question'] = test_df.apply(create_full_question, axis=1)\n",
    "test_df.head(5)"
   ]
  },
  {
   "cell_type": "code",
   "execution_count": 4,
   "id": "087a2ade",
   "metadata": {
    "execution": {
     "iopub.execute_input": "2025-03-29T07:04:05.884598Z",
     "iopub.status.busy": "2025-03-29T07:04:05.884207Z",
     "iopub.status.idle": "2025-03-29T07:04:06.250497Z",
     "shell.execute_reply": "2025-03-29T07:04:06.249301Z"
    },
    "papermill": {
     "duration": 0.373493,
     "end_time": "2025-03-29T07:04:06.252261",
     "exception": false,
     "start_time": "2025-03-29T07:04:05.878768",
     "status": "completed"
    },
    "tags": []
   },
   "outputs": [
    {
     "data": {
      "image/png": "[encoded data removed]",
      "text/plain": [
       "<Figure size 1000x600 with 1 Axes>"
      ]
     },
     "metadata": {},
     "output_type": "display_data"
    }
   ],
   "source": [
    "test_df[\"question_length\"] = test_df[\"full_question\"].apply(len)\n",
    "\n",
    "plt.figure(figsize=(10, 6))\n",
    "plt.hist(test_df[\"question_length\"], bins=50, edgecolor=\"black\", alpha=0.7)\n",
    "plt.xlabel(\"Độ dài full_question\")\n",
    "plt.ylabel(\"Số lượng câu hỏi\")\n",
    "plt.title(\"Phân bố độ dài full_question\")\n",
    "plt.grid(axis=\"y\", linestyle=\"--\", alpha=0.7)\n",
    "plt.show()"
   ]
  },
  {
   "cell_type": "code",
   "execution_count": 5,
   "id": "1e5ef4d6",
   "metadata": {
    "execution": {
     "iopub.execute_input": "2025-03-29T07:04:06.263980Z",
     "iopub.status.busy": "2025-03-29T07:04:06.263599Z",
     "iopub.status.idle": "2025-03-29T07:04:06.268558Z",
     "shell.execute_reply": "2025-03-29T07:04:06.267356Z"
    },
    "papermill": {
     "duration": 0.012585,
     "end_time": "2025-03-29T07:04:06.270182",
     "exception": false,
     "start_time": "2025-03-29T07:04:06.257597",
     "status": "completed"
    },
    "tags": []
   },
   "outputs": [
    {
     "name": "stdout",
     "output_type": "stream",
     "text": [
      "1253\n"
     ]
    }
   ],
   "source": [
    "print(len(test_df))"
   ]
  },
  {
   "cell_type": "code",
   "execution_count": 6,
   "id": "30f99dd4",
   "metadata": {
    "execution": {
     "iopub.execute_input": "2025-03-29T07:04:06.281866Z",
     "iopub.status.busy": "2025-03-29T07:04:06.281431Z",
     "iopub.status.idle": "2025-03-29T07:04:06.287230Z",
     "shell.execute_reply": "2025-03-29T07:04:06.286057Z"
    },
    "papermill": {
     "duration": 0.01343,
     "end_time": "2025-03-29T07:04:06.288868",
     "exception": false,
     "start_time": "2025-03-29T07:04:06.275438",
     "status": "completed"
    },
    "tags": []
   },
   "outputs": [
    {
     "name": "stdout",
     "output_type": "stream",
     "text": [
      "Question: What will be output of the following c code?\n",
      "#include<stdio.h>\n",
      "int main()\n",
      "{\n",
      "    int a= sizeof(signed) +sizeof(unsigned);\n",
      "    int b=sizeof(const)+sizeof(volatile);\n",
      "    printf(\"%d\",a+++b);\n",
      "    return 0;\n",
      "}\n",
      "A. 10\n",
      "B. 9\n",
      "C. 8\n",
      "D. Error\n",
      "Please only provide the correct answer as one of the options: A, B, C, or D.\n"
     ]
    }
   ],
   "source": [
    "print(test_df.iloc[0]['full_question'])"
   ]
  },
  {
   "cell_type": "code",
   "execution_count": 7,
   "id": "22ee3bf1",
   "metadata": {
    "execution": {
     "iopub.execute_input": "2025-03-29T07:04:06.300513Z",
     "iopub.status.busy": "2025-03-29T07:04:06.300141Z",
     "iopub.status.idle": "2025-03-29T07:04:06.305597Z",
     "shell.execute_reply": "2025-03-29T07:04:06.304123Z"
    },
    "papermill": {
     "duration": 0.013198,
     "end_time": "2025-03-29T07:04:06.307323",
     "exception": false,
     "start_time": "2025-03-29T07:04:06.294125",
     "status": "completed"
    },
    "tags": []
   },
   "outputs": [
    {
     "name": "stdout",
     "output_type": "stream",
     "text": [
      "Question: Consider line 3. Identify the compiler’s response about this line while creating the object-module\n",
      "Int main()\n",
      "{ int 1,N;\n",
      "Fro (I,1 N,1);\n",
      "}\n",
      "A. No compilation error\n",
      "B. Only a lexical error\n",
      "C. Only syntactic errors\n",
      "D. Both lexical and syntactic errors\n",
      "Please only provide the correct answer as one of the options: A, B, C, or D.\n"
     ]
    }
   ],
   "source": [
    "print(test_df.iloc[1]['full_question'])"
   ]
  },
  {
   "cell_type": "code",
   "execution_count": null,
   "id": "7d9ebb26",
   "metadata": {
    "execution": {
     "iopub.execute_input": "2025-03-29T07:04:06.319278Z",
     "iopub.status.busy": "2025-03-29T07:04:06.318952Z",
     "iopub.status.idle": "2025-03-29T07:04:06.322865Z",
     "shell.execute_reply": "2025-03-29T07:04:06.321954Z"
    },
    "papermill": {
     "duration": 0.011752,
     "end_time": "2025-03-29T07:04:06.324465",
     "exception": false,
     "start_time": "2025-03-29T07:04:06.312713",
     "status": "completed"
    },
    "tags": []
   },
   "outputs": [],
   "source": [
    "GOOGLE_API_KEY = ''"
   ]
  },
  {
   "cell_type": "code",
   "execution_count": null,
   "id": "81ee72f2",
   "metadata": {
    "execution": {
     "iopub.execute_input": "2025-03-29T07:04:06.336272Z",
     "iopub.status.busy": "2025-03-29T07:04:06.335950Z",
     "iopub.status.idle": "2025-03-29T07:04:06.527697Z",
     "shell.execute_reply": "2025-03-29T07:04:06.526295Z"
    },
    "papermill": {
     "duration": 0.19978,
     "end_time": "2025-03-29T07:04:06.529726",
     "exception": false,
     "start_time": "2025-03-29T07:04:06.329946",
     "status": "completed"
    },
    "tags": []
   },
   "outputs": [
    {
     "name": "stdout",
     "output_type": "stream",
     "text": [
      "models/chat-bison-001 - A legacy text-only model optimized for chat conversations\n",
      "models/text-bison-001 - A legacy model that understands text and generates text as an output\n",
      "models/embedding-gecko-001 - Obtain a distributed representation of a text.\n",
      "models/gemini-1.0-pro-vision-latest - The original Gemini 1.0 Pro Vision model version which was optimized for image understanding. Gemini 1.0 Pro Vision was deprecated on July 12, 2024. Move to a newer Gemini version.\n",
      "models/gemini-pro-vision - The original Gemini 1.0 Pro Vision model version which was optimized for image understanding. Gemini 1.0 Pro Vision was deprecated on July 12, 2024. Move to a newer Gemini version.\n",
      "models/gemini-1.5-pro-latest - Alias that points to the most recent production (non-experimental) release of Gemini 1.5 Pro, our mid-size multimodal model that supports up to 2 million tokens.\n",
      "models/gemini-1.5-pro-001 - Stable version of Gemini 1.5 Pro, our mid-size multimodal model that supports up to 2 million tokens, released in May of 2024.\n",
      "models/gemini-1.5-pro-002 - Stable version of Gemini 1.5 Pro, our mid-size multimodal model that supports up to 2 million tokens, released in September of 2024.\n",
      "models/gemini-1.5-pro - Stable version of Gemini 1.5 Pro, our mid-size multimodal model that supports up to 2 million tokens, released in May of 2024.\n",
      "models/gemini-1.5-flash-latest - Alias that points to the most recent production (non-experimental) release of Gemini 1.5 Flash, our fast and versatile multimodal model for scaling across diverse tasks.\n",
      "models/gemini-1.5-flash-001 - Stable version of Gemini 1.5 Flash, our fast and versatile multimodal model for scaling across diverse tasks, released in May of 2024.\n",
      "models/gemini-1.5-flash-001-tuning - Version of Gemini 1.5 Flash that supports tuning, our fast and versatile multimodal model for scaling across diverse tasks, released in May of 2024.\n",
      "models/gemini-1.5-flash - Alias that points to the most recent stable version of Gemini 1.5 Flash, our fast and versatile multimodal model for scaling across diverse tasks.\n",
      "models/gemini-1.5-flash-002 - Stable version of Gemini 1.5 Flash, our fast and versatile multimodal model for scaling across diverse tasks, released in September of 2024.\n",
      "models/gemini-1.5-flash-8b - Stable version of Gemini 1.5 Flash-8B, our smallest and most cost effective Flash model, released in October of 2024.\n",
      "models/gemini-1.5-flash-8b-001 - Stable version of Gemini 1.5 Flash-8B, our smallest and most cost effective Flash model, released in October of 2024.\n",
      "models/gemini-1.5-flash-8b-latest - Alias that points to the most recent production (non-experimental) release of Gemini 1.5 Flash-8B, our smallest and most cost effective Flash model, released in October of 2024.\n",
      "models/gemini-1.5-flash-8b-exp-0827 - Experimental release (August 27th, 2024) of Gemini 1.5 Flash-8B, our smallest and most cost effective Flash model. Replaced by Gemini-1.5-flash-8b-001 (stable).\n",
      "models/gemini-1.5-flash-8b-exp-0924 - Experimental release (September 24th, 2024) of Gemini 1.5 Flash-8B, our smallest and most cost effective Flash model. Replaced by Gemini-1.5-flash-8b-001 (stable).\n",
      "models/gemini-2.5-pro-exp-03-25 - Experimental release (March 25th, 2025) of Gemini 2.5 Pro\n",
      "models/gemini-2.0-flash-exp - Gemini 2.0 Flash Experimental\n",
      "models/gemini-2.0-flash - Gemini 2.0 Flash\n",
      "models/gemini-2.0-flash-001 - Stable version of Gemini 2.0 Flash, our fast and versatile multimodal model for scaling across diverse tasks, released in January of 2025.\n",
      "models/gemini-2.0-flash-exp-image-generation - Gemini 2.0 Flash (Image Generation) Experimental\n",
      "models/gemini-2.0-flash-lite-001 - Stable version of Gemini 2.0 Flash Lite\n",
      "models/gemini-2.0-flash-lite - Gemini 2.0 Flash-Lite\n",
      "models/gemini-2.0-flash-lite-preview-02-05 - Preview release (February 5th, 2025) of Gemini 2.0 Flash Lite\n",
      "models/gemini-2.0-flash-lite-preview - Preview release (February 5th, 2025) of Gemini 2.0 Flash Lite\n",
      "models/gemini-2.0-pro-exp - Experimental release (March 25th, 2025) of Gemini 2.5 Pro\n",
      "models/gemini-2.0-pro-exp-02-05 - Experimental release (March 25th, 2025) of Gemini 2.5 Pro\n",
      "models/gemini-exp-1206 - Experimental release (March 25th, 2025) of Gemini 2.5 Pro\n",
      "models/gemini-2.0-flash-thinking-exp-01-21 - Experimental release (January 21st, 2025) of Gemini 2.0 Flash Thinking\n",
      "models/gemini-2.0-flash-thinking-exp - Experimental release (January 21st, 2025) of Gemini 2.0 Flash Thinking\n",
      "models/gemini-2.0-flash-thinking-exp-1219 - Gemini 2.0 Flash Thinking Experimental\n",
      "models/learnlm-1.5-pro-experimental - Alias that points to the most recent stable version of Gemini 1.5 Pro, our mid-size multimodal model that supports up to 2 million tokens.\n",
      "models/gemma-3-27b-it - \n",
      "models/embedding-001 - Obtain a distributed representation of a text.\n",
      "models/text-embedding-004 - Obtain a distributed representation of a text.\n",
      "models/gemini-embedding-exp-03-07 - Obtain a distributed representation of a text.\n",
      "models/gemini-embedding-exp - Obtain a distributed representation of a text.\n",
      "models/aqa - Model trained to return answers to questions that are grounded in provided sources, along with estimating answerable probability.\n",
      "models/imagen-3.0-generate-002 - Vertex served Imagen 3.0 002 model\n"
     ]
    }
   ],
   "source": [
    "genai.configure(api_key=GOOGLE_API_KEY)\n",
    "\n",
    "models = genai.list_models()\n",
    "\n",
    "for model in models:\n",
    "    print(model.name, \"-\", model.description)\n"
   ]
  },
  {
   "cell_type": "code",
   "execution_count": 10,
   "id": "1f1f7562",
   "metadata": {
    "execution": {
     "iopub.execute_input": "2025-03-29T07:04:06.542698Z",
     "iopub.status.busy": "2025-03-29T07:04:06.542289Z",
     "iopub.status.idle": "2025-03-29T07:04:06.546698Z",
     "shell.execute_reply": "2025-03-29T07:04:06.545480Z"
    },
    "papermill": {
     "duration": 0.012698,
     "end_time": "2025-03-29T07:04:06.548296",
     "exception": false,
     "start_time": "2025-03-29T07:04:06.535598",
     "status": "completed"
    },
    "tags": []
   },
   "outputs": [],
   "source": [
    "model = genai.GenerativeModel(\"gemini-2.0-flash\")"
   ]
  },
  {
   "cell_type": "code",
   "execution_count": 11,
   "id": "5a9e5f38",
   "metadata": {
    "execution": {
     "iopub.execute_input": "2025-03-29T07:04:06.560724Z",
     "iopub.status.busy": "2025-03-29T07:04:06.560315Z",
     "iopub.status.idle": "2025-03-29T07:04:06.912857Z",
     "shell.execute_reply": "2025-03-29T07:04:06.911692Z"
    },
    "papermill": {
     "duration": 0.360641,
     "end_time": "2025-03-29T07:04:06.914677",
     "exception": false,
     "start_time": "2025-03-29T07:04:06.554036",
     "status": "completed"
    },
    "tags": []
   },
   "outputs": [
    {
     "name": "stdout",
     "output_type": "stream",
     "text": [
      "B\n",
      "\n"
     ]
    }
   ],
   "source": [
    "response = model.generate_content(\n",
    "\"\"\"\n",
    "Question: What will be the output of the following C code?\n",
    "#include<stdio.h>\n",
    "const enum Alpha\n",
    "{\n",
    "      X,\n",
    "      Y=5,\n",
    "      Z\n",
    "}p=10;\n",
    "int main()\n",
    "{\n",
    "    enum Alpha a,b;\n",
    "    a= X;\n",
    "    b= Z;\n",
    "    printf(\"%d\",a+b-p); \n",
    "    return 0; \n",
    "}\n",
    "A. -4\n",
    "B. -5\n",
    "C. 10\n",
    "D. 11\n",
    "\n",
    "Please only provide the correct answer as one of the options: A, B, C, or D.\n",
    "\"\"\"\n",
    ")\n",
    "\n",
    "print(response.text)"
   ]
  },
  {
   "cell_type": "code",
   "execution_count": 12,
   "id": "876f1210",
   "metadata": {
    "execution": {
     "iopub.execute_input": "2025-03-29T07:04:06.927741Z",
     "iopub.status.busy": "2025-03-29T07:04:06.927336Z",
     "iopub.status.idle": "2025-03-29T07:04:06.934041Z",
     "shell.execute_reply": "2025-03-29T07:04:06.933005Z"
    },
    "papermill": {
     "duration": 0.015103,
     "end_time": "2025-03-29T07:04:06.935649",
     "exception": false,
     "start_time": "2025-03-29T07:04:06.920546",
     "status": "completed"
    },
    "tags": []
   },
   "outputs": [],
   "source": [
    "def get_gemini_answers(questions):\n",
    "    retry_delay = 60\n",
    "    max_question_length = 4000  \n",
    "    truncated_questions = [q[:max_question_length] for q in questions]  \n",
    "\n",
    "    prompt = \"\\n\\n\".join([f\"Question {i+1}:\\n{q}\" for i, q in enumerate(truncated_questions)])\n",
    "    prompt += (\n",
    "        \"\\n\\nFor each question, respond with only the correct answer as a single letter: A, B, C, or D.\"\n",
    "        \" Do not provide any explanation, reasoning, or additional text.\"\n",
    "        \" Only return one letter per line corresponding to each question.\"\n",
    "    )\n",
    "\n",
    "    while True:\n",
    "        try:\n",
    "            response = model.generate_content(prompt)\n",
    "            answers = response.text.strip().split(\"\\n\")\n",
    "            \n",
    "            valid_choices = {'A', 'B', 'C', 'D'}\n",
    "            for i in range(len(answers)):\n",
    "                if answers[i] not in valid_choices:\n",
    "                    answers[i] = random.choice(['A', 'B', 'C', 'D'])\n",
    "\n",
    "            return answers  \n",
    "\n",
    "        except google_exceptions.ResourceExhausted:\n",
    "            print(f\"Quota exceeded. Retrying in {retry_delay} seconds...\")\n",
    "            time.sleep(retry_delay)"
   ]
  },
  {
   "cell_type": "code",
   "execution_count": 13,
   "id": "9686d6a4",
   "metadata": {
    "execution": {
     "iopub.execute_input": "2025-03-29T07:04:06.948091Z",
     "iopub.status.busy": "2025-03-29T07:04:06.947737Z",
     "iopub.status.idle": "2025-03-29T07:04:06.953935Z",
     "shell.execute_reply": "2025-03-29T07:04:06.952939Z"
    },
    "papermill": {
     "duration": 0.014351,
     "end_time": "2025-03-29T07:04:06.955733",
     "exception": false,
     "start_time": "2025-03-29T07:04:06.941382",
     "status": "completed"
    },
    "tags": []
   },
   "outputs": [],
   "source": [
    "def generate_answers(df, num_samples, batch_size, is_test=False):\n",
    "    correct_count = 0\n",
    "    gemini_answers = []\n",
    "    \n",
    "    for i in tqdm(range(0, num_samples, batch_size), desc=\"Processing Batches\"):\n",
    "        batch_df = df.iloc[i:i+batch_size]\n",
    "        batch_questions = batch_df[\"full_question\"].tolist()\n",
    "        batch_answers = get_gemini_answers(batch_questions)\n",
    "        \n",
    "        if len(batch_answers) != len(batch_df):\n",
    "            batch_answers = batch_answers[:len(batch_df)]  \n",
    "        \n",
    "        gemini_answers.extend(batch_answers)\n",
    "\n",
    "        if not is_test:\n",
    "            correct_count += sum(1 for pred, true in zip(batch_answers, batch_df[\"answer\"]) if pred == true)\n",
    "\n",
    "    if is_test:\n",
    "        return gemini_answers, None\n",
    "    else:\n",
    "        accuracy = correct_count / num_samples * 100\n",
    "        return gemini_answers, accuracy"
   ]
  },
  {
   "cell_type": "code",
   "execution_count": 14,
   "id": "935cd9c8",
   "metadata": {
    "execution": {
     "iopub.execute_input": "2025-03-29T07:04:06.968258Z",
     "iopub.status.busy": "2025-03-29T07:04:06.967911Z",
     "iopub.status.idle": "2025-03-29T07:16:25.724378Z",
     "shell.execute_reply": "2025-03-29T07:16:25.723034Z"
    },
    "papermill": {
     "duration": 738.76464,
     "end_time": "2025-03-29T07:16:25.726140",
     "exception": false,
     "start_time": "2025-03-29T07:04:06.961500",
     "status": "completed"
    },
    "tags": []
   },
   "outputs": [
    {
     "name": "stderr",
     "output_type": "stream",
     "text": [
      "Processing Batches:   8%|▊         | 15/188 [00:06<01:11,  2.42it/s]"
     ]
    },
    {
     "name": "stdout",
     "output_type": "stream",
     "text": [
      "Quota exceeded. Retrying in 60 seconds...\n"
     ]
    },
    {
     "name": "stderr",
     "output_type": "stream",
     "text": [
      "Processing Batches:  21%|██        | 39/188 [01:17<01:08,  2.19it/s]"
     ]
    },
    {
     "name": "stdout",
     "output_type": "stream",
     "text": [
      "Quota exceeded. Retrying in 60 seconds...\n"
     ]
    },
    {
     "name": "stderr",
     "output_type": "stream",
     "text": [
      "Processing Batches:  29%|██▊       | 54/188 [02:24<01:18,  1.72it/s]"
     ]
    },
    {
     "name": "stdout",
     "output_type": "stream",
     "text": [
      "Quota exceeded. Retrying in 60 seconds...\n"
     ]
    },
    {
     "name": "stderr",
     "output_type": "stream",
     "text": [
      "Processing Batches:  37%|███▋      | 69/188 [03:30<01:07,  1.75it/s]"
     ]
    },
    {
     "name": "stdout",
     "output_type": "stream",
     "text": [
      "Quota exceeded. Retrying in 60 seconds...\n"
     ]
    },
    {
     "name": "stderr",
     "output_type": "stream",
     "text": [
      "Processing Batches:  45%|████▍     | 84/188 [04:37<00:59,  1.75it/s]"
     ]
    },
    {
     "name": "stdout",
     "output_type": "stream",
     "text": [
      "Quota exceeded. Retrying in 60 seconds...\n"
     ]
    },
    {
     "name": "stderr",
     "output_type": "stream",
     "text": [
      "Processing Batches:  53%|█████▎    | 100/188 [05:44<00:43,  2.01it/s]"
     ]
    },
    {
     "name": "stdout",
     "output_type": "stream",
     "text": [
      "Quota exceeded. Retrying in 60 seconds...\n"
     ]
    },
    {
     "name": "stderr",
     "output_type": "stream",
     "text": [
      "Processing Batches:  61%|██████    | 115/188 [06:50<00:38,  1.89it/s]"
     ]
    },
    {
     "name": "stdout",
     "output_type": "stream",
     "text": [
      "Quota exceeded. Retrying in 60 seconds...\n"
     ]
    },
    {
     "name": "stderr",
     "output_type": "stream",
     "text": [
      "Processing Batches:  69%|██████▉   | 130/188 [07:57<00:28,  2.03it/s]"
     ]
    },
    {
     "name": "stdout",
     "output_type": "stream",
     "text": [
      "Quota exceeded. Retrying in 60 seconds...\n"
     ]
    },
    {
     "name": "stderr",
     "output_type": "stream",
     "text": [
      "Processing Batches:  78%|███████▊  | 146/188 [09:03<00:20,  2.09it/s]"
     ]
    },
    {
     "name": "stdout",
     "output_type": "stream",
     "text": [
      "Quota exceeded. Retrying in 60 seconds...\n"
     ]
    },
    {
     "name": "stderr",
     "output_type": "stream",
     "text": [
      "Processing Batches:  86%|████████▌ | 161/188 [10:09<00:12,  2.16it/s]"
     ]
    },
    {
     "name": "stdout",
     "output_type": "stream",
     "text": [
      "Quota exceeded. Retrying in 60 seconds...\n"
     ]
    },
    {
     "name": "stderr",
     "output_type": "stream",
     "text": [
      "Processing Batches:  94%|█████████▍| 177/188 [11:14<00:04,  2.28it/s]"
     ]
    },
    {
     "name": "stdout",
     "output_type": "stream",
     "text": [
      "Quota exceeded. Retrying in 60 seconds...\n"
     ]
    },
    {
     "name": "stderr",
     "output_type": "stream",
     "text": [
      "Processing Batches: 100%|██████████| 188/188 [12:18<00:00,  3.93s/it]\n"
     ]
    }
   ],
   "source": [
    "num_samples = 1500 \n",
    "test_df_subset = test_df.head(num_samples).copy()\n",
    "gemini_answers, accuracy = generate_answers(test_df_subset, num_samples, 8, True)\n",
    "test_df_subset[\"gemini_answer\"] = gemini_answers"
   ]
  },
  {
   "cell_type": "code",
   "execution_count": 15,
   "id": "34fa0ce3",
   "metadata": {
    "execution": {
     "iopub.execute_input": "2025-03-29T07:16:25.760191Z",
     "iopub.status.busy": "2025-03-29T07:16:25.759876Z",
     "iopub.status.idle": "2025-03-29T07:16:25.764938Z",
     "shell.execute_reply": "2025-03-29T07:16:25.763719Z"
    },
    "papermill": {
     "duration": 0.023868,
     "end_time": "2025-03-29T07:16:25.766473",
     "exception": false,
     "start_time": "2025-03-29T07:16:25.742605",
     "status": "completed"
    },
    "tags": []
   },
   "outputs": [
    {
     "name": "stdout",
     "output_type": "stream",
     "text": [
      "Accuracy: None%\n"
     ]
    }
   ],
   "source": [
    "print(f\"Accuracy: {accuracy}%\")"
   ]
  },
  {
   "cell_type": "code",
   "execution_count": 16,
   "id": "da409e75",
   "metadata": {
    "execution": {
     "iopub.execute_input": "2025-03-29T07:16:25.800872Z",
     "iopub.status.busy": "2025-03-29T07:16:25.800442Z",
     "iopub.status.idle": "2025-03-29T07:16:25.823372Z",
     "shell.execute_reply": "2025-03-29T07:16:25.822378Z"
    },
    "papermill": {
     "duration": 0.041943,
     "end_time": "2025-03-29T07:16:25.824956",
     "exception": false,
     "start_time": "2025-03-29T07:16:25.783013",
     "status": "completed"
    },
    "tags": []
   },
   "outputs": [
    {
     "data": {
      "text/html": [
       "<div>\n",
       "<style scoped>\n",
       "    .dataframe tbody tr th:only-of-type {\n",
       "        vertical-align: middle;\n",
       "    }\n",
       "\n",
       "    .dataframe tbody tr th {\n",
       "        vertical-align: top;\n",
       "    }\n",
       "\n",
       "    .dataframe thead th {\n",
       "        text-align: right;\n",
       "    }\n",
       "</style>\n",
       "<table border=\"1\" class=\"dataframe\">\n",
       "  <thead>\n",
       "    <tr style=\"text-align: right;\">\n",
       "      <th></th>\n",
       "      <th>task_id</th>\n",
       "      <th>answer</th>\n",
       "    </tr>\n",
       "  </thead>\n",
       "  <tbody>\n",
       "    <tr>\n",
       "      <th>0</th>\n",
       "      <td>k10171</td>\n",
       "      <td>B</td>\n",
       "    </tr>\n",
       "    <tr>\n",
       "      <th>1</th>\n",
       "      <td>k10182</td>\n",
       "      <td>D</td>\n",
       "    </tr>\n",
       "    <tr>\n",
       "      <th>2</th>\n",
       "      <td>k10184</td>\n",
       "      <td>A</td>\n",
       "    </tr>\n",
       "    <tr>\n",
       "      <th>3</th>\n",
       "      <td>k10206</td>\n",
       "      <td>C</td>\n",
       "    </tr>\n",
       "    <tr>\n",
       "      <th>4</th>\n",
       "      <td>k10215</td>\n",
       "      <td>D</td>\n",
       "    </tr>\n",
       "  </tbody>\n",
       "</table>\n",
       "</div>"
      ],
      "text/plain": [
       "  task_id answer\n",
       "0  k10171      B\n",
       "1  k10182      D\n",
       "2  k10184      A\n",
       "3  k10206      C\n",
       "4  k10215      D"
      ]
     },
     "execution_count": 16,
     "metadata": {},
     "output_type": "execute_result"
    }
   ],
   "source": [
    "submission_df = test_df_subset[[\"task_id\", \"gemini_answer\"]].rename(columns={\"gemini_answer\": \"answer\"})\n",
    "submission_df.to_csv(\"submission.csv\", index=False)\n",
    "submission_df.head(5)"
   ]
  },
  {
   "cell_type": "code",
   "execution_count": 17,
   "id": "6606725c",
   "metadata": {
    "execution": {
     "iopub.execute_input": "2025-03-29T07:16:25.859501Z",
     "iopub.status.busy": "2025-03-29T07:16:25.859135Z",
     "iopub.status.idle": "2025-03-29T07:16:25.870061Z",
     "shell.execute_reply": "2025-03-29T07:16:25.868667Z"
    },
    "papermill": {
     "duration": 0.030123,
     "end_time": "2025-03-29T07:16:25.871693",
     "exception": false,
     "start_time": "2025-03-29T07:16:25.841570",
     "status": "completed"
    },
    "tags": []
   },
   "outputs": [
    {
     "name": "stdout",
     "output_type": "stream",
     "text": [
      "answer\n",
      "B    347\n",
      "A    325\n",
      "C    321\n",
      "D    260\n",
      "Name: count, dtype: int64\n"
     ]
    }
   ],
   "source": [
    "print(submission_df[\"answer\"].value_counts())"
   ]
  }
 ],
 "metadata": {
  "kaggle": {
   "accelerator": "none",
   "dataSources": [
    {
     "databundleVersionId": 11597044,
     "sourceId": 97436,
     "sourceType": "competition"
    }
   ],
   "dockerImageVersionId": 30918,
   "isGpuEnabled": false,
   "isInternetEnabled": true,
   "language": "python",
   "sourceType": "notebook"
  },
  "kernelspec": {
   "display_name": "Python 3",
   "language": "python",
   "name": "python3"
  },
  "language_info": {
   "codemirror_mode": {
    "name": "ipython",
    "version": 3
   },
   "file_extension": ".py",
   "mimetype": "text/x-python",
   "name": "python",
   "nbconvert_exporter": "python",
   "pygments_lexer": "ipython3",
   "version": "3.10.12"
  },
  "papermill": {
   "default_parameters": {},
   "duration": 748.9506,
   "end_time": "2025-03-29T07:16:29.004876",
   "environment_variables": {},
   "exception": null,
   "input_path": "__notebook__.ipynb",
   "output_path": "__notebook__.ipynb",
   "parameters": {},
   "start_time": "2025-03-29T07:04:00.054276",
   "version": "2.6.0"
  }
 },
 "nbformat": 4,
 "nbformat_minor": 5
}
